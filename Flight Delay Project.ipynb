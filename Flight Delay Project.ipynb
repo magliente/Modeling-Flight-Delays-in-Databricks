{
 "cells": [
  {
   "cell_type": "markdown",
   "metadata": {
    "application/vnd.databricks.v1+cell": {
     "cellMetadata": {
      "byteLimit": 2048000,
      "rowLimit": 10000
     },
     "inputWidgets": {},
     "nuid": "697cba38-b7a5-4de3-a369-8a65aaaab3e6",
     "showTitle": false,
     "title": ""
    }
   },
   "source": [
    "###Introduction\n",
    "\n",
    "The International Air Transport Association predicts that 2024 will observe a significant increase in air travel for passengers (Dooley, 2023). This surge has placed pressure on airlines to forecast flight delays, a critical factor affecting airline operations. Using historical flight and weather data alongside machine learning techniques, we aim to proactively predict the binary outcome - if a flight is delayed by more than 15 minutes or not. We will make this prediction two hours prior to the scheduled departure time. We will market our model to airlines to empower them to proactively respond via operations, resources and adjustments of schedules based on the model’s predicted delays.\n",
    "\n",
    "We use a combined dataset from the US Department of Transportation and National Oceanic and Atmospheric Administration (NOAA) which includes flight and weather data fom 2015 to 2019. We conduct our work in Databricks for a parallelized workflow when exploring data and tuning model parameters. We use the F2 score for model evaluation, which captures the optimization of precision and recall, but places more weight on the recall metric. This metric fits our aim to minimize false negative predictions, where we predict on time but the flight is ultimately delayed. In this reduced version of the full project, we will only explore random forests for predictions and use HyperOpt for optimized parameters.\n",
    "\n",
    "Please be advised this notebook is adapted from a larger research project for University of California, Berkeley's class, [Machine Learning at Scale](https://ischoolonline.berkeley.edu/data-science/curriculum/machine-learning-at-scale/). Additionally, there is the option to either read parquet files to quickly execute this project or one can produce EDA, Feature Engineering and ML models with the code provided. User must set the variable `READ` appropriately. \n",
    "\n",
    "####Contents\n",
    "\n",
    "- Feature Engineering\n",
    "- Exploratory Data Analysis\n",
    "- Modeling\n",
    "- Random Forests\n",
    "- Set Final Model Parameters\n",
    "- Conclusion"
   ]
  },
  {
   "cell_type": "code",
   "execution_count": 0,
   "metadata": {
    "application/vnd.databricks.v1+cell": {
     "cellMetadata": {},
     "inputWidgets": {},
     "nuid": "0b0e7f7d-596b-4aad-bda6-56213320f6cf",
     "showTitle": false,
     "title": ""
    },
    "jupyter": {
     "source_hidden": true
    }
   },
   "outputs": [],
   "source": [
    "## Place this cell in any team notebook that needs access to the team cloud storage.\n",
    "\n",
    "\n",
    "# The following blob storage is accessible to team members only (read and write)\n",
    "# access key is valid til TTL\n",
    "# after that you will need to create a new SAS key and authenticate access again via DataBrick command line\n",
    "blob_container  = \"w261-project\"       # The name of your container created in https://portal.azure.com\n",
    "storage_account = \"mids261project\"  # The name of your Storage account created in https://portal.azure.com\n",
    "secret_scope    = \"data_extract\"           # The name of the scope created in your local computer using the Databricks CLI\n",
    "secret_key      = \"data_team\"             # The name of the secret key created in your local computer using the Databricks CLI\n",
    "team_blob_url   = f\"wasbs://{blob_container}@{storage_account}.blob.core.windows.net\"  #points to the root of your team storage bucket\n",
    "\n",
    "\n",
    "# the 261 course blob storage is mounted here.\n",
    "mids261_mount_path      = \"/mnt/mids-w261\"\n",
    "\n",
    "# SAS Token: Grant the team limited access to Azure Storage resources\n",
    "spark.conf.set(\n",
    "  f\"fs.azure.sas.{blob_container}.{storage_account}.blob.core.windows.net\",\n",
    "  dbutils.secrets.get(scope = secret_scope, key = secret_key)\n",
    ")\n",
    "\n",
    "\n",
    "# see what's in the blob storage root folder \n",
    "display(dbutils.fs.ls(f\"{team_blob_url}\"))"
   ]
  },
  {
   "cell_type": "markdown",
   "metadata": {
    "application/vnd.databricks.v1+cell": {
     "cellMetadata": {
      "byteLimit": 2048000,
      "rowLimit": 10000
     },
     "inputWidgets": {},
     "nuid": "97160e65-1047-44cc-bbdc-15c453eccfdd",
     "showTitle": false,
     "title": ""
    }
   },
   "source": [
    "## Project Description\n",
    "The primary objective of this project is to use machine learning models to predict flight delays. Through analyzing historical flight data alongside pertinent weather information, we seek to identify patterns and factors that contribute to flight delays. The ultimate goal is to provide airlines with actionable insights that can improve operational efficiency and enhance the overall travel experience for passengers.\n",
    "\n",
    "##### Methodology\n",
    "1. **Data Collection**: We have historical flight data that has previously been joined from the Department of Transportation, National Oceanic and Atmospheric Administration (NOAA) and Airport data from a public domain source, OurAirports. The flight data encompasses a range of features including departure and arrival airports, times, airline carriers, and flight routes. The weather data includes variables such as temperature, visbility, and wind speed at specific weather stations. The airports data enabled the join between weather stations and flights data.\n",
    "\n",
    "2. **Data Preprocessing**: We cleaned and analyzed the data prior to modeling. We casted columns to the correct datatype, handled null values, conducted feature engineering/feature normalization, did random downsampling to address class inbalance. We also performed exploratory data analysis (EDA) on the main data source to validate our understanding of the data as well as identify outliers and patterns within the data. \n",
    "\n",
    "3. **Modeling**: We use a random forest model to build a predictive model for flight delays. We split the data into training, validation, and test datasets. The final models were trained on 2016-2018 data, validated on February through June 2019 data, and tested on July through December 2019 data.  The models were evaluated using F2 score. \n",
    "\n",
    "4. **Experimentation**: We used hyperopt to find parameter values that were the best fit for our Random Forest model. We extracted those parameters and applied them back to our training and validation data, balancing finding a well fitted yet generalizable model.\n",
    "\n",
    "5. **Results & Next Steps**: We trained our models on the final training dataset using the identified hyperparameters, and evaluated the model against the unseen validation and test sets. This provided insight into how well our model performs on unseen data, providing a glimpse into its operational reliability.\n",
    "\n"
   ]
  },
  {
   "cell_type": "code",
   "execution_count": 0,
   "metadata": {
    "application/vnd.databricks.v1+cell": {
     "cellMetadata": {
      "byteLimit": 2048000,
      "rowLimit": 10000
     },
     "inputWidgets": {},
     "nuid": "7be5e113-c277-4b33-8f77-e150d81a881d",
     "showTitle": false,
     "title": ""
    },
    "jupyter": {
     "outputs_hidden": true
    }
   },
   "outputs": [
    {
     "output_type": "display_data",
     "data": {
      "text/html": [
       "<style scoped>\n",
       "  .table-result-container {\n",
       "    max-height: 300px;\n",
       "    overflow: auto;\n",
       "  }\n",
       "  table, th, td {\n",
       "    border: 1px solid black;\n",
       "    border-collapse: collapse;\n",
       "  }\n",
       "  th, td {\n",
       "    padding: 5px;\n",
       "  }\n",
       "  th {\n",
       "    text-align: left;\n",
       "  }\n",
       "</style><div class='table-result-container'><table class='table-result'><thead style='background-color: white'><tr><th>path</th><th>name</th><th>size</th><th>modificationTime</th></tr></thead><tbody><tr><td>wasbs://w261-project@mids261project.blob.core.windows.net/20152018_data_test/</td><td>20152018_data_test/</td><td>0</td><td>1713236099000</td></tr><tr><td>wasbs://w261-project@mids261project.blob.core.windows.net/20152018_data_train/</td><td>20152018_data_train/</td><td>0</td><td>1713236074000</td></tr><tr><td>wasbs://w261-project@mids261project.blob.core.windows.net/20152018_data_train_downsampled/</td><td>20152018_data_train_downsampled/</td><td>0</td><td>1713236107000</td></tr><tr><td>wasbs://w261-project@mids261project.blob.core.windows.net/20152018_data_val/</td><td>20152018_data_val/</td><td>0</td><td>1713236086000</td></tr><tr><td>wasbs://w261-project@mids261project.blob.core.windows.net/2015_ES_data_train_downsampled/</td><td>2015_ES_data_train_downsampled/</td><td>0</td><td>1713251700000</td></tr><tr><td>wasbs://w261-project@mids261project.blob.core.windows.net/2015_ES_data_val/</td><td>2015_ES_data_val/</td><td>0</td><td>1713251711000</td></tr><tr><td>wasbs://w261-project@mids261project.blob.core.windows.net/2015_ES_fold_1_train_downsampled/</td><td>2015_ES_fold_1_train_downsampled/</td><td>0</td><td>1713251758000</td></tr><tr><td>wasbs://w261-project@mids261project.blob.core.windows.net/2015_ES_fold_1_val/</td><td>2015_ES_fold_1_val/</td><td>0</td><td>1713251766000</td></tr><tr><td>wasbs://w261-project@mids261project.blob.core.windows.net/2015_ES_fold_2_train_downsampled/</td><td>2015_ES_fold_2_train_downsampled/</td><td>0</td><td>1713251805000</td></tr><tr><td>wasbs://w261-project@mids261project.blob.core.windows.net/2015_ES_fold_2_val/</td><td>2015_ES_fold_2_val/</td><td>0</td><td>1713251811000</td></tr><tr><td>wasbs://w261-project@mids261project.blob.core.windows.net/2015_ES_fold_3_train_downsampled/</td><td>2015_ES_fold_3_train_downsampled/</td><td>0</td><td>1713251850000</td></tr><tr><td>wasbs://w261-project@mids261project.blob.core.windows.net/2015_ES_fold_3_val/</td><td>2015_ES_fold_3_val/</td><td>0</td><td>1713251856000</td></tr><tr><td>wasbs://w261-project@mids261project.blob.core.windows.net/2015_ES_fold_4_train_downsampled/</td><td>2015_ES_fold_4_train_downsampled/</td><td>0</td><td>1713251895000</td></tr><tr><td>wasbs://w261-project@mids261project.blob.core.windows.net/2015_ES_fold_4_val/</td><td>2015_ES_fold_4_val/</td><td>0</td><td>1713251901000</td></tr><tr><td>wasbs://w261-project@mids261project.blob.core.windows.net/2015_data_train/</td><td>2015_data_train/</td><td>0</td><td>1713251392000</td></tr><tr><td>wasbs://w261-project@mids261project.blob.core.windows.net/2015_data_train_downsampled/</td><td>2015_data_train_downsampled/</td><td>0</td><td>1713251414000</td></tr><tr><td>wasbs://w261-project@mids261project.blob.core.windows.net/2015_data_val/</td><td>2015_data_val/</td><td>0</td><td>1713251404000</td></tr><tr><td>wasbs://w261-project@mids261project.blob.core.windows.net/2015_feature_engineering_checkpoint/</td><td>2015_feature_engineering_checkpoint/</td><td>0</td><td>1712804200000</td></tr><tr><td>wasbs://w261-project@mids261project.blob.core.windows.net/2015_feature_engineering_checkpoint1/</td><td>2015_feature_engineering_checkpoint1/</td><td>0</td><td>1712802833000</td></tr><tr><td>wasbs://w261-project@mids261project.blob.core.windows.net/2015_feature_engineering_checkpoint2/</td><td>2015_feature_engineering_checkpoint2/</td><td>0</td><td>1712844634000</td></tr><tr><td>wasbs://w261-project@mids261project.blob.core.windows.net/2015_feature_engineering_checkpoint3/</td><td>2015_feature_engineering_checkpoint3/</td><td>0</td><td>1712803431000</td></tr><tr><td>wasbs://w261-project@mids261project.blob.core.windows.net/2015_feature_engineering_checkpoint4/</td><td>2015_feature_engineering_checkpoint4/</td><td>0</td><td>1712803798000</td></tr><tr><td>wasbs://w261-project@mids261project.blob.core.windows.net/2015_fold_1_train_downsampled/</td><td>2015_fold_1_train_downsampled/</td><td>0</td><td>1713251484000</td></tr><tr><td>wasbs://w261-project@mids261project.blob.core.windows.net/2015_fold_1_val/</td><td>2015_fold_1_val/</td><td>0</td><td>1713251492000</td></tr><tr><td>wasbs://w261-project@mids261project.blob.core.windows.net/2015_fold_2_train_downsampled/</td><td>2015_fold_2_train_downsampled/</td><td>0</td><td>1713251550000</td></tr><tr><td>wasbs://w261-project@mids261project.blob.core.windows.net/2015_fold_2_val/</td><td>2015_fold_2_val/</td><td>0</td><td>1713251557000</td></tr><tr><td>wasbs://w261-project@mids261project.blob.core.windows.net/2015_fold_3_train_downsampled/</td><td>2015_fold_3_train_downsampled/</td><td>0</td><td>1713251593000</td></tr><tr><td>wasbs://w261-project@mids261project.blob.core.windows.net/2015_fold_3_val/</td><td>2015_fold_3_val/</td><td>0</td><td>1713251603000</td></tr><tr><td>wasbs://w261-project@mids261project.blob.core.windows.net/2015_fold_4_train_downsampled/</td><td>2015_fold_4_train_downsampled/</td><td>0</td><td>1713251640000</td></tr><tr><td>wasbs://w261-project@mids261project.blob.core.windows.net/2015_fold_4_val/</td><td>2015_fold_4_val/</td><td>0</td><td>1713251648000</td></tr><tr><td>wasbs://w261-project@mids261project.blob.core.windows.net/2015_pagerank/</td><td>2015_pagerank/</td><td>0</td><td>1712018707000</td></tr><tr><td>wasbs://w261-project@mids261project.blob.core.windows.net/20162018_ES_data_train_downsampled/</td><td>20162018_ES_data_train_downsampled/</td><td>0</td><td>1713283091000</td></tr><tr><td>wasbs://w261-project@mids261project.blob.core.windows.net/20162018_ES_data_val/</td><td>20162018_ES_data_val/</td><td>0</td><td>1713286788000</td></tr><tr><td>wasbs://w261-project@mids261project.blob.core.windows.net/20162018_ES_fold_1_train_downsampled/</td><td>20162018_ES_fold_1_train_downsampled/</td><td>0</td><td>1713286900000</td></tr><tr><td>wasbs://w261-project@mids261project.blob.core.windows.net/20162018_ES_fold_1_val/</td><td>20162018_ES_fold_1_val/</td><td>0</td><td>1713237524000</td></tr><tr><td>wasbs://w261-project@mids261project.blob.core.windows.net/20162018_ES_fold_2_train_downsampled/</td><td>20162018_ES_fold_2_train_downsampled/</td><td>0</td><td>1713237584000</td></tr><tr><td>wasbs://w261-project@mids261project.blob.core.windows.net/20162018_ES_fold_2_val/</td><td>20162018_ES_fold_2_val/</td><td>0</td><td>1713237591000</td></tr><tr><td>wasbs://w261-project@mids261project.blob.core.windows.net/20162018_ES_fold_3_train_downsampled/</td><td>20162018_ES_fold_3_train_downsampled/</td><td>0</td><td>1713237646000</td></tr><tr><td>wasbs://w261-project@mids261project.blob.core.windows.net/20162018_ES_fold_3_val/</td><td>20162018_ES_fold_3_val/</td><td>0</td><td>1713237654000</td></tr><tr><td>wasbs://w261-project@mids261project.blob.core.windows.net/20162018_ES_fold_4_train_downsampled/</td><td>20162018_ES_fold_4_train_downsampled/</td><td>0</td><td>1713237710000</td></tr><tr><td>wasbs://w261-project@mids261project.blob.core.windows.net/20162018_ES_fold_4_val/</td><td>20162018_ES_fold_4_val/</td><td>0</td><td>1713237731000</td></tr><tr><td>wasbs://w261-project@mids261project.blob.core.windows.net/20162018_data_test/</td><td>20162018_data_test/</td><td>0</td><td>1713287221000</td></tr><tr><td>wasbs://w261-project@mids261project.blob.core.windows.net/20162018_data_train/</td><td>20162018_data_train/</td><td>0</td><td>1713287203000</td></tr><tr><td>wasbs://w261-project@mids261project.blob.core.windows.net/20162018_data_train_downsampled/</td><td>20162018_data_train_downsampled/</td><td>0</td><td>1713287228000</td></tr><tr><td>wasbs://w261-project@mids261project.blob.core.windows.net/20162018_data_val/</td><td>20162018_data_val/</td><td>0</td><td>1713287211000</td></tr><tr><td>wasbs://w261-project@mids261project.blob.core.windows.net/20162018_fold_1_train_downsampled/</td><td>20162018_fold_1_train_downsampled/</td><td>0</td><td>1713287502000</td></tr><tr><td>wasbs://w261-project@mids261project.blob.core.windows.net/20162018_fold_1_val/</td><td>20162018_fold_1_val/</td><td>0</td><td>1713282903000</td></tr><tr><td>wasbs://w261-project@mids261project.blob.core.windows.net/20162018_fold_2_train_downsampled/</td><td>20162018_fold_2_train_downsampled/</td><td>0</td><td>1713282936000</td></tr><tr><td>wasbs://w261-project@mids261project.blob.core.windows.net/20162018_fold_2_val/</td><td>20162018_fold_2_val/</td><td>0</td><td>1713282942000</td></tr><tr><td>wasbs://w261-project@mids261project.blob.core.windows.net/20162018_fold_3_train_downsampled/</td><td>20162018_fold_3_train_downsampled/</td><td>0</td><td>1713282973000</td></tr><tr><td>wasbs://w261-project@mids261project.blob.core.windows.net/20162018_fold_3_val/</td><td>20162018_fold_3_val/</td><td>0</td><td>1713282978000</td></tr><tr><td>wasbs://w261-project@mids261project.blob.core.windows.net/20162018_fold_4_train_downsampled/</td><td>20162018_fold_4_train_downsampled/</td><td>0</td><td>1713283011000</td></tr><tr><td>wasbs://w261-project@mids261project.blob.core.windows.net/20162018_fold_4_val/</td><td>20162018_fold_4_val/</td><td>0</td><td>1713283037000</td></tr><tr><td>wasbs://w261-project@mids261project.blob.core.windows.net/2016_ES_data_train_downsampled/</td><td>2016_ES_data_train_downsampled/</td><td>0</td><td>1713251742000</td></tr><tr><td>wasbs://w261-project@mids261project.blob.core.windows.net/2016_ES_data_val/</td><td>2016_ES_data_val/</td><td>0</td><td>1713251752000</td></tr><tr><td>wasbs://w261-project@mids261project.blob.core.windows.net/2016_ES_fold_1_train_downsampled/</td><td>2016_ES_fold_1_train_downsampled/</td><td>0</td><td>1713251791000</td></tr><tr><td>wasbs://w261-project@mids261project.blob.core.windows.net/2016_ES_fold_1_val/</td><td>2016_ES_fold_1_val/</td><td>0</td><td>1713251802000</td></tr><tr><td>wasbs://w261-project@mids261project.blob.core.windows.net/2016_ES_fold_2_train_downsampled/</td><td>2016_ES_fold_2_train_downsampled/</td><td>0</td><td>1713251843000</td></tr><tr><td>wasbs://w261-project@mids261project.blob.core.windows.net/2016_ES_fold_2_val/</td><td>2016_ES_fold_2_val/</td><td>0</td><td>1713251850000</td></tr><tr><td>wasbs://w261-project@mids261project.blob.core.windows.net/2016_ES_fold_3_train_downsampled/</td><td>2016_ES_fold_3_train_downsampled/</td><td>0</td><td>1713251894000</td></tr><tr><td>wasbs://w261-project@mids261project.blob.core.windows.net/2016_ES_fold_3_val/</td><td>2016_ES_fold_3_val/</td><td>0</td><td>1713251900000</td></tr><tr><td>wasbs://w261-project@mids261project.blob.core.windows.net/2016_ES_fold_4_train_downsampled/</td><td>2016_ES_fold_4_train_downsampled/</td><td>0</td><td>1713251933000</td></tr><tr><td>wasbs://w261-project@mids261project.blob.core.windows.net/2016_ES_fold_4_val/</td><td>2016_ES_fold_4_val/</td><td>0</td><td>1713251938000</td></tr><tr><td>wasbs://w261-project@mids261project.blob.core.windows.net/2016_data_train/</td><td>2016_data_train/</td><td>0</td><td>1713251426000</td></tr><tr><td>wasbs://w261-project@mids261project.blob.core.windows.net/2016_data_train_downsampled/</td><td>2016_data_train_downsampled/</td><td>0</td><td>1713251455000</td></tr><tr><td>wasbs://w261-project@mids261project.blob.core.windows.net/2016_data_val/</td><td>2016_data_val/</td><td>0</td><td>1713251445000</td></tr><tr><td>wasbs://w261-project@mids261project.blob.core.windows.net/2016_fold_1_train_downsampled/</td><td>2016_fold_1_train_downsampled/</td><td>0</td><td>1713251521000</td></tr><tr><td>wasbs://w261-project@mids261project.blob.core.windows.net/2016_fold_1_val/</td><td>2016_fold_1_val/</td><td>0</td><td>1713251531000</td></tr><tr><td>wasbs://w261-project@mids261project.blob.core.windows.net/2016_fold_2_train_downsampled/</td><td>2016_fold_2_train_downsampled/</td><td>0</td><td>1713251571000</td></tr><tr><td>wasbs://w261-project@mids261project.blob.core.windows.net/2016_fold_2_val/</td><td>2016_fold_2_val/</td><td>0</td><td>1713251579000</td></tr><tr><td>wasbs://w261-project@mids261project.blob.core.windows.net/2016_fold_3_train_downsampled/</td><td>2016_fold_3_train_downsampled/</td><td>0</td><td>1713251618000</td></tr><tr><td>wasbs://w261-project@mids261project.blob.core.windows.net/2016_fold_3_val/</td><td>2016_fold_3_val/</td><td>0</td><td>1713251626000</td></tr><tr><td>wasbs://w261-project@mids261project.blob.core.windows.net/2016_fold_4_train_downsampled/</td><td>2016_fold_4_train_downsampled/</td><td>0</td><td>1713251672000</td></tr><tr><td>wasbs://w261-project@mids261project.blob.core.windows.net/2016_fold_4_val/</td><td>2016_fold_4_val/</td><td>0</td><td>1713251681000</td></tr><tr><td>wasbs://w261-project@mids261project.blob.core.windows.net/2017_ES_data_train_downsampled/</td><td>2017_ES_data_train_downsampled/</td><td>0</td><td>1713253035000</td></tr><tr><td>wasbs://w261-project@mids261project.blob.core.windows.net/2017_ES_data_val/</td><td>2017_ES_data_val/</td><td>0</td><td>1713253043000</td></tr><tr><td>wasbs://w261-project@mids261project.blob.core.windows.net/2017_ES_fold_1_train_downsampled/</td><td>2017_ES_fold_1_train_downsampled/</td><td>0</td><td>1713253081000</td></tr><tr><td>wasbs://w261-project@mids261project.blob.core.windows.net/2017_ES_fold_1_val/</td><td>2017_ES_fold_1_val/</td><td>0</td><td>1713253088000</td></tr><tr><td>wasbs://w261-project@mids261project.blob.core.windows.net/2017_ES_fold_2_train_downsampled/</td><td>2017_ES_fold_2_train_downsampled/</td><td>0</td><td>1713253126000</td></tr><tr><td>wasbs://w261-project@mids261project.blob.core.windows.net/2017_ES_fold_2_val/</td><td>2017_ES_fold_2_val/</td><td>0</td><td>1713253133000</td></tr><tr><td>wasbs://w261-project@mids261project.blob.core.windows.net/2017_ES_fold_3_train_downsampled/</td><td>2017_ES_fold_3_train_downsampled/</td><td>0</td><td>1713253169000</td></tr><tr><td>wasbs://w261-project@mids261project.blob.core.windows.net/2017_ES_fold_3_val/</td><td>2017_ES_fold_3_val/</td><td>0</td><td>1713253176000</td></tr><tr><td>wasbs://w261-project@mids261project.blob.core.windows.net/2017_ES_fold_4_train_downsampled/</td><td>2017_ES_fold_4_train_downsampled/</td><td>0</td><td>1713253214000</td></tr><tr><td>wasbs://w261-project@mids261project.blob.core.windows.net/2017_ES_fold_4_val/</td><td>2017_ES_fold_4_val/</td><td>0</td><td>1713253221000</td></tr><tr><td>wasbs://w261-project@mids261project.blob.core.windows.net/2017_data_train/</td><td>2017_data_train/</td><td>0</td><td>1713252626000</td></tr><tr><td>wasbs://w261-project@mids261project.blob.core.windows.net/2017_data_train_downsampled/</td><td>2017_data_train_downsampled/</td><td>0</td><td>1713252647000</td></tr><tr><td>wasbs://w261-project@mids261project.blob.core.windows.net/2017_data_val/</td><td>2017_data_val/</td><td>0</td><td>1713252642000</td></tr><tr><td>wasbs://w261-project@mids261project.blob.core.windows.net/2017_fold_1_train_downsampled/</td><td>2017_fold_1_train_downsampled/</td><td>0</td><td>1713252726000</td></tr><tr><td>wasbs://w261-project@mids261project.blob.core.windows.net/2017_fold_1_val/</td><td>2017_fold_1_val/</td><td>0</td><td>1713252740000</td></tr><tr><td>wasbs://w261-project@mids261project.blob.core.windows.net/2017_fold_2_train_downsampled/</td><td>2017_fold_2_train_downsampled/</td><td>0</td><td>1713252816000</td></tr><tr><td>wasbs://w261-project@mids261project.blob.core.windows.net/2017_fold_2_val/</td><td>2017_fold_2_val/</td><td>0</td><td>1713252829000</td></tr><tr><td>wasbs://w261-project@mids261project.blob.core.windows.net/2017_fold_3_train_downsampled/</td><td>2017_fold_3_train_downsampled/</td><td>0</td><td>1713252910000</td></tr><tr><td>wasbs://w261-project@mids261project.blob.core.windows.net/2017_fold_3_val/</td><td>2017_fold_3_val/</td><td>0</td><td>1713252933000</td></tr><tr><td>wasbs://w261-project@mids261project.blob.core.windows.net/2017_fold_4_train_downsampled/</td><td>2017_fold_4_train_downsampled/</td><td>0</td><td>1713252972000</td></tr><tr><td>wasbs://w261-project@mids261project.blob.core.windows.net/2017_fold_4_val/</td><td>2017_fold_4_val/</td><td>0</td><td>1713252979000</td></tr><tr><td>wasbs://w261-project@mids261project.blob.core.windows.net/2018_ES_data_train_downsampled/</td><td>2018_ES_data_train_downsampled/</td><td>0</td><td>1713254300000</td></tr><tr><td>wasbs://w261-project@mids261project.blob.core.windows.net/2018_ES_data_train_downsampled_full_year/</td><td>2018_ES_data_train_downsampled_full_year/</td><td>0</td><td>1713254861000</td></tr><tr><td>wasbs://w261-project@mids261project.blob.core.windows.net/2018_ES_data_val/</td><td>2018_ES_data_val/</td><td>0</td><td>1713254309000</td></tr><tr><td>wasbs://w261-project@mids261project.blob.core.windows.net/2018_ES_fold_1_train_downsampled/</td><td>2018_ES_fold_1_train_downsampled/</td><td>0</td><td>1713254350000</td></tr><tr><td>wasbs://w261-project@mids261project.blob.core.windows.net/2018_ES_fold_1_train_downsampled_full_year/</td><td>2018_ES_fold_1_train_downsampled_full_year/</td><td>0</td><td>1713254901000</td></tr><tr><td>wasbs://w261-project@mids261project.blob.core.windows.net/2018_ES_fold_1_val/</td><td>2018_ES_fold_1_val/</td><td>0</td><td>1713254358000</td></tr><tr><td>wasbs://w261-project@mids261project.blob.core.windows.net/2018_ES_fold_1_val_full_year/</td><td>2018_ES_fold_1_val_full_year/</td><td>0</td><td>1713254908000</td></tr><tr><td>wasbs://w261-project@mids261project.blob.core.windows.net/2018_ES_fold_2_train_downsampled/</td><td>2018_ES_fold_2_train_downsampled/</td><td>0</td><td>1713254409000</td></tr><tr><td>wasbs://w261-project@mids261project.blob.core.windows.net/2018_ES_fold_2_train_downsampled_full_year/</td><td>2018_ES_fold_2_train_downsampled_full_year/</td><td>0</td><td>1713254970000</td></tr><tr><td>wasbs://w261-project@mids261project.blob.core.windows.net/2018_ES_fold_2_val/</td><td>2018_ES_fold_2_val/</td><td>0</td><td>1713254417000</td></tr><tr><td>wasbs://w261-project@mids261project.blob.core.windows.net/2018_ES_fold_2_val_full_year/</td><td>2018_ES_fold_2_val_full_year/</td><td>0</td><td>1713254976000</td></tr><tr><td>wasbs://w261-project@mids261project.blob.core.windows.net/2018_ES_fold_3_train_downsampled/</td><td>2018_ES_fold_3_train_downsampled/</td><td>0</td><td>1713254458000</td></tr><tr><td>wasbs://w261-project@mids261project.blob.core.windows.net/2018_ES_fold_3_train_downsampled_full_year/</td><td>2018_ES_fold_3_train_downsampled_full_year/</td><td>0</td><td>1713255008000</td></tr><tr><td>wasbs://w261-project@mids261project.blob.core.windows.net/2018_ES_fold_3_val/</td><td>2018_ES_fold_3_val/</td><td>0</td><td>1713254467000</td></tr><tr><td>wasbs://w261-project@mids261project.blob.core.windows.net/2018_ES_fold_3_val_full_year/</td><td>2018_ES_fold_3_val_full_year/</td><td>0</td><td>1713255013000</td></tr><tr><td>wasbs://w261-project@mids261project.blob.core.windows.net/2018_ES_fold_4_train_downsampled/</td><td>2018_ES_fold_4_train_downsampled/</td><td>0</td><td>1713254536000</td></tr><tr><td>wasbs://w261-project@mids261project.blob.core.windows.net/2018_ES_fold_4_train_downsampled_full_year/</td><td>2018_ES_fold_4_train_downsampled_full_year/</td><td>0</td><td>1713255076000</td></tr><tr><td>wasbs://w261-project@mids261project.blob.core.windows.net/2018_ES_fold_4_val/</td><td>2018_ES_fold_4_val/</td><td>0</td><td>1713254542000</td></tr><tr><td>wasbs://w261-project@mids261project.blob.core.windows.net/2018_ES_fold_4_val_full_year/</td><td>2018_ES_fold_4_val_full_year/</td><td>0</td><td>1713255082000</td></tr><tr><td>wasbs://w261-project@mids261project.blob.core.windows.net/2018_data_train/</td><td>2018_data_train/</td><td>0</td><td>1713254000000</td></tr><tr><td>wasbs://w261-project@mids261project.blob.core.windows.net/2018_data_train_downsampled/</td><td>2018_data_train_downsampled/</td><td>0</td><td>1713254020000</td></tr><tr><td>wasbs://w261-project@mids261project.blob.core.windows.net/2018_data_train_downsampled_full_year/</td><td>2018_data_train_downsampled_full_year/</td><td>0</td><td>1713254601000</td></tr><tr><td>wasbs://w261-project@mids261project.blob.core.windows.net/2018_data_train_full_year/</td><td>2018_data_train_full_year/</td><td>0</td><td>1713254596000</td></tr><tr><td>wasbs://w261-project@mids261project.blob.core.windows.net/2018_data_traindownsampled_full_year/</td><td>2018_data_traindownsampled_full_year/</td><td>0</td><td>1713210053000</td></tr><tr><td>wasbs://w261-project@mids261project.blob.core.windows.net/2018_data_val/</td><td>2018_data_val/</td><td>0</td><td>1713254014000</td></tr><tr><td>wasbs://w261-project@mids261project.blob.core.windows.net/2018_fold_1_train_downsampled/</td><td>2018_fold_1_train_downsampled/</td><td>0</td><td>1713254094000</td></tr><tr><td>wasbs://w261-project@mids261project.blob.core.windows.net/2018_fold_1_train_downsampled_full_year/</td><td>2018_fold_1_train_downsampled_full_year/</td><td>0</td><td>1713254639000</td></tr><tr><td>wasbs://w261-project@mids261project.blob.core.windows.net/2018_fold_1_val/</td><td>2018_fold_1_val/</td><td>0</td><td>1713254103000</td></tr><tr><td>wasbs://w261-project@mids261project.blob.core.windows.net/2018_fold_1_val_full_year/</td><td>2018_fold_1_val_full_year/</td><td>0</td><td>1713254646000</td></tr><tr><td>wasbs://w261-project@mids261project.blob.core.windows.net/2018_fold_2_train_downsampled/</td><td>2018_fold_2_train_downsampled/</td><td>0</td><td>1713254140000</td></tr><tr><td>wasbs://w261-project@mids261project.blob.core.windows.net/2018_fold_2_train_downsampled_full_year/</td><td>2018_fold_2_train_downsampled_full_year/</td><td>0</td><td>1713254685000</td></tr><tr><td>wasbs://w261-project@mids261project.blob.core.windows.net/2018_fold_2_val/</td><td>2018_fold_2_val/</td><td>0</td><td>1713254148000</td></tr><tr><td>wasbs://w261-project@mids261project.blob.core.windows.net/2018_fold_2_val_full_year/</td><td>2018_fold_2_val_full_year/</td><td>0</td><td>1713254694000</td></tr><tr><td>wasbs://w261-project@mids261project.blob.core.windows.net/2018_fold_3_train_downsampled/</td><td>2018_fold_3_train_downsampled/</td><td>0</td><td>1713254182000</td></tr><tr><td>wasbs://w261-project@mids261project.blob.core.windows.net/2018_fold_3_train_downsampled_full_year/</td><td>2018_fold_3_train_downsampled_full_year/</td><td>0</td><td>1713254730000</td></tr><tr><td>wasbs://w261-project@mids261project.blob.core.windows.net/2018_fold_3_val/</td><td>2018_fold_3_val/</td><td>0</td><td>1713254190000</td></tr><tr><td>wasbs://w261-project@mids261project.blob.core.windows.net/2018_fold_3_val_full_year/</td><td>2018_fold_3_val_full_year/</td><td>0</td><td>1713254739000</td></tr><tr><td>wasbs://w261-project@mids261project.blob.core.windows.net/2018_fold_4_train_downsampled/</td><td>2018_fold_4_train_downsampled/</td><td>0</td><td>1713254229000</td></tr><tr><td>wasbs://w261-project@mids261project.blob.core.windows.net/2018_fold_4_train_downsampled_full_year/</td><td>2018_fold_4_train_downsampled_full_year/</td><td>0</td><td>1713254776000</td></tr><tr><td>wasbs://w261-project@mids261project.blob.core.windows.net/2018_fold_4_val/</td><td>2018_fold_4_val/</td><td>0</td><td>1713254237000</td></tr><tr><td>wasbs://w261-project@mids261project.blob.core.windows.net/2018_fold_4_val_full_year/</td><td>2018_fold_4_val_full_year/</td><td>0</td><td>1713254784000</td></tr><tr><td>wasbs://w261-project@mids261project.blob.core.windows.net/2020_2022_flight_data/</td><td>2020_2022_flight_data/</td><td>0</td><td>0</td></tr><tr><td>wasbs://w261-project@mids261project.blob.core.windows.net/2020_2022_flight_data_final/</td><td>2020_2022_flight_data_final/</td><td>0</td><td>1712787993000</td></tr><tr><td>wasbs://w261-project@mids261project.blob.core.windows.net/2020_2022_weather/</td><td>2020_2022_weather/</td><td>0</td><td>1712950970000</td></tr><tr><td>wasbs://w261-project@mids261project.blob.core.windows.net/2020_weather/</td><td>2020_weather/</td><td>0</td><td>0</td></tr><tr><td>wasbs://w261-project@mids261project.blob.core.windows.net/2020_weather_combinations/</td><td>2020_weather_combinations/</td><td>0</td><td>1712687148000</td></tr><tr><td>wasbs://w261-project@mids261project.blob.core.windows.net/2020_weather_file_names/</td><td>2020_weather_file_names/</td><td>0</td><td>0</td></tr><tr><td>wasbs://w261-project@mids261project.blob.core.windows.net/2020_weather_final/</td><td>2020_weather_final/</td><td>0</td><td>1712707891000</td></tr><tr><td>wasbs://w261-project@mids261project.blob.core.windows.net/2021_weather/</td><td>2021_weather/</td><td>0</td><td>0</td></tr><tr><td>wasbs://w261-project@mids261project.blob.core.windows.net/2021_weather_combinations/</td><td>2021_weather_combinations/</td><td>0</td><td>1712709839000</td></tr><tr><td>wasbs://w261-project@mids261project.blob.core.windows.net/2021_weather_final/</td><td>2021_weather_final/</td><td>0</td><td>1712768372000</td></tr><tr><td>wasbs://w261-project@mids261project.blob.core.windows.net/2022_weather/</td><td>2022_weather/</td><td>0</td><td>0</td></tr><tr><td>wasbs://w261-project@mids261project.blob.core.windows.net/2022_weather_combinations/</td><td>2022_weather_combinations/</td><td>0</td><td>1712776270000</td></tr><tr><td>wasbs://w261-project@mids261project.blob.core.windows.net/2022_weather_final/</td><td>2022_weather_final/</td><td>0</td><td>1712787262000</td></tr><tr><td>wasbs://w261-project@mids261project.blob.core.windows.net/GBT_1_results/</td><td>GBT_1_results/</td><td>0</td><td>1712779438000</td></tr><tr><td>wasbs://w261-project@mids261project.blob.core.windows.net/TP/</td><td>TP/</td><td>0</td><td>1721078628000</td></tr><tr><td>wasbs://w261-project@mids261project.blob.core.windows.net/airports.csv</td><td>airports.csv</td><td>669174</td><td>1710813321000</td></tr><tr><td>wasbs://w261-project@mids261project.blob.core.windows.net/baseline_12M_data_checkpoint/</td><td>baseline_12M_data_checkpoint/</td><td>0</td><td>1711653825000</td></tr><tr><td>wasbs://w261-project@mids261project.blob.core.windows.net/baseline_12M_data_test/</td><td>baseline_12M_data_test/</td><td>0</td><td>1712363595000</td></tr><tr><td>wasbs://w261-project@mids261project.blob.core.windows.net/baseline_12M_data_train/</td><td>baseline_12M_data_train/</td><td>0</td><td>1712363497000</td></tr><tr><td>wasbs://w261-project@mids261project.blob.core.windows.net/baseline_12M_data_train_downsampled/</td><td>baseline_12M_data_train_downsampled/</td><td>0</td><td>1712363611000</td></tr><tr><td>wasbs://w261-project@mids261project.blob.core.windows.net/baseline_12M_data_val/</td><td>baseline_12M_data_val/</td><td>0</td><td>1712363545000</td></tr><tr><td>wasbs://w261-project@mids261project.blob.core.windows.net/baseline_12M_data_val_downsampled/</td><td>baseline_12M_data_val_downsampled/</td><td>0</td><td>1712363616000</td></tr><tr><td>wasbs://w261-project@mids261project.blob.core.windows.net/baseline_12M_test_data_checkpoint/</td><td>baseline_12M_test_data_checkpoint/</td><td>0</td><td>1711654419000</td></tr><tr><td>wasbs://w261-project@mids261project.blob.core.windows.net/baseline_12M_val_data_checkpoint/</td><td>baseline_12M_val_data_checkpoint/</td><td>0</td><td>1711611855000</td></tr><tr><td>wasbs://w261-project@mids261project.blob.core.windows.net/baseline_1_12M_data_test/</td><td>baseline_1_12M_data_test/</td><td>0</td><td>1712363626000</td></tr><tr><td>wasbs://w261-project@mids261project.blob.core.windows.net/baseline_1_12M_data_train_downsampled/</td><td>baseline_1_12M_data_train_downsampled/</td><td>0</td><td>1712363621000</td></tr><tr><td>wasbs://w261-project@mids261project.blob.core.windows.net/baseline_1_12M_data_val_downsampled/</td><td>baseline_1_12M_data_val_downsampled/</td><td>0</td><td>1712363623000</td></tr><tr><td>wasbs://w261-project@mids261project.blob.core.windows.net/baseline_1_results/</td><td>baseline_1_results/</td><td>0</td><td>1712377583000</td></tr><tr><td>wasbs://w261-project@mids261project.blob.core.windows.net/baseline_1_test_eval_df/</td><td>baseline_1_test_eval_df/</td><td>0</td><td>1712377525000</td></tr><tr><td>wasbs://w261-project@mids261project.blob.core.windows.net/baseline_1_train_eval_df/</td><td>baseline_1_train_eval_df/</td><td>0</td><td>1712377527000</td></tr><tr><td>wasbs://w261-project@mids261project.blob.core.windows.net/baseline_2_12M_data_test/</td><td>baseline_2_12M_data_test/</td><td>0</td><td>1712363636000</td></tr><tr><td>wasbs://w261-project@mids261project.blob.core.windows.net/baseline_2_12M_data_train/</td><td>baseline_2_12M_data_train/</td><td>0</td><td>1712119402000</td></tr><tr><td>wasbs://w261-project@mids261project.blob.core.windows.net/baseline_2_12M_data_train_downsampled/</td><td>baseline_2_12M_data_train_downsampled/</td><td>0</td><td>1712363631000</td></tr><tr><td>wasbs://w261-project@mids261project.blob.core.windows.net/baseline_2_12M_data_val/</td><td>baseline_2_12M_data_val/</td><td>0</td><td>1712119427000</td></tr><tr><td>wasbs://w261-project@mids261project.blob.core.windows.net/baseline_2_12M_data_val_downsampled/</td><td>baseline_2_12M_data_val_downsampled/</td><td>0</td><td>1712363633000</td></tr><tr><td>wasbs://w261-project@mids261project.blob.core.windows.net/baseline_2_results/</td><td>baseline_2_results/</td><td>0</td><td>1712376850000</td></tr><tr><td>wasbs://w261-project@mids261project.blob.core.windows.net/baseline_2_test_eval_df/</td><td>baseline_2_test_eval_df/</td><td>0</td><td>1712376784000</td></tr><tr><td>wasbs://w261-project@mids261project.blob.core.windows.net/baseline_2_train_eval_df/</td><td>baseline_2_train_eval_df/</td><td>0</td><td>1712376786000</td></tr><tr><td>wasbs://w261-project@mids261project.blob.core.windows.net/baseline_3_12M_data_test/</td><td>baseline_3_12M_data_test/</td><td>0</td><td>1712363646000</td></tr><tr><td>wasbs://w261-project@mids261project.blob.core.windows.net/baseline_3_12M_data_train/</td><td>baseline_3_12M_data_train/</td><td>0</td><td>1712120213000</td></tr><tr><td>wasbs://w261-project@mids261project.blob.core.windows.net/baseline_3_12M_data_train_downsampled/</td><td>baseline_3_12M_data_train_downsampled/</td><td>0</td><td>1712363641000</td></tr><tr><td>wasbs://w261-project@mids261project.blob.core.windows.net/baseline_3_12M_data_val/</td><td>baseline_3_12M_data_val/</td><td>0</td><td>1712120238000</td></tr><tr><td>wasbs://w261-project@mids261project.blob.core.windows.net/baseline_3_12M_data_val_downsampled/</td><td>baseline_3_12M_data_val_downsampled/</td><td>0</td><td>1712363642000</td></tr><tr><td>wasbs://w261-project@mids261project.blob.core.windows.net/baseline_3_results/</td><td>baseline_3_results/</td><td>0</td><td>1712531074000</td></tr><tr><td>wasbs://w261-project@mids261project.blob.core.windows.net/baseline_3_test_eval_df/</td><td>baseline_3_test_eval_df/</td><td>0</td><td>1712530970000</td></tr><tr><td>wasbs://w261-project@mids261project.blob.core.windows.net/baseline_3_train_eval_df/</td><td>baseline_3_train_eval_df/</td><td>0</td><td>1712530973000</td></tr><tr><td>wasbs://w261-project@mids261project.blob.core.windows.net/baseline_4_12M_data_test/</td><td>baseline_4_12M_data_test/</td><td>0</td><td>1712860516000</td></tr><tr><td>wasbs://w261-project@mids261project.blob.core.windows.net/baseline_4_12M_data_train/</td><td>baseline_4_12M_data_train/</td><td>0</td><td>1712860463000</td></tr><tr><td>wasbs://w261-project@mids261project.blob.core.windows.net/baseline_4_12M_data_train_downsampled/</td><td>baseline_4_12M_data_train_downsampled/</td><td>0</td><td>1712860536000</td></tr><tr><td>wasbs://w261-project@mids261project.blob.core.windows.net/baseline_4_12M_data_val/</td><td>baseline_4_12M_data_val/</td><td>0</td><td>1712860485000</td></tr><tr><td>wasbs://w261-project@mids261project.blob.core.windows.net/baseline_4_12M_data_val_downsampled/</td><td>baseline_4_12M_data_val_downsampled/</td><td>0</td><td>1712860541000</td></tr><tr><td>wasbs://w261-project@mids261project.blob.core.windows.net/baseline_4_results/</td><td>baseline_4_results/</td><td>0</td><td>1712382364000</td></tr><tr><td>wasbs://w261-project@mids261project.blob.core.windows.net/baseline_4_test_eval_df/</td><td>baseline_4_test_eval_df/</td><td>0</td><td>1712382238000</td></tr><tr><td>wasbs://w261-project@mids261project.blob.core.windows.net/baseline_4_train_eval_df/</td><td>baseline_4_train_eval_df/</td><td>0</td><td>1712382240000</td></tr><tr><td>wasbs://w261-project@mids261project.blob.core.windows.net/baseline_5_12M_data_test/</td><td>baseline_5_12M_data_test/</td><td>0</td><td>1712381143000</td></tr><tr><td>wasbs://w261-project@mids261project.blob.core.windows.net/baseline_5_12M_data_train/</td><td>baseline_5_12M_data_train/</td><td>0</td><td>1712381099000</td></tr><tr><td>wasbs://w261-project@mids261project.blob.core.windows.net/baseline_5_12M_data_train_downsampled/</td><td>baseline_5_12M_data_train_downsampled/</td><td>0</td><td>1712381149000</td></tr><tr><td>wasbs://w261-project@mids261project.blob.core.windows.net/baseline_5_12M_data_val/</td><td>baseline_5_12M_data_val/</td><td>0</td><td>1712381121000</td></tr><tr><td>wasbs://w261-project@mids261project.blob.core.windows.net/baseline_5_12M_data_val_downsampled/</td><td>baseline_5_12M_data_val_downsampled/</td><td>0</td><td>1712381153000</td></tr><tr><td>wasbs://w261-project@mids261project.blob.core.windows.net/baseline_5_results/</td><td>baseline_5_results/</td><td>0</td><td>1712373739000</td></tr><tr><td>wasbs://w261-project@mids261project.blob.core.windows.net/baseline_5_test_eval_df/</td><td>baseline_5_test_eval_df/</td><td>0</td><td>1712373647000</td></tr><tr><td>wasbs://w261-project@mids261project.blob.core.windows.net/baseline_5_train_eval_df/</td><td>baseline_5_train_eval_df/</td><td>0</td><td>1712373670000</td></tr><tr><td>wasbs://w261-project@mids261project.blob.core.windows.net/baseline_6_12M_data_test/</td><td>baseline_6_12M_data_test/</td><td>0</td><td>1712860593000</td></tr><tr><td>wasbs://w261-project@mids261project.blob.core.windows.net/baseline_6_12M_data_train/</td><td>baseline_6_12M_data_train/</td><td>0</td><td>1712860573000</td></tr><tr><td>wasbs://w261-project@mids261project.blob.core.windows.net/baseline_6_12M_data_train_downsampled/</td><td>baseline_6_12M_data_train_downsampled/</td><td>0</td><td>1712860597000</td></tr><tr><td>wasbs://w261-project@mids261project.blob.core.windows.net/baseline_6_12M_data_val/</td><td>baseline_6_12M_data_val/</td><td>0</td><td>1712860583000</td></tr><tr><td>wasbs://w261-project@mids261project.blob.core.windows.net/baseline_6_12M_data_val_downsampled/</td><td>baseline_6_12M_data_val_downsampled/</td><td>0</td><td>1712860621000</td></tr><tr><td>wasbs://w261-project@mids261project.blob.core.windows.net/baseline_6_results/</td><td>baseline_6_results/</td><td>0</td><td>1712382821000</td></tr><tr><td>wasbs://w261-project@mids261project.blob.core.windows.net/baseline_6_test_eval_df/</td><td>baseline_6_test_eval_df/</td><td>0</td><td>1712382762000</td></tr><tr><td>wasbs://w261-project@mids261project.blob.core.windows.net/baseline_6_train_eval_df/</td><td>baseline_6_train_eval_df/</td><td>0</td><td>1712382763000</td></tr><tr><td>wasbs://w261-project@mids261project.blob.core.windows.net/baseline_lasso_results/</td><td>baseline_lasso_results/</td><td>0</td><td>1712351138000</td></tr><tr><td>wasbs://w261-project@mids261project.blob.core.windows.net/baseline_lasso_test_eval_df/</td><td>baseline_lasso_test_eval_df/</td><td>0</td><td>1712351075000</td></tr><tr><td>wasbs://w261-project@mids261project.blob.core.windows.net/baseline_lasso_train_eval_df/</td><td>baseline_lasso_train_eval_df/</td><td>0</td><td>1712351077000</td></tr><tr><td>wasbs://w261-project@mids261project.blob.core.windows.net/baseline_minmax_results/</td><td>baseline_minmax_results/</td><td>0</td><td>1712862058000</td></tr><tr><td>wasbs://w261-project@mids261project.blob.core.windows.net/baseline_minmax_test_eval_df/</td><td>baseline_minmax_test_eval_df/</td><td>0</td><td>1712861964000</td></tr><tr><td>wasbs://w261-project@mids261project.blob.core.windows.net/baseline_minmax_train_eval_df/</td><td>baseline_minmax_train_eval_df/</td><td>0</td><td>1712861987000</td></tr><tr><td>wasbs://w261-project@mids261project.blob.core.windows.net/baseline_no_reg_results/</td><td>baseline_no_reg_results/</td><td>0</td><td>1712352425000</td></tr><tr><td>wasbs://w261-project@mids261project.blob.core.windows.net/baseline_no_reg_test_eval_df/</td><td>baseline_no_reg_test_eval_df/</td><td>0</td><td>1712352367000</td></tr><tr><td>wasbs://w261-project@mids261project.blob.core.windows.net/baseline_no_reg_train_eval_df/</td><td>baseline_no_reg_train_eval_df/</td><td>0</td><td>1712352368000</td></tr><tr><td>wasbs://w261-project@mids261project.blob.core.windows.net/cleaned_weather_2015/</td><td>cleaned_weather_2015/</td><td>0</td><td>1711915982000</td></tr><tr><td>wasbs://w261-project@mids261project.blob.core.windows.net/cleaned_weather_all/</td><td>cleaned_weather_all/</td><td>0</td><td>1712187608000</td></tr><tr><td>wasbs://w261-project@mids261project.blob.core.windows.net/combined_data_1Y/</td><td>combined_data_1Y/</td><td>0</td><td>1711074640000</td></tr><tr><td>wasbs://w261-project@mids261project.blob.core.windows.net/combined_data_1y/</td><td>combined_data_1y/</td><td>0</td><td>1711588406000</td></tr><tr><td>wasbs://w261-project@mids261project.blob.core.windows.net/combined_data_2015/</td><td>combined_data_2015/</td><td>0</td><td>1711929680000</td></tr><tr><td>wasbs://w261-project@mids261project.blob.core.windows.net/combined_data_3m/</td><td>combined_data_3m/</td><td>0</td><td>1711582950000</td></tr><tr><td>wasbs://w261-project@mids261project.blob.core.windows.net/combined_data_all/</td><td>combined_data_all/</td><td>0</td><td>1712230113000</td></tr><tr><td>wasbs://w261-project@mids261project.blob.core.windows.net/delayed_1_binned_median/</td><td>delayed_1_binned_median/</td><td>0</td><td>1713537142000</td></tr><tr><td>wasbs://w261-project@mids261project.blob.core.windows.net/delayed_arr_binned_median/</td><td>delayed_arr_binned_median/</td><td>0</td><td>1712006179000</td></tr><tr><td>wasbs://w261-project@mids261project.blob.core.windows.net/df_flights12_null_counts_df/</td><td>df_flights12_null_counts_df/</td><td>0</td><td>1713536561000</td></tr><tr><td>wasbs://w261-project@mids261project.blob.core.windows.net/df_test_1y/</td><td>df_test_1y/</td><td>0</td><td>1712280124000</td></tr><tr><td>wasbs://w261-project@mids261project.blob.core.windows.net/df_train_1y/</td><td>df_train_1y/</td><td>0</td><td>1712279807000</td></tr><tr><td>wasbs://w261-project@mids261project.blob.core.windows.net/df_train_1y_nulls/</td><td>df_train_1y_nulls/</td><td>0</td><td>1713537133000</td></tr><tr><td>wasbs://w261-project@mids261project.blob.core.windows.net/df_weather3_nulls/</td><td>df_weather3_nulls/</td><td>0</td><td>1711888748000</td></tr><tr><td>wasbs://w261-project@mids261project.blob.core.windows.net/df_weather_2015_nulls/</td><td>df_weather_2015_nulls/</td><td>0</td><td>1712138288000</td></tr><tr><td>wasbs://w261-project@mids261project.blob.core.windows.net/df_weather_2015_unique_values/</td><td>df_weather_2015_unique_values/</td><td>0</td><td>1712138439000</td></tr><tr><td>wasbs://w261-project@mids261project.blob.core.windows.net/distance_binned/</td><td>distance_binned/</td><td>0</td><td>1712091918000</td></tr><tr><td>wasbs://w261-project@mids261project.blob.core.windows.net/distance_binned_df_train_1y/</td><td>distance_binned_df_train_1y/</td><td>0</td><td>1713537141000</td></tr><tr><td>wasbs://w261-project@mids261project.blob.core.windows.net/distance_binned_self_otpw/</td><td>distance_binned_self_otpw/</td><td>0</td><td>1712006177000</td></tr><tr><td>wasbs://w261-project@mids261project.blob.core.windows.net/distance_to_neighbor_binned/</td><td>distance_to_neighbor_binned/</td><td>0</td><td>1712138458000</td></tr><tr><td>wasbs://w261-project@mids261project.blob.core.windows.net/ensemble_test_false_negatives/</td><td>ensemble_test_false_negatives/</td><td>0</td><td>1713312685000</td></tr><tr><td>wasbs://w261-project@mids261project.blob.core.windows.net/ensemble_test_false_positives/</td><td>ensemble_test_false_positives/</td><td>0</td><td>1713312743000</td></tr><tr><td>wasbs://w261-project@mids261project.blob.core.windows.net/ensemble_test_predictions/</td><td>ensemble_test_predictions/</td><td>0</td><td>1713380420000</td></tr><tr><td>wasbs://w261-project@mids261project.blob.core.windows.net/ensemble_test_preds/</td><td>ensemble_test_preds/</td><td>0</td><td>1713247319000</td></tr><tr><td>wasbs://w261-project@mids261project.blob.core.windows.net/ensemble_test_true_negatives/</td><td>ensemble_test_true_negatives/</td><td>0</td><td>1713312840000</td></tr><tr><td>wasbs://w261-project@mids261project.blob.core.windows.net/ensemble_test_true_positives/</td><td>ensemble_test_true_positives/</td><td>0</td><td>1713312793000</td></tr><tr><td>wasbs://w261-project@mids261project.blob.core.windows.net/ensemble_train_preds/</td><td>ensemble_train_preds/</td><td>0</td><td>1713247220000</td></tr><tr><td>wasbs://w261-project@mids261project.blob.core.windows.net/ensemble_val_preds/</td><td>ensemble_val_preds/</td><td>0</td><td>1713247283000</td></tr><tr><td>wasbs://w261-project@mids261project.blob.core.windows.net/feature_engineer_checkpoint/</td><td>feature_engineer_checkpoint/</td><td>0</td><td>1712275825000</td></tr><tr><td>wasbs://w261-project@mids261project.blob.core.windows.net/full_feature_engineering_checkpoint/</td><td>full_feature_engineering_checkpoint/</td><td>0</td><td>1713235911000</td></tr><tr><td>wasbs://w261-project@mids261project.blob.core.windows.net/full_feature_engineering_checkpoint1/</td><td>full_feature_engineering_checkpoint1/</td><td>0</td><td>1713222514000</td></tr><tr><td>wasbs://w261-project@mids261project.blob.core.windows.net/full_feature_engineering_checkpoint1_LLM/</td><td>full_feature_engineering_checkpoint1_LLM/</td><td>0</td><td>1721122070000</td></tr><tr><td>wasbs://w261-project@mids261project.blob.core.windows.net/full_feature_engineering_checkpoint2/</td><td>full_feature_engineering_checkpoint2/</td><td>0</td><td>1713223020000</td></tr><tr><td>wasbs://w261-project@mids261project.blob.core.windows.net/full_feature_engineering_checkpoint3/</td><td>full_feature_engineering_checkpoint3/</td><td>0</td><td>1713223252000</td></tr><tr><td>wasbs://w261-project@mids261project.blob.core.windows.net/full_feature_engineering_checkpoint4/</td><td>full_feature_engineering_checkpoint4/</td><td>0</td><td>1713223434000</td></tr><tr><td>wasbs://w261-project@mids261project.blob.core.windows.net/full_feature_engineering_checkpoint5/</td><td>full_feature_engineering_checkpoint5/</td><td>0</td><td>1713231475000</td></tr><tr><td>wasbs://w261-project@mids261project.blob.core.windows.net/full_feature_engineering_checkpoint6/</td><td>full_feature_engineering_checkpoint6/</td><td>0</td><td>1713231777000</td></tr><tr><td>wasbs://w261-project@mids261project.blob.core.windows.net/gbt_1_test_eval_df/</td><td>gbt_1_test_eval_df/</td><td>0</td><td>1712779217000</td></tr><tr><td>wasbs://w261-project@mids261project.blob.core.windows.net/gbt_1_train_eval_df/</td><td>gbt_1_train_eval_df/</td><td>0</td><td>1712779239000</td></tr><tr><td>wasbs://w261-project@mids261project.blob.core.windows.net/gbt_2015_early_stop_results/</td><td>gbt_2015_early_stop_results/</td><td>0</td><td>1712984590000</td></tr><tr><td>wasbs://w261-project@mids261project.blob.core.windows.net/gbt_2015_early_stop_test_eval_df/</td><td>gbt_2015_early_stop_test_eval_df/</td><td>0</td><td>1712984560000</td></tr><tr><td>wasbs://w261-project@mids261project.blob.core.windows.net/gbt_2015_early_stop_train_eval_df/</td><td>gbt_2015_early_stop_train_eval_df/</td><td>0</td><td>1712984563000</td></tr><tr><td>wasbs://w261-project@mids261project.blob.core.windows.net/gbt_2015_results/</td><td>gbt_2015_results/</td><td>0</td><td>1712954594000</td></tr><tr><td>wasbs://w261-project@mids261project.blob.core.windows.net/gbt_2015_test_eval_df/</td><td>gbt_2015_test_eval_df/</td><td>0</td><td>1712954566000</td></tr><tr><td>wasbs://w261-project@mids261project.blob.core.windows.net/gbt_2015_train_eval_df/</td><td>gbt_2015_train_eval_df/</td><td>0</td><td>1712954568000</td></tr><tr><td>wasbs://w261-project@mids261project.blob.core.windows.net/gbt_early_stop_2015_results/</td><td>gbt_early_stop_2015_results/</td><td>0</td><td>1713156217000</td></tr><tr><td>wasbs://w261-project@mids261project.blob.core.windows.net/gbt_early_stop_2015_test_eval_df/</td><td>gbt_early_stop_2015_test_eval_df/</td><td>0</td><td>1713156190000</td></tr><tr><td>wasbs://w261-project@mids261project.blob.core.windows.net/gbt_early_stop_2015_train_eval_df/</td><td>gbt_early_stop_2015_train_eval_df/</td><td>0</td><td>1713156192000</td></tr><tr><td>wasbs://w261-project@mids261project.blob.core.windows.net/gbt_early_stop_20162018_results/</td><td>gbt_early_stop_20162018_results/</td><td>0</td><td>1713304428000</td></tr><tr><td>wasbs://w261-project@mids261project.blob.core.windows.net/gbt_early_stop_20162018_test_eval_df/</td><td>gbt_early_stop_20162018_test_eval_df/</td><td>0</td><td>1713304365000</td></tr><tr><td>wasbs://w261-project@mids261project.blob.core.windows.net/gbt_early_stop_20162018_train_eval_df/</td><td>gbt_early_stop_20162018_train_eval_df/</td><td>0</td><td>1713304367000</td></tr><tr><td>wasbs://w261-project@mids261project.blob.core.windows.net/gbt_early_stop_2016_results/</td><td>gbt_early_stop_2016_results/</td><td>0</td><td>1713117274000</td></tr><tr><td>wasbs://w261-project@mids261project.blob.core.windows.net/gbt_early_stop_2016_test_eval_df/</td><td>gbt_early_stop_2016_test_eval_df/</td><td>0</td><td>1713117240000</td></tr><tr><td>wasbs://w261-project@mids261project.blob.core.windows.net/gbt_early_stop_2016_train_eval_df/</td><td>gbt_early_stop_2016_train_eval_df/</td><td>0</td><td>1713117244000</td></tr><tr><td>wasbs://w261-project@mids261project.blob.core.windows.net/gbt_early_stop_2017_results/</td><td>gbt_early_stop_2017_results/</td><td>0</td><td>1713148992000</td></tr><tr><td>wasbs://w261-project@mids261project.blob.core.windows.net/gbt_early_stop_2017_test_eval_df/</td><td>gbt_early_stop_2017_test_eval_df/</td><td>0</td><td>1713148956000</td></tr><tr><td>wasbs://w261-project@mids261project.blob.core.windows.net/gbt_early_stop_2017_train_eval_df/</td><td>gbt_early_stop_2017_train_eval_df/</td><td>0</td><td>1713148959000</td></tr><tr><td>wasbs://w261-project@mids261project.blob.core.windows.net/gbt_early_stop_2018_results/</td><td>gbt_early_stop_2018_results/</td><td>0</td><td>1713151704000</td></tr><tr><td>wasbs://w261-project@mids261project.blob.core.windows.net/gbt_early_stop_2018_test_eval_df/</td><td>gbt_early_stop_2018_test_eval_df/</td><td>0</td><td>1713151668000</td></tr><tr><td>wasbs://w261-project@mids261project.blob.core.windows.net/gbt_early_stop_2018_train_eval_df/</td><td>gbt_early_stop_2018_train_eval_df/</td><td>0</td><td>1713151672000</td></tr><tr><td>wasbs://w261-project@mids261project.blob.core.windows.net/gbt_test_predictions/</td><td>gbt_test_predictions/</td><td>0</td><td>1713315604000</td></tr><tr><td>wasbs://w261-project@mids261project.blob.core.windows.net/geomap_airport_ids/</td><td>geomap_airport_ids/</td><td>0</td><td>1712453435000</td></tr><tr><td>wasbs://w261-project@mids261project.blob.core.windows.net/geomap_airport_weights/</td><td>geomap_airport_weights/</td><td>0</td><td>1712453429000</td></tr><tr><td>wasbs://w261-project@mids261project.blob.core.windows.net/imputed_medians_df_train_1y/</td><td>imputed_medians_df_train_1y/</td><td>0</td><td>1712279249000</td></tr><tr><td>wasbs://w261-project@mids261project.blob.core.windows.net/lr_2015_results/</td><td>lr_2015_results/</td><td>0</td><td>1713152941000</td></tr><tr><td>wasbs://w261-project@mids261project.blob.core.windows.net/lr_2015_test_eval_df/</td><td>lr_2015_test_eval_df/</td><td>0</td><td>1713152919000</td></tr><tr><td>wasbs://w261-project@mids261project.blob.core.windows.net/lr_2015_train_eval_df/</td><td>lr_2015_train_eval_df/</td><td>0</td><td>1713152921000</td></tr><tr><td>wasbs://w261-project@mids261project.blob.core.windows.net/lr_20162018_results/</td><td>lr_20162018_results/</td><td>0</td><td>1713306610000</td></tr><tr><td>wasbs://w261-project@mids261project.blob.core.windows.net/lr_20162018_test_eval_df/</td><td>lr_20162018_test_eval_df/</td><td>0</td><td>1713306539000</td></tr><tr><td>wasbs://w261-project@mids261project.blob.core.windows.net/lr_20162018_train_eval_df/</td><td>lr_20162018_train_eval_df/</td><td>0</td><td>1713306542000</td></tr><tr><td>wasbs://w261-project@mids261project.blob.core.windows.net/lr_2016_results/</td><td>lr_2016_results/</td><td>0</td><td>1713115801000</td></tr><tr><td>wasbs://w261-project@mids261project.blob.core.windows.net/lr_2016_test_eval_df/</td><td>lr_2016_test_eval_df/</td><td>0</td><td>1713115728000</td></tr><tr><td>wasbs://w261-project@mids261project.blob.core.windows.net/lr_2016_train_eval_df/</td><td>lr_2016_train_eval_df/</td><td>0</td><td>1713115744000</td></tr><tr><td>wasbs://w261-project@mids261project.blob.core.windows.net/lr_2017_results/</td><td>lr_2017_results/</td><td>0</td><td>1713146367000</td></tr><tr><td>wasbs://w261-project@mids261project.blob.core.windows.net/lr_2017_test_eval_df/</td><td>lr_2017_test_eval_df/</td><td>0</td><td>1713146339000</td></tr><tr><td>wasbs://w261-project@mids261project.blob.core.windows.net/lr_2017_train_eval_df/</td><td>lr_2017_train_eval_df/</td><td>0</td><td>1713146341000</td></tr><tr><td>wasbs://w261-project@mids261project.blob.core.windows.net/lr_2018_results/</td><td>lr_2018_results/</td><td>0</td><td>1713149793000</td></tr><tr><td>wasbs://w261-project@mids261project.blob.core.windows.net/lr_2018_test_eval_df/</td><td>lr_2018_test_eval_df/</td><td>0</td><td>1713149764000</td></tr><tr><td>wasbs://w261-project@mids261project.blob.core.windows.net/lr_2018_train_eval_df/</td><td>lr_2018_train_eval_df/</td><td>0</td><td>1713149767000</td></tr><tr><td>wasbs://w261-project@mids261project.blob.core.windows.net/nn_2015_test_eval_df/</td><td>nn_2015_test_eval_df/</td><td>0</td><td>1713308893000</td></tr><tr><td>wasbs://w261-project@mids261project.blob.core.windows.net/nn_2015_train_eval_df/</td><td>nn_2015_train_eval_df/</td><td>0</td><td>1713308860000</td></tr><tr><td>wasbs://w261-project@mids261project.blob.core.windows.net/nn_2016_test_eval_df/</td><td>nn_2016_test_eval_df/</td><td>0</td><td>1713308900000</td></tr><tr><td>wasbs://w261-project@mids261project.blob.core.windows.net/nn_2016_train_eval_df/</td><td>nn_2016_train_eval_df/</td><td>0</td><td>1713308871000</td></tr><tr><td>wasbs://w261-project@mids261project.blob.core.windows.net/nn_2017_test_eval_df/</td><td>nn_2017_test_eval_df/</td><td>0</td><td>1713308905000</td></tr><tr><td>wasbs://w261-project@mids261project.blob.core.windows.net/nn_2017_train_eval_df/</td><td>nn_2017_train_eval_df/</td><td>0</td><td>1713308880000</td></tr><tr><td>wasbs://w261-project@mids261project.blob.core.windows.net/nn_2018_test_eval_df/</td><td>nn_2018_test_eval_df/</td><td>0</td><td>1713308910000</td></tr><tr><td>wasbs://w261-project@mids261project.blob.core.windows.net/nn_2018_train_eval_df/</td><td>nn_2018_train_eval_df/</td><td>0</td><td>1713308888000</td></tr><tr><td>wasbs://w261-project@mids261project.blob.core.windows.net/nn_small_2015_test_eval_df/</td><td>nn_small_2015_test_eval_df/</td><td>0</td><td>1713338136000</td></tr><tr><td>wasbs://w261-project@mids261project.blob.core.windows.net/nn_small_2015_train_eval_df/</td><td>nn_small_2015_train_eval_df/</td><td>0</td><td>1713338123000</td></tr><tr><td>wasbs://w261-project@mids261project.blob.core.windows.net/nn_small_2016_test_eval_df/</td><td>nn_small_2016_test_eval_df/</td><td>0</td><td>1713338138000</td></tr><tr><td>wasbs://w261-project@mids261project.blob.core.windows.net/nn_small_2016_train_eval_df/</td><td>nn_small_2016_train_eval_df/</td><td>0</td><td>1713338127000</td></tr><tr><td>wasbs://w261-project@mids261project.blob.core.windows.net/nn_small_2017_test_eval_df/</td><td>nn_small_2017_test_eval_df/</td><td>0</td><td>1713338141000</td></tr><tr><td>wasbs://w261-project@mids261project.blob.core.windows.net/nn_small_2017_train_eval_df/</td><td>nn_small_2017_train_eval_df/</td><td>0</td><td>1713338130000</td></tr><tr><td>wasbs://w261-project@mids261project.blob.core.windows.net/nn_small_2018_test_eval_df/</td><td>nn_small_2018_test_eval_df/</td><td>0</td><td>1713338143000</td></tr><tr><td>wasbs://w261-project@mids261project.blob.core.windows.net/nn_small_2018_train_eval_df/</td><td>nn_small_2018_train_eval_df/</td><td>0</td><td>1713338133000</td></tr><tr><td>wasbs://w261-project@mids261project.blob.core.windows.net/normalized_df_test_1y/</td><td>normalized_df_test_1y/</td><td>0</td><td>1712281063000</td></tr><tr><td>wasbs://w261-project@mids261project.blob.core.windows.net/normalized_df_train_1y/</td><td>normalized_df_train_1y/</td><td>0</td><td>1712281029000</td></tr><tr><td>wasbs://w261-project@mids261project.blob.core.windows.net/null_counts_df/</td><td>null_counts_df/</td><td>0</td><td>1713536689000</td></tr><tr><td>wasbs://w261-project@mids261project.blob.core.windows.net/phase_3_aggregate_results/</td><td>phase_3_aggregate_results/</td><td>0</td><td>1713477049000</td></tr><tr><td>wasbs://w261-project@mids261project.blob.core.windows.net/random_forest_2015_results/</td><td>random_forest_2015_results/</td><td>0</td><td>1713153650000</td></tr><tr><td>wasbs://w261-project@mids261project.blob.core.windows.net/random_forest_2015_test_eval_df/</td><td>random_forest_2015_test_eval_df/</td><td>0</td><td>1713153623000</td></tr><tr><td>wasbs://w261-project@mids261project.blob.core.windows.net/random_forest_2015_train_eval_df/</td><td>random_forest_2015_train_eval_df/</td><td>0</td><td>1713153627000</td></tr><tr><td>wasbs://w261-project@mids261project.blob.core.windows.net/random_forest_20162018_results/</td><td>random_forest_20162018_results/</td><td>0</td><td>1713305798000</td></tr><tr><td>wasbs://w261-project@mids261project.blob.core.windows.net/random_forest_20162018_test_eval_df/</td><td>random_forest_20162018_test_eval_df/</td><td>0</td><td>1713305713000</td></tr><tr><td>wasbs://w261-project@mids261project.blob.core.windows.net/random_forest_20162018_test_eval_df_LLM/</td><td>random_forest_20162018_test_eval_df_LLM/</td><td>0</td><td>1721336415000</td></tr><tr><td>wasbs://w261-project@mids261project.blob.core.windows.net/random_forest_20162018_train_eval_df/</td><td>random_forest_20162018_train_eval_df/</td><td>0</td><td>1713305732000</td></tr><tr><td>wasbs://w261-project@mids261project.blob.core.windows.net/random_forest_20162018_train_eval_df_LLM/</td><td>random_forest_20162018_train_eval_df_LLM/</td><td>0</td><td>1721336418000</td></tr><tr><td>wasbs://w261-project@mids261project.blob.core.windows.net/random_forest_2016_results/</td><td>random_forest_2016_results/</td><td>0</td><td>1713116374000</td></tr><tr><td>wasbs://w261-project@mids261project.blob.core.windows.net/random_forest_2016_test_eval_df/</td><td>random_forest_2016_test_eval_df/</td><td>0</td><td>1713116343000</td></tr><tr><td>wasbs://w261-project@mids261project.blob.core.windows.net/random_forest_2016_train_eval_df/</td><td>random_forest_2016_train_eval_df/</td><td>0</td><td>1713116346000</td></tr><tr><td>wasbs://w261-project@mids261project.blob.core.windows.net/random_forest_2017_results/</td><td>random_forest_2017_results/</td><td>0</td><td>1713147592000</td></tr><tr><td>wasbs://w261-project@mids261project.blob.core.windows.net/random_forest_2017_test_eval_df/</td><td>random_forest_2017_test_eval_df/</td><td>0</td><td>1713147562000</td></tr><tr><td>wasbs://w261-project@mids261project.blob.core.windows.net/random_forest_2017_train_eval_df/</td><td>random_forest_2017_train_eval_df/</td><td>0</td><td>1713147565000</td></tr><tr><td>wasbs://w261-project@mids261project.blob.core.windows.net/random_forest_2018_results/</td><td>random_forest_2018_results/</td><td>0</td><td>1713150828000</td></tr><tr><td>wasbs://w261-project@mids261project.blob.core.windows.net/random_forest_2018_test_eval_df/</td><td>random_forest_2018_test_eval_df/</td><td>0</td><td>1713150797000</td></tr><tr><td>wasbs://w261-project@mids261project.blob.core.windows.net/random_forest_2018_train_eval_df/</td><td>random_forest_2018_train_eval_df/</td><td>0</td><td>1713150800000</td></tr><tr><td>wasbs://w261-project@mids261project.blob.core.windows.net/self_otpw_nulls/</td><td>self_otpw_nulls/</td><td>0</td><td>1712006154000</td></tr><tr><td>wasbs://w261-project@mids261project.blob.core.windows.net/test/</td><td>test/</td><td>0</td><td>1710295358000</td></tr><tr><td>wasbs://w261-project@mids261project.blob.core.windows.net/tree_1_results/</td><td>tree_1_results/</td><td>0</td><td>1712536246000</td></tr><tr><td>wasbs://w261-project@mids261project.blob.core.windows.net/tree_1_test_eval_df/</td><td>tree_1_test_eval_df/</td><td>0</td><td>1712535878000</td></tr><tr><td>wasbs://w261-project@mids261project.blob.core.windows.net/tree_1_train_eval_df/</td><td>tree_1_train_eval_df/</td><td>0</td><td>1712535881000</td></tr><tr><td>wasbs://w261-project@mids261project.blob.core.windows.net/weather_2022/</td><td>weather_2022/</td><td>0</td><td>0</td></tr></tbody></table></div>"
      ]
     },
     "metadata": {
      "application/vnd.databricks.v1+output": {
       "addedWidgets": {},
       "aggData": [],
       "aggError": "",
       "aggOverflow": false,
       "aggSchema": [],
       "aggSeriesLimitReached": false,
       "aggType": "",
       "arguments": {},
       "columnCustomDisplayInfos": {},
       "data": [
        [
         "wasbs://w261-project@mids261project.blob.core.windows.net/20152018_data_test/",
         "20152018_data_test/",
         0,
         1713236099000
        ],
        [
         "wasbs://w261-project@mids261project.blob.core.windows.net/20152018_data_train/",
         "20152018_data_train/",
         0,
         1713236074000
        ],
        [
         "wasbs://w261-project@mids261project.blob.core.windows.net/20152018_data_train_downsampled/",
         "20152018_data_train_downsampled/",
         0,
         1713236107000
        ],
        [
         "wasbs://w261-project@mids261project.blob.core.windows.net/20152018_data_val/",
         "20152018_data_val/",
         0,
         1713236086000
        ],
        [
         "wasbs://w261-project@mids261project.blob.core.windows.net/2015_ES_data_train_downsampled/",
         "2015_ES_data_train_downsampled/",
         0,
         1713251700000
        ],
        [
         "wasbs://w261-project@mids261project.blob.core.windows.net/2015_ES_data_val/",
         "2015_ES_data_val/",
         0,
         1713251711000
        ],
        [
         "wasbs://w261-project@mids261project.blob.core.windows.net/2015_ES_fold_1_train_downsampled/",
         "2015_ES_fold_1_train_downsampled/",
         0,
         1713251758000
        ],
        [
         "wasbs://w261-project@mids261project.blob.core.windows.net/2015_ES_fold_1_val/",
         "2015_ES_fold_1_val/",
         0,
         1713251766000
        ],
        [
         "wasbs://w261-project@mids261project.blob.core.windows.net/2015_ES_fold_2_train_downsampled/",
         "2015_ES_fold_2_train_downsampled/",
         0,
         1713251805000
        ],
        [
         "wasbs://w261-project@mids261project.blob.core.windows.net/2015_ES_fold_2_val/",
         "2015_ES_fold_2_val/",
         0,
         1713251811000
        ],
        [
         "wasbs://w261-project@mids261project.blob.core.windows.net/2015_ES_fold_3_train_downsampled/",
         "2015_ES_fold_3_train_downsampled/",
         0,
         1713251850000
        ],
        [
         "wasbs://w261-project@mids261project.blob.core.windows.net/2015_ES_fold_3_val/",
         "2015_ES_fold_3_val/",
         0,
         1713251856000
        ],
        [
         "wasbs://w261-project@mids261project.blob.core.windows.net/2015_ES_fold_4_train_downsampled/",
         "2015_ES_fold_4_train_downsampled/",
         0,
         1713251895000
        ],
        [
         "wasbs://w261-project@mids261project.blob.core.windows.net/2015_ES_fold_4_val/",
         "2015_ES_fold_4_val/",
         0,
         1713251901000
        ],
        [
         "wasbs://w261-project@mids261project.blob.core.windows.net/2015_data_train/",
         "2015_data_train/",
         0,
         1713251392000
        ],
        [
         "wasbs://w261-project@mids261project.blob.core.windows.net/2015_data_train_downsampled/",
         "2015_data_train_downsampled/",
         0,
         1713251414000
        ],
        [
         "wasbs://w261-project@mids261project.blob.core.windows.net/2015_data_val/",
         "2015_data_val/",
         0,
         1713251404000
        ],
        [
         "wasbs://w261-project@mids261project.blob.core.windows.net/2015_feature_engineering_checkpoint/",
         "2015_feature_engineering_checkpoint/",
         0,
         1712804200000
        ],
        [
         "wasbs://w261-project@mids261project.blob.core.windows.net/2015_feature_engineering_checkpoint1/",
         "2015_feature_engineering_checkpoint1/",
         0,
         1712802833000
        ],
        [
         "wasbs://w261-project@mids261project.blob.core.windows.net/2015_feature_engineering_checkpoint2/",
         "2015_feature_engineering_checkpoint2/",
         0,
         1712844634000
        ],
        [
         "wasbs://w261-project@mids261project.blob.core.windows.net/2015_feature_engineering_checkpoint3/",
         "2015_feature_engineering_checkpoint3/",
         0,
         1712803431000
        ],
        [
         "wasbs://w261-project@mids261project.blob.core.windows.net/2015_feature_engineering_checkpoint4/",
         "2015_feature_engineering_checkpoint4/",
         0,
         1712803798000
        ],
        [
         "wasbs://w261-project@mids261project.blob.core.windows.net/2015_fold_1_train_downsampled/",
         "2015_fold_1_train_downsampled/",
         0,
         1713251484000
        ],
        [
         "wasbs://w261-project@mids261project.blob.core.windows.net/2015_fold_1_val/",
         "2015_fold_1_val/",
         0,
         1713251492000
        ],
        [
         "wasbs://w261-project@mids261project.blob.core.windows.net/2015_fold_2_train_downsampled/",
         "2015_fold_2_train_downsampled/",
         0,
         1713251550000
        ],
        [
         "wasbs://w261-project@mids261project.blob.core.windows.net/2015_fold_2_val/",
         "2015_fold_2_val/",
         0,
         1713251557000
        ],
        [
         "wasbs://w261-project@mids261project.blob.core.windows.net/2015_fold_3_train_downsampled/",
         "2015_fold_3_train_downsampled/",
         0,
         1713251593000
        ],
        [
         "wasbs://w261-project@mids261project.blob.core.windows.net/2015_fold_3_val/",
         "2015_fold_3_val/",
         0,
         1713251603000
        ],
        [
         "wasbs://w261-project@mids261project.blob.core.windows.net/2015_fold_4_train_downsampled/",
         "2015_fold_4_train_downsampled/",
         0,
         1713251640000
        ],
        [
         "wasbs://w261-project@mids261project.blob.core.windows.net/2015_fold_4_val/",
         "2015_fold_4_val/",
         0,
         1713251648000
        ],
        [
         "wasbs://w261-project@mids261project.blob.core.windows.net/2015_pagerank/",
         "2015_pagerank/",
         0,
         1712018707000
        ],
        [
         "wasbs://w261-project@mids261project.blob.core.windows.net/20162018_ES_data_train_downsampled/",
         "20162018_ES_data_train_downsampled/",
         0,
         1713283091000
        ],
        [
         "wasbs://w261-project@mids261project.blob.core.windows.net/20162018_ES_data_val/",
         "20162018_ES_data_val/",
         0,
         1713286788000
        ],
        [
         "wasbs://w261-project@mids261project.blob.core.windows.net/20162018_ES_fold_1_train_downsampled/",
         "20162018_ES_fold_1_train_downsampled/",
         0,
         1713286900000
        ],
        [
         "wasbs://w261-project@mids261project.blob.core.windows.net/20162018_ES_fold_1_val/",
         "20162018_ES_fold_1_val/",
         0,
         1713237524000
        ],
        [
         "wasbs://w261-project@mids261project.blob.core.windows.net/20162018_ES_fold_2_train_downsampled/",
         "20162018_ES_fold_2_train_downsampled/",
         0,
         1713237584000
        ],
        [
         "wasbs://w261-project@mids261project.blob.core.windows.net/20162018_ES_fold_2_val/",
         "20162018_ES_fold_2_val/",
         0,
         1713237591000
        ],
        [
         "wasbs://w261-project@mids261project.blob.core.windows.net/20162018_ES_fold_3_train_downsampled/",
         "20162018_ES_fold_3_train_downsampled/",
         0,
         1713237646000
        ],
        [
         "wasbs://w261-project@mids261project.blob.core.windows.net/20162018_ES_fold_3_val/",
         "20162018_ES_fold_3_val/",
         0,
         1713237654000
        ],
        [
         "wasbs://w261-project@mids261project.blob.core.windows.net/20162018_ES_fold_4_train_downsampled/",
         "20162018_ES_fold_4_train_downsampled/",
         0,
         1713237710000
        ],
        [
         "wasbs://w261-project@mids261project.blob.core.windows.net/20162018_ES_fold_4_val/",
         "20162018_ES_fold_4_val/",
         0,
         1713237731000
        ],
        [
         "wasbs://w261-project@mids261project.blob.core.windows.net/20162018_data_test/",
         "20162018_data_test/",
         0,
         1713287221000
        ],
        [
         "wasbs://w261-project@mids261project.blob.core.windows.net/20162018_data_train/",
         "20162018_data_train/",
         0,
         1713287203000
        ],
        [
         "wasbs://w261-project@mids261project.blob.core.windows.net/20162018_data_train_downsampled/",
         "20162018_data_train_downsampled/",
         0,
         1713287228000
        ],
        [
         "wasbs://w261-project@mids261project.blob.core.windows.net/20162018_data_val/",
         "20162018_data_val/",
         0,
         1713287211000
        ],
        [
         "wasbs://w261-project@mids261project.blob.core.windows.net/20162018_fold_1_train_downsampled/",
         "20162018_fold_1_train_downsampled/",
         0,
         1713287502000
        ],
        [
         "wasbs://w261-project@mids261project.blob.core.windows.net/20162018_fold_1_val/",
         "20162018_fold_1_val/",
         0,
         1713282903000
        ],
        [
         "wasbs://w261-project@mids261project.blob.core.windows.net/20162018_fold_2_train_downsampled/",
         "20162018_fold_2_train_downsampled/",
         0,
         1713282936000
        ],
        [
         "wasbs://w261-project@mids261project.blob.core.windows.net/20162018_fold_2_val/",
         "20162018_fold_2_val/",
         0,
         1713282942000
        ],
        [
         "wasbs://w261-project@mids261project.blob.core.windows.net/20162018_fold_3_train_downsampled/",
         "20162018_fold_3_train_downsampled/",
         0,
         1713282973000
        ],
        [
         "wasbs://w261-project@mids261project.blob.core.windows.net/20162018_fold_3_val/",
         "20162018_fold_3_val/",
         0,
         1713282978000
        ],
        [
         "wasbs://w261-project@mids261project.blob.core.windows.net/20162018_fold_4_train_downsampled/",
         "20162018_fold_4_train_downsampled/",
         0,
         1713283011000
        ],
        [
         "wasbs://w261-project@mids261project.blob.core.windows.net/20162018_fold_4_val/",
         "20162018_fold_4_val/",
         0,
         1713283037000
        ],
        [
         "wasbs://w261-project@mids261project.blob.core.windows.net/2016_ES_data_train_downsampled/",
         "2016_ES_data_train_downsampled/",
         0,
         1713251742000
        ],
        [
         "wasbs://w261-project@mids261project.blob.core.windows.net/2016_ES_data_val/",
         "2016_ES_data_val/",
         0,
         1713251752000
        ],
        [
         "wasbs://w261-project@mids261project.blob.core.windows.net/2016_ES_fold_1_train_downsampled/",
         "2016_ES_fold_1_train_downsampled/",
         0,
         1713251791000
        ],
        [
         "wasbs://w261-project@mids261project.blob.core.windows.net/2016_ES_fold_1_val/",
         "2016_ES_fold_1_val/",
         0,
         1713251802000
        ],
        [
         "wasbs://w261-project@mids261project.blob.core.windows.net/2016_ES_fold_2_train_downsampled/",
         "2016_ES_fold_2_train_downsampled/",
         0,
         1713251843000
        ],
        [
         "wasbs://w261-project@mids261project.blob.core.windows.net/2016_ES_fold_2_val/",
         "2016_ES_fold_2_val/",
         0,
         1713251850000
        ],
        [
         "wasbs://w261-project@mids261project.blob.core.windows.net/2016_ES_fold_3_train_downsampled/",
         "2016_ES_fold_3_train_downsampled/",
         0,
         1713251894000
        ],
        [
         "wasbs://w261-project@mids261project.blob.core.windows.net/2016_ES_fold_3_val/",
         "2016_ES_fold_3_val/",
         0,
         1713251900000
        ],
        [
         "wasbs://w261-project@mids261project.blob.core.windows.net/2016_ES_fold_4_train_downsampled/",
         "2016_ES_fold_4_train_downsampled/",
         0,
         1713251933000
        ],
        [
         "wasbs://w261-project@mids261project.blob.core.windows.net/2016_ES_fold_4_val/",
         "2016_ES_fold_4_val/",
         0,
         1713251938000
        ],
        [
         "wasbs://w261-project@mids261project.blob.core.windows.net/2016_data_train/",
         "2016_data_train/",
         0,
         1713251426000
        ],
        [
         "wasbs://w261-project@mids261project.blob.core.windows.net/2016_data_train_downsampled/",
         "2016_data_train_downsampled/",
         0,
         1713251455000
        ],
        [
         "wasbs://w261-project@mids261project.blob.core.windows.net/2016_data_val/",
         "2016_data_val/",
         0,
         1713251445000
        ],
        [
         "wasbs://w261-project@mids261project.blob.core.windows.net/2016_fold_1_train_downsampled/",
         "2016_fold_1_train_downsampled/",
         0,
         1713251521000
        ],
        [
         "wasbs://w261-project@mids261project.blob.core.windows.net/2016_fold_1_val/",
         "2016_fold_1_val/",
         0,
         1713251531000
        ],
        [
         "wasbs://w261-project@mids261project.blob.core.windows.net/2016_fold_2_train_downsampled/",
         "2016_fold_2_train_downsampled/",
         0,
         1713251571000
        ],
        [
         "wasbs://w261-project@mids261project.blob.core.windows.net/2016_fold_2_val/",
         "2016_fold_2_val/",
         0,
         1713251579000
        ],
        [
         "wasbs://w261-project@mids261project.blob.core.windows.net/2016_fold_3_train_downsampled/",
         "2016_fold_3_train_downsampled/",
         0,
         1713251618000
        ],
        [
         "wasbs://w261-project@mids261project.blob.core.windows.net/2016_fold_3_val/",
         "2016_fold_3_val/",
         0,
         1713251626000
        ],
        [
         "wasbs://w261-project@mids261project.blob.core.windows.net/2016_fold_4_train_downsampled/",
         "2016_fold_4_train_downsampled/",
         0,
         1713251672000
        ],
        [
         "wasbs://w261-project@mids261project.blob.core.windows.net/2016_fold_4_val/",
         "2016_fold_4_val/",
         0,
         1713251681000
        ],
        [
         "wasbs://w261-project@mids261project.blob.core.windows.net/2017_ES_data_train_downsampled/",
         "2017_ES_data_train_downsampled/",
         0,
         1713253035000
        ],
        [
         "wasbs://w261-project@mids261project.blob.core.windows.net/2017_ES_data_val/",
         "2017_ES_data_val/",
         0,
         1713253043000
        ],
        [
         "wasbs://w261-project@mids261project.blob.core.windows.net/2017_ES_fold_1_train_downsampled/",
         "2017_ES_fold_1_train_downsampled/",
         0,
         1713253081000
        ],
        [
         "wasbs://w261-project@mids261project.blob.core.windows.net/2017_ES_fold_1_val/",
         "2017_ES_fold_1_val/",
         0,
         1713253088000
        ],
        [
         "wasbs://w261-project@mids261project.blob.core.windows.net/2017_ES_fold_2_train_downsampled/",
         "2017_ES_fold_2_train_downsampled/",
         0,
         1713253126000
        ],
        [
         "wasbs://w261-project@mids261project.blob.core.windows.net/2017_ES_fold_2_val/",
         "2017_ES_fold_2_val/",
         0,
         1713253133000
        ],
        [
         "wasbs://w261-project@mids261project.blob.core.windows.net/2017_ES_fold_3_train_downsampled/",
         "2017_ES_fold_3_train_downsampled/",
         0,
         1713253169000
        ],
        [
         "wasbs://w261-project@mids261project.blob.core.windows.net/2017_ES_fold_3_val/",
         "2017_ES_fold_3_val/",
         0,
         1713253176000
        ],
        [
         "wasbs://w261-project@mids261project.blob.core.windows.net/2017_ES_fold_4_train_downsampled/",
         "2017_ES_fold_4_train_downsampled/",
         0,
         1713253214000
        ],
        [
         "wasbs://w261-project@mids261project.blob.core.windows.net/2017_ES_fold_4_val/",
         "2017_ES_fold_4_val/",
         0,
         1713253221000
        ],
        [
         "wasbs://w261-project@mids261project.blob.core.windows.net/2017_data_train/",
         "2017_data_train/",
         0,
         1713252626000
        ],
        [
         "wasbs://w261-project@mids261project.blob.core.windows.net/2017_data_train_downsampled/",
         "2017_data_train_downsampled/",
         0,
         1713252647000
        ],
        [
         "wasbs://w261-project@mids261project.blob.core.windows.net/2017_data_val/",
         "2017_data_val/",
         0,
         1713252642000
        ],
        [
         "wasbs://w261-project@mids261project.blob.core.windows.net/2017_fold_1_train_downsampled/",
         "2017_fold_1_train_downsampled/",
         0,
         1713252726000
        ],
        [
         "wasbs://w261-project@mids261project.blob.core.windows.net/2017_fold_1_val/",
         "2017_fold_1_val/",
         0,
         1713252740000
        ],
        [
         "wasbs://w261-project@mids261project.blob.core.windows.net/2017_fold_2_train_downsampled/",
         "2017_fold_2_train_downsampled/",
         0,
         1713252816000
        ],
        [
         "wasbs://w261-project@mids261project.blob.core.windows.net/2017_fold_2_val/",
         "2017_fold_2_val/",
         0,
         1713252829000
        ],
        [
         "wasbs://w261-project@mids261project.blob.core.windows.net/2017_fold_3_train_downsampled/",
         "2017_fold_3_train_downsampled/",
         0,
         1713252910000
        ],
        [
         "wasbs://w261-project@mids261project.blob.core.windows.net/2017_fold_3_val/",
         "2017_fold_3_val/",
         0,
         1713252933000
        ],
        [
         "wasbs://w261-project@mids261project.blob.core.windows.net/2017_fold_4_train_downsampled/",
         "2017_fold_4_train_downsampled/",
         0,
         1713252972000
        ],
        [
         "wasbs://w261-project@mids261project.blob.core.windows.net/2017_fold_4_val/",
         "2017_fold_4_val/",
         0,
         1713252979000
        ],
        [
         "wasbs://w261-project@mids261project.blob.core.windows.net/2018_ES_data_train_downsampled/",
         "2018_ES_data_train_downsampled/",
         0,
         1713254300000
        ],
        [
         "wasbs://w261-project@mids261project.blob.core.windows.net/2018_ES_data_train_downsampled_full_year/",
         "2018_ES_data_train_downsampled_full_year/",
         0,
         1713254861000
        ],
        [
         "wasbs://w261-project@mids261project.blob.core.windows.net/2018_ES_data_val/",
         "2018_ES_data_val/",
         0,
         1713254309000
        ],
        [
         "wasbs://w261-project@mids261project.blob.core.windows.net/2018_ES_fold_1_train_downsampled/",
         "2018_ES_fold_1_train_downsampled/",
         0,
         1713254350000
        ],
        [
         "wasbs://w261-project@mids261project.blob.core.windows.net/2018_ES_fold_1_train_downsampled_full_year/",
         "2018_ES_fold_1_train_downsampled_full_year/",
         0,
         1713254901000
        ],
        [
         "wasbs://w261-project@mids261project.blob.core.windows.net/2018_ES_fold_1_val/",
         "2018_ES_fold_1_val/",
         0,
         1713254358000
        ],
        [
         "wasbs://w261-project@mids261project.blob.core.windows.net/2018_ES_fold_1_val_full_year/",
         "2018_ES_fold_1_val_full_year/",
         0,
         1713254908000
        ],
        [
         "wasbs://w261-project@mids261project.blob.core.windows.net/2018_ES_fold_2_train_downsampled/",
         "2018_ES_fold_2_train_downsampled/",
         0,
         1713254409000
        ],
        [
         "wasbs://w261-project@mids261project.blob.core.windows.net/2018_ES_fold_2_train_downsampled_full_year/",
         "2018_ES_fold_2_train_downsampled_full_year/",
         0,
         1713254970000
        ],
        [
         "wasbs://w261-project@mids261project.blob.core.windows.net/2018_ES_fold_2_val/",
         "2018_ES_fold_2_val/",
         0,
         1713254417000
        ],
        [
         "wasbs://w261-project@mids261project.blob.core.windows.net/2018_ES_fold_2_val_full_year/",
         "2018_ES_fold_2_val_full_year/",
         0,
         1713254976000
        ],
        [
         "wasbs://w261-project@mids261project.blob.core.windows.net/2018_ES_fold_3_train_downsampled/",
         "2018_ES_fold_3_train_downsampled/",
         0,
         1713254458000
        ],
        [
         "wasbs://w261-project@mids261project.blob.core.windows.net/2018_ES_fold_3_train_downsampled_full_year/",
         "2018_ES_fold_3_train_downsampled_full_year/",
         0,
         1713255008000
        ],
        [
         "wasbs://w261-project@mids261project.blob.core.windows.net/2018_ES_fold_3_val/",
         "2018_ES_fold_3_val/",
         0,
         1713254467000
        ],
        [
         "wasbs://w261-project@mids261project.blob.core.windows.net/2018_ES_fold_3_val_full_year/",
         "2018_ES_fold_3_val_full_year/",
         0,
         1713255013000
        ],
        [
         "wasbs://w261-project@mids261project.blob.core.windows.net/2018_ES_fold_4_train_downsampled/",
         "2018_ES_fold_4_train_downsampled/",
         0,
         1713254536000
        ],
        [
         "wasbs://w261-project@mids261project.blob.core.windows.net/2018_ES_fold_4_train_downsampled_full_year/",
         "2018_ES_fold_4_train_downsampled_full_year/",
         0,
         1713255076000
        ],
        [
         "wasbs://w261-project@mids261project.blob.core.windows.net/2018_ES_fold_4_val/",
         "2018_ES_fold_4_val/",
         0,
         1713254542000
        ],
        [
         "wasbs://w261-project@mids261project.blob.core.windows.net/2018_ES_fold_4_val_full_year/",
         "2018_ES_fold_4_val_full_year/",
         0,
         1713255082000
        ],
        [
         "wasbs://w261-project@mids261project.blob.core.windows.net/2018_data_train/",
         "2018_data_train/",
         0,
         1713254000000
        ],
        [
         "wasbs://w261-project@mids261project.blob.core.windows.net/2018_data_train_downsampled/",
         "2018_data_train_downsampled/",
         0,
         1713254020000
        ],
        [
         "wasbs://w261-project@mids261project.blob.core.windows.net/2018_data_train_downsampled_full_year/",
         "2018_data_train_downsampled_full_year/",
         0,
         1713254601000
        ],
        [
         "wasbs://w261-project@mids261project.blob.core.windows.net/2018_data_train_full_year/",
         "2018_data_train_full_year/",
         0,
         1713254596000
        ],
        [
         "wasbs://w261-project@mids261project.blob.core.windows.net/2018_data_traindownsampled_full_year/",
         "2018_data_traindownsampled_full_year/",
         0,
         1713210053000
        ],
        [
         "wasbs://w261-project@mids261project.blob.core.windows.net/2018_data_val/",
         "2018_data_val/",
         0,
         1713254014000
        ],
        [
         "wasbs://w261-project@mids261project.blob.core.windows.net/2018_fold_1_train_downsampled/",
         "2018_fold_1_train_downsampled/",
         0,
         1713254094000
        ],
        [
         "wasbs://w261-project@mids261project.blob.core.windows.net/2018_fold_1_train_downsampled_full_year/",
         "2018_fold_1_train_downsampled_full_year/",
         0,
         1713254639000
        ],
        [
         "wasbs://w261-project@mids261project.blob.core.windows.net/2018_fold_1_val/",
         "2018_fold_1_val/",
         0,
         1713254103000
        ],
        [
         "wasbs://w261-project@mids261project.blob.core.windows.net/2018_fold_1_val_full_year/",
         "2018_fold_1_val_full_year/",
         0,
         1713254646000
        ],
        [
         "wasbs://w261-project@mids261project.blob.core.windows.net/2018_fold_2_train_downsampled/",
         "2018_fold_2_train_downsampled/",
         0,
         1713254140000
        ],
        [
         "wasbs://w261-project@mids261project.blob.core.windows.net/2018_fold_2_train_downsampled_full_year/",
         "2018_fold_2_train_downsampled_full_year/",
         0,
         1713254685000
        ],
        [
         "wasbs://w261-project@mids261project.blob.core.windows.net/2018_fold_2_val/",
         "2018_fold_2_val/",
         0,
         1713254148000
        ],
        [
         "wasbs://w261-project@mids261project.blob.core.windows.net/2018_fold_2_val_full_year/",
         "2018_fold_2_val_full_year/",
         0,
         1713254694000
        ],
        [
         "wasbs://w261-project@mids261project.blob.core.windows.net/2018_fold_3_train_downsampled/",
         "2018_fold_3_train_downsampled/",
         0,
         1713254182000
        ],
        [
         "wasbs://w261-project@mids261project.blob.core.windows.net/2018_fold_3_train_downsampled_full_year/",
         "2018_fold_3_train_downsampled_full_year/",
         0,
         1713254730000
        ],
        [
         "wasbs://w261-project@mids261project.blob.core.windows.net/2018_fold_3_val/",
         "2018_fold_3_val/",
         0,
         1713254190000
        ],
        [
         "wasbs://w261-project@mids261project.blob.core.windows.net/2018_fold_3_val_full_year/",
         "2018_fold_3_val_full_year/",
         0,
         1713254739000
        ],
        [
         "wasbs://w261-project@mids261project.blob.core.windows.net/2018_fold_4_train_downsampled/",
         "2018_fold_4_train_downsampled/",
         0,
         1713254229000
        ],
        [
         "wasbs://w261-project@mids261project.blob.core.windows.net/2018_fold_4_train_downsampled_full_year/",
         "2018_fold_4_train_downsampled_full_year/",
         0,
         1713254776000
        ],
        [
         "wasbs://w261-project@mids261project.blob.core.windows.net/2018_fold_4_val/",
         "2018_fold_4_val/",
         0,
         1713254237000
        ],
        [
         "wasbs://w261-project@mids261project.blob.core.windows.net/2018_fold_4_val_full_year/",
         "2018_fold_4_val_full_year/",
         0,
         1713254784000
        ],
        [
         "wasbs://w261-project@mids261project.blob.core.windows.net/2020_2022_flight_data/",
         "2020_2022_flight_data/",
         0,
         0
        ],
        [
         "wasbs://w261-project@mids261project.blob.core.windows.net/2020_2022_flight_data_final/",
         "2020_2022_flight_data_final/",
         0,
         1712787993000
        ],
        [
         "wasbs://w261-project@mids261project.blob.core.windows.net/2020_2022_weather/",
         "2020_2022_weather/",
         0,
         1712950970000
        ],
        [
         "wasbs://w261-project@mids261project.blob.core.windows.net/2020_weather/",
         "2020_weather/",
         0,
         0
        ],
        [
         "wasbs://w261-project@mids261project.blob.core.windows.net/2020_weather_combinations/",
         "2020_weather_combinations/",
         0,
         1712687148000
        ],
        [
         "wasbs://w261-project@mids261project.blob.core.windows.net/2020_weather_file_names/",
         "2020_weather_file_names/",
         0,
         0
        ],
        [
         "wasbs://w261-project@mids261project.blob.core.windows.net/2020_weather_final/",
         "2020_weather_final/",
         0,
         1712707891000
        ],
        [
         "wasbs://w261-project@mids261project.blob.core.windows.net/2021_weather/",
         "2021_weather/",
         0,
         0
        ],
        [
         "wasbs://w261-project@mids261project.blob.core.windows.net/2021_weather_combinations/",
         "2021_weather_combinations/",
         0,
         1712709839000
        ],
        [
         "wasbs://w261-project@mids261project.blob.core.windows.net/2021_weather_final/",
         "2021_weather_final/",
         0,
         1712768372000
        ],
        [
         "wasbs://w261-project@mids261project.blob.core.windows.net/2022_weather/",
         "2022_weather/",
         0,
         0
        ],
        [
         "wasbs://w261-project@mids261project.blob.core.windows.net/2022_weather_combinations/",
         "2022_weather_combinations/",
         0,
         1712776270000
        ],
        [
         "wasbs://w261-project@mids261project.blob.core.windows.net/2022_weather_final/",
         "2022_weather_final/",
         0,
         1712787262000
        ],
        [
         "wasbs://w261-project@mids261project.blob.core.windows.net/GBT_1_results/",
         "GBT_1_results/",
         0,
         1712779438000
        ],
        [
         "wasbs://w261-project@mids261project.blob.core.windows.net/TP/",
         "TP/",
         0,
         1721078628000
        ],
        [
         "wasbs://w261-project@mids261project.blob.core.windows.net/airports.csv",
         "airports.csv",
         669174,
         1710813321000
        ],
        [
         "wasbs://w261-project@mids261project.blob.core.windows.net/baseline_12M_data_checkpoint/",
         "baseline_12M_data_checkpoint/",
         0,
         1711653825000
        ],
        [
         "wasbs://w261-project@mids261project.blob.core.windows.net/baseline_12M_data_test/",
         "baseline_12M_data_test/",
         0,
         1712363595000
        ],
        [
         "wasbs://w261-project@mids261project.blob.core.windows.net/baseline_12M_data_train/",
         "baseline_12M_data_train/",
         0,
         1712363497000
        ],
        [
         "wasbs://w261-project@mids261project.blob.core.windows.net/baseline_12M_data_train_downsampled/",
         "baseline_12M_data_train_downsampled/",
         0,
         1712363611000
        ],
        [
         "wasbs://w261-project@mids261project.blob.core.windows.net/baseline_12M_data_val/",
         "baseline_12M_data_val/",
         0,
         1712363545000
        ],
        [
         "wasbs://w261-project@mids261project.blob.core.windows.net/baseline_12M_data_val_downsampled/",
         "baseline_12M_data_val_downsampled/",
         0,
         1712363616000
        ],
        [
         "wasbs://w261-project@mids261project.blob.core.windows.net/baseline_12M_test_data_checkpoint/",
         "baseline_12M_test_data_checkpoint/",
         0,
         1711654419000
        ],
        [
         "wasbs://w261-project@mids261project.blob.core.windows.net/baseline_12M_val_data_checkpoint/",
         "baseline_12M_val_data_checkpoint/",
         0,
         1711611855000
        ],
        [
         "wasbs://w261-project@mids261project.blob.core.windows.net/baseline_1_12M_data_test/",
         "baseline_1_12M_data_test/",
         0,
         1712363626000
        ],
        [
         "wasbs://w261-project@mids261project.blob.core.windows.net/baseline_1_12M_data_train_downsampled/",
         "baseline_1_12M_data_train_downsampled/",
         0,
         1712363621000
        ],
        [
         "wasbs://w261-project@mids261project.blob.core.windows.net/baseline_1_12M_data_val_downsampled/",
         "baseline_1_12M_data_val_downsampled/",
         0,
         1712363623000
        ],
        [
         "wasbs://w261-project@mids261project.blob.core.windows.net/baseline_1_results/",
         "baseline_1_results/",
         0,
         1712377583000
        ],
        [
         "wasbs://w261-project@mids261project.blob.core.windows.net/baseline_1_test_eval_df/",
         "baseline_1_test_eval_df/",
         0,
         1712377525000
        ],
        [
         "wasbs://w261-project@mids261project.blob.core.windows.net/baseline_1_train_eval_df/",
         "baseline_1_train_eval_df/",
         0,
         1712377527000
        ],
        [
         "wasbs://w261-project@mids261project.blob.core.windows.net/baseline_2_12M_data_test/",
         "baseline_2_12M_data_test/",
         0,
         1712363636000
        ],
        [
         "wasbs://w261-project@mids261project.blob.core.windows.net/baseline_2_12M_data_train/",
         "baseline_2_12M_data_train/",
         0,
         1712119402000
        ],
        [
         "wasbs://w261-project@mids261project.blob.core.windows.net/baseline_2_12M_data_train_downsampled/",
         "baseline_2_12M_data_train_downsampled/",
         0,
         1712363631000
        ],
        [
         "wasbs://w261-project@mids261project.blob.core.windows.net/baseline_2_12M_data_val/",
         "baseline_2_12M_data_val/",
         0,
         1712119427000
        ],
        [
         "wasbs://w261-project@mids261project.blob.core.windows.net/baseline_2_12M_data_val_downsampled/",
         "baseline_2_12M_data_val_downsampled/",
         0,
         1712363633000
        ],
        [
         "wasbs://w261-project@mids261project.blob.core.windows.net/baseline_2_results/",
         "baseline_2_results/",
         0,
         1712376850000
        ],
        [
         "wasbs://w261-project@mids261project.blob.core.windows.net/baseline_2_test_eval_df/",
         "baseline_2_test_eval_df/",
         0,
         1712376784000
        ],
        [
         "wasbs://w261-project@mids261project.blob.core.windows.net/baseline_2_train_eval_df/",
         "baseline_2_train_eval_df/",
         0,
         1712376786000
        ],
        [
         "wasbs://w261-project@mids261project.blob.core.windows.net/baseline_3_12M_data_test/",
         "baseline_3_12M_data_test/",
         0,
         1712363646000
        ],
        [
         "wasbs://w261-project@mids261project.blob.core.windows.net/baseline_3_12M_data_train/",
         "baseline_3_12M_data_train/",
         0,
         1712120213000
        ],
        [
         "wasbs://w261-project@mids261project.blob.core.windows.net/baseline_3_12M_data_train_downsampled/",
         "baseline_3_12M_data_train_downsampled/",
         0,
         1712363641000
        ],
        [
         "wasbs://w261-project@mids261project.blob.core.windows.net/baseline_3_12M_data_val/",
         "baseline_3_12M_data_val/",
         0,
         1712120238000
        ],
        [
         "wasbs://w261-project@mids261project.blob.core.windows.net/baseline_3_12M_data_val_downsampled/",
         "baseline_3_12M_data_val_downsampled/",
         0,
         1712363642000
        ],
        [
         "wasbs://w261-project@mids261project.blob.core.windows.net/baseline_3_results/",
         "baseline_3_results/",
         0,
         1712531074000
        ],
        [
         "wasbs://w261-project@mids261project.blob.core.windows.net/baseline_3_test_eval_df/",
         "baseline_3_test_eval_df/",
         0,
         1712530970000
        ],
        [
         "wasbs://w261-project@mids261project.blob.core.windows.net/baseline_3_train_eval_df/",
         "baseline_3_train_eval_df/",
         0,
         1712530973000
        ],
        [
         "wasbs://w261-project@mids261project.blob.core.windows.net/baseline_4_12M_data_test/",
         "baseline_4_12M_data_test/",
         0,
         1712860516000
        ],
        [
         "wasbs://w261-project@mids261project.blob.core.windows.net/baseline_4_12M_data_train/",
         "baseline_4_12M_data_train/",
         0,
         1712860463000
        ],
        [
         "wasbs://w261-project@mids261project.blob.core.windows.net/baseline_4_12M_data_train_downsampled/",
         "baseline_4_12M_data_train_downsampled/",
         0,
         1712860536000
        ],
        [
         "wasbs://w261-project@mids261project.blob.core.windows.net/baseline_4_12M_data_val/",
         "baseline_4_12M_data_val/",
         0,
         1712860485000
        ],
        [
         "wasbs://w261-project@mids261project.blob.core.windows.net/baseline_4_12M_data_val_downsampled/",
         "baseline_4_12M_data_val_downsampled/",
         0,
         1712860541000
        ],
        [
         "wasbs://w261-project@mids261project.blob.core.windows.net/baseline_4_results/",
         "baseline_4_results/",
         0,
         1712382364000
        ],
        [
         "wasbs://w261-project@mids261project.blob.core.windows.net/baseline_4_test_eval_df/",
         "baseline_4_test_eval_df/",
         0,
         1712382238000
        ],
        [
         "wasbs://w261-project@mids261project.blob.core.windows.net/baseline_4_train_eval_df/",
         "baseline_4_train_eval_df/",
         0,
         1712382240000
        ],
        [
         "wasbs://w261-project@mids261project.blob.core.windows.net/baseline_5_12M_data_test/",
         "baseline_5_12M_data_test/",
         0,
         1712381143000
        ],
        [
         "wasbs://w261-project@mids261project.blob.core.windows.net/baseline_5_12M_data_train/",
         "baseline_5_12M_data_train/",
         0,
         1712381099000
        ],
        [
         "wasbs://w261-project@mids261project.blob.core.windows.net/baseline_5_12M_data_train_downsampled/",
         "baseline_5_12M_data_train_downsampled/",
         0,
         1712381149000
        ],
        [
         "wasbs://w261-project@mids261project.blob.core.windows.net/baseline_5_12M_data_val/",
         "baseline_5_12M_data_val/",
         0,
         1712381121000
        ],
        [
         "wasbs://w261-project@mids261project.blob.core.windows.net/baseline_5_12M_data_val_downsampled/",
         "baseline_5_12M_data_val_downsampled/",
         0,
         1712381153000
        ],
        [
         "wasbs://w261-project@mids261project.blob.core.windows.net/baseline_5_results/",
         "baseline_5_results/",
         0,
         1712373739000
        ],
        [
         "wasbs://w261-project@mids261project.blob.core.windows.net/baseline_5_test_eval_df/",
         "baseline_5_test_eval_df/",
         0,
         1712373647000
        ],
        [
         "wasbs://w261-project@mids261project.blob.core.windows.net/baseline_5_train_eval_df/",
         "baseline_5_train_eval_df/",
         0,
         1712373670000
        ],
        [
         "wasbs://w261-project@mids261project.blob.core.windows.net/baseline_6_12M_data_test/",
         "baseline_6_12M_data_test/",
         0,
         1712860593000
        ],
        [
         "wasbs://w261-project@mids261project.blob.core.windows.net/baseline_6_12M_data_train/",
         "baseline_6_12M_data_train/",
         0,
         1712860573000
        ],
        [
         "wasbs://w261-project@mids261project.blob.core.windows.net/baseline_6_12M_data_train_downsampled/",
         "baseline_6_12M_data_train_downsampled/",
         0,
         1712860597000
        ],
        [
         "wasbs://w261-project@mids261project.blob.core.windows.net/baseline_6_12M_data_val/",
         "baseline_6_12M_data_val/",
         0,
         1712860583000
        ],
        [
         "wasbs://w261-project@mids261project.blob.core.windows.net/baseline_6_12M_data_val_downsampled/",
         "baseline_6_12M_data_val_downsampled/",
         0,
         1712860621000
        ],
        [
         "wasbs://w261-project@mids261project.blob.core.windows.net/baseline_6_results/",
         "baseline_6_results/",
         0,
         1712382821000
        ],
        [
         "wasbs://w261-project@mids261project.blob.core.windows.net/baseline_6_test_eval_df/",
         "baseline_6_test_eval_df/",
         0,
         1712382762000
        ],
        [
         "wasbs://w261-project@mids261project.blob.core.windows.net/baseline_6_train_eval_df/",
         "baseline_6_train_eval_df/",
         0,
         1712382763000
        ],
        [
         "wasbs://w261-project@mids261project.blob.core.windows.net/baseline_lasso_results/",
         "baseline_lasso_results/",
         0,
         1712351138000
        ],
        [
         "wasbs://w261-project@mids261project.blob.core.windows.net/baseline_lasso_test_eval_df/",
         "baseline_lasso_test_eval_df/",
         0,
         1712351075000
        ],
        [
         "wasbs://w261-project@mids261project.blob.core.windows.net/baseline_lasso_train_eval_df/",
         "baseline_lasso_train_eval_df/",
         0,
         1712351077000
        ],
        [
         "wasbs://w261-project@mids261project.blob.core.windows.net/baseline_minmax_results/",
         "baseline_minmax_results/",
         0,
         1712862058000
        ],
        [
         "wasbs://w261-project@mids261project.blob.core.windows.net/baseline_minmax_test_eval_df/",
         "baseline_minmax_test_eval_df/",
         0,
         1712861964000
        ],
        [
         "wasbs://w261-project@mids261project.blob.core.windows.net/baseline_minmax_train_eval_df/",
         "baseline_minmax_train_eval_df/",
         0,
         1712861987000
        ],
        [
         "wasbs://w261-project@mids261project.blob.core.windows.net/baseline_no_reg_results/",
         "baseline_no_reg_results/",
         0,
         1712352425000
        ],
        [
         "wasbs://w261-project@mids261project.blob.core.windows.net/baseline_no_reg_test_eval_df/",
         "baseline_no_reg_test_eval_df/",
         0,
         1712352367000
        ],
        [
         "wasbs://w261-project@mids261project.blob.core.windows.net/baseline_no_reg_train_eval_df/",
         "baseline_no_reg_train_eval_df/",
         0,
         1712352368000
        ],
        [
         "wasbs://w261-project@mids261project.blob.core.windows.net/cleaned_weather_2015/",
         "cleaned_weather_2015/",
         0,
         1711915982000
        ],
        [
         "wasbs://w261-project@mids261project.blob.core.windows.net/cleaned_weather_all/",
         "cleaned_weather_all/",
         0,
         1712187608000
        ],
        [
         "wasbs://w261-project@mids261project.blob.core.windows.net/combined_data_1Y/",
         "combined_data_1Y/",
         0,
         1711074640000
        ],
        [
         "wasbs://w261-project@mids261project.blob.core.windows.net/combined_data_1y/",
         "combined_data_1y/",
         0,
         1711588406000
        ],
        [
         "wasbs://w261-project@mids261project.blob.core.windows.net/combined_data_2015/",
         "combined_data_2015/",
         0,
         1711929680000
        ],
        [
         "wasbs://w261-project@mids261project.blob.core.windows.net/combined_data_3m/",
         "combined_data_3m/",
         0,
         1711582950000
        ],
        [
         "wasbs://w261-project@mids261project.blob.core.windows.net/combined_data_all/",
         "combined_data_all/",
         0,
         1712230113000
        ],
        [
         "wasbs://w261-project@mids261project.blob.core.windows.net/delayed_1_binned_median/",
         "delayed_1_binned_median/",
         0,
         1713537142000
        ],
        [
         "wasbs://w261-project@mids261project.blob.core.windows.net/delayed_arr_binned_median/",
         "delayed_arr_binned_median/",
         0,
         1712006179000
        ],
        [
         "wasbs://w261-project@mids261project.blob.core.windows.net/df_flights12_null_counts_df/",
         "df_flights12_null_counts_df/",
         0,
         1713536561000
        ],
        [
         "wasbs://w261-project@mids261project.blob.core.windows.net/df_test_1y/",
         "df_test_1y/",
         0,
         1712280124000
        ],
        [
         "wasbs://w261-project@mids261project.blob.core.windows.net/df_train_1y/",
         "df_train_1y/",
         0,
         1712279807000
        ],
        [
         "wasbs://w261-project@mids261project.blob.core.windows.net/df_train_1y_nulls/",
         "df_train_1y_nulls/",
         0,
         1713537133000
        ],
        [
         "wasbs://w261-project@mids261project.blob.core.windows.net/df_weather3_nulls/",
         "df_weather3_nulls/",
         0,
         1711888748000
        ],
        [
         "wasbs://w261-project@mids261project.blob.core.windows.net/df_weather_2015_nulls/",
         "df_weather_2015_nulls/",
         0,
         1712138288000
        ],
        [
         "wasbs://w261-project@mids261project.blob.core.windows.net/df_weather_2015_unique_values/",
         "df_weather_2015_unique_values/",
         0,
         1712138439000
        ],
        [
         "wasbs://w261-project@mids261project.blob.core.windows.net/distance_binned/",
         "distance_binned/",
         0,
         1712091918000
        ],
        [
         "wasbs://w261-project@mids261project.blob.core.windows.net/distance_binned_df_train_1y/",
         "distance_binned_df_train_1y/",
         0,
         1713537141000
        ],
        [
         "wasbs://w261-project@mids261project.blob.core.windows.net/distance_binned_self_otpw/",
         "distance_binned_self_otpw/",
         0,
         1712006177000
        ],
        [
         "wasbs://w261-project@mids261project.blob.core.windows.net/distance_to_neighbor_binned/",
         "distance_to_neighbor_binned/",
         0,
         1712138458000
        ],
        [
         "wasbs://w261-project@mids261project.blob.core.windows.net/ensemble_test_false_negatives/",
         "ensemble_test_false_negatives/",
         0,
         1713312685000
        ],
        [
         "wasbs://w261-project@mids261project.blob.core.windows.net/ensemble_test_false_positives/",
         "ensemble_test_false_positives/",
         0,
         1713312743000
        ],
        [
         "wasbs://w261-project@mids261project.blob.core.windows.net/ensemble_test_predictions/",
         "ensemble_test_predictions/",
         0,
         1713380420000
        ],
        [
         "wasbs://w261-project@mids261project.blob.core.windows.net/ensemble_test_preds/",
         "ensemble_test_preds/",
         0,
         1713247319000
        ],
        [
         "wasbs://w261-project@mids261project.blob.core.windows.net/ensemble_test_true_negatives/",
         "ensemble_test_true_negatives/",
         0,
         1713312840000
        ],
        [
         "wasbs://w261-project@mids261project.blob.core.windows.net/ensemble_test_true_positives/",
         "ensemble_test_true_positives/",
         0,
         1713312793000
        ],
        [
         "wasbs://w261-project@mids261project.blob.core.windows.net/ensemble_train_preds/",
         "ensemble_train_preds/",
         0,
         1713247220000
        ],
        [
         "wasbs://w261-project@mids261project.blob.core.windows.net/ensemble_val_preds/",
         "ensemble_val_preds/",
         0,
         1713247283000
        ],
        [
         "wasbs://w261-project@mids261project.blob.core.windows.net/feature_engineer_checkpoint/",
         "feature_engineer_checkpoint/",
         0,
         1712275825000
        ],
        [
         "wasbs://w261-project@mids261project.blob.core.windows.net/full_feature_engineering_checkpoint/",
         "full_feature_engineering_checkpoint/",
         0,
         1713235911000
        ],
        [
         "wasbs://w261-project@mids261project.blob.core.windows.net/full_feature_engineering_checkpoint1/",
         "full_feature_engineering_checkpoint1/",
         0,
         1713222514000
        ],
        [
         "wasbs://w261-project@mids261project.blob.core.windows.net/full_feature_engineering_checkpoint1_LLM/",
         "full_feature_engineering_checkpoint1_LLM/",
         0,
         1721122070000
        ],
        [
         "wasbs://w261-project@mids261project.blob.core.windows.net/full_feature_engineering_checkpoint2/",
         "full_feature_engineering_checkpoint2/",
         0,
         1713223020000
        ],
        [
         "wasbs://w261-project@mids261project.blob.core.windows.net/full_feature_engineering_checkpoint3/",
         "full_feature_engineering_checkpoint3/",
         0,
         1713223252000
        ],
        [
         "wasbs://w261-project@mids261project.blob.core.windows.net/full_feature_engineering_checkpoint4/",
         "full_feature_engineering_checkpoint4/",
         0,
         1713223434000
        ],
        [
         "wasbs://w261-project@mids261project.blob.core.windows.net/full_feature_engineering_checkpoint5/",
         "full_feature_engineering_checkpoint5/",
         0,
         1713231475000
        ],
        [
         "wasbs://w261-project@mids261project.blob.core.windows.net/full_feature_engineering_checkpoint6/",
         "full_feature_engineering_checkpoint6/",
         0,
         1713231777000
        ],
        [
         "wasbs://w261-project@mids261project.blob.core.windows.net/gbt_1_test_eval_df/",
         "gbt_1_test_eval_df/",
         0,
         1712779217000
        ],
        [
         "wasbs://w261-project@mids261project.blob.core.windows.net/gbt_1_train_eval_df/",
         "gbt_1_train_eval_df/",
         0,
         1712779239000
        ],
        [
         "wasbs://w261-project@mids261project.blob.core.windows.net/gbt_2015_early_stop_results/",
         "gbt_2015_early_stop_results/",
         0,
         1712984590000
        ],
        [
         "wasbs://w261-project@mids261project.blob.core.windows.net/gbt_2015_early_stop_test_eval_df/",
         "gbt_2015_early_stop_test_eval_df/",
         0,
         1712984560000
        ],
        [
         "wasbs://w261-project@mids261project.blob.core.windows.net/gbt_2015_early_stop_train_eval_df/",
         "gbt_2015_early_stop_train_eval_df/",
         0,
         1712984563000
        ],
        [
         "wasbs://w261-project@mids261project.blob.core.windows.net/gbt_2015_results/",
         "gbt_2015_results/",
         0,
         1712954594000
        ],
        [
         "wasbs://w261-project@mids261project.blob.core.windows.net/gbt_2015_test_eval_df/",
         "gbt_2015_test_eval_df/",
         0,
         1712954566000
        ],
        [
         "wasbs://w261-project@mids261project.blob.core.windows.net/gbt_2015_train_eval_df/",
         "gbt_2015_train_eval_df/",
         0,
         1712954568000
        ],
        [
         "wasbs://w261-project@mids261project.blob.core.windows.net/gbt_early_stop_2015_results/",
         "gbt_early_stop_2015_results/",
         0,
         1713156217000
        ],
        [
         "wasbs://w261-project@mids261project.blob.core.windows.net/gbt_early_stop_2015_test_eval_df/",
         "gbt_early_stop_2015_test_eval_df/",
         0,
         1713156190000
        ],
        [
         "wasbs://w261-project@mids261project.blob.core.windows.net/gbt_early_stop_2015_train_eval_df/",
         "gbt_early_stop_2015_train_eval_df/",
         0,
         1713156192000
        ],
        [
         "wasbs://w261-project@mids261project.blob.core.windows.net/gbt_early_stop_20162018_results/",
         "gbt_early_stop_20162018_results/",
         0,
         1713304428000
        ],
        [
         "wasbs://w261-project@mids261project.blob.core.windows.net/gbt_early_stop_20162018_test_eval_df/",
         "gbt_early_stop_20162018_test_eval_df/",
         0,
         1713304365000
        ],
        [
         "wasbs://w261-project@mids261project.blob.core.windows.net/gbt_early_stop_20162018_train_eval_df/",
         "gbt_early_stop_20162018_train_eval_df/",
         0,
         1713304367000
        ],
        [
         "wasbs://w261-project@mids261project.blob.core.windows.net/gbt_early_stop_2016_results/",
         "gbt_early_stop_2016_results/",
         0,
         1713117274000
        ],
        [
         "wasbs://w261-project@mids261project.blob.core.windows.net/gbt_early_stop_2016_test_eval_df/",
         "gbt_early_stop_2016_test_eval_df/",
         0,
         1713117240000
        ],
        [
         "wasbs://w261-project@mids261project.blob.core.windows.net/gbt_early_stop_2016_train_eval_df/",
         "gbt_early_stop_2016_train_eval_df/",
         0,
         1713117244000
        ],
        [
         "wasbs://w261-project@mids261project.blob.core.windows.net/gbt_early_stop_2017_results/",
         "gbt_early_stop_2017_results/",
         0,
         1713148992000
        ],
        [
         "wasbs://w261-project@mids261project.blob.core.windows.net/gbt_early_stop_2017_test_eval_df/",
         "gbt_early_stop_2017_test_eval_df/",
         0,
         1713148956000
        ],
        [
         "wasbs://w261-project@mids261project.blob.core.windows.net/gbt_early_stop_2017_train_eval_df/",
         "gbt_early_stop_2017_train_eval_df/",
         0,
         1713148959000
        ],
        [
         "wasbs://w261-project@mids261project.blob.core.windows.net/gbt_early_stop_2018_results/",
         "gbt_early_stop_2018_results/",
         0,
         1713151704000
        ],
        [
         "wasbs://w261-project@mids261project.blob.core.windows.net/gbt_early_stop_2018_test_eval_df/",
         "gbt_early_stop_2018_test_eval_df/",
         0,
         1713151668000
        ],
        [
         "wasbs://w261-project@mids261project.blob.core.windows.net/gbt_early_stop_2018_train_eval_df/",
         "gbt_early_stop_2018_train_eval_df/",
         0,
         1713151672000
        ],
        [
         "wasbs://w261-project@mids261project.blob.core.windows.net/gbt_test_predictions/",
         "gbt_test_predictions/",
         0,
         1713315604000
        ],
        [
         "wasbs://w261-project@mids261project.blob.core.windows.net/geomap_airport_ids/",
         "geomap_airport_ids/",
         0,
         1712453435000
        ],
        [
         "wasbs://w261-project@mids261project.blob.core.windows.net/geomap_airport_weights/",
         "geomap_airport_weights/",
         0,
         1712453429000
        ],
        [
         "wasbs://w261-project@mids261project.blob.core.windows.net/imputed_medians_df_train_1y/",
         "imputed_medians_df_train_1y/",
         0,
         1712279249000
        ],
        [
         "wasbs://w261-project@mids261project.blob.core.windows.net/lr_2015_results/",
         "lr_2015_results/",
         0,
         1713152941000
        ],
        [
         "wasbs://w261-project@mids261project.blob.core.windows.net/lr_2015_test_eval_df/",
         "lr_2015_test_eval_df/",
         0,
         1713152919000
        ],
        [
         "wasbs://w261-project@mids261project.blob.core.windows.net/lr_2015_train_eval_df/",
         "lr_2015_train_eval_df/",
         0,
         1713152921000
        ],
        [
         "wasbs://w261-project@mids261project.blob.core.windows.net/lr_20162018_results/",
         "lr_20162018_results/",
         0,
         1713306610000
        ],
        [
         "wasbs://w261-project@mids261project.blob.core.windows.net/lr_20162018_test_eval_df/",
         "lr_20162018_test_eval_df/",
         0,
         1713306539000
        ],
        [
         "wasbs://w261-project@mids261project.blob.core.windows.net/lr_20162018_train_eval_df/",
         "lr_20162018_train_eval_df/",
         0,
         1713306542000
        ],
        [
         "wasbs://w261-project@mids261project.blob.core.windows.net/lr_2016_results/",
         "lr_2016_results/",
         0,
         1713115801000
        ],
        [
         "wasbs://w261-project@mids261project.blob.core.windows.net/lr_2016_test_eval_df/",
         "lr_2016_test_eval_df/",
         0,
         1713115728000
        ],
        [
         "wasbs://w261-project@mids261project.blob.core.windows.net/lr_2016_train_eval_df/",
         "lr_2016_train_eval_df/",
         0,
         1713115744000
        ],
        [
         "wasbs://w261-project@mids261project.blob.core.windows.net/lr_2017_results/",
         "lr_2017_results/",
         0,
         1713146367000
        ],
        [
         "wasbs://w261-project@mids261project.blob.core.windows.net/lr_2017_test_eval_df/",
         "lr_2017_test_eval_df/",
         0,
         1713146339000
        ],
        [
         "wasbs://w261-project@mids261project.blob.core.windows.net/lr_2017_train_eval_df/",
         "lr_2017_train_eval_df/",
         0,
         1713146341000
        ],
        [
         "wasbs://w261-project@mids261project.blob.core.windows.net/lr_2018_results/",
         "lr_2018_results/",
         0,
         1713149793000
        ],
        [
         "wasbs://w261-project@mids261project.blob.core.windows.net/lr_2018_test_eval_df/",
         "lr_2018_test_eval_df/",
         0,
         1713149764000
        ],
        [
         "wasbs://w261-project@mids261project.blob.core.windows.net/lr_2018_train_eval_df/",
         "lr_2018_train_eval_df/",
         0,
         1713149767000
        ],
        [
         "wasbs://w261-project@mids261project.blob.core.windows.net/nn_2015_test_eval_df/",
         "nn_2015_test_eval_df/",
         0,
         1713308893000
        ],
        [
         "wasbs://w261-project@mids261project.blob.core.windows.net/nn_2015_train_eval_df/",
         "nn_2015_train_eval_df/",
         0,
         1713308860000
        ],
        [
         "wasbs://w261-project@mids261project.blob.core.windows.net/nn_2016_test_eval_df/",
         "nn_2016_test_eval_df/",
         0,
         1713308900000
        ],
        [
         "wasbs://w261-project@mids261project.blob.core.windows.net/nn_2016_train_eval_df/",
         "nn_2016_train_eval_df/",
         0,
         1713308871000
        ],
        [
         "wasbs://w261-project@mids261project.blob.core.windows.net/nn_2017_test_eval_df/",
         "nn_2017_test_eval_df/",
         0,
         1713308905000
        ],
        [
         "wasbs://w261-project@mids261project.blob.core.windows.net/nn_2017_train_eval_df/",
         "nn_2017_train_eval_df/",
         0,
         1713308880000
        ],
        [
         "wasbs://w261-project@mids261project.blob.core.windows.net/nn_2018_test_eval_df/",
         "nn_2018_test_eval_df/",
         0,
         1713308910000
        ],
        [
         "wasbs://w261-project@mids261project.blob.core.windows.net/nn_2018_train_eval_df/",
         "nn_2018_train_eval_df/",
         0,
         1713308888000
        ],
        [
         "wasbs://w261-project@mids261project.blob.core.windows.net/nn_small_2015_test_eval_df/",
         "nn_small_2015_test_eval_df/",
         0,
         1713338136000
        ],
        [
         "wasbs://w261-project@mids261project.blob.core.windows.net/nn_small_2015_train_eval_df/",
         "nn_small_2015_train_eval_df/",
         0,
         1713338123000
        ],
        [
         "wasbs://w261-project@mids261project.blob.core.windows.net/nn_small_2016_test_eval_df/",
         "nn_small_2016_test_eval_df/",
         0,
         1713338138000
        ],
        [
         "wasbs://w261-project@mids261project.blob.core.windows.net/nn_small_2016_train_eval_df/",
         "nn_small_2016_train_eval_df/",
         0,
         1713338127000
        ],
        [
         "wasbs://w261-project@mids261project.blob.core.windows.net/nn_small_2017_test_eval_df/",
         "nn_small_2017_test_eval_df/",
         0,
         1713338141000
        ],
        [
         "wasbs://w261-project@mids261project.blob.core.windows.net/nn_small_2017_train_eval_df/",
         "nn_small_2017_train_eval_df/",
         0,
         1713338130000
        ],
        [
         "wasbs://w261-project@mids261project.blob.core.windows.net/nn_small_2018_test_eval_df/",
         "nn_small_2018_test_eval_df/",
         0,
         1713338143000
        ],
        [
         "wasbs://w261-project@mids261project.blob.core.windows.net/nn_small_2018_train_eval_df/",
         "nn_small_2018_train_eval_df/",
         0,
         1713338133000
        ],
        [
         "wasbs://w261-project@mids261project.blob.core.windows.net/normalized_df_test_1y/",
         "normalized_df_test_1y/",
         0,
         1712281063000
        ],
        [
         "wasbs://w261-project@mids261project.blob.core.windows.net/normalized_df_train_1y/",
         "normalized_df_train_1y/",
         0,
         1712281029000
        ],
        [
         "wasbs://w261-project@mids261project.blob.core.windows.net/null_counts_df/",
         "null_counts_df/",
         0,
         1713536689000
        ],
        [
         "wasbs://w261-project@mids261project.blob.core.windows.net/phase_3_aggregate_results/",
         "phase_3_aggregate_results/",
         0,
         1713477049000
        ],
        [
         "wasbs://w261-project@mids261project.blob.core.windows.net/random_forest_2015_results/",
         "random_forest_2015_results/",
         0,
         1713153650000
        ],
        [
         "wasbs://w261-project@mids261project.blob.core.windows.net/random_forest_2015_test_eval_df/",
         "random_forest_2015_test_eval_df/",
         0,
         1713153623000
        ],
        [
         "wasbs://w261-project@mids261project.blob.core.windows.net/random_forest_2015_train_eval_df/",
         "random_forest_2015_train_eval_df/",
         0,
         1713153627000
        ],
        [
         "wasbs://w261-project@mids261project.blob.core.windows.net/random_forest_20162018_results/",
         "random_forest_20162018_results/",
         0,
         1713305798000
        ],
        [
         "wasbs://w261-project@mids261project.blob.core.windows.net/random_forest_20162018_test_eval_df/",
         "random_forest_20162018_test_eval_df/",
         0,
         1713305713000
        ],
        [
         "wasbs://w261-project@mids261project.blob.core.windows.net/random_forest_20162018_test_eval_df_LLM/",
         "random_forest_20162018_test_eval_df_LLM/",
         0,
         1721336415000
        ],
        [
         "wasbs://w261-project@mids261project.blob.core.windows.net/random_forest_20162018_train_eval_df/",
         "random_forest_20162018_train_eval_df/",
         0,
         1713305732000
        ],
        [
         "wasbs://w261-project@mids261project.blob.core.windows.net/random_forest_20162018_train_eval_df_LLM/",
         "random_forest_20162018_train_eval_df_LLM/",
         0,
         1721336418000
        ],
        [
         "wasbs://w261-project@mids261project.blob.core.windows.net/random_forest_2016_results/",
         "random_forest_2016_results/",
         0,
         1713116374000
        ],
        [
         "wasbs://w261-project@mids261project.blob.core.windows.net/random_forest_2016_test_eval_df/",
         "random_forest_2016_test_eval_df/",
         0,
         1713116343000
        ],
        [
         "wasbs://w261-project@mids261project.blob.core.windows.net/random_forest_2016_train_eval_df/",
         "random_forest_2016_train_eval_df/",
         0,
         1713116346000
        ],
        [
         "wasbs://w261-project@mids261project.blob.core.windows.net/random_forest_2017_results/",
         "random_forest_2017_results/",
         0,
         1713147592000
        ],
        [
         "wasbs://w261-project@mids261project.blob.core.windows.net/random_forest_2017_test_eval_df/",
         "random_forest_2017_test_eval_df/",
         0,
         1713147562000
        ],
        [
         "wasbs://w261-project@mids261project.blob.core.windows.net/random_forest_2017_train_eval_df/",
         "random_forest_2017_train_eval_df/",
         0,
         1713147565000
        ],
        [
         "wasbs://w261-project@mids261project.blob.core.windows.net/random_forest_2018_results/",
         "random_forest_2018_results/",
         0,
         1713150828000
        ],
        [
         "wasbs://w261-project@mids261project.blob.core.windows.net/random_forest_2018_test_eval_df/",
         "random_forest_2018_test_eval_df/",
         0,
         1713150797000
        ],
        [
         "wasbs://w261-project@mids261project.blob.core.windows.net/random_forest_2018_train_eval_df/",
         "random_forest_2018_train_eval_df/",
         0,
         1713150800000
        ],
        [
         "wasbs://w261-project@mids261project.blob.core.windows.net/self_otpw_nulls/",
         "self_otpw_nulls/",
         0,
         1712006154000
        ],
        [
         "wasbs://w261-project@mids261project.blob.core.windows.net/test/",
         "test/",
         0,
         1710295358000
        ],
        [
         "wasbs://w261-project@mids261project.blob.core.windows.net/tree_1_results/",
         "tree_1_results/",
         0,
         1712536246000
        ],
        [
         "wasbs://w261-project@mids261project.blob.core.windows.net/tree_1_test_eval_df/",
         "tree_1_test_eval_df/",
         0,
         1712535878000
        ],
        [
         "wasbs://w261-project@mids261project.blob.core.windows.net/tree_1_train_eval_df/",
         "tree_1_train_eval_df/",
         0,
         1712535881000
        ],
        [
         "wasbs://w261-project@mids261project.blob.core.windows.net/weather_2022/",
         "weather_2022/",
         0,
         0
        ]
       ],
       "datasetInfos": [],
       "dbfsResultPath": null,
       "isJsonSchema": true,
       "metadata": {},
       "overflow": false,
       "plotOptions": {
        "customPlotOptions": {},
        "displayType": "table",
        "pivotAggregation": null,
        "pivotColumns": null,
        "xColumns": null,
        "yColumns": null
       },
       "removedWidgets": [],
       "schema": [
        {
         "metadata": "{}",
         "name": "path",
         "type": "\"string\""
        },
        {
         "metadata": "{}",
         "name": "name",
         "type": "\"string\""
        },
        {
         "metadata": "{}",
         "name": "size",
         "type": "\"long\""
        },
        {
         "metadata": "{}",
         "name": "modificationTime",
         "type": "\"long\""
        }
       ],
       "type": "table"
      }
     },
     "output_type": "display_data"
    }
   ],
   "source": [
    "'''\n",
    "This cell block imports all necessary libraries and sets up Spark environment \n",
    "'''\n",
    "\n",
    "from datetime import date\n",
    "from hyperopt import hp\n",
    "from graphframes import GraphFrame\n",
    "from hyperopt import fmin, tpe, Trials, SparkTrials, hp\n",
    "from math import log10\n",
    "from matplotlib import cm\n",
    "from matplotlib.ticker import FuncFormatter\n",
    "from pyspark.ml import Pipeline\n",
    "from pyspark.ml.feature import VectorAssembler, StringIndexer, Imputer, MinMaxScaler\n",
    "from pyspark.ml.classification import LogisticRegression, RandomForestClassifier\n",
    "from pyspark.ml.evaluation import BinaryClassificationEvaluator\n",
    "from pyspark.ml.evaluation import MulticlassClassificationEvaluator\n",
    "from pyspark.mllib.evaluation import MulticlassMetrics\n",
    "from pyspark.sql.functions import col, like, when, pandas_udf\n",
    "from pyspark.sql.types import FloatType\n",
    "from pyspark.sql.window import Window\n",
    "from random_forest_run_folds import run_fold_evaluation\n",
    "\n",
    "import datetime\n",
    "import holidays\n",
    "import matplotlib.colors as mcolors\n",
    "import matplotlib.pyplot as plt\n",
    "import matplotlib.ticker as mtick\n",
    "import mlflow\n",
    "import mlflow.spark\n",
    "import numpy as np\n",
    "import networkx as nx\n",
    "import pandas as pd\n",
    "import pyspark.sql.functions as F\n",
    "import seaborn as sns\n",
    "import time\n",
    "import warnings\n",
    "\n",
    "pd.set_option('display.max_columns', None)\n",
    "\n",
    "team_blob_url = \"wasbs://w261-project@mids261project.blob.core.windows.net\"\n",
    "\n",
    "display(dbutils.fs.ls(team_blob_url))\n",
    "\n",
    "# Choose to read or run/write files\n",
    "READ = True\n"
   ]
  },
  {
   "cell_type": "markdown",
   "metadata": {
    "application/vnd.databricks.v1+cell": {
     "cellMetadata": {
      "byteLimit": 2048000,
      "rowLimit": 10000
     },
     "inputWidgets": {},
     "nuid": "f84a3ca7-2386-4d60-b9b3-465f4410b538",
     "showTitle": false,
     "title": ""
    }
   },
   "source": [
    "## Feature Engineering"
   ]
  },
  {
   "cell_type": "code",
   "execution_count": 0,
   "metadata": {
    "application/vnd.databricks.v1+cell": {
     "cellMetadata": {
      "byteLimit": 2048000,
      "rowLimit": 10000
     },
     "inputWidgets": {},
     "nuid": "1cdc37b3-c4bf-4ee9-bc91-f2106f7b5de2",
     "showTitle": true,
     "title": ""
    }
   },
   "outputs": [
    {
     "output_type": "display_data",
     "data": {
      "text/html": [
       "<style scoped>\n",
       "  .table-result-container {\n",
       "    max-height: 300px;\n",
       "    overflow: auto;\n",
       "  }\n",
       "  table, th, td {\n",
       "    border: 1px solid black;\n",
       "    border-collapse: collapse;\n",
       "  }\n",
       "  th, td {\n",
       "    padding: 5px;\n",
       "  }\n",
       "  th {\n",
       "    text-align: left;\n",
       "  }\n",
       "</style><div class='table-result-container'><table class='table-result'><thead style='background-color: white'><tr><th>summary</th><th>FL_DATE</th></tr></thead><tbody><tr><td>count</td><td>30893868</td></tr><tr><td>mean</td><td>null</td></tr><tr><td>stddev</td><td>null</td></tr><tr><td>min</td><td>2015-01-01</td></tr><tr><td>max</td><td>2019-12-31</td></tr></tbody></table></div>"
      ]
     },
     "metadata": {
      "application/vnd.databricks.v1+output": {
       "addedWidgets": {},
       "aggData": [],
       "aggError": "",
       "aggOverflow": false,
       "aggSchema": [],
       "aggSeriesLimitReached": false,
       "aggType": "",
       "arguments": {},
       "columnCustomDisplayInfos": {},
       "data": [
        [
         "count",
         "30893868"
        ],
        [
         "mean",
         null
        ],
        [
         "stddev",
         null
        ],
        [
         "min",
         "2015-01-01"
        ],
        [
         "max",
         "2019-12-31"
        ]
       ],
       "datasetInfos": [],
       "dbfsResultPath": null,
       "isJsonSchema": true,
       "metadata": {},
       "overflow": false,
       "plotOptions": {
        "customPlotOptions": {},
        "displayType": "table",
        "pivotAggregation": null,
        "pivotColumns": null,
        "xColumns": null,
        "yColumns": null
       },
       "removedWidgets": [],
       "schema": [
        {
         "metadata": "{}",
         "name": "summary",
         "type": "\"string\""
        },
        {
         "metadata": "{}",
         "name": "FL_DATE",
         "type": "\"string\""
        }
       ],
       "type": "table"
      }
     },
     "output_type": "display_data"
    },
    {
     "output_type": "display_data",
     "data": {
      "text/html": [
       "<style scoped>\n",
       "  .table-result-container {\n",
       "    max-height: 300px;\n",
       "    overflow: auto;\n",
       "  }\n",
       "  table, th, td {\n",
       "    border: 1px solid black;\n",
       "    border-collapse: collapse;\n",
       "  }\n",
       "  th, td {\n",
       "    padding: 5px;\n",
       "  }\n",
       "  th {\n",
       "    text-align: left;\n",
       "  }\n",
       "</style><div class='table-result-container'><table class='table-result'><thead style='background-color: white'><tr><th>OP_CARRIER_AIRLINE_ID_null_percentage</th><th>TAIL_NUM_null_percentage</th><th>OP_CARRIER_FL_NUM_null_percentage</th><th>ORIGIN_null_percentage</th><th>DEST_null_percentage</th><th>scheduled_departure_time_utc_null_percentage</th><th>arr_time_measured_from_2hr_null_percentage</th><th>time_measured_from_2hr_null_percentage</th><th>YEAR_null_percentage</th><th>QUARTER_null_percentage</th><th>MONTH_null_percentage</th><th>DAY_OF_MONTH_null_percentage</th><th>DAY_OF_WEEK_null_percentage</th><th>FL_DATE_null_percentage</th><th>OP_UNIQUE_CARRIER_null_percentage</th><th>OP_CARRIER_null_percentage</th><th>ORIGIN_AIRPORT_ID_null_percentage</th><th>ORIGIN_AIRPORT_SEQ_ID_null_percentage</th><th>ORIGIN_CITY_MARKET_ID_null_percentage</th><th>ORIGIN_CITY_NAME_null_percentage</th><th>ORIGIN_STATE_ABR_null_percentage</th><th>ORIGIN_STATE_FIPS_null_percentage</th><th>ORIGIN_STATE_NM_null_percentage</th><th>ORIGIN_WAC_null_percentage</th><th>DEST_AIRPORT_ID_null_percentage</th><th>DEST_AIRPORT_SEQ_ID_null_percentage</th><th>DEST_CITY_MARKET_ID_null_percentage</th><th>DEST_CITY_NAME_null_percentage</th><th>DEST_STATE_ABR_null_percentage</th><th>DEST_STATE_FIPS_null_percentage</th><th>DEST_STATE_NM_null_percentage</th><th>DEST_WAC_null_percentage</th><th>CRS_DEP_TIME_null_percentage</th><th>DEP_TIME_null_percentage</th><th>DEP_DELAY_null_percentage</th><th>DEP_DELAY_NEW_null_percentage</th><th>DEP_DEL15_null_percentage</th><th>DEP_DELAY_GROUP_null_percentage</th><th>DEP_TIME_BLK_null_percentage</th><th>TAXI_OUT_null_percentage</th><th>WHEELS_OFF_null_percentage</th><th>WHEELS_ON_null_percentage</th><th>TAXI_IN_null_percentage</th><th>CRS_ARR_TIME_null_percentage</th><th>ARR_TIME_null_percentage</th><th>ARR_DELAY_null_percentage</th><th>ARR_DELAY_NEW_null_percentage</th><th>ARR_DEL15_null_percentage</th><th>ARR_DELAY_GROUP_null_percentage</th><th>ARR_TIME_BLK_null_percentage</th><th>CANCELLED_null_percentage</th><th>CANCELLATION_CODE_null_percentage</th><th>DIVERTED_null_percentage</th><th>CRS_ELAPSED_TIME_null_percentage</th><th>ACTUAL_ELAPSED_TIME_null_percentage</th><th>AIR_TIME_null_percentage</th><th>FLIGHTS_null_percentage</th><th>DISTANCE_null_percentage</th><th>DISTANCE_GROUP_null_percentage</th><th>CARRIER_DELAY_null_percentage</th><th>WEATHER_DELAY_null_percentage</th><th>NAS_DELAY_null_percentage</th><th>SECURITY_DELAY_null_percentage</th><th>LATE_AIRCRAFT_DELAY_null_percentage</th><th>FIRST_DEP_TIME_null_percentage</th><th>TOTAL_ADD_GTIME_null_percentage</th><th>LONGEST_ADD_GTIME_null_percentage</th><th>DIV_AIRPORT_LANDINGS_null_percentage</th><th>DIV_REACHED_DEST_null_percentage</th><th>DIV_ACTUAL_ELAPSED_TIME_null_percentage</th><th>DIV_ARR_DELAY_null_percentage</th><th>DIV_DISTANCE_null_percentage</th><th>DIV1_AIRPORT_null_percentage</th><th>DIV1_AIRPORT_ID_null_percentage</th><th>DIV1_AIRPORT_SEQ_ID_null_percentage</th><th>DIV1_WHEELS_ON_null_percentage</th><th>DIV1_TOTAL_GTIME_null_percentage</th><th>DIV1_LONGEST_GTIME_null_percentage</th><th>DIV1_WHEELS_OFF_null_percentage</th><th>DIV1_TAIL_NUM_null_percentage</th><th>DIV2_AIRPORT_null_percentage</th><th>DIV2_AIRPORT_ID_null_percentage</th><th>DIV2_AIRPORT_SEQ_ID_null_percentage</th><th>DIV2_WHEELS_ON_null_percentage</th><th>DIV2_TOTAL_GTIME_null_percentage</th><th>DIV2_LONGEST_GTIME_null_percentage</th><th>DIV2_WHEELS_OFF_null_percentage</th><th>DIV2_TAIL_NUM_null_percentage</th><th>DIV3_AIRPORT_null_percentage</th><th>DIV3_AIRPORT_ID_null_percentage</th><th>DIV3_AIRPORT_SEQ_ID_null_percentage</th><th>DIV3_WHEELS_ON_null_percentage</th><th>DIV3_TOTAL_GTIME_null_percentage</th><th>DIV3_LONGEST_GTIME_null_percentage</th><th>DIV3_WHEELS_OFF_null_percentage</th><th>DIV3_TAIL_NUM_null_percentage</th><th>DIV4_AIRPORT_null_percentage</th><th>DIV4_AIRPORT_ID_null_percentage</th><th>DIV4_AIRPORT_SEQ_ID_null_percentage</th><th>DIV4_WHEELS_ON_null_percentage</th><th>DIV4_TOTAL_GTIME_null_percentage</th><th>DIV4_LONGEST_GTIME_null_percentage</th><th>DIV4_WHEELS_OFF_null_percentage</th><th>DIV4_TAIL_NUM_null_percentage</th><th>DIV5_AIRPORT_null_percentage</th><th>DIV5_AIRPORT_ID_null_percentage</th><th>DIV5_AIRPORT_SEQ_ID_null_percentage</th><th>DIV5_WHEELS_ON_null_percentage</th><th>DIV5_TOTAL_GTIME_null_percentage</th><th>DIV5_LONGEST_GTIME_null_percentage</th><th>DIV5_WHEELS_OFF_null_percentage</th><th>DIV5_TAIL_NUM_null_percentage</th><th>departure_iata_code_null_percentage</th><th>departure_airport_name_null_percentage</th><th>departure_gps_code_null_percentage</th><th>departure_airport_type_null_percentage</th><th>departure_weather_station_lat_null_percentage</th><th>departure_weather_station_lon_null_percentage</th><th>departure_weather_station_id_null_percentage</th><th>departure_iso_country_null_percentage</th><th>departure_timezone_null_percentage</th><th>arrival_iata_code_null_percentage</th><th>arrival_airport_name_null_percentage</th><th>arrival_gps_code_null_percentage</th><th>arrival_airport_type_null_percentage</th><th>arrival_weather_station_lat_null_percentage</th><th>arrival_weather_station_lon_null_percentage</th><th>arrival_weather_station_id_null_percentage</th><th>arrival_iso_country_null_percentage</th><th>arrival_timezone_null_percentage</th><th>scheduled_dept_time_null_percentage</th><th>scheduled_arr_time_null_percentage</th><th>scheduled_departure_time_local_null_percentage</th><th>scheduled_arrival_time_local_null_percentage</th><th>scheduled_arrival_time_utc_null_percentage</th><th>two_hours_prior_depart_UTC_null_percentage</th><th>three_hours_prior_depart_UTC_null_percentage</th><th>four_hours_prior_depart_UTC_null_percentage</th><th>rounded_two_hours_prior_depart_UTC_null_percentage</th><th>rounded_three_hours_prior_depart_UTC_null_percentage</th><th>rounded_four_hours_prior_depart_UTC_null_percentage</th><th>dep_STATION_null_percentage</th><th>dep_DATE_null_percentage</th><th>dep_SOURCE_null_percentage</th><th>dep_LATITUDE_null_percentage</th><th>dep_LONGITUDE_null_percentage</th><th>dep_ELEVATION_null_percentage</th><th>dep_NAME_null_percentage</th><th>dep_REPORT_TYPE_null_percentage</th><th>dep_CALL_SIGN_null_percentage</th><th>dep_QUALITY_CONTROL_null_percentage</th><th>dep_VIS_DIST_null_percentage</th><th>dep_VIS_QUAL_null_percentage</th><th>dep_VIS_VAR_null_percentage</th><th>dep_VIS_QUALVAR_null_percentage</th><th>dep_WND_DIR_null_percentage</th><th>dep_WND_DIRQUAL_null_percentage</th><th>dep_WND_OBSTYPE_null_percentage</th><th>dep_WND_SPD_null_percentage</th><th>dep_WND_SPDQUAL_null_percentage</th><th>dep_CIG_HGT_null_percentage</th><th>dep_CIG_QUAL_null_percentage</th><th>dep_CIG_DETCODE_null_percentage</th><th>dep_CIG_CAVOK_null_percentage</th><th>dep_TMP_DEG_null_percentage</th><th>dep_TMP_QUAL_null_percentage</th><th>dep_DEW_DEG_null_percentage</th><th>dep_DEW_QUAL_null_percentage</th><th>dep_SLP_HPAS_null_percentage</th><th>dep_SLP_QUAL_null_percentage</th><th>dep_GA1_COVER_null_percentage</th><th>dep_GA1_COVERQUAL_null_percentage</th><th>dep_GA1_HEIGHT_null_percentage</th><th>dep_GA1_HEIGHTQUAL_null_percentage</th><th>dep_GA1_CLOUDTYPE_null_percentage</th><th>dep_GA1_CLOUDTYPEQUAL_null_percentage</th><th>dep_REM_CAVOK_null_percentage</th><th>dep_GF1_LOWHGT_null_percentage</th><th>arr_STATION_null_percentage</th><th>arr_DATE_null_percentage</th><th>arr_SOURCE_null_percentage</th><th>arr_LATITUDE_null_percentage</th><th>arr_LONGITUDE_null_percentage</th><th>arr_ELEVATION_null_percentage</th><th>arr_NAME_null_percentage</th><th>arr_REPORT_TYPE_null_percentage</th><th>arr_CALL_SIGN_null_percentage</th><th>arr_QUALITY_CONTROL_null_percentage</th><th>arr_VIS_DIST_null_percentage</th><th>arr_VIS_QUAL_null_percentage</th><th>arr_VIS_VAR_null_percentage</th><th>arr_VIS_QUALVAR_null_percentage</th><th>arr_WND_DIR_null_percentage</th><th>arr_WND_DIRQUAL_null_percentage</th><th>arr_WND_OBSTYPE_null_percentage</th><th>arr_WND_SPD_null_percentage</th><th>arr_WND_SPDQUAL_null_percentage</th><th>arr_CIG_HGT_null_percentage</th><th>arr_CIG_QUAL_null_percentage</th><th>arr_CIG_DETCODE_null_percentage</th><th>arr_CIG_CAVOK_null_percentage</th><th>arr_TMP_DEG_null_percentage</th><th>arr_TMP_QUAL_null_percentage</th><th>arr_DEW_DEG_null_percentage</th><th>arr_DEW_QUAL_null_percentage</th><th>arr_SLP_HPAS_null_percentage</th><th>arr_SLP_QUAL_null_percentage</th><th>arr_GA1_COVER_null_percentage</th><th>arr_GA1_COVERQUAL_null_percentage</th><th>arr_GA1_HEIGHT_null_percentage</th><th>arr_GA1_HEIGHTQUAL_null_percentage</th><th>arr_GA1_CLOUDTYPE_null_percentage</th><th>arr_GA1_CLOUDTYPEQUAL_null_percentage</th><th>arr_REM_CAVOK_null_percentage</th><th>arr_GF1_LOWHGT_null_percentage</th></tr></thead><tbody><tr><td>0.0</td><td>0.0</td><td>0.0</td><td>0.0</td><td>0.0</td><td>0.0</td><td>0.0</td><td>0.0</td><td>0.0</td><td>0.0</td><td>0.0</td><td>0.0</td><td>0.0</td><td>0.0</td><td>0.0</td><td>0.0</td><td>0.0</td><td>0.0</td><td>0.0</td><td>0.0</td><td>0.0</td><td>0.0</td><td>0.0</td><td>0.0</td><td>0.0</td><td>0.0</td><td>0.0</td><td>0.0</td><td>0.0</td><td>0.0</td><td>0.0</td><td>0.0</td><td>0.0</td><td>0.0</td><td>1.5294297237238147E-4</td><td>1.5294297237238147E-4</td><td>1.5294297237238147E-4</td><td>1.5294297237238147E-4</td><td>0.0</td><td>0.0</td><td>0.0</td><td>3.2368883041773854E-8</td><td>3.2368883041773854E-8</td><td>0.0</td><td>3.2368883041773854E-8</td><td>8.415909590861203E-5</td><td>8.415909590861203E-5</td><td>8.415909590861203E-5</td><td>8.415909590861203E-5</td><td>0.0</td><td>0.0</td><td>1.0</td><td>0.0</td><td>0.0</td><td>6.473776608354771E-8</td><td>6.473776608354771E-8</td><td>0.0</td><td>0.0</td><td>0.0</td><td>0.8142156560000839</td><td>0.8142156560000839</td><td>0.8142156560000839</td><td>0.8142156560000839</td><td>0.8142156560000839</td><td>0.9939803588207213</td><td>0.9939804235584874</td><td>0.9939804235584874</td><td>6.473776608354771E-8</td><td>1.0</td><td>1.0</td><td>1.0</td><td>1.0</td><td>0.999999935262234</td><td>0.999999935262234</td><td>0.999999935262234</td><td>0.999999935262234</td><td>0.999999935262234</td><td>0.999999935262234</td><td>0.999999967631117</td><td>0.999999967631117</td><td>1.0</td><td>0.9999999028933508</td><td>0.9999999028933508</td><td>1.0</td><td>1.0</td><td>1.0</td><td>1.0</td><td>1.0</td><td>1.0</td><td>1.0</td><td>1.0</td><td>1.0</td><td>1.0</td><td>1.0</td><td>1.0</td><td>1.0</td><td>1.0</td><td>1.0</td><td>1.0</td><td>1.0</td><td>1.0</td><td>1.0</td><td>1.0</td><td>1.0</td><td>1.0</td><td>1.0</td><td>1.0</td><td>1.0</td><td>1.0</td><td>1.0</td><td>1.0</td><td>1.0</td><td>0.0</td><td>0.0</td><td>0.0</td><td>0.0</td><td>0.0</td><td>0.0</td><td>0.0</td><td>0.0</td><td>0.0</td><td>0.0</td><td>0.0</td><td>0.0</td><td>0.0</td><td>0.0</td><td>0.0</td><td>0.0</td><td>0.0</td><td>0.0</td><td>0.0</td><td>0.0</td><td>0.0</td><td>0.0</td><td>0.0</td><td>0.0</td><td>0.0</td><td>0.0</td><td>0.0</td><td>0.0</td><td>0.0</td><td>0.0</td><td>0.0</td><td>0.0</td><td>0.0</td><td>0.0</td><td>0.0</td><td>0.0</td><td>0.0</td><td>0.0</td><td>0.0</td><td>1.9440751154889378E-4</td><td>0.0</td><td>0.0</td><td>0.0</td><td>0.14101872902415458</td><td>0.0</td><td>0.0</td><td>7.520586285925738E-4</td><td>0.0</td><td>3.148197564642925E-4</td><td>0.0</td><td>0.0</td><td>0.0</td><td>2.440290092519331E-4</td><td>0.0</td><td>4.3361355722760256E-4</td><td>0.0</td><td>0.006968437878999159</td><td>0.0</td><td>0.0</td><td>0.0049977231727668416</td><td>0.14333779764968246</td><td>0.0049977231727668416</td><td>0.0049977231727668416</td><td>0.0049977231727668416</td><td>0.0</td><td>0.15813011824870876</td><td>0.0</td><td>0.0</td><td>0.0</td><td>0.0</td><td>0.0</td><td>0.0</td><td>0.0</td><td>0.0</td><td>0.0</td><td>0.0</td><td>1.6673211654817714E-4</td><td>0.0</td><td>0.0</td><td>0.0</td><td>0.1394981683743842</td><td>0.0</td><td>0.0</td><td>7.370718357442324E-4</td><td>0.0</td><td>3.130070990139532E-4</td><td>0.0</td><td>0.0</td><td>0.0</td><td>2.6079609066757196E-4</td><td>0.0</td><td>4.641697828190371E-4</td><td>0.0</td><td>0.007167247558641734</td><td>0.0</td><td>0.0</td><td>0.0051372977964429705</td><td>0.1455950093397175</td><td>0.0051372977964429705</td><td>0.0051372977964429705</td><td>0.0051372977964429705</td><td>0.0</td><td>0.16020680867801987</td></tr></tbody></table></div>"
      ]
     },
     "metadata": {
      "application/vnd.databricks.v1+output": {
       "addedWidgets": {},
       "aggData": [],
       "aggError": "",
       "aggOverflow": false,
       "aggSchema": [],
       "aggSeriesLimitReached": false,
       "aggType": "",
       "arguments": {},
       "columnCustomDisplayInfos": {},
       "data": [
        [
         0.0,
         0.0,
         0.0,
         0.0,
         0.0,
         0.0,
         0.0,
         0.0,
         0.0,
         0.0,
         0.0,
         0.0,
         0.0,
         0.0,
         0.0,
         0.0,
         0.0,
         0.0,
         0.0,
         0.0,
         0.0,
         0.0,
         0.0,
         0.0,
         0.0,
         0.0,
         0.0,
         0.0,
         0.0,
         0.0,
         0.0,
         0.0,
         0.0,
         0.0,
         1.5294297237238147E-4,
         1.5294297237238147E-4,
         1.5294297237238147E-4,
         1.5294297237238147E-4,
         0.0,
         0.0,
         0.0,
         3.2368883041773854E-8,
         3.2368883041773854E-8,
         0.0,
         3.2368883041773854E-8,
         8.415909590861203E-5,
         8.415909590861203E-5,
         8.415909590861203E-5,
         8.415909590861203E-5,
         0.0,
         0.0,
         1.0,
         0.0,
         0.0,
         6.473776608354771E-8,
         6.473776608354771E-8,
         0.0,
         0.0,
         0.0,
         0.8142156560000839,
         0.8142156560000839,
         0.8142156560000839,
         0.8142156560000839,
         0.8142156560000839,
         0.9939803588207213,
         0.9939804235584874,
         0.9939804235584874,
         6.473776608354771E-8,
         1.0,
         1.0,
         1.0,
         1.0,
         0.999999935262234,
         0.999999935262234,
         0.999999935262234,
         0.999999935262234,
         0.999999935262234,
         0.999999935262234,
         0.999999967631117,
         0.999999967631117,
         1.0,
         0.9999999028933508,
         0.9999999028933508,
         1.0,
         1.0,
         1.0,
         1.0,
         1.0,
         1.0,
         1.0,
         1.0,
         1.0,
         1.0,
         1.0,
         1.0,
         1.0,
         1.0,
         1.0,
         1.0,
         1.0,
         1.0,
         1.0,
         1.0,
         1.0,
         1.0,
         1.0,
         1.0,
         1.0,
         1.0,
         1.0,
         1.0,
         1.0,
         0.0,
         0.0,
         0.0,
         0.0,
         0.0,
         0.0,
         0.0,
         0.0,
         0.0,
         0.0,
         0.0,
         0.0,
         0.0,
         0.0,
         0.0,
         0.0,
         0.0,
         0.0,
         0.0,
         0.0,
         0.0,
         0.0,
         0.0,
         0.0,
         0.0,
         0.0,
         0.0,
         0.0,
         0.0,
         0.0,
         0.0,
         0.0,
         0.0,
         0.0,
         0.0,
         0.0,
         0.0,
         0.0,
         0.0,
         1.9440751154889378E-4,
         0.0,
         0.0,
         0.0,
         0.14101872902415458,
         0.0,
         0.0,
         7.520586285925738E-4,
         0.0,
         3.148197564642925E-4,
         0.0,
         0.0,
         0.0,
         2.440290092519331E-4,
         0.0,
         4.3361355722760256E-4,
         0.0,
         0.006968437878999159,
         0.0,
         0.0,
         0.0049977231727668416,
         0.14333779764968246,
         0.0049977231727668416,
         0.0049977231727668416,
         0.0049977231727668416,
         0.0,
         0.15813011824870876,
         0.0,
         0.0,
         0.0,
         0.0,
         0.0,
         0.0,
         0.0,
         0.0,
         0.0,
         0.0,
         1.6673211654817714E-4,
         0.0,
         0.0,
         0.0,
         0.1394981683743842,
         0.0,
         0.0,
         7.370718357442324E-4,
         0.0,
         3.130070990139532E-4,
         0.0,
         0.0,
         0.0,
         2.6079609066757196E-4,
         0.0,
         4.641697828190371E-4,
         0.0,
         0.007167247558641734,
         0.0,
         0.0,
         0.0051372977964429705,
         0.1455950093397175,
         0.0051372977964429705,
         0.0051372977964429705,
         0.0051372977964429705,
         0.0,
         0.16020680867801987
        ]
       ],
       "datasetInfos": [],
       "dbfsResultPath": null,
       "isJsonSchema": true,
       "metadata": {},
       "overflow": false,
       "plotOptions": {
        "customPlotOptions": {},
        "displayType": "table",
        "pivotAggregation": null,
        "pivotColumns": null,
        "xColumns": null,
        "yColumns": null
       },
       "removedWidgets": [],
       "schema": [
        {
         "metadata": "{}",
         "name": "OP_CARRIER_AIRLINE_ID_null_percentage",
         "type": "\"double\""
        },
        {
         "metadata": "{}",
         "name": "TAIL_NUM_null_percentage",
         "type": "\"double\""
        },
        {
         "metadata": "{}",
         "name": "OP_CARRIER_FL_NUM_null_percentage",
         "type": "\"double\""
        },
        {
         "metadata": "{}",
         "name": "ORIGIN_null_percentage",
         "type": "\"double\""
        },
        {
         "metadata": "{}",
         "name": "DEST_null_percentage",
         "type": "\"double\""
        },
        {
         "metadata": "{}",
         "name": "scheduled_departure_time_utc_null_percentage",
         "type": "\"double\""
        },
        {
         "metadata": "{}",
         "name": "arr_time_measured_from_2hr_null_percentage",
         "type": "\"double\""
        },
        {
         "metadata": "{}",
         "name": "time_measured_from_2hr_null_percentage",
         "type": "\"double\""
        },
        {
         "metadata": "{}",
         "name": "YEAR_null_percentage",
         "type": "\"double\""
        },
        {
         "metadata": "{}",
         "name": "QUARTER_null_percentage",
         "type": "\"double\""
        },
        {
         "metadata": "{}",
         "name": "MONTH_null_percentage",
         "type": "\"double\""
        },
        {
         "metadata": "{}",
         "name": "DAY_OF_MONTH_null_percentage",
         "type": "\"double\""
        },
        {
         "metadata": "{}",
         "name": "DAY_OF_WEEK_null_percentage",
         "type": "\"double\""
        },
        {
         "metadata": "{}",
         "name": "FL_DATE_null_percentage",
         "type": "\"double\""
        },
        {
         "metadata": "{}",
         "name": "OP_UNIQUE_CARRIER_null_percentage",
         "type": "\"double\""
        },
        {
         "metadata": "{}",
         "name": "OP_CARRIER_null_percentage",
         "type": "\"double\""
        },
        {
         "metadata": "{}",
         "name": "ORIGIN_AIRPORT_ID_null_percentage",
         "type": "\"double\""
        },
        {
         "metadata": "{}",
         "name": "ORIGIN_AIRPORT_SEQ_ID_null_percentage",
         "type": "\"double\""
        },
        {
         "metadata": "{}",
         "name": "ORIGIN_CITY_MARKET_ID_null_percentage",
         "type": "\"double\""
        },
        {
         "metadata": "{}",
         "name": "ORIGIN_CITY_NAME_null_percentage",
         "type": "\"double\""
        },
        {
         "metadata": "{}",
         "name": "ORIGIN_STATE_ABR_null_percentage",
         "type": "\"double\""
        },
        {
         "metadata": "{}",
         "name": "ORIGIN_STATE_FIPS_null_percentage",
         "type": "\"double\""
        },
        {
         "metadata": "{}",
         "name": "ORIGIN_STATE_NM_null_percentage",
         "type": "\"double\""
        },
        {
         "metadata": "{}",
         "name": "ORIGIN_WAC_null_percentage",
         "type": "\"double\""
        },
        {
         "metadata": "{}",
         "name": "DEST_AIRPORT_ID_null_percentage",
         "type": "\"double\""
        },
        {
         "metadata": "{}",
         "name": "DEST_AIRPORT_SEQ_ID_null_percentage",
         "type": "\"double\""
        },
        {
         "metadata": "{}",
         "name": "DEST_CITY_MARKET_ID_null_percentage",
         "type": "\"double\""
        },
        {
         "metadata": "{}",
         "name": "DEST_CITY_NAME_null_percentage",
         "type": "\"double\""
        },
        {
         "metadata": "{}",
         "name": "DEST_STATE_ABR_null_percentage",
         "type": "\"double\""
        },
        {
         "metadata": "{}",
         "name": "DEST_STATE_FIPS_null_percentage",
         "type": "\"double\""
        },
        {
         "metadata": "{}",
         "name": "DEST_STATE_NM_null_percentage",
         "type": "\"double\""
        },
        {
         "metadata": "{}",
         "name": "DEST_WAC_null_percentage",
         "type": "\"double\""
        },
        {
         "metadata": "{}",
         "name": "CRS_DEP_TIME_null_percentage",
         "type": "\"double\""
        },
        {
         "metadata": "{}",
         "name": "DEP_TIME_null_percentage",
         "type": "\"double\""
        },
        {
         "metadata": "{}",
         "name": "DEP_DELAY_null_percentage",
         "type": "\"double\""
        },
        {
         "metadata": "{}",
         "name": "DEP_DELAY_NEW_null_percentage",
         "type": "\"double\""
        },
        {
         "metadata": "{}",
         "name": "DEP_DEL15_null_percentage",
         "type": "\"double\""
        },
        {
         "metadata": "{}",
         "name": "DEP_DELAY_GROUP_null_percentage",
         "type": "\"double\""
        },
        {
         "metadata": "{}",
         "name": "DEP_TIME_BLK_null_percentage",
         "type": "\"double\""
        },
        {
         "metadata": "{}",
         "name": "TAXI_OUT_null_percentage",
         "type": "\"double\""
        },
        {
         "metadata": "{}",
         "name": "WHEELS_OFF_null_percentage",
         "type": "\"double\""
        },
        {
         "metadata": "{}",
         "name": "WHEELS_ON_null_percentage",
         "type": "\"double\""
        },
        {
         "metadata": "{}",
         "name": "TAXI_IN_null_percentage",
         "type": "\"double\""
        },
        {
         "metadata": "{}",
         "name": "CRS_ARR_TIME_null_percentage",
         "type": "\"double\""
        },
        {
         "metadata": "{}",
         "name": "ARR_TIME_null_percentage",
         "type": "\"double\""
        },
        {
         "metadata": "{}",
         "name": "ARR_DELAY_null_percentage",
         "type": "\"double\""
        },
        {
         "metadata": "{}",
         "name": "ARR_DELAY_NEW_null_percentage",
         "type": "\"double\""
        },
        {
         "metadata": "{}",
         "name": "ARR_DEL15_null_percentage",
         "type": "\"double\""
        },
        {
         "metadata": "{}",
         "name": "ARR_DELAY_GROUP_null_percentage",
         "type": "\"double\""
        },
        {
         "metadata": "{}",
         "name": "ARR_TIME_BLK_null_percentage",
         "type": "\"double\""
        },
        {
         "metadata": "{}",
         "name": "CANCELLED_null_percentage",
         "type": "\"double\""
        },
        {
         "metadata": "{}",
         "name": "CANCELLATION_CODE_null_percentage",
         "type": "\"double\""
        },
        {
         "metadata": "{}",
         "name": "DIVERTED_null_percentage",
         "type": "\"double\""
        },
        {
         "metadata": "{}",
         "name": "CRS_ELAPSED_TIME_null_percentage",
         "type": "\"double\""
        },
        {
         "metadata": "{}",
         "name": "ACTUAL_ELAPSED_TIME_null_percentage",
         "type": "\"double\""
        },
        {
         "metadata": "{}",
         "name": "AIR_TIME_null_percentage",
         "type": "\"double\""
        },
        {
         "metadata": "{}",
         "name": "FLIGHTS_null_percentage",
         "type": "\"double\""
        },
        {
         "metadata": "{}",
         "name": "DISTANCE_null_percentage",
         "type": "\"double\""
        },
        {
         "metadata": "{}",
         "name": "DISTANCE_GROUP_null_percentage",
         "type": "\"double\""
        },
        {
         "metadata": "{}",
         "name": "CARRIER_DELAY_null_percentage",
         "type": "\"double\""
        },
        {
         "metadata": "{}",
         "name": "WEATHER_DELAY_null_percentage",
         "type": "\"double\""
        },
        {
         "metadata": "{}",
         "name": "NAS_DELAY_null_percentage",
         "type": "\"double\""
        },
        {
         "metadata": "{}",
         "name": "SECURITY_DELAY_null_percentage",
         "type": "\"double\""
        },
        {
         "metadata": "{}",
         "name": "LATE_AIRCRAFT_DELAY_null_percentage",
         "type": "\"double\""
        },
        {
         "metadata": "{}",
         "name": "FIRST_DEP_TIME_null_percentage",
         "type": "\"double\""
        },
        {
         "metadata": "{}",
         "name": "TOTAL_ADD_GTIME_null_percentage",
         "type": "\"double\""
        },
        {
         "metadata": "{}",
         "name": "LONGEST_ADD_GTIME_null_percentage",
         "type": "\"double\""
        },
        {
         "metadata": "{}",
         "name": "DIV_AIRPORT_LANDINGS_null_percentage",
         "type": "\"double\""
        },
        {
         "metadata": "{}",
         "name": "DIV_REACHED_DEST_null_percentage",
         "type": "\"double\""
        },
        {
         "metadata": "{}",
         "name": "DIV_ACTUAL_ELAPSED_TIME_null_percentage",
         "type": "\"double\""
        },
        {
         "metadata": "{}",
         "name": "DIV_ARR_DELAY_null_percentage",
         "type": "\"double\""
        },
        {
         "metadata": "{}",
         "name": "DIV_DISTANCE_null_percentage",
         "type": "\"double\""
        },
        {
         "metadata": "{}",
         "name": "DIV1_AIRPORT_null_percentage",
         "type": "\"double\""
        },
        {
         "metadata": "{}",
         "name": "DIV1_AIRPORT_ID_null_percentage",
         "type": "\"double\""
        },
        {
         "metadata": "{}",
         "name": "DIV1_AIRPORT_SEQ_ID_null_percentage",
         "type": "\"double\""
        },
        {
         "metadata": "{}",
         "name": "DIV1_WHEELS_ON_null_percentage",
         "type": "\"double\""
        },
        {
         "metadata": "{}",
         "name": "DIV1_TOTAL_GTIME_null_percentage",
         "type": "\"double\""
        },
        {
         "metadata": "{}",
         "name": "DIV1_LONGEST_GTIME_null_percentage",
         "type": "\"double\""
        },
        {
         "metadata": "{}",
         "name": "DIV1_WHEELS_OFF_null_percentage",
         "type": "\"double\""
        },
        {
         "metadata": "{}",
         "name": "DIV1_TAIL_NUM_null_percentage",
         "type": "\"double\""
        },
        {
         "metadata": "{}",
         "name": "DIV2_AIRPORT_null_percentage",
         "type": "\"double\""
        },
        {
         "metadata": "{}",
         "name": "DIV2_AIRPORT_ID_null_percentage",
         "type": "\"double\""
        },
        {
         "metadata": "{}",
         "name": "DIV2_AIRPORT_SEQ_ID_null_percentage",
         "type": "\"double\""
        },
        {
         "metadata": "{}",
         "name": "DIV2_WHEELS_ON_null_percentage",
         "type": "\"double\""
        },
        {
         "metadata": "{}",
         "name": "DIV2_TOTAL_GTIME_null_percentage",
         "type": "\"double\""
        },
        {
         "metadata": "{}",
         "name": "DIV2_LONGEST_GTIME_null_percentage",
         "type": "\"double\""
        },
        {
         "metadata": "{}",
         "name": "DIV2_WHEELS_OFF_null_percentage",
         "type": "\"double\""
        },
        {
         "metadata": "{}",
         "name": "DIV2_TAIL_NUM_null_percentage",
         "type": "\"double\""
        },
        {
         "metadata": "{}",
         "name": "DIV3_AIRPORT_null_percentage",
         "type": "\"double\""
        },
        {
         "metadata": "{}",
         "name": "DIV3_AIRPORT_ID_null_percentage",
         "type": "\"double\""
        },
        {
         "metadata": "{}",
         "name": "DIV3_AIRPORT_SEQ_ID_null_percentage",
         "type": "\"double\""
        },
        {
         "metadata": "{}",
         "name": "DIV3_WHEELS_ON_null_percentage",
         "type": "\"double\""
        },
        {
         "metadata": "{}",
         "name": "DIV3_TOTAL_GTIME_null_percentage",
         "type": "\"double\""
        },
        {
         "metadata": "{}",
         "name": "DIV3_LONGEST_GTIME_null_percentage",
         "type": "\"double\""
        },
        {
         "metadata": "{}",
         "name": "DIV3_WHEELS_OFF_null_percentage",
         "type": "\"double\""
        },
        {
         "metadata": "{}",
         "name": "DIV3_TAIL_NUM_null_percentage",
         "type": "\"double\""
        },
        {
         "metadata": "{}",
         "name": "DIV4_AIRPORT_null_percentage",
         "type": "\"double\""
        },
        {
         "metadata": "{}",
         "name": "DIV4_AIRPORT_ID_null_percentage",
         "type": "\"double\""
        },
        {
         "metadata": "{}",
         "name": "DIV4_AIRPORT_SEQ_ID_null_percentage",
         "type": "\"double\""
        },
        {
         "metadata": "{}",
         "name": "DIV4_WHEELS_ON_null_percentage",
         "type": "\"double\""
        },
        {
         "metadata": "{}",
         "name": "DIV4_TOTAL_GTIME_null_percentage",
         "type": "\"double\""
        },
        {
         "metadata": "{}",
         "name": "DIV4_LONGEST_GTIME_null_percentage",
         "type": "\"double\""
        },
        {
         "metadata": "{}",
         "name": "DIV4_WHEELS_OFF_null_percentage",
         "type": "\"double\""
        },
        {
         "metadata": "{}",
         "name": "DIV4_TAIL_NUM_null_percentage",
         "type": "\"double\""
        },
        {
         "metadata": "{}",
         "name": "DIV5_AIRPORT_null_percentage",
         "type": "\"double\""
        },
        {
         "metadata": "{}",
         "name": "DIV5_AIRPORT_ID_null_percentage",
         "type": "\"double\""
        },
        {
         "metadata": "{}",
         "name": "DIV5_AIRPORT_SEQ_ID_null_percentage",
         "type": "\"double\""
        },
        {
         "metadata": "{}",
         "name": "DIV5_WHEELS_ON_null_percentage",
         "type": "\"double\""
        },
        {
         "metadata": "{}",
         "name": "DIV5_TOTAL_GTIME_null_percentage",
         "type": "\"double\""
        },
        {
         "metadata": "{}",
         "name": "DIV5_LONGEST_GTIME_null_percentage",
         "type": "\"double\""
        },
        {
         "metadata": "{}",
         "name": "DIV5_WHEELS_OFF_null_percentage",
         "type": "\"double\""
        },
        {
         "metadata": "{}",
         "name": "DIV5_TAIL_NUM_null_percentage",
         "type": "\"double\""
        },
        {
         "metadata": "{}",
         "name": "departure_iata_code_null_percentage",
         "type": "\"double\""
        },
        {
         "metadata": "{}",
         "name": "departure_airport_name_null_percentage",
         "type": "\"double\""
        },
        {
         "metadata": "{}",
         "name": "departure_gps_code_null_percentage",
         "type": "\"double\""
        },
        {
         "metadata": "{}",
         "name": "departure_airport_type_null_percentage",
         "type": "\"double\""
        },
        {
         "metadata": "{}",
         "name": "departure_weather_station_lat_null_percentage",
         "type": "\"double\""
        },
        {
         "metadata": "{}",
         "name": "departure_weather_station_lon_null_percentage",
         "type": "\"double\""
        },
        {
         "metadata": "{}",
         "name": "departure_weather_station_id_null_percentage",
         "type": "\"double\""
        },
        {
         "metadata": "{}",
         "name": "departure_iso_country_null_percentage",
         "type": "\"double\""
        },
        {
         "metadata": "{}",
         "name": "departure_timezone_null_percentage",
         "type": "\"double\""
        },
        {
         "metadata": "{}",
         "name": "arrival_iata_code_null_percentage",
         "type": "\"double\""
        },
        {
         "metadata": "{}",
         "name": "arrival_airport_name_null_percentage",
         "type": "\"double\""
        },
        {
         "metadata": "{}",
         "name": "arrival_gps_code_null_percentage",
         "type": "\"double\""
        },
        {
         "metadata": "{}",
         "name": "arrival_airport_type_null_percentage",
         "type": "\"double\""
        },
        {
         "metadata": "{}",
         "name": "arrival_weather_station_lat_null_percentage",
         "type": "\"double\""
        },
        {
         "metadata": "{}",
         "name": "arrival_weather_station_lon_null_percentage",
         "type": "\"double\""
        },
        {
         "metadata": "{}",
         "name": "arrival_weather_station_id_null_percentage",
         "type": "\"double\""
        },
        {
         "metadata": "{}",
         "name": "arrival_iso_country_null_percentage",
         "type": "\"double\""
        },
        {
         "metadata": "{}",
         "name": "arrival_timezone_null_percentage",
         "type": "\"double\""
        },
        {
         "metadata": "{}",
         "name": "scheduled_dept_time_null_percentage",
         "type": "\"double\""
        },
        {
         "metadata": "{}",
         "name": "scheduled_arr_time_null_percentage",
         "type": "\"double\""
        },
        {
         "metadata": "{}",
         "name": "scheduled_departure_time_local_null_percentage",
         "type": "\"double\""
        },
        {
         "metadata": "{}",
         "name": "scheduled_arrival_time_local_null_percentage",
         "type": "\"double\""
        },
        {
         "metadata": "{}",
         "name": "scheduled_arrival_time_utc_null_percentage",
         "type": "\"double\""
        },
        {
         "metadata": "{}",
         "name": "two_hours_prior_depart_UTC_null_percentage",
         "type": "\"double\""
        },
        {
         "metadata": "{}",
         "name": "three_hours_prior_depart_UTC_null_percentage",
         "type": "\"double\""
        },
        {
         "metadata": "{}",
         "name": "four_hours_prior_depart_UTC_null_percentage",
         "type": "\"double\""
        },
        {
         "metadata": "{}",
         "name": "rounded_two_hours_prior_depart_UTC_null_percentage",
         "type": "\"double\""
        },
        {
         "metadata": "{}",
         "name": "rounded_three_hours_prior_depart_UTC_null_percentage",
         "type": "\"double\""
        },
        {
         "metadata": "{}",
         "name": "rounded_four_hours_prior_depart_UTC_null_percentage",
         "type": "\"double\""
        },
        {
         "metadata": "{}",
         "name": "dep_STATION_null_percentage",
         "type": "\"double\""
        },
        {
         "metadata": "{}",
         "name": "dep_DATE_null_percentage",
         "type": "\"double\""
        },
        {
         "metadata": "{}",
         "name": "dep_SOURCE_null_percentage",
         "type": "\"double\""
        },
        {
         "metadata": "{}",
         "name": "dep_LATITUDE_null_percentage",
         "type": "\"double\""
        },
        {
         "metadata": "{}",
         "name": "dep_LONGITUDE_null_percentage",
         "type": "\"double\""
        },
        {
         "metadata": "{}",
         "name": "dep_ELEVATION_null_percentage",
         "type": "\"double\""
        },
        {
         "metadata": "{}",
         "name": "dep_NAME_null_percentage",
         "type": "\"double\""
        },
        {
         "metadata": "{}",
         "name": "dep_REPORT_TYPE_null_percentage",
         "type": "\"double\""
        },
        {
         "metadata": "{}",
         "name": "dep_CALL_SIGN_null_percentage",
         "type": "\"double\""
        },
        {
         "metadata": "{}",
         "name": "dep_QUALITY_CONTROL_null_percentage",
         "type": "\"double\""
        },
        {
         "metadata": "{}",
         "name": "dep_VIS_DIST_null_percentage",
         "type": "\"double\""
        },
        {
         "metadata": "{}",
         "name": "dep_VIS_QUAL_null_percentage",
         "type": "\"double\""
        },
        {
         "metadata": "{}",
         "name": "dep_VIS_VAR_null_percentage",
         "type": "\"double\""
        },
        {
         "metadata": "{}",
         "name": "dep_VIS_QUALVAR_null_percentage",
         "type": "\"double\""
        },
        {
         "metadata": "{}",
         "name": "dep_WND_DIR_null_percentage",
         "type": "\"double\""
        },
        {
         "metadata": "{}",
         "name": "dep_WND_DIRQUAL_null_percentage",
         "type": "\"double\""
        },
        {
         "metadata": "{}",
         "name": "dep_WND_OBSTYPE_null_percentage",
         "type": "\"double\""
        },
        {
         "metadata": "{}",
         "name": "dep_WND_SPD_null_percentage",
         "type": "\"double\""
        },
        {
         "metadata": "{}",
         "name": "dep_WND_SPDQUAL_null_percentage",
         "type": "\"double\""
        },
        {
         "metadata": "{}",
         "name": "dep_CIG_HGT_null_percentage",
         "type": "\"double\""
        },
        {
         "metadata": "{}",
         "name": "dep_CIG_QUAL_null_percentage",
         "type": "\"double\""
        },
        {
         "metadata": "{}",
         "name": "dep_CIG_DETCODE_null_percentage",
         "type": "\"double\""
        },
        {
         "metadata": "{}",
         "name": "dep_CIG_CAVOK_null_percentage",
         "type": "\"double\""
        },
        {
         "metadata": "{}",
         "name": "dep_TMP_DEG_null_percentage",
         "type": "\"double\""
        },
        {
         "metadata": "{}",
         "name": "dep_TMP_QUAL_null_percentage",
         "type": "\"double\""
        },
        {
         "metadata": "{}",
         "name": "dep_DEW_DEG_null_percentage",
         "type": "\"double\""
        },
        {
         "metadata": "{}",
         "name": "dep_DEW_QUAL_null_percentage",
         "type": "\"double\""
        },
        {
         "metadata": "{}",
         "name": "dep_SLP_HPAS_null_percentage",
         "type": "\"double\""
        },
        {
         "metadata": "{}",
         "name": "dep_SLP_QUAL_null_percentage",
         "type": "\"double\""
        },
        {
         "metadata": "{}",
         "name": "dep_GA1_COVER_null_percentage",
         "type": "\"double\""
        },
        {
         "metadata": "{}",
         "name": "dep_GA1_COVERQUAL_null_percentage",
         "type": "\"double\""
        },
        {
         "metadata": "{}",
         "name": "dep_GA1_HEIGHT_null_percentage",
         "type": "\"double\""
        },
        {
         "metadata": "{}",
         "name": "dep_GA1_HEIGHTQUAL_null_percentage",
         "type": "\"double\""
        },
        {
         "metadata": "{}",
         "name": "dep_GA1_CLOUDTYPE_null_percentage",
         "type": "\"double\""
        },
        {
         "metadata": "{}",
         "name": "dep_GA1_CLOUDTYPEQUAL_null_percentage",
         "type": "\"double\""
        },
        {
         "metadata": "{}",
         "name": "dep_REM_CAVOK_null_percentage",
         "type": "\"double\""
        },
        {
         "metadata": "{}",
         "name": "dep_GF1_LOWHGT_null_percentage",
         "type": "\"double\""
        },
        {
         "metadata": "{}",
         "name": "arr_STATION_null_percentage",
         "type": "\"double\""
        },
        {
         "metadata": "{}",
         "name": "arr_DATE_null_percentage",
         "type": "\"double\""
        },
        {
         "metadata": "{}",
         "name": "arr_SOURCE_null_percentage",
         "type": "\"double\""
        },
        {
         "metadata": "{}",
         "name": "arr_LATITUDE_null_percentage",
         "type": "\"double\""
        },
        {
         "metadata": "{}",
         "name": "arr_LONGITUDE_null_percentage",
         "type": "\"double\""
        },
        {
         "metadata": "{}",
         "name": "arr_ELEVATION_null_percentage",
         "type": "\"double\""
        },
        {
         "metadata": "{}",
         "name": "arr_NAME_null_percentage",
         "type": "\"double\""
        },
        {
         "metadata": "{}",
         "name": "arr_REPORT_TYPE_null_percentage",
         "type": "\"double\""
        },
        {
         "metadata": "{}",
         "name": "arr_CALL_SIGN_null_percentage",
         "type": "\"double\""
        },
        {
         "metadata": "{}",
         "name": "arr_QUALITY_CONTROL_null_percentage",
         "type": "\"double\""
        },
        {
         "metadata": "{}",
         "name": "arr_VIS_DIST_null_percentage",
         "type": "\"double\""
        },
        {
         "metadata": "{}",
         "name": "arr_VIS_QUAL_null_percentage",
         "type": "\"double\""
        },
        {
         "metadata": "{}",
         "name": "arr_VIS_VAR_null_percentage",
         "type": "\"double\""
        },
        {
         "metadata": "{}",
         "name": "arr_VIS_QUALVAR_null_percentage",
         "type": "\"double\""
        },
        {
         "metadata": "{}",
         "name": "arr_WND_DIR_null_percentage",
         "type": "\"double\""
        },
        {
         "metadata": "{}",
         "name": "arr_WND_DIRQUAL_null_percentage",
         "type": "\"double\""
        },
        {
         "metadata": "{}",
         "name": "arr_WND_OBSTYPE_null_percentage",
         "type": "\"double\""
        },
        {
         "metadata": "{}",
         "name": "arr_WND_SPD_null_percentage",
         "type": "\"double\""
        },
        {
         "metadata": "{}",
         "name": "arr_WND_SPDQUAL_null_percentage",
         "type": "\"double\""
        },
        {
         "metadata": "{}",
         "name": "arr_CIG_HGT_null_percentage",
         "type": "\"double\""
        },
        {
         "metadata": "{}",
         "name": "arr_CIG_QUAL_null_percentage",
         "type": "\"double\""
        },
        {
         "metadata": "{}",
         "name": "arr_CIG_DETCODE_null_percentage",
         "type": "\"double\""
        },
        {
         "metadata": "{}",
         "name": "arr_CIG_CAVOK_null_percentage",
         "type": "\"double\""
        },
        {
         "metadata": "{}",
         "name": "arr_TMP_DEG_null_percentage",
         "type": "\"double\""
        },
        {
         "metadata": "{}",
         "name": "arr_TMP_QUAL_null_percentage",
         "type": "\"double\""
        },
        {
         "metadata": "{}",
         "name": "arr_DEW_DEG_null_percentage",
         "type": "\"double\""
        },
        {
         "metadata": "{}",
         "name": "arr_DEW_QUAL_null_percentage",
         "type": "\"double\""
        },
        {
         "metadata": "{}",
         "name": "arr_SLP_HPAS_null_percentage",
         "type": "\"double\""
        },
        {
         "metadata": "{}",
         "name": "arr_SLP_QUAL_null_percentage",
         "type": "\"double\""
        },
        {
         "metadata": "{}",
         "name": "arr_GA1_COVER_null_percentage",
         "type": "\"double\""
        },
        {
         "metadata": "{}",
         "name": "arr_GA1_COVERQUAL_null_percentage",
         "type": "\"double\""
        },
        {
         "metadata": "{}",
         "name": "arr_GA1_HEIGHT_null_percentage",
         "type": "\"double\""
        },
        {
         "metadata": "{}",
         "name": "arr_GA1_HEIGHTQUAL_null_percentage",
         "type": "\"double\""
        },
        {
         "metadata": "{}",
         "name": "arr_GA1_CLOUDTYPE_null_percentage",
         "type": "\"double\""
        },
        {
         "metadata": "{}",
         "name": "arr_GA1_CLOUDTYPEQUAL_null_percentage",
         "type": "\"double\""
        },
        {
         "metadata": "{}",
         "name": "arr_REM_CAVOK_null_percentage",
         "type": "\"double\""
        },
        {
         "metadata": "{}",
         "name": "arr_GF1_LOWHGT_null_percentage",
         "type": "\"double\""
        }
       ],
       "type": "table"
      }
     },
     "output_type": "display_data"
    }
   ],
   "source": [
    "'''\n",
    "The following cell reads in the full dataset as a dataframe and begins filtering the data to only consider delayed flights. We will also calculate the percentage of null values for each column. \n",
    "    - We have 30,893,868 rows\n",
    "    - The dates range from the beginning of 2015 to the end of 2019.\n",
    "'''\n",
    "\n",
    "# read in data\n",
    "df = spark.read.parquet(f\"{team_blob_url}/combined_data_all/\")\n",
    "\n",
    "# check data - there should be 30,893,868 rows and dates should span 1-1-2015 and 12-31-2019\n",
    "display(df.select(\"FL_DATE\").describe())\n",
    "\n",
    "# filter for only non-cancelled or diverted flights, cast strings to numeric\n",
    "df = df.filter(\n",
    "        (col(\"CANCELLED\") == 0) &\n",
    "        (col(\"DIVERTED\") == 0)\n",
    "    )\n",
    "\n",
    "# check the percentage of null values\n",
    "total_count = df.count()\n",
    "\n",
    "null_counts = df.agg(*[\n",
    "            (F.sum(col(c).isNull().cast(\"int\")) / total_count).alias(c + \"_null_percentage\") \n",
    "    for c in df.columns\n",
    "]).toPandas()\n",
    "\n",
    "# display the data \n",
    "display(null_counts)\n",
    "\n"
   ]
  },
  {
   "cell_type": "code",
   "execution_count": 0,
   "metadata": {
    "application/vnd.databricks.v1+cell": {
     "cellMetadata": {
      "byteLimit": 2048000,
      "rowLimit": 10000
     },
     "inputWidgets": {},
     "nuid": "c6ba4499-a3da-461c-9a13-17147d2125a3",
     "showTitle": false,
     "title": ""
    }
   },
   "outputs": [],
   "source": [
    "'''\n",
    "Feature Engineering to obtain percentage delays in a given window in time (days). There is the option to read this data from a parquet file, otherwise we will create new columns to accomodate future analysis.\n",
    "'''\n",
    "\n",
    "if READ:\n",
    "    df = spark.read.parquet(f\"{team_blob_url}/full_feature_engineering_checkpoint1/\")\n",
    "\n",
    "else:\n",
    "\n",
    "    # turn FL_DATE to a date type\n",
    "    df = df.withColumn(\"FL_DATE\", F.to_date(col(\"FL_DATE\")))\n",
    "\n",
    "    # get the holidays for the years 2015 to 2024 in the United States- this is stored as a dictionary\n",
    "    us_holidays = holidays.US(years=[2015,2016,2017,2018,2019,2020,2021,2022,2023,2024]) \n",
    "\n",
    "    # create empty list to store the three days before and after a holiday\n",
    "    holiday_before_and_after = []\n",
    "\n",
    "    days_before_and_after = 3\n",
    "\n",
    "    for holiday in us_holidays.keys():\n",
    "        for i in range(1, days_before_and_after+1):\n",
    "            holiday_before_and_after.append(holiday + datetime.timedelta(days=i))\n",
    "            holiday_before_and_after.append(holiday + datetime.timedelta(days=-i))\n",
    "\n",
    "    # create \"holidays\" columns \n",
    "    df = df.withColumn(\"holidays\",\n",
    "                                F.when(df[\"FL_DATE\"].cast(\"date\").isin(*[F.lit(x) for x in us_holidays]), 1)\n",
    "                                .otherwise(0))\n",
    "\n",
    "    # create \"around_holidays\" column\n",
    "    df = df.withColumn(\"around_holidays\",\n",
    "                                F.when(df[\"FL_DATE\"].cast(\"date\").isin(*[F.lit(x) for x in holiday_before_and_after]), 1)\n",
    "                                .otherwise(0))\n",
    "\n",
    "    def rolling_day_route_delays(window_size: int):\n",
    "        \"\"\"\n",
    "        Calculates the percentage of flights that are delayed within a given window size\n",
    "\n",
    "        Parameters:\n",
    "            window_size: number of days for the rolling window size\n",
    "\n",
    "        Returns: \n",
    "            dataframe with columns: OP_CARRIER_FL_NUM, OP_CARRIER_AIRLINE_ID, OP_CARRIER, ORIGIN, DEST, pct_prev_[window_size]_flights_delayed \n",
    "        \"\"\"\n",
    "\n",
    "        date_array = spark.sql(\"SELECT sequence(to_date('2015-01-01'), to_date('2019-12-31'), interval 1 day) as date\").withColumn(\"FL_DATE\", F.explode(col(\"date\"))).select(\"FL_DATE\")\n",
    "\n",
    "        df.createOrReplaceTempView(\"data_view\")\n",
    "        date_array.createOrReplaceTempView(\"date_array\")\n",
    "\n",
    "        sql_query = f\"\"\"\n",
    "        WITH distinct_flight_routes as (\n",
    "            SELECT distinct OP_CARRIER_FL_NUM, OP_CARRIER_AIRLINE_ID, OP_CARRIER, ORIGIN, DEST\n",
    "            FROM data_view\n",
    "        ), cross_joined as (\n",
    "            SELECT *\n",
    "            FROM date_array\n",
    "            CROSS JOIN distinct_flight_routes \n",
    "        ), flight_details as (\n",
    "            SELECT distinct FL_DATE, OP_CARRIER_FL_NUM, OP_CARRIER_AIRLINE_ID, OP_CARRIER, ORIGIN, DEST, DEP_DEL15, 1 as flight_count\n",
    "            FROM data_view\n",
    "        ), daily_flights as (\n",
    "            SELECT cross_joined.*, COALESCE(flight_details.DEP_DEL15, 0) as DEP_DEL15, COALESCE(flight_details.flight_count, 0) as flight_count\n",
    "            FROM cross_joined\n",
    "            LEFT JOIN flight_details\n",
    "                USING(FL_DATE, OP_CARRIER_FL_NUM, OP_CARRIER_AIRLINE_ID, OP_CARRIER, ORIGIN, DEST)\n",
    "        ) , window_calc as (\n",
    "            SELECT\n",
    "                distinct\n",
    "                OP_CARRIER_FL_NUM,\n",
    "                OP_CARRIER_AIRLINE_ID, \n",
    "                ORIGIN, \n",
    "                DEST, \n",
    "                FL_DATE,\n",
    "                SUM(DEP_DEL15) OVER (\n",
    "                    PARTITION BY OP_CARRIER_FL_NUM, OP_CARRIER_AIRLINE_ID, ORIGIN, DEST\n",
    "                    ORDER BY FL_DATE ROWS BETWEEN {window_size} PRECEDING AND 1 PRECEDING\n",
    "                    ) AS prev_{window_size}_flights_delayed,\n",
    "                COUNT(*) OVER (\n",
    "                    PARTITION BY OP_CARRIER_FL_NUM, OP_CARRIER_AIRLINE_ID, ORIGIN, DEST\n",
    "                    ORDER BY FL_DATE ROWS BETWEEN {window_size} PRECEDING AND 1 PRECEDING\n",
    "                    ) AS prev_{window_size}_flight_count\n",
    "            FROM daily_flights\n",
    "        ) \n",
    "        SELECT \n",
    "            OP_CARRIER_FL_NUM,\n",
    "            OP_CARRIER_AIRLINE_ID, \n",
    "            ORIGIN, \n",
    "            DEST, \n",
    "            FL_DATE,\n",
    "            CASE \n",
    "                WHEN prev_{window_size}_flight_count != 0 THEN prev_{window_size}_flights_delayed / prev_{window_size}_flight_count\n",
    "                ELSE NULL\n",
    "            END AS pct_prev_{window_size}_flights_delayed    \n",
    "        FROM window_calc\n",
    "        \"\"\"\n",
    "        return spark.sql(sql_query)\n",
    "\n",
    "    # choose 14 days as the window size-call function with 14 days as parameter\n",
    "    rolling_14_flights_delay = rolling_day_route_delays(14)\n",
    "\n",
    "    # create new dataframe with new, calculated column\n",
    "    df = df.join(rolling_14_flights_delay, [\"OP_CARRIER_FL_NUM\",  \"OP_CARRIER_AIRLINE_ID\", \"ORIGIN\",  \"DEST\", \"FL_DATE\"], \"left\")\n",
    "\n",
    "\n",
    "    # write data to a parquet file\n",
    "    df.write.mode(\"overwrite\").parquet(f\"{team_blob_url}/full_feature_engineering_checkpoint1_LLM\")"
   ]
  },
  {
   "cell_type": "code",
   "execution_count": 0,
   "metadata": {
    "application/vnd.databricks.v1+cell": {
     "cellMetadata": {
      "byteLimit": 2048000,
      "rowLimit": 10000
     },
     "inputWidgets": {},
     "nuid": "55475c01-df7c-4ad9-932d-f573fe118616",
     "showTitle": false,
     "title": ""
    }
   },
   "outputs": [],
   "source": [
    "'''\n",
    "Feature Engineering to get % of flights delayed at departure as of 2 hours prior to departure. If it’s a flight with a scheduled departure in the first two hours of the day, it will be 0\n",
    "'''\n",
    "READ = True\n",
    "if READ:\n",
    "    df = spark.read.parquet(f\"{team_blob_url}/full_feature_engineering_checkpoint2/\")\n",
    "else:\n",
    "\n",
    "    '''\n",
    "    create a new column called two_hours_prior_depart_local by subtracting 2 hours from the \"scheduled_departure_time_local\" column from df\n",
    "    '''\n",
    "\n",
    "    df = df.withColumn(\"two_hours_prior_depart_local\", F.expr(\"scheduled_departure_time_local  - INTERVAL 2 HOURS\"))\n",
    "    df.createOrReplaceTempView(\"data_view\")\n",
    "\n",
    "    sql_query = \"\"\"\n",
    "    SELECT \n",
    "        DISTINCT\n",
    "        ORIGIN,\n",
    "        two_hours_prior_depart_local,\n",
    "        (\n",
    "            SELECT COUNT(*)\n",
    "            FROM data_view\n",
    "            WHERE \n",
    "                DEP_DEL15 IS NOT NULL\n",
    "                AND ORIGIN = t.ORIGIN  -- Group by airport\n",
    "                AND CAST(two_hours_prior_depart_local AS DATE) = CAST(t.two_hours_prior_depart_local AS DATE)  -- Filter datetime values for the same day\n",
    "                AND two_hours_prior_depart_local < t.two_hours_prior_depart_local  -- Count values before the current datetime\n",
    "        ) AS count_flights_before, \n",
    "        (\n",
    "            SELECT SUM(DEP_DEL15)\n",
    "            FROM data_view\n",
    "            WHERE \n",
    "                DEP_DEL15 IS NOT NULL\n",
    "                AND ORIGIN = t.ORIGIN  -- Group by airport\n",
    "                AND CAST(two_hours_prior_depart_local AS DATE) = CAST(t.two_hours_prior_depart_local AS DATE)  -- Filter datetime values for the same day\n",
    "                AND two_hours_prior_depart_local < t.two_hours_prior_depart_local  -- Count values before the current datetime\n",
    "        ) AS count_delays_before    \n",
    "    FROM \n",
    "        data_view t\n",
    "    WHERE DEP_DEL15 IS NOT NULL\n",
    "\n",
    "    \"\"\"\n",
    "\n",
    "    daily_origin_delays = spark.sql(sql_query)\n",
    "    daily_origin_delays = daily_origin_delays.withColumn(\"origin_airport_day_pct_delay\", col(\"count_delays_before\") / col(\"count_flights_before\")).select(\"ORIGIN\", \"two_hours_prior_depart_local\", \"origin_airport_day_pct_delay\")\n",
    "\n",
    "\n",
    "    df = df.join(daily_origin_delays, [\"ORIGIN\", \"two_hours_prior_depart_local\"], 'left')\n",
    "\n",
    "    df.write.mode(\"overwrite\").parquet(f\"{team_blob_url}/full_feature_engineering_checkpoint2_LLM\")"
   ]
  },
  {
   "cell_type": "code",
   "execution_count": 0,
   "metadata": {
    "application/vnd.databricks.v1+cell": {
     "cellMetadata": {
      "byteLimit": 2048000,
      "rowLimit": 10000
     },
     "inputWidgets": {},
     "nuid": "41aa82a0-c749-4ef1-a3d4-a0d4ac38ef0f",
     "showTitle": false,
     "title": ""
    }
   },
   "outputs": [],
   "source": [
    "'''\n",
    "Create a column calld origin_pct_prev_{window_size}_days_delay which is the % of flights delayed at departure as of 2 hours prior to departure. If it’s a flight with a scheduled departure in the first two hours of the day, it will be 0.\n",
    "'''\n",
    "    \n",
    "if READ:\n",
    "    df = spark.read.parquet(f\"{team_blob_url}/full_feature_engineering_checkpoint3/\")\n",
    "else:\n",
    "\n",
    "    def rolling_day_origin_delays(window_size):\n",
    "\n",
    "        df.createOrReplaceTempView(\"data_view\")\n",
    "\n",
    "        sql_query = f\"\"\"\n",
    "        WITH t1 as (\n",
    "            SELECT\n",
    "                FL_DATE,\n",
    "                ORIGIN, \n",
    "                SUM(SUM(DEP_DEL15)) OVER (\n",
    "                        PARTITION BY ORIGIN\n",
    "                        ORDER BY FL_DATE ROWS BETWEEN {window_size} PRECEDING AND 1 PRECEDING\n",
    "                        ) AS count_of_delays,\n",
    "                SUM(SUM(FLIGHTS)) OVER (\n",
    "                        PARTITION BY ORIGIN\n",
    "                        ORDER BY FL_DATE ROWS BETWEEN {window_size} PRECEDING AND 1 PRECEDING\n",
    "                        ) AS total_flights\n",
    "            FROM data_view\n",
    "            GROUP BY 1,2\n",
    "            ORDER BY 1\n",
    "        )\n",
    "        SELECT \n",
    "            FL_DATE, \n",
    "            ORIGIN, \n",
    "            CASE \n",
    "                WHEN total_flights = 0 \n",
    "                THEN 0 \n",
    "                ELSE count_of_delays / total_flights\n",
    "            END origin_pct_prev_{window_size}_days_delay\n",
    "        FROM t1 \n",
    "        \"\"\"\n",
    "\n",
    "        return spark.sql(sql_query)\n",
    "\n",
    "    # call function \n",
    "    rolling_1_origin_delay = rolling_day_origin_delays(1)\n",
    "\n",
    "    # join output of function with previous data\n",
    "    df = df.join(rolling_1_origin_delay, [\"FL_DATE\", \"ORIGIN\"], \"left\")\n",
    "\n",
    "    # cast create a column of YYYY-MM\n",
    "    df = df.withColumn(\"month_date\", \n",
    "                    F.to_date(F.concat(col(\"YEAR\"), F.lit(\"-\"), F.lpad(col(\"MONTH\"), 2, \"0\"), F.lit(\"-01\")), \"yyyy-MM-dd\")\n",
    "    ) \n",
    "\n",
    "    # get the previous month of flight\n",
    "    df = df.withColumn(\"previous_month_date\", \n",
    "        F.add_months(col(\"month_date\"), -1 )\n",
    "    )\n",
    "\n",
    "    # get the average amound of flights that are delayed in a month from each origin airport\n",
    "    airport_monthly_delays = df.groupby(\"ORIGIN\", \"month_date\").agg(\n",
    "        F.avg(col(\"DEP_DEL15\") * col(\"DEP_DELAY\")).alias(\"dept_airport_prev_month_avg_delay\")\n",
    "        ).withColumnRenamed(\"month_date\", \"previous_month_date\")\n",
    "\n",
    "    # get the average amound of flights that are delayed in a month from each airline\n",
    "    airline_monthly_delays = df.groupby(\"OP_CARRIER\",  \"OP_CARRIER_AIRLINE_ID\", \"month_date\").agg(\n",
    "        F.avg(col(\"DEP_DEL15\") * col(\"DEP_DELAY\")).alias(\"airline_prev_month_avg_delay\")\n",
    "        ).withColumnRenamed(\"month_date\", \"previous_month_date\")\n",
    "\n",
    "    # perform join on tables\n",
    "    df = df.join(airport_monthly_delays, [\"ORIGIN\", \"previous_month_date\"], how = 'left')\n",
    "    df = df.join(airline_monthly_delays, [\"OP_CARRIER\",  \"OP_CARRIER_AIRLINE_ID\", \"previous_month_date\"], how = 'left')\n",
    "\n",
    "    df.write.mode(\"overwrite\").parquet(f\"{team_blob_url}/full_feature_engineering_checkpoint3_LLM\")\n"
   ]
  },
  {
   "cell_type": "code",
   "execution_count": 0,
   "metadata": {
    "application/vnd.databricks.v1+cell": {
     "cellMetadata": {
      "byteLimit": 2048000,
      "rowLimit": 10000
     },
     "inputWidgets": {},
     "nuid": "f8464cb6-746e-4f94-8835-9426bf35e6c8",
     "showTitle": false,
     "title": ""
    }
   },
   "outputs": [],
   "source": [
    "'''\n",
    "Capture seasonality with this feature by considering the previous year. For example, if the flight is on 12/31/2017, it is the % of flights delayed in the rolling 30 days of last year (12/1/16 - 12/30/16)\n",
    "'''\n",
    "\n",
    "if READ:\n",
    "    df = spark.read.parquet(f\"{team_blob_url}/full_feature_engineering_checkpoint4/\")\n",
    "else:\n",
    "    \n",
    "    def rolling_day_airline_delays(window_size):\n",
    "\n",
    "        df.createOrReplaceTempView(\"data_view\")\n",
    "\n",
    "        sql_query = f\"\"\"\n",
    "        WITH t1 as (\n",
    "            SELECT\n",
    "                FL_DATE,\n",
    "                OP_CARRIER_AIRLINE_ID, \n",
    "\n",
    "                SUM(SUM(DEP_DEL15)) OVER (\n",
    "                        PARTITION BY OP_CARRIER_AIRLINE_ID\n",
    "                        ORDER BY FL_DATE ROWS BETWEEN {window_size} PRECEDING AND 1 PRECEDING\n",
    "                        ) AS count_of_delays,\n",
    "                SUM(SUM(FLIGHTS)) OVER (\n",
    "                        PARTITION BY OP_CARRIER_AIRLINE_ID\n",
    "                        ORDER BY FL_DATE ROWS BETWEEN {window_size} PRECEDING AND 1 PRECEDING\n",
    "                        ) AS total_flights\n",
    "            FROM data_view\n",
    "            GROUP BY 1,2\n",
    "            ORDER BY 1\n",
    "        )\n",
    "        SELECT \n",
    "            FL_DATE, \n",
    "            OP_CARRIER_AIRLINE_ID, \n",
    "            CASE \n",
    "                WHEN total_flights = 0 \n",
    "                THEN 0 \n",
    "                ELSE count_of_delays / total_flights\n",
    "            END airline_pct_prev_{window_size}_days_delay\n",
    "        FROM t1 \n",
    "        \"\"\"\n",
    "\n",
    "        return spark.sql(sql_query)\n",
    "\n",
    "    window_30_day = rolling_day_airline_delays(30)\n",
    "\n",
    "    df = df.join(window_30_day, [\"FL_DATE\"], \"left\")\n",
    "\n",
    "    df.write.mode(\"overwrite\").parquet(f\"{team_blob_url}/full_feature_engineering_checkpoint4_LLM\")\n"
   ]
  },
  {
   "cell_type": "code",
   "execution_count": 0,
   "metadata": {
    "application/vnd.databricks.v1+cell": {
     "cellMetadata": {
      "byteLimit": 2048000,
      "rowLimit": 10000
     },
     "inputWidgets": {},
     "nuid": "4d580442-cfd9-4b5c-b6fe-76654439fad0",
     "showTitle": false,
     "title": ""
    }
   },
   "outputs": [],
   "source": [
    "'''\n",
    "Average departure delay for each unique tail number of an aircraft within a two-hour window before the scheduled departure time.\n",
    "'''\n",
    "\n",
    "if READ:\n",
    "    df = spark.read.format(\"parquet\").load(f\"{team_blob_url}/full_feature_engineering_checkpoint5\")\n",
    "else:\n",
    "\n",
    "    df.createOrReplaceTempView(\"data_view\")\n",
    "\n",
    "    sql_query = \"\"\"\n",
    "        SELECT \n",
    "            DISTINCT\n",
    "            TAIL_NUM,\n",
    "            two_hours_prior_depart_UTC,\n",
    "            COALESCE((\n",
    "                SELECT AVG(DEP_DELAY)\n",
    "                FROM data_view\n",
    "                WHERE \n",
    "                    TAIL_NUM = t.TAIL_NUM \n",
    "                    AND CAST(two_hours_prior_depart_local AS DATE) = CAST(t.two_hours_prior_depart_local AS DATE) \n",
    "                    AND two_hours_prior_depart_UTC < t.two_hours_prior_depart_UTC\n",
    "            ), 0) AS avg_day_tail_num_delay\n",
    "        FROM \n",
    "            data_view t\n",
    "    \"\"\"\n",
    "\n",
    "    # run the sql query\n",
    "    tail_number_avg_delay = spark.sql(sql_query)\n",
    "\n",
    "    # join the table\n",
    "    df = df.join(tail_number_avg_delay, [\"TAIL_NUM\", \"two_hours_prior_depart_UTC\"])\n",
    "\n",
    "    df.write.mode(\"overwrite\").parquet(f\"{team_blob_url}/full_feature_engineering_checkpoint5_LLM\")"
   ]
  },
  {
   "cell_type": "code",
   "execution_count": 0,
   "metadata": {
    "application/vnd.databricks.v1+cell": {
     "cellMetadata": {
      "byteLimit": 2048000,
      "rowLimit": 10000
     },
     "inputWidgets": {},
     "nuid": "0354f1ac-e423-4bae-a6eb-f288c015711b",
     "showTitle": false,
     "title": ""
    }
   },
   "outputs": [],
   "source": [
    "'''\n",
    "Additional feature engineering to fix null values in target column and add in a sequential id for a windowed group\n",
    "'''\n",
    "\n",
    "if READ:\n",
    "    df = spark.read.format(\"parquet\").load(f\"{team_blob_url}/full_feature_engineering_checkpoint\")\n",
    "\n",
    "else:\n",
    "        \n",
    "    # update DEP_DEL15 when values are null \n",
    "    df = df.withColumn(\"DEP_DEL15\", \n",
    "                    when((col(\"DEP_DEL15\").isNull()) & (col(\"CRS_DEP_TIME\") == col(\"DEP_TIME\")) , F.lit(0))\n",
    "                    .otherwise(col(\"DEP_DEL15\")))\n",
    "\n",
    "    # adds a new column \"flight_id\", assigning a unique sequential number to each row within groups - Define a window specification\n",
    "    windowSpec = Window.orderBy([\"OP_CARRIER_FL_NUM\",\"OP_CARRIER_AIRLINE_ID\", \"TAIL_NUM\", \"ORIGIN\", \"DEST\", \"scheduled_departure_time_utc\"])  # Order by any column to define the order\n",
    "\n",
    "    # Add an index column, flight_id, to the DataFrame, and assign a unique sequential number to each row within groups\n",
    "    df = df.withColumn(\"flight_id\", F.row_number().over(windowSpec))\n",
    "\n",
    "    df.write.mode(\"overwrite\").parquet(f\"{team_blob_url}/full_feature_engineering_checkpoint_LLM\")\n",
    "\n",
    "\n"
   ]
  },
  {
   "cell_type": "markdown",
   "metadata": {
    "application/vnd.databricks.v1+cell": {
     "cellMetadata": {
      "byteLimit": 2048000,
      "rowLimit": 10000
     },
     "inputWidgets": {},
     "nuid": "71dc5012-7fac-499c-887d-e0378ebbe171",
     "showTitle": false,
     "title": ""
    }
   },
   "source": [
    "## Exploratory Data Analysis"
   ]
  },
  {
   "cell_type": "markdown",
   "metadata": {
    "application/vnd.databricks.v1+cell": {
     "cellMetadata": {
      "byteLimit": 2048000,
      "rowLimit": 10000
     },
     "inputWidgets": {},
     "nuid": "dcecffdd-7d1d-4400-b1c3-a3222a3ab4af",
     "showTitle": false,
     "title": ""
    }
   },
   "source": [
    "The flights data source includes ~31.7 million records between 2015 and 2019. We removed instances of flights that were diverted or cancelled. The goal of the project is to predict delays, so we only wanted to include flights that successfully completed their scheduled route. We are battling extreme class imbalance in the flights data, where there are about four times as many instances of on-time flights as compared to delayed flights. This will require careful consideration as we design and evaluate our models. Visualization of the imbalance can be seen below.\n",
    "\n",
    "Given this data is time-series data, we are unable to randomly sample the data and we also want to consider data spillage so we are not using data in the model that will be unavailable in the case of predicting values real time. We will use 2015-2018 to explore our data."
   ]
  },
  {
   "cell_type": "code",
   "execution_count": 0,
   "metadata": {
    "application/vnd.databricks.v1+cell": {
     "cellMetadata": {
      "byteLimit": 2048000,
      "rowLimit": 10000
     },
     "inputWidgets": {},
     "nuid": "66b97ae5-97f0-423e-9c9a-3cb0d7b9830d",
     "showTitle": false,
     "title": ""
    }
   },
   "outputs": [],
   "source": [
    "# Don't consider the test data in 2019\n",
    "df_2015_2018 = (df[df['FL_DATE']<\"2019-01-01\"])"
   ]
  },
  {
   "cell_type": "code",
   "execution_count": 0,
   "metadata": {
    "application/vnd.databricks.v1+cell": {
     "cellMetadata": {
      "byteLimit": 2048000,
      "rowLimit": 10000
     },
     "inputWidgets": {},
     "nuid": "3bdb2f3c-6337-4187-8a26-e3b9923af6a2",
     "showTitle": false,
     "title": ""
    }
   },
   "outputs": [
    {
     "output_type": "display_data",
     "data": {
      "image/png": "[encoded data removed]",
      "text/plain": [
       "<Figure size 640x480 with 1 Axes>"
      ]
     },
     "metadata": {},
     "output_type": "display_data"
    }
   ],
   "source": [
    "'''\n",
    "Create histogram of the occurances of flights that are Delayed or Not Delayed \n",
    "'''\n",
    "\n",
    "# Make sure all instances of Diverted and Cancelled ae filtered out of dataframe\n",
    "df_plot_delays = df_2015_2018[df_2015_2018[\"DIVERTED\"] != 1]\n",
    "df_plot_delays = df_plot_delays[df_plot_delays[\"CANCELLED\"] != 1]\n",
    "\n",
    "def millions_formatter(x, pos):\n",
    "    return \"{:.3f}M\".format(x / 1e6)\n",
    "\n",
    "\n",
    "def millions_axis_formatter(x, pos):\n",
    "    return \"{:.0f}M\".format(x / 1e6)\n",
    "\n",
    "# get count of each class, Not Delayed and Delayed \n",
    "delay_ct = df_plot_delays.groupby(df_plot_delays.DEP_DEL15).count().toPandas()\n",
    "ax = delay_ct.plot(x=\"DEP_DEL15\", y=\"count\", kind=\"bar\", legend=False)\n",
    "ax.yaxis.set_major_formatter(FuncFormatter(millions_axis_formatter))\n",
    "\n",
    "# add labels to bar\n",
    "for bars in ax.containers:\n",
    "    ax.bar_label(bars, fmt='%.0f')\n",
    "\n",
    "plt.subplots_adjust(bottom=0.15)\n",
    "plt.ylabel(\"Number of Flights\")\n",
    "plt.xlabel(\"Status\")\n",
    "plt.xticks(range(2), [\"No Delay\", \"Delay\"], rotation=0)\n",
    "plt.title(\"Flight Status Histogram\")\n",
    "plt.show()"
   ]
  },
  {
   "cell_type": "markdown",
   "metadata": {
    "application/vnd.databricks.v1+cell": {
     "cellMetadata": {
      "byteLimit": 2048000,
      "rowLimit": 10000
     },
     "inputWidgets": {},
     "nuid": "e9dc4ee9-2be0-476e-976b-9d02a33d57d6",
     "showTitle": false,
     "title": ""
    }
   },
   "source": [
    "We might also be interested in the histogram of delays, binned by the amount of delay in minutes. We can see that the majority of delays are between 15 and 29 minutes and as the binned delay times increase, the number of delay instances decreases. The bar color shows the median departure hour. We observe through this chart that flight delays typically occur in the mid afternoon across all delay durations."
   ]
  },
  {
   "cell_type": "code",
   "execution_count": 0,
   "metadata": {
    "application/vnd.databricks.v1+cell": {
     "cellMetadata": {
      "byteLimit": 2048000,
      "rowLimit": 10000
     },
     "inputWidgets": {},
     "nuid": "6dcd8ac5-e6bd-472e-9d81-8e8353b5f726",
     "showTitle": false,
     "title": ""
    }
   },
   "outputs": [
    {
     "output_type": "display_data",
     "data": {
      "image/png": "[encoded data removed]",
      "text/plain": [
       "<Figure size 640x480 with 2 Axes>"
      ]
     },
     "metadata": {},
     "output_type": "display_data"
    }
   ],
   "source": [
    "'''\n",
    "Create histogram of the amount of flights that are delayed, binned by the delay time and colored by the median hour of the day the flights were delayed\n",
    "'''\n",
    "\n",
    "\n",
    "# Filter so only looking at delays more than 15 minutes\n",
    "dept_status = (\n",
    "    df_2015_2018[df_2015_2018[\"DEP_DEL15\"] == 1]\n",
    "    .groupby(df_2015_2018.DEP_DELAY_GROUP)\n",
    "    .count()\n",
    "    .toPandas()\n",
    ")\n",
    "\n",
    "# Get median hour for when there is a delay of 15 min or greater \n",
    "df_2015_2018 = df_2015_2018.withColumn('dep_hr', F.substring(df_2015_2018['DEP_TIME_BLK'], 1, 2))\n",
    "median_dep_delay_hr = df_2015_2018[df_2015_2018[\"DEP_DEL15\"] == 1].groupby(df_2015_2018.DEP_DELAY_GROUP).agg(F.median('dep_hr')).toPandas()\n",
    "\n",
    "# Sort by the delay group\n",
    "dept_status = dept_status.sort_values(by=\"DEP_DELAY_GROUP\", ascending=False)\n",
    "\n",
    "# Define a colormap for the hours in a day\n",
    "norm = mcolors.Normalize(vmin=0, vmax=23)\n",
    "cmap = plt.get_cmap(\"nipy_spectral\")\n",
    "\n",
    "\n",
    "# Create bar chart\n",
    "ax = dept_status.plot(x=\"DEP_DELAY_GROUP\",\n",
    "                      y=\"count\",\n",
    "                      kind=\"bar\", \n",
    "                      legend=False, \n",
    "                      color=cmap(norm(median_dep_delay_hr[\"median(dep_hr)\"])))\n",
    "\n",
    "# Set axis parameters \n",
    "ax.invert_xaxis()\n",
    "ax.set_ylabel(\"Num of Delays\")\n",
    "ax.set_xlabel(\"Binned Delay Time\")\n",
    "ax.set_title(\"Histogram of Binned Delay Time (Increments of 15)\")\n",
    "ax.set_xticklabels(\n",
    "    [\n",
    "        \"Delay >= 180\",\n",
    "        \"165 <= Delay <= 179\",\n",
    "        \"150 <= Delay <= 164\",\n",
    "        \"135 <= Delay <= 149\",\n",
    "        \"120 <= Delay <= 134\",\n",
    "        \"105 <= Delay <= 119\",\n",
    "        \"90 <= Delay <= 104\",\n",
    "        \"75 <= Delay <= 89\",\n",
    "        \"60 <= Delay <= 74\",\n",
    "        \"45 <= Delay <= 59\",\n",
    "        \"30 <= Delay <= 44\",\n",
    "        \"15 <= Delay <= 29\",\n",
    "    ],\n",
    "    rotation=90,\n",
    ")\n",
    "\n",
    "# Define the Scalable Mappable and set the colormap\n",
    "sm = plt.cm.ScalarMappable(cmap=cmap, norm=norm)\n",
    "sm.set_array([])\n",
    "cbar = plt.colorbar(sm, ax=ax)\n",
    "cbar.set_label(\"Median Departure Hour\")\n",
    "\n",
    "\n"
   ]
  },
  {
   "cell_type": "markdown",
   "metadata": {
    "application/vnd.databricks.v1+cell": {
     "cellMetadata": {
      "byteLimit": 2048000,
      "rowLimit": 10000
     },
     "inputWidgets": {},
     "nuid": "d69daff1-d153-419c-89df-d080cd554e58",
     "showTitle": false,
     "title": ""
    }
   },
   "source": [
    "The next chart investigates the visibility distance and wind speed variables. It distinguishes when there is a delay and when there is not a delay, colored by the measurements at departure and arrival airports. First and foremost, it shows that when there is a delay, the weather is typically more severe (lower visibility and higher wind speeds).\n",
    "\n",
    "Also of interest is that when there is no delay, the disparities in average weather variables between arrival and departure airports are negligible. However, when there is a delay, we see more of a difference in weather conditions between the arrival and departure airports. This points to the fact that **weather conditions that are more out of the ordinary contribute to delays**."
   ]
  },
  {
   "cell_type": "code",
   "execution_count": 0,
   "metadata": {
    "application/vnd.databricks.v1+cell": {
     "cellMetadata": {
      "byteLimit": 2048000,
      "rowLimit": 10000
     },
     "inputWidgets": {},
     "nuid": "24871536-15db-40bd-ad03-80b9dcda3627",
     "showTitle": false,
     "title": ""
    }
   },
   "outputs": [
    {
     "output_type": "display_data",
     "data": {
      "image/png": "[encoded data removed]",
      "text/plain": [
       "<Figure size 1200x1000 with 2 Axes>"
      ]
     },
     "metadata": {},
     "output_type": "display_data"
    }
   ],
   "source": [
    "'''\n",
    "Bar chart to convey the disparities between average \n",
    "'''\n",
    "\n",
    "# Aggregate the data to get mean weather values for Delayed and Not Delayed flights  \n",
    "mean_weather_vars = df_2015_2018.groupBy(df_2015_2018.DEP_DEL15).agg(\n",
    "                                                F.mean('dep_WND_SPD').alias(\"dep_WND_SPD_mean\"),\n",
    "                                                F.mean('arr_WND_SPD').alias(\"arr_WND_SPD_mean\"), \n",
    "                                                F.mean('dep_VIS_DIST').alias(\"dep_VIS_DIST_mean\"),\n",
    "                                                F.mean('arr_VIS_DIST').alias(\"arr_VIS_DIST_mean\"))\n",
    "\n",
    "# Extract data\n",
    "delays = mean_weather_vars.select('DEP_DEL15').rdd.flatMap(lambda x: x).collect()\n",
    "variables = ['dep_WND_SPD_mean', 'arr_WND_SPD_mean'], ['dep_VIS_DIST_mean', 'arr_VIS_DIST_mean']\n",
    "medians = [mean_weather_vars.select(variable).rdd.flatMap(lambda x: x).collect() for variable in variables]\n",
    "\n",
    "# create subplots\n",
    "fig, axs = plt.subplots(2, 1, figsize=(12, 10))\n",
    "axs = axs.ravel()\n",
    "titles = ['Wind Speed Mean', 'Visibility Distance Mean']\n",
    "\n",
    "# Plot the data \n",
    "for i, (variable1, variable2) in enumerate(variables):\n",
    "    \n",
    "    # Extract data and flatten\n",
    "    data1 = [row[0] for row in mean_weather_vars.select(variable1).collect()]\n",
    "    data2 = [row[0] for row in mean_weather_vars.select(variable2).collect()]\n",
    "    \n",
    "    standard_dev = np.std(data1+data2)\n",
    "\n",
    "    bar_width = 0.35\n",
    "    index = np.arange(len(data1))\n",
    "\n",
    "    # Plot data\n",
    "    bars1 = axs[i].bar(index, data1, bar_width, label=\"Departure\")\n",
    "    bars2 = axs[i].bar(index + bar_width, data2, bar_width, label=\"Arrival\")\n",
    "    axs[i].set_xlabel('DEP_DEL15')\n",
    "    axs[i].set_ylabel('Mean Value')\n",
    "    axs[i].set_ylim(min(min(data1, data2)) - standard_dev, max(max(data1, data2))+standard_dev)\n",
    "    axs[i].set_title(titles[i])\n",
    "    axs[i].set_xticks(index + bar_width / 2)\n",
    "    axs[i].set_xticklabels(mean_weather_vars.select('DEP_DEL15').distinct().rdd.flatMap(lambda x: x).collect())\n",
    "    axs[i].legend()\n",
    "\n",
    "    # Add value as text on top of each bar\n",
    "    for bar1, bar2, value1, value2 in zip(bars1, bars2, data1, data2):\n",
    "        axs[i].text(bar1.get_x() + bar1.get_width() / 2, bar1.get_height(), round(value1, 2), ha='center', va='bottom')\n",
    "        axs[i].text(bar2.get_x() + bar2.get_width() / 2, bar2.get_height(), round(value2, 2), ha='center', va='bottom')\n",
    "\n",
    "\n",
    "# layout\n",
    "plt.tight_layout()\n",
    "plt.show()"
   ]
  },
  {
   "cell_type": "markdown",
   "metadata": {
    "application/vnd.databricks.v1+cell": {
     "cellMetadata": {
      "byteLimit": 2048000,
      "rowLimit": 10000
     },
     "inputWidgets": {},
     "nuid": "334c99e6-a7a6-45ae-9a02-13f1f4525a39",
     "showTitle": false,
     "title": ""
    }
   },
   "source": [
    "We calculated the percent of flights that had been delayed out of the departure airport as of two hours prior to scheduled departure. We assume if there were a large number of delays at a given airport on that day, in return, there may be  cascading delays in that airport, on that day. Similarly, we calculated the average delay length for the specific aircraft tail number as of two hours prior to departure. This feature aims to capture delays that were due to a delay from the incoming flight. We also calculated the average delay duration for both the departure airport and carrier airline over the previous month. These metrics provide valuable context for understanding historical delay patterns and their potential recurrence. Following is the naming schema of those features.\n",
    "\n",
    "\n",
    "- Pct_prev_14_flights_delayed (Percent of flights of the same route in the previous 14 days that were delayed)\n",
    "- Airline_pct_prev_1_days_delay (Percent of flights of that airline that were delayed the day prior to the scheduled departure)\n",
    "- Origin_airport_day_pct_delay (Percent of flights at the departure airport that were delayed the day prior to the scheduled departure)\n",
    "- Rolling_30_day_prev_year_pct_flight_delays (Percent of flights delayed for the rolling previous 30 days in the previous year, to capture seasonality)\n",
    "\n",
    "\n",
    "Pct_prev_14_flights_delayed has a wide distribution between the first and third quantile with outliers above 50%, which indicates considerable variability in the percentage of flights delayed in the previous 14 days. Both Airline_pct_prev_1_days_delay and origin_airport_day_pct_delay do not have quite as wide of a range between the first and third quartile but again, has a lot of outlier values just above 35%. Rolling_30_day_prev_year_pct_flight_delays has a smaller distribution of values and the outliers do not extend far beyond the 3rd quartile. This indicates a more consistent pattern of flight delays over this period of time. These plots display varying degrees of varaibility and outlier presence among different variables as they pertain to flight delays."
   ]
  },
  {
   "cell_type": "code",
   "execution_count": 0,
   "metadata": {
    "application/vnd.databricks.v1+cell": {
     "cellMetadata": {
      "byteLimit": 2048000,
      "rowLimit": 10000
     },
     "inputWidgets": {},
     "nuid": "342ffe7b-4119-4f28-ae99-2370a03921e8",
     "showTitle": false,
     "title": ""
    }
   },
   "outputs": [
    {
     "output_type": "display_data",
     "data": {
      "image/png": "[encoded data removed]",
      "text/plain": [
       "<Figure size 1000x600 with 1 Axes>"
      ]
     },
     "metadata": {},
     "output_type": "display_data"
    }
   ],
   "source": [
    "'''\n",
    "Get boxplots of the derived delay variables \n",
    "'''\n",
    "\n",
    "boxplot_cols = ['pct_prev_14_flights_delayed', 'origin_airport_day_pct_delay', 'airline_pct_prev_1_days_delay', 'rolling_30_day_prev_year_pct_flight_delays']\n",
    "\n",
    "df_percentage_variables = df_2015_2018.select(*boxplot_cols).toPandas()\n",
    "\n",
    "plt.figure(figsize=(10, 6))\n",
    "df_percentage_variables.boxplot(column= boxplot_cols)\n",
    "plt.title('Boxplots of Percentage Variables')\n",
    "plt.xlabel('Features')\n",
    "plt.ylabel('Percentage Values')\n",
    "plt.xticks(rotation=90)\n",
    "plt.show()"
   ]
  },
  {
   "cell_type": "markdown",
   "metadata": {
    "application/vnd.databricks.v1+cell": {
     "cellMetadata": {
      "byteLimit": 2048000,
      "rowLimit": 10000
     },
     "inputWidgets": {},
     "nuid": "889ada12-2178-48bb-a4c6-765ba4a12bc8",
     "showTitle": false,
     "title": ""
    }
   },
   "source": [
    "The following chart reveals that the days before and after a holiday have higher percentage of delayed flights. This is expected, as the holidays are notorious for high volume of traffic in the airport because people are traveling to spend time with their families for the holidays. The high demand for flights might make delays more susceptible because resources like pilots, flight attendants, planes, and security are already stretched during these times.\n",
    "\n",
    "Unexpectedly, the days leading up to and following a holiday see lower mean delay times, as measured in minutes. However, it is notable that there is a major class imbalance in that there are more instances of No Holidays than Holidays +- 3 days."
   ]
  },
  {
   "cell_type": "code",
   "execution_count": 0,
   "metadata": {
    "application/vnd.databricks.v1+cell": {
     "cellMetadata": {
      "byteLimit": 2048000,
      "rowLimit": 10000
     },
     "inputWidgets": {},
     "nuid": "6db90cd2-bdba-4416-8ac8-1b1f14cf62f1",
     "showTitle": false,
     "title": ""
    }
   },
   "outputs": [
    {
     "output_type": "display_data",
     "data": {
      "image/png": "[encoded data removed]",
      "text/plain": [
       "<Figure size 1000x500 with 1 Axes>"
      ]
     },
     "metadata": {},
     "output_type": "display_data"
    }
   ],
   "source": [
    "'''\n",
    "Get percenage of flights that were delayed on days that are a holiday or +- 3 days around a holiday versus not a holiday and compare median delay times\n",
    "'''\n",
    "\n",
    "# Aggregate dataframe to get number of delays, count of flights, mean delay time and standard deviation of delay time for Holiday or Not Holiday\n",
    "delays_by_holiday_around = (\n",
    "    df_2015_2018.groupBy(\"around_holidays\").agg(\n",
    "        F.sum(\"DEP_DEL15\").alias(\"Number of Delays\"),\n",
    "        F.count(\"DEP_DEL15\").alias(\"Number of Flights\"),\n",
    "        F.mean(F.when(df_2015_2018[\"DEP_DEL15\"] == 1, df_2015_2018[\"DEP_DELAY\"])).alias(\"Mean Departure Delay (min)\"),\n",
    "        F.stddev(F.when(df_2015_2018[\"DEP_DEL15\"] == 1, df_2015_2018[\"DEP_DELAY\"])).alias(\"Standard Deviation Departure Delay (min)\"))\n",
    "    .sort(F.col(\"around_holidays\").asc())\n",
    "    .toPandas()\n",
    ")\n",
    "\n",
    "# Rename columns for interpretability \n",
    "delays_by_holiday_around = delays_by_holiday_around.rename(columns = {'around_holidays':\"Holiday (0/1)\"})\n",
    "\n",
    "# Get percentage of flights delayed\n",
    "delays_by_holiday_around[\"% Flights Delayed\"] = round((\n",
    "    delays_by_holiday_around[\"Number of Delays\"] / delays_by_holiday_around[\"Number of Flights\"]) * 100, 3)\n",
    "\n",
    "\n",
    "# Create mapping between binary and displayed Holiday label\n",
    "holiday_mapping = {0: \"No Holiday\", 1: \"Holiday\"}\n",
    "delays_by_holiday_around['Holiday'] = delays_by_holiday_around['Holiday (0/1)'].map(holiday_mapping)\n",
    "Delay_Binary = [\"Delayed\", \"Not Delayed\"]\n",
    "\n",
    "# When there's no holiday, get percentage of delay/no delay\n",
    "No_Delay_Percentage = (delays_by_holiday_around[\"% Flights Delayed\"][0]/100)\n",
    "No_Holiday_Delay = [No_Delay_Percentage, 1 - No_Delay_Percentage]\n",
    "\n",
    "# Create the y height for each pie chart\n",
    "y_positions = [delays_by_holiday_around['Mean Departure Delay (min)'][0], delays_by_holiday_around['Mean Departure Delay (min)'][1]]\n",
    "\n",
    "# Color for pie charts\n",
    "colors = ['#FF0000', '#E6E6FA']\n",
    "\n",
    "# Explosion\n",
    "explode = (0.05, 0.05)\n",
    "\n",
    "# Define x axis mid points to make this a donut \n",
    "center_1 = 1\n",
    "center_2 = 5\n",
    "\n",
    "# Create fig and ax\n",
    "fig, ax = plt.subplots(figsize=(10, 5))\n",
    "ax.scatter([0] * len(y_positions), y_positions, s=0, color='gray')\n",
    "\n",
    "# Pie Chart\n",
    "ax.pie(No_Holiday_Delay, colors=colors, labels=Delay_Binary,\n",
    "        autopct='%1.1f%%', pctdistance=0.85,\n",
    "        explode=explode, wedgeprops=dict(width=0.3), center=(center_1, y_positions[0]))\n",
    "\n",
    "# Draw circle\n",
    "centre_circle = plt.Circle((center_1, y_positions[0]), 0.70, fc='white')\n",
    " \n",
    "# Adding Circle in Pie chart\n",
    "ax.add_artist(centre_circle)\n",
    " \n",
    "# Adding Title of chart\n",
    "ax.set_title('No Holidays')\n",
    "\n",
    "# When there's a holiday, get percentage of delay/no delay\n",
    "No_Delay_Percentage = (delays_by_holiday_around[\"% Flights Delayed\"][1]/100)\n",
    "Holiday_Delay = [No_Delay_Percentage, 1-No_Delay_Percentage]\n",
    "\n",
    "# Pie Chart\n",
    "ax.pie(Holiday_Delay, colors=colors, labels=Delay_Binary,\n",
    "        autopct='%1.1f%%', pctdistance=0.85,\n",
    "        explode=explode, wedgeprops=dict(width=0.3), center=(center_2, y_positions[1]))\n",
    "\n",
    "centre_circle = plt.Circle((center_2, y_positions[1]), 0.70, fc='white')\n",
    "\n",
    "ax.add_artist(centre_circle)\n",
    "ax.set_title('Pie Charts of Percentage of Flights Delayed')\n",
    "\n",
    "# Add text to the first pie chart\n",
    "ax.text(center_1, y_positions[0], round(y_positions[0], 2), ha='center', va='center', fontsize=12, color='grey')\n",
    "\n",
    "# Add text to the second pie chart\n",
    "ax.text(center_2, y_positions[1], round(y_positions[1], 2), ha='center', va='center', fontsize=12, color='grey')\n",
    "\n",
    "# Add x-axis ticks\n",
    "ax.set_xticks([center_1, center_2])\n",
    "plt.xlim([-0.5,7])\n",
    "ax.set_xticklabels(['No Holiday', 'Holiday (+- 3 Days)'])\n",
    "ax.tick_params(axis='x', which='both', bottom=False, top=False)\n",
    "\n",
    "\n",
    "# Set y-axis parameters\n",
    "plt.yticks([62, 63, 64, 65, 66, 67])#(y_positions)\n",
    "plt.ylabel('Mean Delay Time')\n",
    "plt.ylim([62, 66])\n",
    "\n",
    "# Display Chart\n",
    "plt.tight_layout()\n",
    "plt.subplots_adjust(left=0.1)\n",
    "plt.show()\n"
   ]
  },
  {
   "cell_type": "markdown",
   "metadata": {
    "application/vnd.databricks.v1+cell": {
     "cellMetadata": {
      "byteLimit": 2048000,
      "rowLimit": 10000
     },
     "inputWidgets": {},
     "nuid": "d1f498c9-a08e-4686-bb11-32e60f51eef1",
     "showTitle": false,
     "title": ""
    }
   },
   "source": [
    "When looking at the entire training dataset, instead of excusively looking at the number of delays in the dataset, we will consider the percent of flights delayed to provide a different perspective for delay comparison. This graph exhibits that Monday has the highest percentage of flights delayed while Saturday has the lowest percentage of flights delayed. We also wanted to analyze the median hour when delays occurred. Every day except Tuesday has the a median hour delay of 1pm, where Tuesday's median hour delay is 12pm. We observed similar patterns in previous charts."
   ]
  },
  {
   "cell_type": "code",
   "execution_count": 0,
   "metadata": {
    "application/vnd.databricks.v1+cell": {
     "cellMetadata": {
      "byteLimit": 2048000,
      "rowLimit": 10000
     },
     "inputWidgets": {},
     "nuid": "3cda0c78-81ba-4f66-b3a2-5e5d4357faad",
     "showTitle": false,
     "title": ""
    }
   },
   "outputs": [
    {
     "output_type": "execute_result",
     "data": {
      "text/plain": [
       "Text(0.5, 1.0, 'Percentage of Delayed Flights and Median Departure Hour by Day of Week')"
      ]
     },
     "execution_count": 17,
     "metadata": {},
     "output_type": "execute_result"
    },
    {
     "output_type": "display_data",
     "data": {
      "image/png": "[encoded data removed]",
      "text/plain": [
       "<Figure size 640x480 with 2 Axes>"
      ]
     },
     "metadata": {},
     "output_type": "display_data"
    }
   ],
   "source": [
    "'''\n",
    "Get number of delays and median departure time by the day of week\n",
    "'''\n",
    "\n",
    "# Get number of delays and the number of flights for each day of the week\n",
    "delays_by_dow = (\n",
    "    df_2015_2018.groupBy(\"DAY_OF_WEEK\")\n",
    "    .agg(\n",
    "        F.sum(\"DEP_DEL15\").alias(\"Number of Delays\"),\n",
    "        F.count(\"DEP_DEL15\").alias(\"Number of Flights\"))\n",
    "    .sort(F.col(\"DAY_OF_WEEK\").asc())\n",
    "    .toPandas())\n",
    "\n",
    "# Get the percentage of delayed flights by day\n",
    "delays_by_dow[\"Delay %\"] = (delays_by_dow[\"Number of Delays\"] / delays_by_dow[\"Number of Flights\"]) * 100\n",
    "\n",
    "# Create mapping between day values to name of day\n",
    "days_mapping = {\n",
    "    1: \"Monday\",\n",
    "    2: \"Tuesday\",\n",
    "    3: \"Wednesday\",\n",
    "    4: \"Thursday\",\n",
    "    5: \"Friday\",\n",
    "    6: \"Saturday\",\n",
    "    7: \"Sunday\"}\n",
    "\n",
    "# Conduct the mapping of values \n",
    "df = pd.DataFrame(list(days_mapping.items()), columns=[\"DAY_OF_WEEK\", \"Day of Week\"])\n",
    "delays_by_dow = delays_by_dow.merge(df, how=\"left\", on=[\"DAY_OF_WEEK\"])\n",
    "\n",
    "# Get the hour of departure from the DEP_TIME_BLK feature\n",
    "df_2015_2018_with_dep_hr = (df_2015_2018.withColumn('dep_hr', F.substring(df_2015_2018['DEP_TIME_BLK'], 1, 2)))\n",
    "\n",
    "# Get median departure hour when there is a delay\n",
    "df_2015_2018_with_dep_hr = (df_2015_2018_with_dep_hr.groupBy(\"DAY_OF_WEEK\").agg(F.median(\"dep_hr\"))).toPandas()\n",
    "\n",
    "# Set scale for hours of the day\n",
    "norm = mcolors.Normalize(vmin = 0, vmax=23)\n",
    "\n",
    "cmap = plt.get_cmap(\"gist_rainbow\")\n",
    "\n",
    "# Plot the Delay % by the day of the week with a color map to represent median hour departure \n",
    "ax = delays_by_dow.plot(\n",
    "    x=\"Day of Week\",\n",
    "    y=\"Delay %\",\n",
    "    kind=\"bar\",\n",
    "    legend=False,\n",
    "    color=cmap(norm(df_2015_2018_with_dep_hr[\"median(dep_hr)\"])),\n",
    "    edgecolor=\"black\")\n",
    "\n",
    "# Add in the values at top of bar for improved readability \n",
    "rects = ax.patches \n",
    "labels = list(df_2015_2018_with_dep_hr[\"median(dep_hr)\"])\n",
    "for rect, label in zip(rects, labels): \n",
    "    height = rect.get_height() \n",
    "    ax.text(rect.get_x() + rect.get_width() / 2, height+0.01, label, \n",
    "            ha='center', va='bottom') \n",
    "\n",
    "# Set the Scalar Mappable and call the color map from before\n",
    "sm = plt.cm.ScalarMappable(cmap=cmap, norm=norm)\n",
    "sm.set_array([])\n",
    "cbar = plt.colorbar(sm, ax=ax)\n",
    "cbar.set_label(\"Departure Time\")\n",
    "\n",
    "# Set plot parameters \n",
    "ax.yaxis.set_major_formatter(mtick.PercentFormatter())\n",
    "plt.subplots_adjust(bottom=0.15)\n",
    "plt.xlabel(\"Day of Week\")\n",
    "plt.ylabel(\"% of Flight Delays Per Day\")\n",
    "plt.title(\"Percentage of Delayed Flights and Median Departure Hour by Day of Week\")\n",
    "\n"
   ]
  },
  {
   "cell_type": "markdown",
   "metadata": {
    "application/vnd.databricks.v1+cell": {
     "cellMetadata": {
      "byteLimit": 2048000,
      "rowLimit": 10000
     },
     "inputWidgets": {},
     "nuid": "02ddfbe2-6d0c-4721-92ef-908aa0b70724",
     "showTitle": false,
     "title": ""
    }
   },
   "source": [
    "In the chart below, we are further assessing the same temporal variables as percentages but grouping them by carrier. We summed the percentage values for each carrier, and while they aren't percentages that will sum to a whole, they do provide insight into the reliability or delay frequency of each carrier. United Airlines and Hawaiian Airways have the smallest summed values, while budget airlines like Jet Blue and Frontier have the highest values."
   ]
  },
  {
   "cell_type": "code",
   "execution_count": 0,
   "metadata": {
    "application/vnd.databricks.v1+cell": {
     "cellMetadata": {
      "byteLimit": 2048000,
      "rowLimit": 10000
     },
     "inputWidgets": {},
     "nuid": "8d3e7890-0a4f-4c4e-897b-583d1b9f364f",
     "showTitle": false,
     "title": ""
    }
   },
   "outputs": [
    {
     "output_type": "stream",
     "name": "stderr",
     "output_type": "stream",
     "text": [
      "/root/.ipykernel/1364/command-2340268507078165-2133801204:80: UserWarning: Tight layout not applied. tight_layout cannot make axes width small enough to accommodate all axes decorations\n  plt.tight_layout(rect=[0, 0.06, 1, 0.95])\n"
     ]
    },
    {
     "output_type": "display_data",
     "data": {
      "image/png": "[encoded data removed]",
      "text/plain": [
       "<Figure size 1500x1300 with 19 Axes>"
      ]
     },
     "metadata": {},
     "output_type": "display_data"
    }
   ],
   "source": [
    "'''\n",
    "Create gauge to represent delay percentage variables \n",
    "'''\n",
    "\n",
    "# Aggregate data to get the mean value of each variable\n",
    "percentages_by_carrier = df_2015_2018.groupBy(df_2015_2018.OP_CARRIER).agg(\n",
    "                                    F.mean('pct_prev_14_flights_delayed').alias(\"pct_prev_14_flights_delayed\"),\n",
    "                                    F.mean(\"airline_pct_prev_1_days_delay\").alias(\"airline_pct_prev_1_days_delay\"),\n",
    "                                    F.mean('origin_airport_day_pct_delay').alias(\"origin_airport_day_pct_delay\"), \n",
    "                                    F.mean(\"rolling_30_day_prev_year_pct_flight_delays\").alias(\"rolling_30_day_prev_year_pct_flight_delays\"))\n",
    "\n",
    "# Get the carriers from the data\n",
    "carriers = percentages_by_carrier.select(\"OP_CARRIER\").rdd.flatMap(lambda x: x).collect()\n",
    "\n",
    "num_carriers = len(carriers)\n",
    "\n",
    "# Calculate the number of rows/ columns for subplots (7 and 6 because there are 13 carriers so rows will not be even)\n",
    "num_rows = (num_carriers + 6) // 7  \n",
    "num_cols = min(7, num_carriers) \n",
    "\n",
    "# Create a figure with subplots\n",
    "fig, axes = plt.subplots(num_rows, num_cols, figsize=(15, 13))\n",
    "\n",
    "# Remove any empty subplots\n",
    "if num_carriers % 7 != 0:\n",
    "    for i in range(num_carriers % 7, 7):\n",
    "        fig.delaxes(axes[-1, i])\n",
    "\n",
    "labels = ['pct_prev_14_flights_delayed', 'airline_pct_prev_1_days_delay', 'origin_airport_day_pct_delay', 'rolling_30_day_prev_year_pct_flight_delays']\n",
    "\n",
    "for idx, each_carrier in enumerate(carriers):\n",
    "    data = list(percentages_by_carrier.filter(percentages_by_carrier[\"OP_CARRIER\"] == each_carrier).collect()[0][1:-1])\n",
    "\n",
    "    # Number of data points\n",
    "    n = len(data)\n",
    "\n",
    "    # Find max value for full ring\n",
    "    k = 1 \n",
    "    m = k * (1 + max(data) // k)\n",
    "\n",
    "    # Radius of donut chart\n",
    "    r = 1.5\n",
    "\n",
    "    # Calculate width of each ring\n",
    "    w = r / n \n",
    "\n",
    "    #create colors along a chosen colormap\n",
    "    colors = ['bisque', 'mistyrose', 'azure', 'thistle']#[cm.terrain(i / n) for i in range(n)]\n",
    "\n",
    "    num_cols = 7\n",
    "\n",
    "    #create axis\n",
    "    ax = axes[idx // num_cols, idx % num_cols]\n",
    "    ax.axis(\"equal\")\n",
    "\n",
    "    # Loop through the values for each carrier \n",
    "    for i in range(n):\n",
    "        #hide labels in segments with textprops: alpha = 0 - transparent, alpha = 1 - visible\n",
    "        innerring, _ = ax.pie([m - data[i], data[i]],\n",
    "                                radius = r - i * w, \n",
    "                                startangle = 90, \n",
    "                                labels = [\"\", labels[i]], \n",
    "                                labeldistance = 1 - 1 / (1.5 * (n - i)), \n",
    "                                textprops = {\"alpha\": 0}, \n",
    "                                colors = [\"white\", colors[i]])\n",
    "        plt.setp(innerring, width = w, edgecolor = \"white\")\n",
    "\n",
    "        angle_rad = 0.1#(2 * np.pi * i) / n\n",
    "        x = (r - i * w) * np.cos(angle_rad)\n",
    "        y = (r - i * w) * np.sin(angle_rad)\n",
    "\n",
    "        offset = 0.25 *w \n",
    "        x_text = 0 \n",
    "        y_text = r - i * w - offset#y + offset * np.sin(angle_rad)\n",
    "\n",
    "        ax.text(x_text, y_text, f'{data[i]:.2f}', ha='center', va='center')\n",
    "    ax.set_title(f\"Carrier: {each_carrier}\", y = 1.1)\n",
    "\n",
    "plt.legend(loc = \"lower right\")\n",
    "plt.tight_layout(rect=[0, 0.06, 1, 0.95])\n",
    "plt.show()"
   ]
  },
  {
   "cell_type": "markdown",
   "metadata": {
    "application/vnd.databricks.v1+cell": {
     "cellMetadata": {
      "byteLimit": 2048000,
      "rowLimit": 10000
     },
     "inputWidgets": {},
     "nuid": "b0602d0e-df70-4df5-bd83-eaf502ae2012",
     "showTitle": false,
     "title": ""
    }
   },
   "source": [
    "## Modeling"
   ]
  },
  {
   "cell_type": "markdown",
   "metadata": {
    "application/vnd.databricks.v1+cell": {
     "cellMetadata": {
      "byteLimit": 2048000,
      "rowLimit": 10000
     },
     "inputWidgets": {},
     "nuid": "901e77b4-d24b-43f7-8aa2-f6f72264f5a8",
     "showTitle": false,
     "title": ""
    }
   },
   "source": [
    "Once all the features were calculated, we applied normalization to numeric features using a MinMaxScaler, where values were based on the training data. MinMaxScaler aims to preserve the distribution of the underlying features, which was not normal in all cases. For all our experiment datasets we checkpointed the train, validation, and test datasets to parquet at multiple points throughout the feature engineering process to avoid duplication of work and runtime.\n",
    "\n",
    "We utilized cross validation throughout training, which required careful consideration to avoid leakage between training, validation, and test datasets, where leakage is defined as leveraging data in the model that would not be available at the time of prediction. \n",
    "\n",
    "We created four folds per year within our 2016 - 2018 data in order to explore optimizing the hyperparameters. For each year, we used HyperOpt to calculate the optimal hyperparameters within each fold, and then used the average of those to train the model. We scaled and imputed based on the training set for that fold, and did not extract information from other folds, to avoid leakage. We created roughly balanced folds with 7 months of training data, validating using the next two months of data. All final models were trained on data spanning 2016 - 2018, validated on data data Febuary 2019 - June 2019, and tested on data from July 2019 through December 2019.\n",
    "\n"
   ]
  },
  {
   "cell_type": "code",
   "execution_count": 0,
   "metadata": {
    "application/vnd.databricks.v1+cell": {
     "cellMetadata": {
      "byteLimit": 2048000,
      "rowLimit": 10000
     },
     "inputWidgets": {},
     "nuid": "ba7887af-3583-4a85-8010-9c043b4db5d4",
     "showTitle": false,
     "title": ""
    }
   },
   "outputs": [],
   "source": [
    "'''\n",
    "Set up the ranges of dates for the train, validate and test data. \n",
    "Training data will be between 2016 and 2018 and specific folds for train will be defined after\n",
    "Validation data will be between February 2019 to end of June 2019. Specific validation folds will be defined after\n",
    "Testing data will be between July 2019 to end of December 2019. \n",
    "\n",
    "After defining the ranges, will create folds for training and validating models \n",
    "'''\n",
    "\n",
    "# set up variables for modeling\n",
    "model_year = 2016_2018\n",
    "\n",
    "# Set start and end dates\n",
    "full_train_start_date = f\"2016-01-01\"\n",
    "full_train_end_date = f\"2018-12-31\"\n",
    "full_train_file_name = f\"{model_year}_data_train\"\n",
    "\n",
    "full_val_start_date = f\"2019-02-01\"\n",
    "full_val_end_date = f\"2019-06-30\"\n",
    "full_val_file_name = f\"{model_year}_data_val\"\n",
    "\n",
    "test_start_date = f\"2019-07-01\"\n",
    "test_end_date = f\"2019-12-31\"\n",
    "test_file_name = f\"{model_year}_data_test\"\n",
    "\n",
    "# Folds\n",
    "num_folds = 4\n",
    "\n",
    "fold_n_train_start_date = [f\"2016-01-01\", f\"2016-10-01\", f\"2017-07-01\", f\"2018-04-01\"] # every nine months\n",
    "fold_n_train_end_date = [f\"2016-07-31\", f\"2017-04-30\", f\"2018-01-31\", f\"2018-10-31\"] # training duration is 8 months\n",
    "fold_n_train_file_name = [f\"{model_year}_fold_1_train\", f\"{model_year}_fold_2_train\", f\"{model_year}_fold_3_train\", f\"{model_year}_fold_4_train\"]\n",
    "\n",
    "fold_n_val_start_date = [f\"2016-08-01\", f\"2017-05-01\", f\"2018-02-01\", f\"2018-11-01\"] # fold is every nine months\n",
    "fold_n_val_end_date = [f\"2016-09-30\", f\"2017-06-30\", f\"2018-03-31\", f\"2018-12-31\"] # validation duration is 2 months\n",
    "fold_n_val_file_name = [f\"{model_year}_fold_1_val\", f\"{model_year}_fold_2_val\", f\"{model_year}_fold_3_val\", f\"{model_year}_fold_4_val\"]"
   ]
  },
  {
   "cell_type": "code",
   "execution_count": 0,
   "metadata": {
    "application/vnd.databricks.v1+cell": {
     "cellMetadata": {
      "byteLimit": 2048000,
      "rowLimit": 10000
     },
     "inputWidgets": {},
     "nuid": "922e049b-ef8d-492a-818f-90d18432fbed",
     "showTitle": false,
     "title": ""
    }
   },
   "outputs": [],
   "source": [
    "'''\n",
    "Prepare data to be ingested by model. Chose the features from previous regularization work that was not included.\n",
    "'''\n",
    "\n",
    "# read in full dataset \n",
    "df = spark.read.format(\"parquet\").load(f\"{team_blob_url}/full_feature_engineering_checkpoint\")\n",
    "\n",
    "# Keep only relevant\n",
    "df = df.select(['FL_DATE', 'CRS_DEP_TIME', 'DISTANCE', 'around_holidays', 'arr_VIS_DIST', 'arr_WND_SPD', 'dep_VIS_DIST', 'dep_WND_SPD', 'pct_prev_14_flights_delayed', 'avg_day_tail_num_delay', 'origin_airport_day_pct_delay', 'dept_airport_prev_month_avg_delay', 'airline_pct_prev_1_days_delay', 'rolling_30_day_prev_year_pct_flight_delays', 'DEP_DEL15', 'DEP_TIME', 'DEP_DELAY', 'ARR_TIME', 'CRS_ARR_TIME', 'CARRIER_DELAY', 'WEATHER_DELAY', 'NAS_DELAY', 'SECURITY_DELAY', 'LATE_AIRCRAFT_DELAY', 'flight_id'])\n",
    "\n",
    "# Convert numeric columns to integers\n",
    "df = df.withColumn(\"DEP_DEL15\", col(\"DEP_DEL15\").cast(\"integer\"))\n",
    "df = df.withColumn(\"CRS_DEP_TIME\", col(\"CRS_DEP_TIME\").cast(\"integer\"))\n",
    "df = df.withColumn(\"DISTANCE\", col(\"DISTANCE\").cast(\"integer\"))\n",
    "df = df.withColumn(\"arr_VIS_DIST\", col(\"arr_VIS_DIST\").cast(\"integer\"))\n",
    "df = df.withColumn(\"dep_VIS_DIST\", col(\"dep_VIS_DIST\").cast(\"integer\"))\n",
    "df = df.withColumn(\"arr_WND_SPD\", col(\"arr_WND_SPD\").cast(\"integer\"))\n",
    "df = df.withColumn(\"dep_WND_SPD\", col(\"dep_WND_SPD\").cast(\"integer\"))\n",
    "df = df.withColumn(\"pct_prev_14_flights_delayed\", col(\"pct_prev_14_flights_delayed\").cast(\"double\"))\n",
    "df = df.withColumn(\"avg_day_tail_num_delay\", col(\"avg_day_tail_num_delay\").cast(\"double\"))\n",
    "df = df.withColumn(\"origin_airport_day_pct_delay\", col(\"origin_airport_day_pct_delay\").cast(\"double\"))\n",
    "df = df.withColumn(\"dept_airport_prev_month_avg_delay\", col(\"dept_airport_prev_month_avg_delay\").cast(\"double\"))\n",
    "df = df.withColumn(\"airline_pct_prev_1_days_delay\", col(\"airline_pct_prev_1_days_delay\").cast(\"double\"))\n",
    "df = df.withColumn(\"rolling_30_day_prev_year_pct_flight_delays\", col(\"rolling_30_day_prev_year_pct_flight_delays\").cast(\"double\"))\n",
    "\n",
    "# Add columns for post prediction analysis\n",
    "df = df.withColumn(\"DEP_TIME\", col(\"DEP_TIME\").cast(\"integer\"))\n",
    "df = df.withColumn(\"DEP_DELAY\", col(\"DEP_DELAY\").cast(\"double\"))\n",
    "df = df.withColumn(\"ARR_TIME\", col(\"ARR_TIME\").cast(\"integer\"))\n",
    "df = df.withColumn(\"CRS_ARR_TIME\", col(\"CRS_ARR_TIME\").cast(\"integer\"))\n",
    "df = df.withColumn(\"CARRIER_DELAY\", col(\"CARRIER_DELAY\").cast(\"double\"))\n",
    "df = df.withColumn(\"WEATHER_DELAY\", col(\"WEATHER_DELAY\").cast(\"double\"))\n",
    "df = df.withColumn(\"NAS_DELAY\", col(\"NAS_DELAY\").cast(\"double\"))\n",
    "df = df.withColumn(\"SECURITY_DELAY\", col(\"SECURITY_DELAY\").cast(\"double\"))\n",
    "df = df.withColumn(\"LATE_AIRCRAFT_DELAY\", col(\"LATE_AIRCRAFT_DELAY\").cast(\"double\"))\n"
   ]
  },
  {
   "cell_type": "code",
   "execution_count": 0,
   "metadata": {
    "application/vnd.databricks.v1+cell": {
     "cellMetadata": {
      "byteLimit": 2048000,
      "rowLimit": 10000
     },
     "inputWidgets": {},
     "nuid": "29ba0e35-f980-47b3-a58f-7232506891bd",
     "showTitle": false,
     "title": ""
    }
   },
   "outputs": [],
   "source": [
    "'''\n",
    "User defined function\n",
    "'''\n",
    "\n",
    "def scale_numerical(df, numerical_scaler_model = None, imputer_model = None):\n",
    "    \"\"\"\n",
    "    Scale the numerical features in the DataFrame.\n",
    "\n",
    "    Parameters:\n",
    "        df -> DataFrame: Input DataFrame containing the numerical features to be scaled.\n",
    "        numerical_scaler_model: Model for scaling the numerical features. (Default: None)\n",
    "\n",
    "    Returns:\n",
    "        DataFrame: DataFrame with the numerical features scaled and combined with the other features.\n",
    "        MinMaxScaler: Trained scaler model\n",
    "    \"\"\"\n",
    "\n",
    "    features_to_scale = ['CRS_DEP_TIME', 'DISTANCE', 'arr_VIS_DIST', 'arr_WND_SPD', 'dep_VIS_DIST', 'dep_WND_SPD', 'pct_prev_14_flights_delayed', 'avg_day_tail_num_delay', 'origin_airport_day_pct_delay', 'dept_airport_prev_month_avg_delay', 'airline_pct_prev_1_days_delay', 'rolling_30_day_prev_year_pct_flight_delays']\n",
    "\n",
    "    if imputer_model == None:\n",
    "        imputer = Imputer(inputCols= features_to_scale, outputCols=features_to_scale).setStrategy(\"median\")\n",
    "        imputer_model = imputer.fit(df)\n",
    "        \n",
    "    df = imputer_model.transform(df)\n",
    "\n",
    "    assembler = VectorAssembler(inputCols=features_to_scale, outputCol='features_scaled_assembled')\n",
    "    df = assembler.transform(df)\n",
    "\n",
    "    if numerical_scaler_model == None:\n",
    "        numerical_scaler = MinMaxScaler(inputCol='features_scaled_assembled', outputCol='scaled_features')\n",
    "        numerical_scaler_model = numerical_scaler.fit(df)\n",
    "    df = numerical_scaler_model.transform(df)\n",
    "\n",
    "    all_features = [\"scaled_features\", \"around_holidays\"]\n",
    "\n",
    "    assembler = VectorAssembler(inputCols=all_features, outputCol=\"final_features\", handleInvalid=\"skip\")\n",
    "    return assembler.transform(df), numerical_scaler_model, imputer_model"
   ]
  },
  {
   "cell_type": "code",
   "execution_count": 0,
   "metadata": {
    "application/vnd.databricks.v1+cell": {
     "cellMetadata": {
      "byteLimit": 2048000,
      "rowLimit": 10000
     },
     "inputWidgets": {},
     "nuid": "1a2b14b1-0ba8-4536-81d3-cffaade52a0c",
     "showTitle": false,
     "title": ""
    }
   },
   "outputs": [
    {
     "output_type": "execute_result",
     "data": {
      "text/html": [
       "<div>\n",
       "<style scoped>\n",
       "    .dataframe tbody tr th:only-of-type {\n",
       "        vertical-align: middle;\n",
       "    }\n",
       "\n",
       "    .dataframe tbody tr th {\n",
       "        vertical-align: top;\n",
       "    }\n",
       "\n",
       "    .dataframe thead th {\n",
       "        text-align: right;\n",
       "    }\n",
       "</style>\n",
       "<table border=\"1\" class=\"dataframe\">\n",
       "  <thead>\n",
       "    <tr style=\"text-align: right;\">\n",
       "      <th></th>\n",
       "      <th>features</th>\n",
       "      <th>label</th>\n",
       "      <th>flight_id</th>\n",
       "    </tr>\n",
       "  </thead>\n",
       "  <tbody>\n",
       "    <tr>\n",
       "      <th>0</th>\n",
       "      <td>[0.8727735368956743, 0.07588294651866802, 0.10...</td>\n",
       "      <td>1</td>\n",
       "      <td>12981581</td>\n",
       "    </tr>\n",
       "    <tr>\n",
       "      <th>1</th>\n",
       "      <td>[0.6357082273112807, 0.31523713420787086, 0.10...</td>\n",
       "      <td>1</td>\n",
       "      <td>12981583</td>\n",
       "    </tr>\n",
       "    <tr>\n",
       "      <th>2</th>\n",
       "      <td>[0.6361323155216285, 0.31523713420787086, 0.10...</td>\n",
       "      <td>0</td>\n",
       "      <td>12981584</td>\n",
       "    </tr>\n",
       "    <tr>\n",
       "      <th>3</th>\n",
       "      <td>[0.6361323155216285, 0.31523713420787086, 0.10...</td>\n",
       "      <td>0</td>\n",
       "      <td>12981585</td>\n",
       "    </tr>\n",
       "    <tr>\n",
       "      <th>4</th>\n",
       "      <td>[0.9067005937234944, 0.07588294651866802, 0.10...</td>\n",
       "      <td>0</td>\n",
       "      <td>12981587</td>\n",
       "    </tr>\n",
       "    <tr>\n",
       "      <th>5</th>\n",
       "      <td>[0.9067005937234944, 0.07588294651866802, 0.10...</td>\n",
       "      <td>0</td>\n",
       "      <td>12981588</td>\n",
       "    </tr>\n",
       "    <tr>\n",
       "      <th>6</th>\n",
       "      <td>[0.910941475826972, 0.07588294651866802, 0.100...</td>\n",
       "      <td>0</td>\n",
       "      <td>12981589</td>\n",
       "    </tr>\n",
       "    <tr>\n",
       "      <th>7</th>\n",
       "      <td>[0.910941475826972, 0.07588294651866802, 0.100...</td>\n",
       "      <td>0</td>\n",
       "      <td>12981590</td>\n",
       "    </tr>\n",
       "    <tr>\n",
       "      <th>8</th>\n",
       "      <td>[0.909245122985581, 0.07588294651866802, 0.100...</td>\n",
       "      <td>1</td>\n",
       "      <td>12981591</td>\n",
       "    </tr>\n",
       "    <tr>\n",
       "      <th>9</th>\n",
       "      <td>[0.9071246819338422, 0.07588294651866802, 0.10...</td>\n",
       "      <td>0</td>\n",
       "      <td>12981592</td>\n",
       "    </tr>\n",
       "  </tbody>\n",
       "</table>\n",
       "</div>"
      ],
      "text/plain": [
       "                                            features  label  flight_id\n",
       "0  [0.8727735368956743, 0.07588294651866802, 0.10...      1   12981581\n",
       "1  [0.6357082273112807, 0.31523713420787086, 0.10...      1   12981583\n",
       "2  [0.6361323155216285, 0.31523713420787086, 0.10...      0   12981584\n",
       "3  [0.6361323155216285, 0.31523713420787086, 0.10...      0   12981585\n",
       "4  [0.9067005937234944, 0.07588294651866802, 0.10...      0   12981587\n",
       "5  [0.9067005937234944, 0.07588294651866802, 0.10...      0   12981588\n",
       "6  [0.910941475826972, 0.07588294651866802, 0.100...      0   12981589\n",
       "7  [0.910941475826972, 0.07588294651866802, 0.100...      0   12981590\n",
       "8  [0.909245122985581, 0.07588294651866802, 0.100...      1   12981591\n",
       "9  [0.9071246819338422, 0.07588294651866802, 0.10...      0   12981592"
      ]
     },
     "execution_count": 22,
     "metadata": {},
     "output_type": "execute_result"
    }
   ],
   "source": [
    "'''\n",
    "Create and scale training data\n",
    "'''\n",
    "\n",
    "if READ:\n",
    "  train_DF_VA = spark.read.format(\"parquet\").load(f\"{team_blob_url}/{full_train_file_name}\")\n",
    "\n",
    "else:\n",
    "  # Filter by training data dates.\n",
    "  train_df = df.filter((df['FL_DATE'] >= full_train_start_date) & (df['FL_DATE'] <= full_train_end_date))\n",
    "\n",
    "  # Scale values in training data.\n",
    "  train_df, numerical_scaler_model, imputer_model = scale_numerical(train_df)\n",
    "\n",
    "  # Select variables of interest.\n",
    "  train_DF_VA = train_df.select(['final_features', 'DEP_DEL15', 'flight_id'])\n",
    "\n",
    "  # Rename label\n",
    "  train_DF_VA = train_DF_VA.select(\n",
    "      F.col('final_features').alias('features'),\n",
    "        F.col('DEP_DEL15').alias('label'), \n",
    "        col(\"flight_id\")\n",
    "    )\n",
    "  \n",
    "  # Drop redundant features.\n",
    "  train_DF_VA = train_DF_VA.drop(\"DEP_DEL15\")\n",
    "  train_DF_VA = train_DF_VA.drop(\"final_features\")\n",
    "\n",
    "  train_DF_VA.write.mode(\"overwrite\").parquet(f\"{team_blob_url}/{full_train_file_name}_LLM\")\n",
    "\n",
    "# Display data frame\n",
    "train_DF_VA.limit(10).toPandas()"
   ]
  },
  {
   "cell_type": "code",
   "execution_count": 0,
   "metadata": {
    "application/vnd.databricks.v1+cell": {
     "cellMetadata": {
      "byteLimit": 2048000,
      "rowLimit": 10000
     },
     "inputWidgets": {},
     "nuid": "fe4bf617-3adc-496b-b059-4f862aaa1323",
     "showTitle": false,
     "title": ""
    }
   },
   "outputs": [],
   "source": [
    "'''\n",
    "Create and scale validation data\n",
    "'''\n",
    "\n",
    "if READ:\n",
    "   val_DF_VA = spark.read.format(\"parquet\").load(f\"{team_blob_url}/{full_val_file_name}\")\n",
    "else:\n",
    "   # Filter by validation data dates.\n",
    "   val_df = df.filter((df['FL_DATE'] >= full_val_start_date) & (df['FL_DATE'] <= full_val_end_date))\n",
    "\n",
    "   # Scale the values.\n",
    "   val_df = scale_numerical(val_df, numerical_scaler_model, imputer_model)[0]\n",
    "\n",
    "   # Select only variables of interest\n",
    "   val_DF_VA = val_df.select(['final_features', 'DEP_DEL15',  'flight_id'])\n",
    "\n",
    "   # Rename label\n",
    "   val_DF_VA = val_DF_VA.select(\n",
    "      F.col('final_features').alias('features'),\n",
    "         F.col('DEP_DEL15').alias('label'), \n",
    "         col(\"flight_id\")\n",
    "      )\n",
    "   \n",
    "   # Drop redundant features\n",
    "   val_DF_VA = val_DF_VA.drop(\"DEP_DEL15\")\n",
    "   val_DF_VA = val_DF_VA.drop(\"final_features\")\n",
    "\n",
    "   val_DF_VA.write.mode(\"overwrite\").parquet(f\"{team_blob_url}/{full_val_file_name}_LLM\")\n"
   ]
  },
  {
   "cell_type": "code",
   "execution_count": 0,
   "metadata": {
    "application/vnd.databricks.v1+cell": {
     "cellMetadata": {
      "byteLimit": 2048000,
      "rowLimit": 10000
     },
     "inputWidgets": {},
     "nuid": "d6975897-4015-43e5-a179-d6a83bcbbe6e",
     "showTitle": false,
     "title": ""
    }
   },
   "outputs": [
    {
     "output_type": "execute_result",
     "data": {
      "text/plain": [
       "'\\nCreate and scale test data\\n\\n\\nif READ:\\n   test_DF_VA = spark.read.format(\"parquet\").load(f\"{team_blob_url}/{test_file_name}\")\\nelse:\\n   # Filter by testing data dates. \\n   test_df = df.filter((df[\\'FL_DATE\\'] >= test_start_date) & (df[\\'FL_DATE\\'] <= test_end_date))\\n\\n   # Scale test data\\n   test_df = scale_numerical(test_df, numerical_scaler_model, imputer_model)[0]\\n\\n   # select only features of interest\\n   test_DF_VA = test_df.select([\\'final_features\\', \\'DEP_DEL15\\', \\'flight_id\\'])\\n\\n   # Rename label\\n   test_DF_VA = test_DF_VA.select(\\n      F.col(\\'final_features\\').alias(\\'features\\'),\\n         F.col(\\'DEP_DEL15\\').alias(\\'label\\'),\\n         col(\"flight_id\")\\n      )\\n   \\n   # Drop redundant features\\n   test_DF_VA = test_DF_VA.drop(\"DEP_DEL15\")\\n   test_DF_VA = test_DF_VA.drop(\"final_features\")\\n\\n   # Checkpoint file\\n   test_DF_VA.write.mode(\"overwrite\").parquet(f\"{team_blob_url}/{test_file_name}_LLM\")'"
      ]
     },
     "execution_count": 24,
     "metadata": {},
     "output_type": "execute_result"
    }
   ],
   "source": [
    "'''\n",
    "Create and scale test data\n",
    "\n",
    "\n",
    "if READ:\n",
    "   test_DF_VA = spark.read.format(\"parquet\").load(f\"{team_blob_url}/{test_file_name}\")\\\n",
    "\n",
    "else:\n",
    "   # Filter by testing data dates. \n",
    "   test_df = df.filter((df['FL_DATE'] >= test_start_date) & (df['FL_DATE'] <= test_end_date))\n",
    "\n",
    "   # Scale test data\n",
    "   test_df = scale_numerical(test_df, numerical_scaler_model, imputer_model)[0]\n",
    "\n",
    "   # select only features of interest\n",
    "   test_DF_VA = test_df.select(['final_features', 'DEP_DEL15', 'flight_id'])\n",
    "\n",
    "   # Rename label\n",
    "   test_DF_VA = test_DF_VA.select(\n",
    "      F.col('final_features').alias('features'),\n",
    "         F.col('DEP_DEL15').alias('label'),\n",
    "         col(\"flight_id\")\n",
    "      )\n",
    "   \n",
    "   # Drop redundant features\n",
    "   test_DF_VA = test_DF_VA.drop(\"DEP_DEL15\")\n",
    "   test_DF_VA = test_DF_VA.drop(\"final_features\")\n",
    "\n",
    "   # Checkpoint file\n",
    "   test_DF_VA.write.mode(\"overwrite\").parquet(f\"{team_blob_url}/{test_file_name}_LLM\")'''"
   ]
  },
  {
   "cell_type": "code",
   "execution_count": 0,
   "metadata": {
    "application/vnd.databricks.v1+cell": {
     "cellMetadata": {
      "byteLimit": 2048000,
      "rowLimit": 10000
     },
     "inputWidgets": {},
     "nuid": "991c978f-0d59-4690-9d66-6a6b2e88f00c",
     "showTitle": false,
     "title": ""
    }
   },
   "outputs": [],
   "source": [
    "'''\n",
    "Downsample the data for balanced classes.\n",
    "'''\n",
    "\n",
    "def downsample(train_df, verbose=False):\n",
    "  '''\n",
    "  Downsamples train_df to balance classes\n",
    "  \n",
    "  Parameters:\n",
    "      train_df: training data \n",
    "\n",
    "  Returns: downsampled training data\n",
    "\n",
    "  '''\n",
    "\n",
    "  #balance classes in train\n",
    "  delay_count = train_df.filter(F.col(\"label\") == 1).count()\n",
    "  non_delay_count = train_df.filter(F.col(\"label\") == 0).count()\n",
    "\n",
    "  total = delay_count + non_delay_count\n",
    "  keep_percent = delay_count / non_delay_count\n",
    "  \n",
    "  train_delay = train_df.filter(F.col('label') == 1)\n",
    "  train_non_delay = train_df.filter(F.col('label') == 0).sample(withReplacement=False,fraction=keep_percent,seed=42)\n",
    "  train_downsampled = train_delay.union(train_non_delay)\n",
    "  return train_downsampled\n",
    "\n",
    "if READ:\n",
    "  train_DF_VA_downsampled = spark.read.format(\"parquet\").load(f\"{team_blob_url}/{full_train_file_name}_downsampled\")\n",
    "  \n",
    "else:\n",
    "  # train \n",
    "  train_DF_VA_downsampled = downsample(train_DF_VA)\n",
    "  train_DF_VA_downsampled.write.mode(\"overwrite\").parquet(f\"{team_blob_url}/{full_train_file_name}_downsampled_LLM\")\n",
    "\n"
   ]
  },
  {
   "cell_type": "code",
   "execution_count": 0,
   "metadata": {
    "application/vnd.databricks.v1+cell": {
     "cellMetadata": {
      "byteLimit": 2048000,
      "rowLimit": 10000
     },
     "inputWidgets": {},
     "nuid": "db2339e0-101a-42ba-a8dd-41257ab86c70",
     "showTitle": false,
     "title": ""
    }
   },
   "outputs": [],
   "source": [
    "'''\n",
    "Create folds for train and validation data \n",
    "'''\n",
    "\n",
    "if READ: \n",
    "    pass\n",
    "else:\n",
    "    for n in range(num_folds):\n",
    "        print(f\"Creating fold {n+1}\")\n",
    "        \n",
    "        ##### CREATE TRAIN FOLD ######\n",
    "        fold_n_train = df.filter((df['FL_DATE'] >= fold_n_train_start_date[n]) & (df['FL_DATE'] <= fold_n_train_end_date[n]))\n",
    "\n",
    "        # scale the data \n",
    "        train_df, numerical_scaler_model, imputer_model = scale_numerical(fold_n_train)\n",
    "\n",
    "        # Keep only two columns\n",
    "        train_DF_VA = train_df.select(['final_features', 'DEP_DEL15', \"flight_id\"])\n",
    "\n",
    "        # Rename label\n",
    "        train_DF_VA = train_DF_VA.select(\n",
    "            F.col('final_features').alias('features'),\n",
    "            F.col('DEP_DEL15').alias('label'), \n",
    "            col(\"flight_id\")\n",
    "        )\n",
    "        train_DF_VA = train_DF_VA.drop(\"DEP_DEL15\")\n",
    "        train_DF_VA = train_DF_VA.drop(\"final_features\")\n",
    "\n",
    "        # Write file\n",
    "        fold_n_train_downsampled = downsample(train_DF_VA)\n",
    "        print(f\"Writing file {fold_n_train_file_name[n]}_downsampled\")\n",
    "        fold_n_train_downsampled.write.mode(\"overwrite\").parquet(f\"{team_blob_url}/{fold_n_train_file_name[n]}_downsampled_LLM\")\n",
    "\n",
    "        ##### CREATE VAL FOLD #####\n",
    "        fold_n_val = df.filter((df['FL_DATE'] >= fold_n_val_start_date[n]) & (df['FL_DATE'] <= fold_n_val_end_date[n]))\n",
    "        \n",
    "        val_df = scale_numerical(fold_n_val, numerical_scaler_model, imputer_model)[0]\n",
    "\n",
    "        # Keep only two columns\n",
    "        val_DF_VA = val_df.select(['final_features', 'DEP_DEL15'])\n",
    "\n",
    "        # Rename label\n",
    "        val_DF_VA = val_DF_VA.select(\n",
    "            F.col('final_features').alias('features'),\n",
    "            F.col('DEP_DEL15').alias('label'), \n",
    "            col(\"flight_id\")\n",
    "        )\n",
    "        val_DF_VA = val_DF_VA.drop(\"DEP_DEL15\")\n",
    "        val_DF_VA = val_DF_VA.drop(\"final_features\")\n",
    "\n",
    "        # Write file\n",
    "        print(f\"Writing file {fold_n_val_file_name[n]}\")\n",
    "        val_DF_VA.write.mode(\"overwrite\").parquet(f\"{team_blob_url}/{fold_n_val_file_name[n]}_LLM\")"
   ]
  },
  {
   "cell_type": "markdown",
   "metadata": {
    "application/vnd.databricks.v1+cell": {
     "cellMetadata": {
      "byteLimit": 2048000,
      "rowLimit": 10000
     },
     "inputWidgets": {},
     "nuid": "201e23bd-7e58-4228-a902-2194d5bc7ecf",
     "showTitle": false,
     "title": ""
    }
   },
   "source": [
    "## Random Forests\n",
    "\n",
    "We split into four folds to get best hyper parameters. We display the following values for each fold\n",
    "- hyperopt_time -> Time to produce hyperparameter optimization (in seconds)\n",
    "- best_max_depth -> Best value for the max_depth hyperparameter. It is the maximum depth of the trees in the model\n",
    "- best_num_trees -> The optimal number of trees in the ensemble\n",
    "- best_weight_per_node -> Weight for each node\n",
    "- best_subsampling_rate -> The fraction of the training data to be used for training each tree\n",
    "\n",
    "These values represent the best hyperparameters found during the optimization process that are expected to give the best performance for the model."
   ]
  },
  {
   "cell_type": "code",
   "execution_count": 0,
   "metadata": {
    "application/vnd.databricks.v1+cell": {
     "cellMetadata": {
      "byteLimit": 2048000,
      "rowLimit": 10000
     },
     "inputWidgets": {},
     "nuid": "109a3dfd-f69c-4fc5-a148-32604bcf044f",
     "showTitle": false,
     "title": ""
    }
   },
   "outputs": [],
   "source": [
    "'''\n",
    "Initiate the naming schema of the training data file names \n",
    "Set up the parameters for a Random Forest classification solution. \n",
    "'''\n",
    "\n",
    "model_year = 2016_2018\n",
    "\n",
    "full_train_downsampled = f\"{model_year}_data_train_downsampled\"\n",
    "full_val = f\"{model_year}_data_val\"\n",
    "\n",
    "fold1train = f\"{model_year}_fold_1_train_downsampled\"\n",
    "fold1val = f\"{model_year}_fold_1_val\"\n",
    "\n",
    "fold2train = f\"{model_year}_fold_2_train_downsampled\"\n",
    "fold2val = f\"{model_year}_fold_2_val\"\n",
    "\n",
    "fold3train = f\"{model_year}_fold_3_train_downsampled\"\n",
    "fold3val = f\"{model_year}_fold_3_val\"\n",
    "\n",
    "fold4train = f\"{model_year}_fold_4_train_downsampled\"\n",
    "fold4val = f\"{model_year}_fold_4_val\"\n",
    "\n",
    "model_files_name = f\"random_forest_{model_year}\"\n",
    "experiment_name = f\"Random Forest {model_year}\"\n",
    "\n",
    "\n",
    "# Define parameter search space\n",
    "search_space = {\n",
    "    \"max_depth\": hp.quniform(\"max_depth\", 2, 5, 1),\n",
    "    \"num_trees\": hp.quniform(\"num_trees\", 10, 50, 1),\n",
    "    \"weight_per_node\": hp.loguniform(\"weight_per_node\", -5, -1),\n",
    "    \"subsampling_rate\": hp.uniform(\"subsampling_rate\", 0, 1)\n",
    "}\n",
    "\n",
    "num_evals = 10\n",
    "\n",
    "rf = RandomForestClassifier(labelCol=\"label\", featuresCol=\"features\", maxBins=40, seed=42)\n",
    "pipeline = Pipeline(stages=[rf])\n",
    "\n",
    "# Model evaluation - BXE\n",
    "evaluator = MulticlassClassificationEvaluator(metricName='weightedFMeasure', beta=2) # was metricName = f1\n",
    "\n",
    "warnings.filterwarnings('ignore')\n",
    "\n",
    "mlflow.pyspark.ml.autolog(log_models=False)"
   ]
  },
  {
   "cell_type": "markdown",
   "metadata": {
    "application/vnd.databricks.v1+cell": {
     "cellMetadata": {
      "byteLimit": 2048000,
      "rowLimit": 10000
     },
     "inputWidgets": {},
     "nuid": "844d909a-f411-451d-8a94-4f5b5ea9a4f4",
     "showTitle": false,
     "title": ""
    }
   },
   "source": [
    "#### Fold 1"
   ]
  },
  {
   "cell_type": "code",
   "execution_count": 0,
   "metadata": {
    "application/vnd.databricks.v1+cell": {
     "cellMetadata": {
      "byteLimit": 2048000,
      "rowLimit": 10000
     },
     "inputWidgets": {},
     "nuid": "3605bdfe-3497-4190-acb4-f6555be404e3",
     "showTitle": false,
     "title": ""
    },
    "jupyter": {
     "outputs_hidden": true
    }
   },
   "outputs": [
    {
     "output_type": "stream",
     "name": "stdout",
     "output_type": "stream",
     "text": [
      "\r  0%|          | 0/10 [00:00<?, ?trial/s, best loss=?]"
     ]
    },
    {
     "output_type": "stream",
     "name": "stderr",
     "output_type": "stream",
     "text": [
      "2024/07/21 17:06:24 INFO mlflow.utils.autologging_utils: Created MLflow autologging run with ID '37cd44081c68472e801ec794891a3b18', which will track hyperparameters, performance metrics, model artifacts, and lineage information for the current pyspark.ml workflow\n\n2024/07/21 17:06:26 WARNING mlflow.data.spark_dataset: Failed to infer schema for Spark dataset. Exception: Unsupported Spark Type '<class 'pyspark.ml.linalg.VectorUDT'>' for MLflow schema.\n\n2024/07/21 17:06:55 WARNING mlflow.data.spark_dataset: Failed to infer schema for Spark dataset. Exception: Unsupported Spark Type '<class 'pyspark.ml.linalg.VectorUDT'>' for MLflow schema.\n\n"
     ]
    },
    {
     "output_type": "stream",
     "name": "stdout",
     "output_type": "stream",
     "text": [
      "\r 10%|█         | 1/10 [00:37<05:38, 37.66s/trial, best loss: -0.7474180311605741]"
     ]
    },
    {
     "output_type": "stream",
     "name": "stderr",
     "output_type": "stream",
     "text": [
      "2024/07/21 17:07:01 INFO mlflow.utils.autologging_utils: Created MLflow autologging run with ID '65603cda09e14a8993208e10ccd6ce6d', which will track hyperparameters, performance metrics, model artifacts, and lineage information for the current pyspark.ml workflow\n\n2024/07/21 17:07:03 WARNING mlflow.data.spark_dataset: Failed to infer schema for Spark dataset. Exception: Unsupported Spark Type '<class 'pyspark.ml.linalg.VectorUDT'>' for MLflow schema.\n\n2024/07/21 17:07:18 WARNING mlflow.data.spark_dataset: Failed to infer schema for Spark dataset. Exception: Unsupported Spark Type '<class 'pyspark.ml.linalg.VectorUDT'>' for MLflow schema.\n\n"
     ]
    },
    {
     "output_type": "stream",
     "name": "stdout",
     "output_type": "stream",
     "text": [
      "\r 20%|██        | 2/10 [01:01<03:55, 29.39s/trial, best loss: -0.7514090825077733]"
     ]
    },
    {
     "output_type": "stream",
     "name": "stderr",
     "output_type": "stream",
     "text": [
      "2024/07/21 17:07:24 INFO mlflow.utils.autologging_utils: Created MLflow autologging run with ID 'b7f8d436c8fb4f7797d9ddfb01c55929', which will track hyperparameters, performance metrics, model artifacts, and lineage information for the current pyspark.ml workflow\n\n2024/07/21 17:07:26 WARNING mlflow.data.spark_dataset: Failed to infer schema for Spark dataset. Exception: Unsupported Spark Type '<class 'pyspark.ml.linalg.VectorUDT'>' for MLflow schema.\n\n2024/07/21 17:07:41 WARNING mlflow.data.spark_dataset: Failed to infer schema for Spark dataset. Exception: Unsupported Spark Type '<class 'pyspark.ml.linalg.VectorUDT'>' for MLflow schema.\n\n"
     ]
    },
    {
     "output_type": "stream",
     "name": "stdout",
     "output_type": "stream",
     "text": [
      "\r 30%|███       | 3/10 [01:23<03:03, 26.16s/trial, best loss: -0.7520657981694215]"
     ]
    },
    {
     "output_type": "stream",
     "name": "stderr",
     "output_type": "stream",
     "text": [
      "2024/07/21 17:07:47 INFO mlflow.utils.autologging_utils: Created MLflow autologging run with ID '2742e1fb69e84cbe9d249bfd7bffa330', which will track hyperparameters, performance metrics, model artifacts, and lineage information for the current pyspark.ml workflow\n\n2024/07/21 17:07:48 WARNING mlflow.data.spark_dataset: Failed to infer schema for Spark dataset. Exception: Unsupported Spark Type '<class 'pyspark.ml.linalg.VectorUDT'>' for MLflow schema.\n\n2024/07/21 17:08:06 WARNING mlflow.data.spark_dataset: Failed to infer schema for Spark dataset. Exception: Unsupported Spark Type '<class 'pyspark.ml.linalg.VectorUDT'>' for MLflow schema.\n\n"
     ]
    },
    {
     "output_type": "stream",
     "name": "stdout",
     "output_type": "stream",
     "text": [
      "\r 40%|████      | 4/10 [01:49<02:35, 25.95s/trial, best loss: -0.7520657981694215]"
     ]
    },
    {
     "output_type": "stream",
     "name": "stderr",
     "output_type": "stream",
     "text": [
      "2024/07/21 17:08:13 INFO mlflow.utils.autologging_utils: Created MLflow autologging run with ID '47c16c8636bb44cea650a565f1c90684', which will track hyperparameters, performance metrics, model artifacts, and lineage information for the current pyspark.ml workflow\n\n2024/07/21 17:08:14 WARNING mlflow.data.spark_dataset: Failed to infer schema for Spark dataset. Exception: Unsupported Spark Type '<class 'pyspark.ml.linalg.VectorUDT'>' for MLflow schema.\n\n2024/07/21 17:08:26 WARNING mlflow.data.spark_dataset: Failed to infer schema for Spark dataset. Exception: Unsupported Spark Type '<class 'pyspark.ml.linalg.VectorUDT'>' for MLflow schema.\n\n"
     ]
    },
    {
     "output_type": "stream",
     "name": "stdout",
     "output_type": "stream",
     "text": [
      "\r 50%|█████     | 5/10 [02:08<01:58, 23.61s/trial, best loss: -0.7520657981694215]"
     ]
    },
    {
     "output_type": "stream",
     "name": "stderr",
     "output_type": "stream",
     "text": [
      "2024/07/21 17:08:32 INFO mlflow.utils.autologging_utils: Created MLflow autologging run with ID '1589d24f644a4b03b35cb0c1f4e2f70d', which will track hyperparameters, performance metrics, model artifacts, and lineage information for the current pyspark.ml workflow\n\n2024/07/21 17:08:34 WARNING mlflow.data.spark_dataset: Failed to infer schema for Spark dataset. Exception: Unsupported Spark Type '<class 'pyspark.ml.linalg.VectorUDT'>' for MLflow schema.\n\n2024/07/21 17:08:46 WARNING mlflow.data.spark_dataset: Failed to infer schema for Spark dataset. Exception: Unsupported Spark Type '<class 'pyspark.ml.linalg.VectorUDT'>' for MLflow schema.\n\n"
     ]
    },
    {
     "output_type": "stream",
     "name": "stdout",
     "output_type": "stream",
     "text": [
      "\r 60%|██████    | 6/10 [02:28<01:29, 22.44s/trial, best loss: -0.7520657981694215]"
     ]
    },
    {
     "output_type": "stream",
     "name": "stderr",
     "output_type": "stream",
     "text": [
      "2024/07/21 17:08:52 INFO mlflow.utils.autologging_utils: Created MLflow autologging run with ID '8a902c2c7c2949b1afffed00174c20f6', which will track hyperparameters, performance metrics, model artifacts, and lineage information for the current pyspark.ml workflow\n\n2024/07/21 17:08:54 WARNING mlflow.data.spark_dataset: Failed to infer schema for Spark dataset. Exception: Unsupported Spark Type '<class 'pyspark.ml.linalg.VectorUDT'>' for MLflow schema.\n\n2024/07/21 17:09:08 WARNING mlflow.data.spark_dataset: Failed to infer schema for Spark dataset. Exception: Unsupported Spark Type '<class 'pyspark.ml.linalg.VectorUDT'>' for MLflow schema.\n\n"
     ]
    },
    {
     "output_type": "stream",
     "name": "stdout",
     "output_type": "stream",
     "text": [
      "\r 70%|███████   | 7/10 [02:50<01:06, 22.29s/trial, best loss: -0.779482488941481] "
     ]
    },
    {
     "output_type": "stream",
     "name": "stderr",
     "output_type": "stream",
     "text": [
      "2024/07/21 17:09:14 INFO mlflow.utils.autologging_utils: Created MLflow autologging run with ID 'b6c46ae101ec41f7a0220b05fdf5dd98', which will track hyperparameters, performance metrics, model artifacts, and lineage information for the current pyspark.ml workflow\n\n2024/07/21 17:09:16 WARNING mlflow.data.spark_dataset: Failed to infer schema for Spark dataset. Exception: Unsupported Spark Type '<class 'pyspark.ml.linalg.VectorUDT'>' for MLflow schema.\n\n2024/07/21 17:09:35 WARNING mlflow.data.spark_dataset: Failed to infer schema for Spark dataset. Exception: Unsupported Spark Type '<class 'pyspark.ml.linalg.VectorUDT'>' for MLflow schema.\n\n"
     ]
    },
    {
     "output_type": "stream",
     "name": "stdout",
     "output_type": "stream",
     "text": [
      "\r 80%|████████  | 8/10 [03:17<00:47, 23.73s/trial, best loss: -0.779482488941481]"
     ]
    },
    {
     "output_type": "stream",
     "name": "stderr",
     "output_type": "stream",
     "text": [
      "2024/07/21 17:09:41 INFO mlflow.utils.autologging_utils: Created MLflow autologging run with ID '3873fa4c202d4e488b5c900fd144e953', which will track hyperparameters, performance metrics, model artifacts, and lineage information for the current pyspark.ml workflow\n\n2024/07/21 17:09:43 WARNING mlflow.data.spark_dataset: Failed to infer schema for Spark dataset. Exception: Unsupported Spark Type '<class 'pyspark.ml.linalg.VectorUDT'>' for MLflow schema.\n\n2024/07/21 17:09:56 WARNING mlflow.data.spark_dataset: Failed to infer schema for Spark dataset. Exception: Unsupported Spark Type '<class 'pyspark.ml.linalg.VectorUDT'>' for MLflow schema.\n\n"
     ]
    },
    {
     "output_type": "stream",
     "name": "stdout",
     "output_type": "stream",
     "text": [
      "\r 90%|█████████ | 9/10 [03:38<00:22, 22.94s/trial, best loss: -0.779482488941481]"
     ]
    },
    {
     "output_type": "stream",
     "name": "stderr",
     "output_type": "stream",
     "text": [
      "2024/07/21 17:10:02 INFO mlflow.utils.autologging_utils: Created MLflow autologging run with ID '686da27ec5074647b343d8c3051fd9ae', which will track hyperparameters, performance metrics, model artifacts, and lineage information for the current pyspark.ml workflow\n\n2024/07/21 17:10:03 WARNING mlflow.data.spark_dataset: Failed to infer schema for Spark dataset. Exception: Unsupported Spark Type '<class 'pyspark.ml.linalg.VectorUDT'>' for MLflow schema.\n\n2024/07/21 17:10:20 WARNING mlflow.data.spark_dataset: Failed to infer schema for Spark dataset. Exception: Unsupported Spark Type '<class 'pyspark.ml.linalg.VectorUDT'>' for MLflow schema.\n\n"
     ]
    },
    {
     "output_type": "stream",
     "name": "stdout",
     "output_type": "stream",
     "text": [
      "\r100%|██████████| 10/10 [04:03<00:00, 23.42s/trial, best loss: -0.779482488941481]\r100%|██████████| 10/10 [04:03<00:00, 24.33s/trial, best loss: -0.779482488941481]\nHyperopt time fold 1: 243.3\n"
     ]
    }
   ],
   "source": [
    "'''\n",
    "Run cross fold evaluation to get best hyperparameters for Fold 1.\n",
    "'''\n",
    "\n",
    "# read in fold data \n",
    "fold_1_train = spark.read.format(\"parquet\").load(f\"{team_blob_url}/{fold1train}\")\n",
    "fold_1_val = spark.read.format(\"parquet\").load(f\"{team_blob_url}/{fold1val}\")\n",
    "\n",
    "# set timer\n",
    "start_time = time.time()\n",
    "\n",
    "# set trials\n",
    "trials = Trials()\n",
    "\n",
    "# run evauation \n",
    "best_hyperparam = run_fold_evaluation(fold_1_train, fold_1_val, search_space, num_evals, trials, pipeline, rf, evaluator)\n",
    "\n",
    "hyperopt_time_1 = round((time.time() - start_time), 1)\n",
    "print(\"Hyperopt time fold 1:\", hyperopt_time_1)\n",
    "\n",
    "max_depth_1 = best_hyperparam[\"max_depth\"]\n",
    "num_trees_1 = best_hyperparam[\"num_trees\"]\n",
    "weight_per_node_1 = best_hyperparam[\"weight_per_node\"]\n",
    "subsampling_rate_1 = best_hyperparam[\"subsampling_rate\"]\n",
    "\n"
   ]
  },
  {
   "cell_type": "code",
   "execution_count": 0,
   "metadata": {
    "application/vnd.databricks.v1+cell": {
     "cellMetadata": {
      "byteLimit": 2048000,
      "rowLimit": 10000
     },
     "inputWidgets": {},
     "nuid": "f0d8ecf9-11bd-4b14-bcff-e05864e254ed",
     "showTitle": false,
     "title": ""
    }
   },
   "outputs": [
    {
     "output_type": "stream",
     "name": "stdout",
     "output_type": "stream",
     "text": [
      "hyperopt_time: 243.3\nbest_max_depth: 5.0\nbest_num_trees: 13.0\nbest_weight_per_node: 0.11039553155164417\nbest_subsampling_rate: 0.9969872099001056\n"
     ]
    }
   ],
   "source": [
    "print(\"hyperopt_time:\", hyperopt_time_1)\n",
    "print(\"best_max_depth:\", best_hyperparam[\"max_depth\"])\n",
    "print(\"best_num_trees:\", best_hyperparam[\"num_trees\"])\n",
    "print(\"best_weight_per_node:\", best_hyperparam[\"weight_per_node\"])\n",
    "print(\"best_subsampling_rate:\", best_hyperparam[\"subsampling_rate\"])"
   ]
  },
  {
   "cell_type": "markdown",
   "metadata": {
    "application/vnd.databricks.v1+cell": {
     "cellMetadata": {
      "byteLimit": 2048000,
      "rowLimit": 10000
     },
     "inputWidgets": {},
     "nuid": "cf6448f6-f825-45ba-abc5-f2ba4e0d33d4",
     "showTitle": false,
     "title": ""
    }
   },
   "source": [
    "#### Fold 2"
   ]
  },
  {
   "cell_type": "code",
   "execution_count": 0,
   "metadata": {
    "application/vnd.databricks.v1+cell": {
     "cellMetadata": {
      "byteLimit": 2048000,
      "rowLimit": 10000
     },
     "inputWidgets": {},
     "nuid": "646d5a07-32c0-4a4e-aa52-479959bc8145",
     "showTitle": false,
     "title": ""
    },
    "jupyter": {
     "outputs_hidden": true
    }
   },
   "outputs": [
    {
     "output_type": "stream",
     "name": "stdout",
     "output_type": "stream",
     "text": [
      "\r  0%|          | 0/10 [00:00<?, ?trial/s, best loss=?]"
     ]
    },
    {
     "output_type": "stream",
     "name": "stderr",
     "output_type": "stream",
     "text": [
      "2024/07/21 17:10:28 INFO mlflow.utils.autologging_utils: Created MLflow autologging run with ID '77a203deda1745c5b8cc4e63365bd4b7', which will track hyperparameters, performance metrics, model artifacts, and lineage information for the current pyspark.ml workflow\n\n2024/07/21 17:10:30 WARNING mlflow.data.spark_dataset: Failed to infer schema for Spark dataset. Exception: Unsupported Spark Type '<class 'pyspark.ml.linalg.VectorUDT'>' for MLflow schema.\n\n2024/07/21 17:10:48 WARNING mlflow.data.spark_dataset: Failed to infer schema for Spark dataset. Exception: Unsupported Spark Type '<class 'pyspark.ml.linalg.VectorUDT'>' for MLflow schema.\n\n"
     ]
    },
    {
     "output_type": "stream",
     "name": "stdout",
     "output_type": "stream",
     "text": [
      "\r 10%|█         | 1/10 [00:26<03:57, 26.44s/trial, best loss: -0.687006654082304]"
     ]
    },
    {
     "output_type": "stream",
     "name": "stderr",
     "output_type": "stream",
     "text": [
      "2024/07/21 17:10:55 INFO mlflow.utils.autologging_utils: Created MLflow autologging run with ID '92bb7c360c044ec1b0b5498a7e64345e', which will track hyperparameters, performance metrics, model artifacts, and lineage information for the current pyspark.ml workflow\n\n2024/07/21 17:10:56 WARNING mlflow.data.spark_dataset: Failed to infer schema for Spark dataset. Exception: Unsupported Spark Type '<class 'pyspark.ml.linalg.VectorUDT'>' for MLflow schema.\n\n2024/07/21 17:11:12 WARNING mlflow.data.spark_dataset: Failed to infer schema for Spark dataset. Exception: Unsupported Spark Type '<class 'pyspark.ml.linalg.VectorUDT'>' for MLflow schema.\n\n"
     ]
    },
    {
     "output_type": "stream",
     "name": "stdout",
     "output_type": "stream",
     "text": [
      "\r 20%|██        | 2/10 [00:50<03:18, 24.87s/trial, best loss: -0.687006654082304]"
     ]
    },
    {
     "output_type": "stream",
     "name": "stderr",
     "output_type": "stream",
     "text": [
      "2024/07/21 17:11:19 INFO mlflow.utils.autologging_utils: Created MLflow autologging run with ID '0228f8afea884b16abf91dbb6aa67dd1', which will track hyperparameters, performance metrics, model artifacts, and lineage information for the current pyspark.ml workflow\n\n2024/07/21 17:11:20 WARNING mlflow.data.spark_dataset: Failed to infer schema for Spark dataset. Exception: Unsupported Spark Type '<class 'pyspark.ml.linalg.VectorUDT'>' for MLflow schema.\n\n2024/07/21 17:11:34 WARNING mlflow.data.spark_dataset: Failed to infer schema for Spark dataset. Exception: Unsupported Spark Type '<class 'pyspark.ml.linalg.VectorUDT'>' for MLflow schema.\n\n"
     ]
    },
    {
     "output_type": "stream",
     "name": "stdout",
     "output_type": "stream",
     "text": [
      "\r 30%|███       | 3/10 [01:12<02:45, 23.69s/trial, best loss: -0.6961924643016378]"
     ]
    },
    {
     "output_type": "stream",
     "name": "stderr",
     "output_type": "stream",
     "text": [
      "2024/07/21 17:11:41 INFO mlflow.utils.autologging_utils: Created MLflow autologging run with ID '42ac414dae2e4166be9ba700873b61c5', which will track hyperparameters, performance metrics, model artifacts, and lineage information for the current pyspark.ml workflow\n\n2024/07/21 17:11:42 WARNING mlflow.data.spark_dataset: Failed to infer schema for Spark dataset. Exception: Unsupported Spark Type '<class 'pyspark.ml.linalg.VectorUDT'>' for MLflow schema.\n\n2024/07/21 17:11:59 WARNING mlflow.data.spark_dataset: Failed to infer schema for Spark dataset. Exception: Unsupported Spark Type '<class 'pyspark.ml.linalg.VectorUDT'>' for MLflow schema.\n\n"
     ]
    },
    {
     "output_type": "stream",
     "name": "stdout",
     "output_type": "stream",
     "text": [
      "\r 40%|████      | 4/10 [01:37<02:24, 24.13s/trial, best loss: -0.6961924643016378]"
     ]
    },
    {
     "output_type": "stream",
     "name": "stderr",
     "output_type": "stream",
     "text": [
      "2024/07/21 17:12:06 INFO mlflow.utils.autologging_utils: Created MLflow autologging run with ID '748055074b014b2f9ad5e593edbad0c2', which will track hyperparameters, performance metrics, model artifacts, and lineage information for the current pyspark.ml workflow\n\n2024/07/21 17:12:07 WARNING mlflow.data.spark_dataset: Failed to infer schema for Spark dataset. Exception: Unsupported Spark Type '<class 'pyspark.ml.linalg.VectorUDT'>' for MLflow schema.\n\n2024/07/21 17:12:18 WARNING mlflow.data.spark_dataset: Failed to infer schema for Spark dataset. Exception: Unsupported Spark Type '<class 'pyspark.ml.linalg.VectorUDT'>' for MLflow schema.\n\n"
     ]
    },
    {
     "output_type": "stream",
     "name": "stdout",
     "output_type": "stream",
     "text": [
      "\r 50%|█████     | 5/10 [01:55<01:50, 22.13s/trial, best loss: -0.7505262042015451]"
     ]
    },
    {
     "output_type": "stream",
     "name": "stderr",
     "output_type": "stream",
     "text": [
      "2024/07/21 17:12:24 INFO mlflow.utils.autologging_utils: Created MLflow autologging run with ID 'f5d531f4109440c49b39ea7aab5afa4d', which will track hyperparameters, performance metrics, model artifacts, and lineage information for the current pyspark.ml workflow\n\n2024/07/21 17:12:25 WARNING mlflow.data.spark_dataset: Failed to infer schema for Spark dataset. Exception: Unsupported Spark Type '<class 'pyspark.ml.linalg.VectorUDT'>' for MLflow schema.\n\n2024/07/21 17:12:37 WARNING mlflow.data.spark_dataset: Failed to infer schema for Spark dataset. Exception: Unsupported Spark Type '<class 'pyspark.ml.linalg.VectorUDT'>' for MLflow schema.\n\n"
     ]
    },
    {
     "output_type": "stream",
     "name": "stdout",
     "output_type": "stream",
     "text": [
      "\r 60%|██████    | 6/10 [02:14<01:24, 21.02s/trial, best loss: -0.7505262042015451]"
     ]
    },
    {
     "output_type": "stream",
     "name": "stderr",
     "output_type": "stream",
     "text": [
      "2024/07/21 17:12:43 INFO mlflow.utils.autologging_utils: Created MLflow autologging run with ID 'c91f3ae7e1dc44b893f8f54bd5e160db', which will track hyperparameters, performance metrics, model artifacts, and lineage information for the current pyspark.ml workflow\n\n2024/07/21 17:12:45 WARNING mlflow.data.spark_dataset: Failed to infer schema for Spark dataset. Exception: Unsupported Spark Type '<class 'pyspark.ml.linalg.VectorUDT'>' for MLflow schema.\n\n2024/07/21 17:12:58 WARNING mlflow.data.spark_dataset: Failed to infer schema for Spark dataset. Exception: Unsupported Spark Type '<class 'pyspark.ml.linalg.VectorUDT'>' for MLflow schema.\n\n"
     ]
    },
    {
     "output_type": "stream",
     "name": "stdout",
     "output_type": "stream",
     "text": [
      "\r 70%|███████   | 7/10 [02:36<01:03, 21.26s/trial, best loss: -0.7590035614949088]"
     ]
    },
    {
     "output_type": "stream",
     "name": "stderr",
     "output_type": "stream",
     "text": [
      "2024/07/21 17:13:05 INFO mlflow.utils.autologging_utils: Created MLflow autologging run with ID '4e5e9f5fb1d24facb826ba2975644b54', which will track hyperparameters, performance metrics, model artifacts, and lineage information for the current pyspark.ml workflow\n\n2024/07/21 17:13:06 WARNING mlflow.data.spark_dataset: Failed to infer schema for Spark dataset. Exception: Unsupported Spark Type '<class 'pyspark.ml.linalg.VectorUDT'>' for MLflow schema.\n\n2024/07/21 17:13:25 WARNING mlflow.data.spark_dataset: Failed to infer schema for Spark dataset. Exception: Unsupported Spark Type '<class 'pyspark.ml.linalg.VectorUDT'>' for MLflow schema.\n\n"
     ]
    },
    {
     "output_type": "stream",
     "name": "stdout",
     "output_type": "stream",
     "text": [
      "\r 80%|████████  | 8/10 [03:02<00:45, 22.89s/trial, best loss: -0.7590035614949088]"
     ]
    },
    {
     "output_type": "stream",
     "name": "stderr",
     "output_type": "stream",
     "text": [
      "2024/07/21 17:13:31 INFO mlflow.utils.autologging_utils: Created MLflow autologging run with ID '678111d68d994048aa85cadf5c2ec18b', which will track hyperparameters, performance metrics, model artifacts, and lineage information for the current pyspark.ml workflow\n\n2024/07/21 17:13:33 WARNING mlflow.data.spark_dataset: Failed to infer schema for Spark dataset. Exception: Unsupported Spark Type '<class 'pyspark.ml.linalg.VectorUDT'>' for MLflow schema.\n\n2024/07/21 17:13:45 WARNING mlflow.data.spark_dataset: Failed to infer schema for Spark dataset. Exception: Unsupported Spark Type '<class 'pyspark.ml.linalg.VectorUDT'>' for MLflow schema.\n\n"
     ]
    },
    {
     "output_type": "stream",
     "name": "stdout",
     "output_type": "stream",
     "text": [
      "\r 90%|█████████ | 9/10 [03:22<00:21, 21.95s/trial, best loss: -0.7590035614949088]"
     ]
    },
    {
     "output_type": "stream",
     "name": "stderr",
     "output_type": "stream",
     "text": [
      "2024/07/21 17:13:51 INFO mlflow.utils.autologging_utils: Created MLflow autologging run with ID '17780b860504439e9eb8a8c3a8587371', which will track hyperparameters, performance metrics, model artifacts, and lineage information for the current pyspark.ml workflow\n\n2024/07/21 17:13:53 WARNING mlflow.data.spark_dataset: Failed to infer schema for Spark dataset. Exception: Unsupported Spark Type '<class 'pyspark.ml.linalg.VectorUDT'>' for MLflow schema.\n\n2024/07/21 17:14:10 WARNING mlflow.data.spark_dataset: Failed to infer schema for Spark dataset. Exception: Unsupported Spark Type '<class 'pyspark.ml.linalg.VectorUDT'>' for MLflow schema.\n\n"
     ]
    },
    {
     "output_type": "stream",
     "name": "stdout",
     "output_type": "stream",
     "text": [
      "\r100%|██████████| 10/10 [03:48<00:00, 23.03s/trial, best loss: -0.7590035614949088]\r100%|██████████| 10/10 [03:48<00:00, 22.82s/trial, best loss: -0.7590035614949088]\nHyperopt time fold 2: 228.2\n"
     ]
    }
   ],
   "source": [
    "'''\n",
    "Run cross fold evaluation to get best hyperparameters for Fold 2.\n",
    "'''\n",
    "\n",
    "# Fold 2\n",
    "fold_2_train = spark.read.format(\"parquet\").load(f\"{team_blob_url}/{fold2train}\")\n",
    "fold_2_val = spark.read.format(\"parquet\").load(f\"{team_blob_url}/{fold2val}\")\n",
    "\n",
    "\n",
    "start_time = time.time()\n",
    "\n",
    "num_evals = 10\n",
    "trials = Trials()\n",
    "\n",
    "best_hyperparam = run_fold_evaluation(fold_2_train, fold_2_val, search_space, num_evals, trials, pipeline, rf, evaluator)\n",
    "\n",
    "hyperopt_time_2 = round((time.time() - start_time), 1)\n",
    "print(\"Hyperopt time fold 2:\", hyperopt_time_2)\n",
    "\n",
    "\n",
    "max_depth_2 = best_hyperparam[\"max_depth\"]\n",
    "num_trees_2 = best_hyperparam[\"num_trees\"]\n",
    "weight_per_node_2 = best_hyperparam[\"weight_per_node\"]\n",
    "subsampling_rate_2 = best_hyperparam[\"subsampling_rate\"]\n",
    "\n"
   ]
  },
  {
   "cell_type": "code",
   "execution_count": 0,
   "metadata": {
    "application/vnd.databricks.v1+cell": {
     "cellMetadata": {
      "byteLimit": 2048000,
      "rowLimit": 10000
     },
     "inputWidgets": {},
     "nuid": "427f164c-058e-4b46-b759-7d0a00d5ea95",
     "showTitle": false,
     "title": ""
    }
   },
   "outputs": [
    {
     "output_type": "stream",
     "name": "stdout",
     "output_type": "stream",
     "text": [
      "hyperopt_time: 228.2\nbest_max_depth: 5.0\nbest_num_trees: 13.0\nbest_weight_per_node: 0.11039553155164417\nbest_subsampling_rate: 0.9969872099001056\n"
     ]
    }
   ],
   "source": [
    "print(\"hyperopt_time:\", hyperopt_time_2)\n",
    "print(\"best_max_depth:\", best_hyperparam[\"max_depth\"])\n",
    "print(\"best_num_trees:\", best_hyperparam[\"num_trees\"])\n",
    "print(\"best_weight_per_node:\", best_hyperparam[\"weight_per_node\"])\n",
    "print(\"best_subsampling_rate:\", best_hyperparam[\"subsampling_rate\"])"
   ]
  },
  {
   "cell_type": "markdown",
   "metadata": {
    "application/vnd.databricks.v1+cell": {
     "cellMetadata": {
      "byteLimit": 2048000,
      "rowLimit": 10000
     },
     "inputWidgets": {},
     "nuid": "4f8ddd56-c1fe-49f5-9265-1f96b124fc59",
     "showTitle": false,
     "title": ""
    }
   },
   "source": [
    "#### Fold 3"
   ]
  },
  {
   "cell_type": "code",
   "execution_count": 0,
   "metadata": {
    "application/vnd.databricks.v1+cell": {
     "cellMetadata": {
      "byteLimit": 2048000,
      "rowLimit": 10000
     },
     "inputWidgets": {},
     "nuid": "2b6b3c3a-ffb9-446d-a640-7a883034f8b4",
     "showTitle": false,
     "title": ""
    },
    "jupyter": {
     "outputs_hidden": true
    }
   },
   "outputs": [
    {
     "output_type": "stream",
     "name": "stdout",
     "output_type": "stream",
     "text": [
      "\r  0%|          | 0/10 [00:00<?, ?trial/s, best loss=?]"
     ]
    },
    {
     "output_type": "stream",
     "name": "stderr",
     "output_type": "stream",
     "text": [
      "2024/07/21 17:14:17 INFO mlflow.utils.autologging_utils: Created MLflow autologging run with ID 'aed02a9004ee4a7bb674e0467c151316', which will track hyperparameters, performance metrics, model artifacts, and lineage information for the current pyspark.ml workflow\n\n2024/07/21 17:14:19 WARNING mlflow.data.spark_dataset: Failed to infer schema for Spark dataset. Exception: Unsupported Spark Type '<class 'pyspark.ml.linalg.VectorUDT'>' for MLflow schema.\n\n2024/07/21 17:14:35 WARNING mlflow.data.spark_dataset: Failed to infer schema for Spark dataset. Exception: Unsupported Spark Type '<class 'pyspark.ml.linalg.VectorUDT'>' for MLflow schema.\n\n"
     ]
    },
    {
     "output_type": "stream",
     "name": "stdout",
     "output_type": "stream",
     "text": [
      "\r 10%|█         | 1/10 [00:24<03:41, 24.63s/trial, best loss: -0.7404962250104676]"
     ]
    },
    {
     "output_type": "stream",
     "name": "stderr",
     "output_type": "stream",
     "text": [
      "2024/07/21 17:14:42 INFO mlflow.utils.autologging_utils: Created MLflow autologging run with ID 'ac13c7ea5eba40c7a07049631f875964', which will track hyperparameters, performance metrics, model artifacts, and lineage information for the current pyspark.ml workflow\n\n2024/07/21 17:14:44 WARNING mlflow.data.spark_dataset: Failed to infer schema for Spark dataset. Exception: Unsupported Spark Type '<class 'pyspark.ml.linalg.VectorUDT'>' for MLflow schema.\n\n2024/07/21 17:14:58 WARNING mlflow.data.spark_dataset: Failed to infer schema for Spark dataset. Exception: Unsupported Spark Type '<class 'pyspark.ml.linalg.VectorUDT'>' for MLflow schema.\n\n"
     ]
    },
    {
     "output_type": "stream",
     "name": "stdout",
     "output_type": "stream",
     "text": [
      "\r 20%|██        | 2/10 [00:47<03:08, 23.52s/trial, best loss: -0.7404962250104676]"
     ]
    },
    {
     "output_type": "stream",
     "name": "stderr",
     "output_type": "stream",
     "text": [
      "2024/07/21 17:15:05 INFO mlflow.utils.autologging_utils: Created MLflow autologging run with ID '42bcc2c8eb7e4736a0d5a32748d6e2ff', which will track hyperparameters, performance metrics, model artifacts, and lineage information for the current pyspark.ml workflow\n\n2024/07/21 17:15:06 WARNING mlflow.data.spark_dataset: Failed to infer schema for Spark dataset. Exception: Unsupported Spark Type '<class 'pyspark.ml.linalg.VectorUDT'>' for MLflow schema.\n\n2024/07/21 17:15:20 WARNING mlflow.data.spark_dataset: Failed to infer schema for Spark dataset. Exception: Unsupported Spark Type '<class 'pyspark.ml.linalg.VectorUDT'>' for MLflow schema.\n\n"
     ]
    },
    {
     "output_type": "stream",
     "name": "stdout",
     "output_type": "stream",
     "text": [
      "\r 30%|███       | 3/10 [01:08<02:38, 22.63s/trial, best loss: -0.7404962250104676]"
     ]
    },
    {
     "output_type": "stream",
     "name": "stderr",
     "output_type": "stream",
     "text": [
      "2024/07/21 17:15:26 INFO mlflow.utils.autologging_utils: Created MLflow autologging run with ID 'ccb8693770de4e988d16d7f424e2d5d6', which will track hyperparameters, performance metrics, model artifacts, and lineage information for the current pyspark.ml workflow\n\n2024/07/21 17:15:28 WARNING mlflow.data.spark_dataset: Failed to infer schema for Spark dataset. Exception: Unsupported Spark Type '<class 'pyspark.ml.linalg.VectorUDT'>' for MLflow schema.\n\n2024/07/21 17:15:45 WARNING mlflow.data.spark_dataset: Failed to infer schema for Spark dataset. Exception: Unsupported Spark Type '<class 'pyspark.ml.linalg.VectorUDT'>' for MLflow schema.\n\n"
     ]
    },
    {
     "output_type": "stream",
     "name": "stdout",
     "output_type": "stream",
     "text": [
      "\r 40%|████      | 4/10 [01:34<02:22, 23.67s/trial, best loss: -0.7404962250104676]"
     ]
    },
    {
     "output_type": "stream",
     "name": "stderr",
     "output_type": "stream",
     "text": [
      "2024/07/21 17:15:52 INFO mlflow.utils.autologging_utils: Created MLflow autologging run with ID '047b06ebecae454c97cb0ede870c9cf2', which will track hyperparameters, performance metrics, model artifacts, and lineage information for the current pyspark.ml workflow\n\n2024/07/21 17:15:53 WARNING mlflow.data.spark_dataset: Failed to infer schema for Spark dataset. Exception: Unsupported Spark Type '<class 'pyspark.ml.linalg.VectorUDT'>' for MLflow schema.\n\n2024/07/21 17:16:04 WARNING mlflow.data.spark_dataset: Failed to infer schema for Spark dataset. Exception: Unsupported Spark Type '<class 'pyspark.ml.linalg.VectorUDT'>' for MLflow schema.\n\n"
     ]
    },
    {
     "output_type": "stream",
     "name": "stdout",
     "output_type": "stream",
     "text": [
      "\r 50%|█████     | 5/10 [01:52<01:49, 21.91s/trial, best loss: -0.7404962250104676]"
     ]
    },
    {
     "output_type": "stream",
     "name": "stderr",
     "output_type": "stream",
     "text": [
      "2024/07/21 17:16:10 INFO mlflow.utils.autologging_utils: Created MLflow autologging run with ID 'ca45872fc9a34e329c8aeadb4d98cb6b', which will track hyperparameters, performance metrics, model artifacts, and lineage information for the current pyspark.ml workflow\n\n2024/07/21 17:16:12 WARNING mlflow.data.spark_dataset: Failed to infer schema for Spark dataset. Exception: Unsupported Spark Type '<class 'pyspark.ml.linalg.VectorUDT'>' for MLflow schema.\n\n2024/07/21 17:16:23 WARNING mlflow.data.spark_dataset: Failed to infer schema for Spark dataset. Exception: Unsupported Spark Type '<class 'pyspark.ml.linalg.VectorUDT'>' for MLflow schema.\n\n"
     ]
    },
    {
     "output_type": "stream",
     "name": "stdout",
     "output_type": "stream",
     "text": [
      "\r 60%|██████    | 6/10 [02:12<01:24, 21.09s/trial, best loss: -0.7404962250104676]"
     ]
    },
    {
     "output_type": "stream",
     "name": "stderr",
     "output_type": "stream",
     "text": [
      "2024/07/21 17:16:30 INFO mlflow.utils.autologging_utils: Created MLflow autologging run with ID '7ccf265ec2664428b946b410a626f3f2', which will track hyperparameters, performance metrics, model artifacts, and lineage information for the current pyspark.ml workflow\n\n2024/07/21 17:16:31 WARNING mlflow.data.spark_dataset: Failed to infer schema for Spark dataset. Exception: Unsupported Spark Type '<class 'pyspark.ml.linalg.VectorUDT'>' for MLflow schema.\n\n2024/07/21 17:16:44 WARNING mlflow.data.spark_dataset: Failed to infer schema for Spark dataset. Exception: Unsupported Spark Type '<class 'pyspark.ml.linalg.VectorUDT'>' for MLflow schema.\n\n"
     ]
    },
    {
     "output_type": "stream",
     "name": "stdout",
     "output_type": "stream",
     "text": [
      "\r 70%|███████   | 7/10 [02:33<01:03, 21.04s/trial, best loss: -0.7992246872773381]"
     ]
    },
    {
     "output_type": "stream",
     "name": "stderr",
     "output_type": "stream",
     "text": [
      "2024/07/21 17:16:50 INFO mlflow.utils.autologging_utils: Created MLflow autologging run with ID '20ecc644183e4db4b58828e596f5e11e', which will track hyperparameters, performance metrics, model artifacts, and lineage information for the current pyspark.ml workflow\n\n2024/07/21 17:16:52 WARNING mlflow.data.spark_dataset: Failed to infer schema for Spark dataset. Exception: Unsupported Spark Type '<class 'pyspark.ml.linalg.VectorUDT'>' for MLflow schema.\n\n2024/07/21 17:17:09 WARNING mlflow.data.spark_dataset: Failed to infer schema for Spark dataset. Exception: Unsupported Spark Type '<class 'pyspark.ml.linalg.VectorUDT'>' for MLflow schema.\n\n"
     ]
    },
    {
     "output_type": "stream",
     "name": "stdout",
     "output_type": "stream",
     "text": [
      "\r 80%|████████  | 8/10 [02:58<00:44, 22.26s/trial, best loss: -0.7992246872773381]"
     ]
    },
    {
     "output_type": "stream",
     "name": "stderr",
     "output_type": "stream",
     "text": [
      "2024/07/21 17:17:15 INFO mlflow.utils.autologging_utils: Created MLflow autologging run with ID 'dfc5356a62f640f0a8eff9112b11bd89', which will track hyperparameters, performance metrics, model artifacts, and lineage information for the current pyspark.ml workflow\n\n2024/07/21 17:17:17 WARNING mlflow.data.spark_dataset: Failed to infer schema for Spark dataset. Exception: Unsupported Spark Type '<class 'pyspark.ml.linalg.VectorUDT'>' for MLflow schema.\n\n2024/07/21 17:17:29 WARNING mlflow.data.spark_dataset: Failed to infer schema for Spark dataset. Exception: Unsupported Spark Type '<class 'pyspark.ml.linalg.VectorUDT'>' for MLflow schema.\n\n"
     ]
    },
    {
     "output_type": "stream",
     "name": "stdout",
     "output_type": "stream",
     "text": [
      "\r 90%|█████████ | 9/10 [03:18<00:21, 21.60s/trial, best loss: -0.7992246872773381]"
     ]
    },
    {
     "output_type": "stream",
     "name": "stderr",
     "output_type": "stream",
     "text": [
      "2024/07/21 17:17:36 INFO mlflow.utils.autologging_utils: Created MLflow autologging run with ID 'faaecd46c4204f39afb08e4aecebcbc1', which will track hyperparameters, performance metrics, model artifacts, and lineage information for the current pyspark.ml workflow\n\n2024/07/21 17:17:37 WARNING mlflow.data.spark_dataset: Failed to infer schema for Spark dataset. Exception: Unsupported Spark Type '<class 'pyspark.ml.linalg.VectorUDT'>' for MLflow schema.\n\n2024/07/21 17:17:53 WARNING mlflow.data.spark_dataset: Failed to infer schema for Spark dataset. Exception: Unsupported Spark Type '<class 'pyspark.ml.linalg.VectorUDT'>' for MLflow schema.\n\n"
     ]
    },
    {
     "output_type": "stream",
     "name": "stdout",
     "output_type": "stream",
     "text": [
      "\r100%|██████████| 10/10 [03:42<00:00, 22.21s/trial, best loss: -0.7992246872773381]\r100%|██████████| 10/10 [03:42<00:00, 22.20s/trial, best loss: -0.7992246872773381]\nHyperopt time fold 3: 222.0\n"
     ]
    }
   ],
   "source": [
    "'''\n",
    "Run cross fold evaluation to get best hyperparameters for Fold 3.\n",
    "'''\n",
    "\n",
    "# Fold 3\n",
    "fold_3_train = spark.read.format(\"parquet\").load(f\"{team_blob_url}/{fold3train}\")\n",
    "fold_3_val = spark.read.format(\"parquet\").load(f\"{team_blob_url}/{fold3val}\")\n",
    "\n",
    "start_time = time.time()\n",
    "\n",
    "trials = Trials()\n",
    "\n",
    "# Set up method of evaluation\n",
    "best_hyperparam = run_fold_evaluation(fold_3_train, fold_3_val, search_space, num_evals, trials, pipeline, rf, evaluator)\n",
    "\n",
    "hyperopt_time_3 = round((time.time() - start_time), 1)\n",
    "print(\"Hyperopt time fold 3:\", hyperopt_time_3)\n",
    "\n",
    "max_depth_3 = best_hyperparam[\"max_depth\"]\n",
    "num_trees_3 = best_hyperparam[\"num_trees\"]\n",
    "weight_per_node_3 = best_hyperparam[\"weight_per_node\"]\n",
    "subsampling_rate_3 = best_hyperparam[\"subsampling_rate\"]\n",
    "\n",
    "\n"
   ]
  },
  {
   "cell_type": "code",
   "execution_count": 0,
   "metadata": {
    "application/vnd.databricks.v1+cell": {
     "cellMetadata": {
      "byteLimit": 2048000,
      "rowLimit": 10000
     },
     "inputWidgets": {},
     "nuid": "62f2d411-68d2-4060-88b7-17415cbefa5b",
     "showTitle": false,
     "title": ""
    }
   },
   "outputs": [
    {
     "output_type": "stream",
     "name": "stdout",
     "output_type": "stream",
     "text": [
      "hyperopt_time: 222.0\nbest_max_depth: 5.0\nbest_num_trees: 13.0\nbest_weight_per_node: 0.11039553155164417\nbest_subsampling_rate: 0.9969872099001056\n"
     ]
    }
   ],
   "source": [
    "print(\"hyperopt_time:\", hyperopt_time_3)\n",
    "print(\"best_max_depth:\", best_hyperparam[\"max_depth\"])\n",
    "print(\"best_num_trees:\", best_hyperparam[\"num_trees\"])\n",
    "print(\"best_weight_per_node:\", best_hyperparam[\"weight_per_node\"])\n",
    "print(\"best_subsampling_rate:\", best_hyperparam[\"subsampling_rate\"])"
   ]
  },
  {
   "cell_type": "markdown",
   "metadata": {
    "application/vnd.databricks.v1+cell": {
     "cellMetadata": {
      "byteLimit": 2048000,
      "rowLimit": 10000
     },
     "inputWidgets": {},
     "nuid": "0f19af4d-6453-493d-a9c3-15cf1f851c5d",
     "showTitle": false,
     "title": ""
    }
   },
   "source": [
    "#### Fold 4"
   ]
  },
  {
   "cell_type": "code",
   "execution_count": 0,
   "metadata": {
    "application/vnd.databricks.v1+cell": {
     "cellMetadata": {
      "byteLimit": 2048000,
      "rowLimit": 10000
     },
     "inputWidgets": {},
     "nuid": "7e07e747-23bd-4200-936d-528d8411e6d7",
     "showTitle": false,
     "title": ""
    },
    "jupyter": {
     "outputs_hidden": true
    }
   },
   "outputs": [
    {
     "output_type": "stream",
     "name": "stdout",
     "output_type": "stream",
     "text": [
      "\r  0%|          | 0/10 [00:00<?, ?trial/s, best loss=?]"
     ]
    },
    {
     "output_type": "stream",
     "name": "stderr",
     "output_type": "stream",
     "text": [
      "2024/07/21 17:18:00 INFO mlflow.utils.autologging_utils: Created MLflow autologging run with ID '7aeb10ddb51144ad8803365ec9fecaad', which will track hyperparameters, performance metrics, model artifacts, and lineage information for the current pyspark.ml workflow\n\n2024/07/21 17:18:01 WARNING mlflow.data.spark_dataset: Failed to infer schema for Spark dataset. Exception: Unsupported Spark Type '<class 'pyspark.ml.linalg.VectorUDT'>' for MLflow schema.\n\n2024/07/21 17:18:22 WARNING mlflow.data.spark_dataset: Failed to infer schema for Spark dataset. Exception: Unsupported Spark Type '<class 'pyspark.ml.linalg.VectorUDT'>' for MLflow schema.\n\n"
     ]
    },
    {
     "output_type": "stream",
     "name": "stdout",
     "output_type": "stream",
     "text": [
      "\r 10%|█         | 1/10 [00:28<04:18, 28.72s/trial, best loss: -0.7437320952408234]"
     ]
    },
    {
     "output_type": "stream",
     "name": "stderr",
     "output_type": "stream",
     "text": [
      "2024/07/21 17:18:29 INFO mlflow.utils.autologging_utils: Created MLflow autologging run with ID '4d146259624a46679b08e0964ba2857f', which will track hyperparameters, performance metrics, model artifacts, and lineage information for the current pyspark.ml workflow\n\n2024/07/21 17:18:30 WARNING mlflow.data.spark_dataset: Failed to infer schema for Spark dataset. Exception: Unsupported Spark Type '<class 'pyspark.ml.linalg.VectorUDT'>' for MLflow schema.\n\n2024/07/21 17:18:49 WARNING mlflow.data.spark_dataset: Failed to infer schema for Spark dataset. Exception: Unsupported Spark Type '<class 'pyspark.ml.linalg.VectorUDT'>' for MLflow schema.\n\n"
     ]
    },
    {
     "output_type": "stream",
     "name": "stdout",
     "output_type": "stream",
     "text": [
      "\r 20%|██        | 2/10 [00:55<03:41, 27.71s/trial, best loss: -0.7437320952408234]"
     ]
    },
    {
     "output_type": "stream",
     "name": "stderr",
     "output_type": "stream",
     "text": [
      "2024/07/21 17:18:56 INFO mlflow.utils.autologging_utils: Created MLflow autologging run with ID '32da0f53e73e4f0d8c7fe5fbda626701', which will track hyperparameters, performance metrics, model artifacts, and lineage information for the current pyspark.ml workflow\n\n2024/07/21 17:18:57 WARNING mlflow.data.spark_dataset: Failed to infer schema for Spark dataset. Exception: Unsupported Spark Type '<class 'pyspark.ml.linalg.VectorUDT'>' for MLflow schema.\n\n2024/07/21 17:19:14 WARNING mlflow.data.spark_dataset: Failed to infer schema for Spark dataset. Exception: Unsupported Spark Type '<class 'pyspark.ml.linalg.VectorUDT'>' for MLflow schema.\n\n"
     ]
    },
    {
     "output_type": "stream",
     "name": "stdout",
     "output_type": "stream",
     "text": [
      "\r 30%|███       | 3/10 [01:20<03:05, 26.50s/trial, best loss: -0.7437320952408234]"
     ]
    },
    {
     "output_type": "stream",
     "name": "stderr",
     "output_type": "stream",
     "text": [
      "2024/07/21 17:19:20 INFO mlflow.utils.autologging_utils: Created MLflow autologging run with ID 'b57b1b65612a43eb8124b75072d8f417', which will track hyperparameters, performance metrics, model artifacts, and lineage information for the current pyspark.ml workflow\n\n2024/07/21 17:19:22 WARNING mlflow.data.spark_dataset: Failed to infer schema for Spark dataset. Exception: Unsupported Spark Type '<class 'pyspark.ml.linalg.VectorUDT'>' for MLflow schema.\n\n2024/07/21 17:19:44 WARNING mlflow.data.spark_dataset: Failed to infer schema for Spark dataset. Exception: Unsupported Spark Type '<class 'pyspark.ml.linalg.VectorUDT'>' for MLflow schema.\n\n"
     ]
    },
    {
     "output_type": "stream",
     "name": "stdout",
     "output_type": "stream",
     "text": [
      "\r 40%|████      | 4/10 [01:50<02:46, 27.78s/trial, best loss: -0.7437320952408234]"
     ]
    },
    {
     "output_type": "stream",
     "name": "stderr",
     "output_type": "stream",
     "text": [
      "2024/07/21 17:19:50 INFO mlflow.utils.autologging_utils: Created MLflow autologging run with ID 'c5efd73c8f154b06a2f7753ae76bc960', which will track hyperparameters, performance metrics, model artifacts, and lineage information for the current pyspark.ml workflow\n\n2024/07/21 17:19:52 WARNING mlflow.data.spark_dataset: Failed to infer schema for Spark dataset. Exception: Unsupported Spark Type '<class 'pyspark.ml.linalg.VectorUDT'>' for MLflow schema.\n\n2024/07/21 17:20:04 WARNING mlflow.data.spark_dataset: Failed to infer schema for Spark dataset. Exception: Unsupported Spark Type '<class 'pyspark.ml.linalg.VectorUDT'>' for MLflow schema.\n\n"
     ]
    },
    {
     "output_type": "stream",
     "name": "stdout",
     "output_type": "stream",
     "text": [
      "\r 50%|█████     | 5/10 [02:10<02:04, 24.99s/trial, best loss: -0.7437320952408234]"
     ]
    },
    {
     "output_type": "stream",
     "name": "stderr",
     "output_type": "stream",
     "text": [
      "2024/07/21 17:20:10 INFO mlflow.utils.autologging_utils: Created MLflow autologging run with ID '64dbe2b865d340bdb37e8bfa398679c3', which will track hyperparameters, performance metrics, model artifacts, and lineage information for the current pyspark.ml workflow\n\n2024/07/21 17:20:12 WARNING mlflow.data.spark_dataset: Failed to infer schema for Spark dataset. Exception: Unsupported Spark Type '<class 'pyspark.ml.linalg.VectorUDT'>' for MLflow schema.\n\n2024/07/21 17:20:25 WARNING mlflow.data.spark_dataset: Failed to infer schema for Spark dataset. Exception: Unsupported Spark Type '<class 'pyspark.ml.linalg.VectorUDT'>' for MLflow schema.\n\n"
     ]
    },
    {
     "output_type": "stream",
     "name": "stdout",
     "output_type": "stream",
     "text": [
      "\r 60%|██████    | 6/10 [02:31<01:34, 23.55s/trial, best loss: -0.7437320952408234]"
     ]
    },
    {
     "output_type": "stream",
     "name": "stderr",
     "output_type": "stream",
     "text": [
      "2024/07/21 17:20:31 INFO mlflow.utils.autologging_utils: Created MLflow autologging run with ID 'd140ebacf6744c0485b87a5299178d49', which will track hyperparameters, performance metrics, model artifacts, and lineage information for the current pyspark.ml workflow\n\n2024/07/21 17:20:33 WARNING mlflow.data.spark_dataset: Failed to infer schema for Spark dataset. Exception: Unsupported Spark Type '<class 'pyspark.ml.linalg.VectorUDT'>' for MLflow schema.\n\n2024/07/21 17:20:49 WARNING mlflow.data.spark_dataset: Failed to infer schema for Spark dataset. Exception: Unsupported Spark Type '<class 'pyspark.ml.linalg.VectorUDT'>' for MLflow schema.\n\n"
     ]
    },
    {
     "output_type": "stream",
     "name": "stdout",
     "output_type": "stream",
     "text": [
      "\r 70%|███████   | 7/10 [02:55<01:11, 23.75s/trial, best loss: -0.7765364677580857]"
     ]
    },
    {
     "output_type": "stream",
     "name": "stderr",
     "output_type": "stream",
     "text": [
      "2024/07/21 17:20:55 INFO mlflow.utils.autologging_utils: Created MLflow autologging run with ID 'd83deda2d8674acca5a7287c0c6bb5db', which will track hyperparameters, performance metrics, model artifacts, and lineage information for the current pyspark.ml workflow\n\n2024/07/21 17:20:57 WARNING mlflow.data.spark_dataset: Failed to infer schema for Spark dataset. Exception: Unsupported Spark Type '<class 'pyspark.ml.linalg.VectorUDT'>' for MLflow schema.\n\n2024/07/21 17:21:18 WARNING mlflow.data.spark_dataset: Failed to infer schema for Spark dataset. Exception: Unsupported Spark Type '<class 'pyspark.ml.linalg.VectorUDT'>' for MLflow schema.\n\n"
     ]
    },
    {
     "output_type": "stream",
     "name": "stdout",
     "output_type": "stream",
     "text": [
      "\r 80%|████████  | 8/10 [03:24<00:50, 25.49s/trial, best loss: -0.7765364677580857]"
     ]
    },
    {
     "output_type": "stream",
     "name": "stderr",
     "output_type": "stream",
     "text": [
      "2024/07/21 17:21:24 INFO mlflow.utils.autologging_utils: Created MLflow autologging run with ID '48f3538089f948e48a893b24ebae6447', which will track hyperparameters, performance metrics, model artifacts, and lineage information for the current pyspark.ml workflow\n\n2024/07/21 17:21:26 WARNING mlflow.data.spark_dataset: Failed to infer schema for Spark dataset. Exception: Unsupported Spark Type '<class 'pyspark.ml.linalg.VectorUDT'>' for MLflow schema.\n\n2024/07/21 17:21:41 WARNING mlflow.data.spark_dataset: Failed to infer schema for Spark dataset. Exception: Unsupported Spark Type '<class 'pyspark.ml.linalg.VectorUDT'>' for MLflow schema.\n\n"
     ]
    },
    {
     "output_type": "stream",
     "name": "stdout",
     "output_type": "stream",
     "text": [
      "\r 90%|█████████ | 9/10 [03:47<00:24, 24.52s/trial, best loss: -0.7765364677580857]"
     ]
    },
    {
     "output_type": "stream",
     "name": "stderr",
     "output_type": "stream",
     "text": [
      "2024/07/21 17:21:47 INFO mlflow.utils.autologging_utils: Created MLflow autologging run with ID '01077370bdc04b989fe0969b3eb20d40', which will track hyperparameters, performance metrics, model artifacts, and lineage information for the current pyspark.ml workflow\n\n2024/07/21 17:21:48 WARNING mlflow.data.spark_dataset: Failed to infer schema for Spark dataset. Exception: Unsupported Spark Type '<class 'pyspark.ml.linalg.VectorUDT'>' for MLflow schema.\n\n2024/07/21 17:22:09 WARNING mlflow.data.spark_dataset: Failed to infer schema for Spark dataset. Exception: Unsupported Spark Type '<class 'pyspark.ml.linalg.VectorUDT'>' for MLflow schema.\n\n"
     ]
    },
    {
     "output_type": "stream",
     "name": "stdout",
     "output_type": "stream",
     "text": [
      "\r100%|██████████| 10/10 [04:15<00:00, 25.62s/trial, best loss: -0.7765364677580857]\r100%|██████████| 10/10 [04:15<00:00, 25.52s/trial, best loss: -0.7765364677580857]\nHyperopt time fold 4: 255.2\n"
     ]
    }
   ],
   "source": [
    "'''\n",
    "Run cross fold evaluation to get best hyperparameters for Fold 4.\n",
    "'''\n",
    "\n",
    "# Fold 4\n",
    "fold_4_train = spark.read.format(\"parquet\").load(f\"{team_blob_url}/{fold4train}\")\n",
    "fold_4_val = spark.read.format(\"parquet\").load(f\"{team_blob_url}/{fold4val}\")\n",
    "\n",
    "start_time = time.time()\n",
    "\n",
    "trials = Trials()\n",
    "\n",
    "best_hyperparam = run_fold_evaluation(fold_4_train, fold_4_val, search_space, num_evals, trials, pipeline, rf, evaluator)\n",
    "\n",
    "num_evals = 10\n",
    "trials = Trials()\n",
    "\n",
    "hyperopt_time_4 = round((time.time() - start_time), 1)\n",
    "print(\"Hyperopt time fold 4:\", hyperopt_time_4)\n",
    "\n",
    "max_depth_4 = best_hyperparam[\"max_depth\"]\n",
    "num_trees_4 = best_hyperparam[\"num_trees\"]\n",
    "weight_per_node_4 = best_hyperparam[\"weight_per_node\"]\n",
    "subsampling_rate_4 = best_hyperparam[\"subsampling_rate\"]\n",
    "\n",
    "\n"
   ]
  },
  {
   "cell_type": "code",
   "execution_count": 0,
   "metadata": {
    "application/vnd.databricks.v1+cell": {
     "cellMetadata": {
      "byteLimit": 2048000,
      "rowLimit": 10000
     },
     "inputWidgets": {},
     "nuid": "b5545b3b-99c8-4630-a146-8673ba18a4ad",
     "showTitle": false,
     "title": ""
    }
   },
   "outputs": [
    {
     "output_type": "stream",
     "name": "stdout",
     "output_type": "stream",
     "text": [
      "hyperopt_time: 255.2\nbest_max_depth: 5.0\nbest_num_trees: 13.0\nbest_weight_per_node: 0.11039553155164417\nbest_subsampling_rate: 0.9969872099001056\n"
     ]
    }
   ],
   "source": [
    "print(\"hyperopt_time:\", hyperopt_time_4)\n",
    "print(\"best_max_depth:\", best_hyperparam[\"max_depth\"])\n",
    "print(\"best_num_trees:\", best_hyperparam[\"num_trees\"])\n",
    "print(\"best_weight_per_node:\", best_hyperparam[\"weight_per_node\"])\n",
    "print(\"best_subsampling_rate:\", best_hyperparam[\"subsampling_rate\"])"
   ]
  },
  {
   "cell_type": "markdown",
   "metadata": {
    "application/vnd.databricks.v1+cell": {
     "cellMetadata": {
      "byteLimit": 2048000,
      "rowLimit": 10000
     },
     "inputWidgets": {},
     "nuid": "81b905f3-c2f4-4ca7-90be-3d3a3579a6bd",
     "showTitle": false,
     "title": ""
    }
   },
   "source": [
    "##Set Final Model Parameters\n",
    "We will set the final parameters by averaging the output values of hyper opt for each fold"
   ]
  },
  {
   "cell_type": "code",
   "execution_count": 0,
   "metadata": {
    "application/vnd.databricks.v1+cell": {
     "cellMetadata": {
      "byteLimit": 2048000,
      "rowLimit": 10000
     },
     "inputWidgets": {},
     "nuid": "af5c4cea-136c-43af-9923-d0034ef5f599",
     "showTitle": false,
     "title": ""
    }
   },
   "outputs": [
    {
     "output_type": "stream",
     "name": "stdout",
     "output_type": "stream",
     "text": [
      "Best Max Depth: 5.0\nBest Num Trees: 13.0\nBest Weight per Node: 0.11039553155164417\nBest Subsampling Rate: 0.9969872099001056\n"
     ]
    }
   ],
   "source": [
    "\"\"\"\n",
    "Get average of each best hyper parameter outputted from the four folds\n",
    "\"\"\"\n",
    "\n",
    "avg_best_max_depth = np.round(np.average([max_depth_1, max_depth_2, max_depth_3, max_depth_4]), 0)\n",
    "avg_best_num_trees = np.round(np.average([num_trees_1, num_trees_2, num_trees_3, num_trees_4]), 0)\n",
    "avg_best_weight_per_node = np.average([weight_per_node_1, weight_per_node_2, weight_per_node_3, weight_per_node_4])\n",
    "avg_best_subsampling_rate = np.average([subsampling_rate_1, subsampling_rate_2, subsampling_rate_3, subsampling_rate_4])\n",
    "\n",
    "print(f\"Best Max Depth: {avg_best_max_depth}\")\n",
    "print(f\"Best Num Trees: {avg_best_num_trees}\")\n",
    "print(f\"Best Weight per Node: {avg_best_weight_per_node}\")\n",
    "print(f\"Best Subsampling Rate: {avg_best_subsampling_rate}\")"
   ]
  },
  {
   "cell_type": "code",
   "execution_count": 0,
   "metadata": {
    "application/vnd.databricks.v1+cell": {
     "cellMetadata": {
      "byteLimit": 2048000,
      "rowLimit": 10000
     },
     "inputWidgets": {},
     "nuid": "6ff0cc8f-636c-4c7b-89e0-1468c930d8fb",
     "showTitle": false,
     "title": ""
    }
   },
   "outputs": [
    {
     "output_type": "stream",
     "name": "stdout",
     "output_type": "stream",
     "text": [
      "Using parameters from recently completed Hyperopt runs\n"
     ]
    }
   ],
   "source": [
    "''' \n",
    "Setting the values explicitly \n",
    "'''\n",
    "\n",
    "if 'avg_best_max_depth' in locals():\n",
    "    print(\"Using parameters from recently completed Hyperopt runs\")\n",
    "    best_hyperparam = {}\n",
    "    best_hyperparam[\"max_depth\"] = avg_best_max_depth\n",
    "    best_hyperparam[\"num_trees\"] = avg_best_num_trees\n",
    "    best_hyperparam[\"weight_per_node\"] = avg_best_weight_per_node\n",
    "    best_hyperparam[\"subsampling_rate\"] = avg_best_subsampling_rate\n",
    "      \n",
    "else:\n",
    "    print(\"Hardcoding parameters based on printed values from most recent Hyperopt runs above\")\n",
    "    best_hyperparam = {}\n",
    "    best_hyperparam[\"max_depth\"] = 4\n",
    "    best_hyperparam[\"num_trees\"] = 16\n",
    "    best_hyperparam[\"weight_per_node\"] = 0.09740101206250223\n",
    "    best_hyperparam[\"subsampling_rate\"] = 0.6986749053746883\n",
    "\n",
    "\n"
   ]
  },
  {
   "cell_type": "code",
   "execution_count": 0,
   "metadata": {
    "application/vnd.databricks.v1+cell": {
     "cellMetadata": {
      "byteLimit": 2048000,
      "rowLimit": 10000
     },
     "inputWidgets": {},
     "nuid": "3691d9de-6aee-4291-81d0-2574b553de1d",
     "showTitle": false,
     "title": ""
    }
   },
   "outputs": [
    {
     "output_type": "display_data",
     "data": {
      "text/plain": [
       "\u001B[0;31m---------------------------------------------------------------------------\u001B[0m\n",
       "\u001B[0;31mAnalysisException\u001B[0m                         Traceback (most recent call last)\n",
       "File \u001B[0;32m<command-2340268507081149>, line 6\u001B[0m\n",
       "\u001B[1;32m      1\u001B[0m \u001B[38;5;124;03m'''\u001B[39;00m\n",
       "\u001B[1;32m      2\u001B[0m \u001B[38;5;124;03mRetrain model on train & validation dataset and evaluate on test dataset\u001B[39;00m\n",
       "\u001B[1;32m      3\u001B[0m \u001B[38;5;124;03m'''\u001B[39;00m\n",
       "\u001B[1;32m      5\u001B[0m \u001B[38;5;28;01mif\u001B[39;00m READ:\n",
       "\u001B[0;32m----> 6\u001B[0m     test_eval_df \u001B[38;5;241m=\u001B[39m spark\u001B[38;5;241m.\u001B[39mread\u001B[38;5;241m.\u001B[39mformat(\u001B[38;5;124m\"\u001B[39m\u001B[38;5;124mparquet\u001B[39m\u001B[38;5;124m\"\u001B[39m)\u001B[38;5;241m.\u001B[39mload(\u001B[38;5;124mf\u001B[39m\u001B[38;5;124m\"\u001B[39m\u001B[38;5;132;01m{\u001B[39;00mteam_blob_url\u001B[38;5;132;01m}\u001B[39;00m\u001B[38;5;124m/\u001B[39m\u001B[38;5;132;01m{\u001B[39;00mtest_file_name\u001B[38;5;132;01m}\u001B[39;00m\u001B[38;5;124m_test_eval_df_LLM\u001B[39m\u001B[38;5;124m\"\u001B[39m)\n",
       "\u001B[1;32m      7\u001B[0m     train_eval_df \u001B[38;5;241m=\u001B[39m spark\u001B[38;5;241m.\u001B[39mread\u001B[38;5;241m.\u001B[39mformat(\u001B[38;5;124m\"\u001B[39m\u001B[38;5;124mparquet\u001B[39m\u001B[38;5;124m\"\u001B[39m)\u001B[38;5;241m.\u001B[39mload(\u001B[38;5;124mf\u001B[39m\u001B[38;5;124m\"\u001B[39m\u001B[38;5;132;01m{\u001B[39;00mteam_blob_url\u001B[38;5;132;01m}\u001B[39;00m\u001B[38;5;124m/\u001B[39m\u001B[38;5;132;01m{\u001B[39;00mfull_train_file_name\u001B[38;5;132;01m}\u001B[39;00m\u001B[38;5;124m_train_eval_df_LLM\u001B[39m\u001B[38;5;124m\"\u001B[39m)\n",
       "\u001B[1;32m      8\u001B[0m     \u001B[38;5;66;03m#test_eval_df = spark.read.format(\"parquet\").load(f\"{team_blob_url}/{test_file_name}\")\u001B[39;00m\n",
       "\u001B[1;32m      9\u001B[0m     \u001B[38;5;66;03m#train_eval_df = spark.read.format(\"parquet\").load(f\"{team_blob_url}/{full_train_file_name}\")\u001B[39;00m\n",
       "\u001B[1;32m     10\u001B[0m     \n",
       "\u001B[1;32m     11\u001B[0m \u001B[38;5;28;01melse\u001B[39;00m:  \n",
       "\u001B[1;32m     12\u001B[0m     \u001B[38;5;66;03m# Read in data if train_DF_VA doesn't exist   \u001B[39;00m\n",
       "\n",
       "File \u001B[0;32m/databricks/spark/python/pyspark/instrumentation_utils.py:47\u001B[0m, in \u001B[0;36m_wrap_function.<locals>.wrapper\u001B[0;34m(*args, **kwargs)\u001B[0m\n",
       "\u001B[1;32m     45\u001B[0m start \u001B[38;5;241m=\u001B[39m time\u001B[38;5;241m.\u001B[39mperf_counter()\n",
       "\u001B[1;32m     46\u001B[0m \u001B[38;5;28;01mtry\u001B[39;00m:\n",
       "\u001B[0;32m---> 47\u001B[0m     res \u001B[38;5;241m=\u001B[39m func(\u001B[38;5;241m*\u001B[39margs, \u001B[38;5;241m*\u001B[39m\u001B[38;5;241m*\u001B[39mkwargs)\n",
       "\u001B[1;32m     48\u001B[0m     logger\u001B[38;5;241m.\u001B[39mlog_success(\n",
       "\u001B[1;32m     49\u001B[0m         module_name, class_name, function_name, time\u001B[38;5;241m.\u001B[39mperf_counter() \u001B[38;5;241m-\u001B[39m start, signature\n",
       "\u001B[1;32m     50\u001B[0m     )\n",
       "\u001B[1;32m     51\u001B[0m     \u001B[38;5;28;01mreturn\u001B[39;00m res\n",
       "\n",
       "File \u001B[0;32m/databricks/spark/python/pyspark/sql/readwriter.py:312\u001B[0m, in \u001B[0;36mDataFrameReader.load\u001B[0;34m(self, path, format, schema, **options)\u001B[0m\n",
       "\u001B[1;32m    310\u001B[0m \u001B[38;5;28mself\u001B[39m\u001B[38;5;241m.\u001B[39moptions(\u001B[38;5;241m*\u001B[39m\u001B[38;5;241m*\u001B[39moptions)\n",
       "\u001B[1;32m    311\u001B[0m \u001B[38;5;28;01mif\u001B[39;00m \u001B[38;5;28misinstance\u001B[39m(path, \u001B[38;5;28mstr\u001B[39m):\n",
       "\u001B[0;32m--> 312\u001B[0m     \u001B[38;5;28;01mreturn\u001B[39;00m \u001B[38;5;28mself\u001B[39m\u001B[38;5;241m.\u001B[39m_df(\u001B[38;5;28mself\u001B[39m\u001B[38;5;241m.\u001B[39m_jreader\u001B[38;5;241m.\u001B[39mload(path))\n",
       "\u001B[1;32m    313\u001B[0m \u001B[38;5;28;01melif\u001B[39;00m path \u001B[38;5;129;01mis\u001B[39;00m \u001B[38;5;129;01mnot\u001B[39;00m \u001B[38;5;28;01mNone\u001B[39;00m:\n",
       "\u001B[1;32m    314\u001B[0m     \u001B[38;5;28;01mif\u001B[39;00m \u001B[38;5;28mtype\u001B[39m(path) \u001B[38;5;241m!=\u001B[39m \u001B[38;5;28mlist\u001B[39m:\n",
       "\n",
       "File \u001B[0;32m/databricks/spark/python/lib/py4j-0.10.9.7-src.zip/py4j/java_gateway.py:1355\u001B[0m, in \u001B[0;36mJavaMember.__call__\u001B[0;34m(self, *args)\u001B[0m\n",
       "\u001B[1;32m   1349\u001B[0m command \u001B[38;5;241m=\u001B[39m proto\u001B[38;5;241m.\u001B[39mCALL_COMMAND_NAME \u001B[38;5;241m+\u001B[39m\\\n",
       "\u001B[1;32m   1350\u001B[0m     \u001B[38;5;28mself\u001B[39m\u001B[38;5;241m.\u001B[39mcommand_header \u001B[38;5;241m+\u001B[39m\\\n",
       "\u001B[1;32m   1351\u001B[0m     args_command \u001B[38;5;241m+\u001B[39m\\\n",
       "\u001B[1;32m   1352\u001B[0m     proto\u001B[38;5;241m.\u001B[39mEND_COMMAND_PART\n",
       "\u001B[1;32m   1354\u001B[0m answer \u001B[38;5;241m=\u001B[39m \u001B[38;5;28mself\u001B[39m\u001B[38;5;241m.\u001B[39mgateway_client\u001B[38;5;241m.\u001B[39msend_command(command)\n",
       "\u001B[0;32m-> 1355\u001B[0m return_value \u001B[38;5;241m=\u001B[39m get_return_value(\n",
       "\u001B[1;32m   1356\u001B[0m     answer, \u001B[38;5;28mself\u001B[39m\u001B[38;5;241m.\u001B[39mgateway_client, \u001B[38;5;28mself\u001B[39m\u001B[38;5;241m.\u001B[39mtarget_id, \u001B[38;5;28mself\u001B[39m\u001B[38;5;241m.\u001B[39mname)\n",
       "\u001B[1;32m   1358\u001B[0m \u001B[38;5;28;01mfor\u001B[39;00m temp_arg \u001B[38;5;129;01min\u001B[39;00m temp_args:\n",
       "\u001B[1;32m   1359\u001B[0m     \u001B[38;5;28;01mif\u001B[39;00m \u001B[38;5;28mhasattr\u001B[39m(temp_arg, \u001B[38;5;124m\"\u001B[39m\u001B[38;5;124m_detach\u001B[39m\u001B[38;5;124m\"\u001B[39m):\n",
       "\n",
       "File \u001B[0;32m/databricks/spark/python/pyspark/errors/exceptions/captured.py:230\u001B[0m, in \u001B[0;36mcapture_sql_exception.<locals>.deco\u001B[0;34m(*a, **kw)\u001B[0m\n",
       "\u001B[1;32m    226\u001B[0m converted \u001B[38;5;241m=\u001B[39m convert_exception(e\u001B[38;5;241m.\u001B[39mjava_exception)\n",
       "\u001B[1;32m    227\u001B[0m \u001B[38;5;28;01mif\u001B[39;00m \u001B[38;5;129;01mnot\u001B[39;00m \u001B[38;5;28misinstance\u001B[39m(converted, UnknownException):\n",
       "\u001B[1;32m    228\u001B[0m     \u001B[38;5;66;03m# Hide where the exception came from that shows a non-Pythonic\u001B[39;00m\n",
       "\u001B[1;32m    229\u001B[0m     \u001B[38;5;66;03m# JVM exception message.\u001B[39;00m\n",
       "\u001B[0;32m--> 230\u001B[0m     \u001B[38;5;28;01mraise\u001B[39;00m converted \u001B[38;5;28;01mfrom\u001B[39;00m \u001B[38;5;28;01mNone\u001B[39;00m\n",
       "\u001B[1;32m    231\u001B[0m \u001B[38;5;28;01melse\u001B[39;00m:\n",
       "\u001B[1;32m    232\u001B[0m     \u001B[38;5;28;01mraise\u001B[39;00m\n",
       "\n",
       "\u001B[0;31mAnalysisException\u001B[0m: [PATH_NOT_FOUND] Path does not exist: wasbs://w261-project@mids261project.blob.core.windows.net/20162018_data_test_test_eval_df_LLM. SQLSTATE: 42K03"
      ]
     },
     "metadata": {
      "application/vnd.databricks.v1+output": {
       "addedWidgets": {},
       "arguments": {},
       "datasetInfos": [],
       "jupyterProps": {
        "ename": "AnalysisException",
        "evalue": "[PATH_NOT_FOUND] Path does not exist: wasbs://w261-project@mids261project.blob.core.windows.net/20162018_data_test_test_eval_df_LLM. SQLSTATE: 42K03"
       },
       "metadata": {
        "errorSummary": "[PATH_NOT_FOUND] Path does not exist: wasbs://w261-project@mids261project.blob.core.windows.net/20162018_data_test_test_eval_df_LLM. SQLSTATE: 42K03"
       },
       "removedWidgets": [],
       "sqlProps": {
        "errorClass": "PATH_NOT_FOUND",
        "sqlState": "42K03",
        "startIndex": null,
        "stopIndex": null
       },
       "stackFrames": [
        "\u001B[0;31m---------------------------------------------------------------------------\u001B[0m",
        "\u001B[0;31mAnalysisException\u001B[0m                         Traceback (most recent call last)",
        "File \u001B[0;32m<command-2340268507081149>, line 6\u001B[0m\n\u001B[1;32m      1\u001B[0m \u001B[38;5;124;03m'''\u001B[39;00m\n\u001B[1;32m      2\u001B[0m \u001B[38;5;124;03mRetrain model on train & validation dataset and evaluate on test dataset\u001B[39;00m\n\u001B[1;32m      3\u001B[0m \u001B[38;5;124;03m'''\u001B[39;00m\n\u001B[1;32m      5\u001B[0m \u001B[38;5;28;01mif\u001B[39;00m READ:\n\u001B[0;32m----> 6\u001B[0m     test_eval_df \u001B[38;5;241m=\u001B[39m spark\u001B[38;5;241m.\u001B[39mread\u001B[38;5;241m.\u001B[39mformat(\u001B[38;5;124m\"\u001B[39m\u001B[38;5;124mparquet\u001B[39m\u001B[38;5;124m\"\u001B[39m)\u001B[38;5;241m.\u001B[39mload(\u001B[38;5;124mf\u001B[39m\u001B[38;5;124m\"\u001B[39m\u001B[38;5;132;01m{\u001B[39;00mteam_blob_url\u001B[38;5;132;01m}\u001B[39;00m\u001B[38;5;124m/\u001B[39m\u001B[38;5;132;01m{\u001B[39;00mtest_file_name\u001B[38;5;132;01m}\u001B[39;00m\u001B[38;5;124m_test_eval_df_LLM\u001B[39m\u001B[38;5;124m\"\u001B[39m)\n\u001B[1;32m      7\u001B[0m     train_eval_df \u001B[38;5;241m=\u001B[39m spark\u001B[38;5;241m.\u001B[39mread\u001B[38;5;241m.\u001B[39mformat(\u001B[38;5;124m\"\u001B[39m\u001B[38;5;124mparquet\u001B[39m\u001B[38;5;124m\"\u001B[39m)\u001B[38;5;241m.\u001B[39mload(\u001B[38;5;124mf\u001B[39m\u001B[38;5;124m\"\u001B[39m\u001B[38;5;132;01m{\u001B[39;00mteam_blob_url\u001B[38;5;132;01m}\u001B[39;00m\u001B[38;5;124m/\u001B[39m\u001B[38;5;132;01m{\u001B[39;00mfull_train_file_name\u001B[38;5;132;01m}\u001B[39;00m\u001B[38;5;124m_train_eval_df_LLM\u001B[39m\u001B[38;5;124m\"\u001B[39m)\n\u001B[1;32m      8\u001B[0m     \u001B[38;5;66;03m#test_eval_df = spark.read.format(\"parquet\").load(f\"{team_blob_url}/{test_file_name}\")\u001B[39;00m\n\u001B[1;32m      9\u001B[0m     \u001B[38;5;66;03m#train_eval_df = spark.read.format(\"parquet\").load(f\"{team_blob_url}/{full_train_file_name}\")\u001B[39;00m\n\u001B[1;32m     10\u001B[0m     \n\u001B[1;32m     11\u001B[0m \u001B[38;5;28;01melse\u001B[39;00m:  \n\u001B[1;32m     12\u001B[0m     \u001B[38;5;66;03m# Read in data if train_DF_VA doesn't exist   \u001B[39;00m\n",
        "File \u001B[0;32m/databricks/spark/python/pyspark/instrumentation_utils.py:47\u001B[0m, in \u001B[0;36m_wrap_function.<locals>.wrapper\u001B[0;34m(*args, **kwargs)\u001B[0m\n\u001B[1;32m     45\u001B[0m start \u001B[38;5;241m=\u001B[39m time\u001B[38;5;241m.\u001B[39mperf_counter()\n\u001B[1;32m     46\u001B[0m \u001B[38;5;28;01mtry\u001B[39;00m:\n\u001B[0;32m---> 47\u001B[0m     res \u001B[38;5;241m=\u001B[39m func(\u001B[38;5;241m*\u001B[39margs, \u001B[38;5;241m*\u001B[39m\u001B[38;5;241m*\u001B[39mkwargs)\n\u001B[1;32m     48\u001B[0m     logger\u001B[38;5;241m.\u001B[39mlog_success(\n\u001B[1;32m     49\u001B[0m         module_name, class_name, function_name, time\u001B[38;5;241m.\u001B[39mperf_counter() \u001B[38;5;241m-\u001B[39m start, signature\n\u001B[1;32m     50\u001B[0m     )\n\u001B[1;32m     51\u001B[0m     \u001B[38;5;28;01mreturn\u001B[39;00m res\n",
        "File \u001B[0;32m/databricks/spark/python/pyspark/sql/readwriter.py:312\u001B[0m, in \u001B[0;36mDataFrameReader.load\u001B[0;34m(self, path, format, schema, **options)\u001B[0m\n\u001B[1;32m    310\u001B[0m \u001B[38;5;28mself\u001B[39m\u001B[38;5;241m.\u001B[39moptions(\u001B[38;5;241m*\u001B[39m\u001B[38;5;241m*\u001B[39moptions)\n\u001B[1;32m    311\u001B[0m \u001B[38;5;28;01mif\u001B[39;00m \u001B[38;5;28misinstance\u001B[39m(path, \u001B[38;5;28mstr\u001B[39m):\n\u001B[0;32m--> 312\u001B[0m     \u001B[38;5;28;01mreturn\u001B[39;00m \u001B[38;5;28mself\u001B[39m\u001B[38;5;241m.\u001B[39m_df(\u001B[38;5;28mself\u001B[39m\u001B[38;5;241m.\u001B[39m_jreader\u001B[38;5;241m.\u001B[39mload(path))\n\u001B[1;32m    313\u001B[0m \u001B[38;5;28;01melif\u001B[39;00m path \u001B[38;5;129;01mis\u001B[39;00m \u001B[38;5;129;01mnot\u001B[39;00m \u001B[38;5;28;01mNone\u001B[39;00m:\n\u001B[1;32m    314\u001B[0m     \u001B[38;5;28;01mif\u001B[39;00m \u001B[38;5;28mtype\u001B[39m(path) \u001B[38;5;241m!=\u001B[39m \u001B[38;5;28mlist\u001B[39m:\n",
        "File \u001B[0;32m/databricks/spark/python/lib/py4j-0.10.9.7-src.zip/py4j/java_gateway.py:1355\u001B[0m, in \u001B[0;36mJavaMember.__call__\u001B[0;34m(self, *args)\u001B[0m\n\u001B[1;32m   1349\u001B[0m command \u001B[38;5;241m=\u001B[39m proto\u001B[38;5;241m.\u001B[39mCALL_COMMAND_NAME \u001B[38;5;241m+\u001B[39m\\\n\u001B[1;32m   1350\u001B[0m     \u001B[38;5;28mself\u001B[39m\u001B[38;5;241m.\u001B[39mcommand_header \u001B[38;5;241m+\u001B[39m\\\n\u001B[1;32m   1351\u001B[0m     args_command \u001B[38;5;241m+\u001B[39m\\\n\u001B[1;32m   1352\u001B[0m     proto\u001B[38;5;241m.\u001B[39mEND_COMMAND_PART\n\u001B[1;32m   1354\u001B[0m answer \u001B[38;5;241m=\u001B[39m \u001B[38;5;28mself\u001B[39m\u001B[38;5;241m.\u001B[39mgateway_client\u001B[38;5;241m.\u001B[39msend_command(command)\n\u001B[0;32m-> 1355\u001B[0m return_value \u001B[38;5;241m=\u001B[39m get_return_value(\n\u001B[1;32m   1356\u001B[0m     answer, \u001B[38;5;28mself\u001B[39m\u001B[38;5;241m.\u001B[39mgateway_client, \u001B[38;5;28mself\u001B[39m\u001B[38;5;241m.\u001B[39mtarget_id, \u001B[38;5;28mself\u001B[39m\u001B[38;5;241m.\u001B[39mname)\n\u001B[1;32m   1358\u001B[0m \u001B[38;5;28;01mfor\u001B[39;00m temp_arg \u001B[38;5;129;01min\u001B[39;00m temp_args:\n\u001B[1;32m   1359\u001B[0m     \u001B[38;5;28;01mif\u001B[39;00m \u001B[38;5;28mhasattr\u001B[39m(temp_arg, \u001B[38;5;124m\"\u001B[39m\u001B[38;5;124m_detach\u001B[39m\u001B[38;5;124m\"\u001B[39m):\n",
        "File \u001B[0;32m/databricks/spark/python/pyspark/errors/exceptions/captured.py:230\u001B[0m, in \u001B[0;36mcapture_sql_exception.<locals>.deco\u001B[0;34m(*a, **kw)\u001B[0m\n\u001B[1;32m    226\u001B[0m converted \u001B[38;5;241m=\u001B[39m convert_exception(e\u001B[38;5;241m.\u001B[39mjava_exception)\n\u001B[1;32m    227\u001B[0m \u001B[38;5;28;01mif\u001B[39;00m \u001B[38;5;129;01mnot\u001B[39;00m \u001B[38;5;28misinstance\u001B[39m(converted, UnknownException):\n\u001B[1;32m    228\u001B[0m     \u001B[38;5;66;03m# Hide where the exception came from that shows a non-Pythonic\u001B[39;00m\n\u001B[1;32m    229\u001B[0m     \u001B[38;5;66;03m# JVM exception message.\u001B[39;00m\n\u001B[0;32m--> 230\u001B[0m     \u001B[38;5;28;01mraise\u001B[39;00m converted \u001B[38;5;28;01mfrom\u001B[39;00m \u001B[38;5;28;01mNone\u001B[39;00m\n\u001B[1;32m    231\u001B[0m \u001B[38;5;28;01melse\u001B[39;00m:\n\u001B[1;32m    232\u001B[0m     \u001B[38;5;28;01mraise\u001B[39;00m\n",
        "\u001B[0;31mAnalysisException\u001B[0m: [PATH_NOT_FOUND] Path does not exist: wasbs://w261-project@mids261project.blob.core.windows.net/20162018_data_test_test_eval_df_LLM. SQLSTATE: 42K03"
       ],
       "type": "baseError"
      }
     },
     "output_type": "display_data"
    }
   ],
   "source": [
    "'''\n",
    "Retrain model on train & validation dataset and evaluate on test dataset\n",
    "'''\n",
    "\n",
    "if READ:\n",
    "    test_eval_df = spark.read.format(\"parquet\").load(f\"{team_blob_url}/{test_file_name}_test_eval_df_LLM\")\n",
    "    train_eval_df = spark.read.format(\"parquet\").load(f\"{team_blob_url}/{full_train_file_name}_train_eval_df_LLM\")\n",
    "    #test_eval_df = spark.read.format(\"parquet\").load(f\"{team_blob_url}/{test_file_name}\")\n",
    "    #train_eval_df = spark.read.format(\"parquet\").load(f\"{team_blob_url}/{full_train_file_name}\")\n",
    "    \n",
    "else:  \n",
    "    # Read in data if train_DF_VA doesn't exist   \n",
    "    if spark.catalog.tableExists(\"train_DF_VA\"):\n",
    "        pass\n",
    "    else:\n",
    "        train_DF_VA_checkpoint = spark.read.format(\"parquet\").load(f\"{team_blob_url}/{full_train_downsampled}\")\n",
    "    \n",
    "    # Read in data if val_DF_VA doesn't exist \n",
    "    if spark.catalog.tableExists(\"val_DF_VA\"):\n",
    "        pass\n",
    "    else:    \n",
    "        val_DF_VA_checkpoint = spark.read.format(\"parquet\").load(f\"{team_blob_url}/{full_val}\")\n",
    "    \n",
    "    start_time = time.time()\n",
    "\n",
    "    # Start training with hyperopt parameters\n",
    "    with mlflow.start_run() as run:\n",
    "        best_max_depth = best_hyperparam[\"max_depth\"]\n",
    "        best_num_trees = best_hyperparam[\"num_trees\"]\n",
    "        best_weight_per_node = best_hyperparam[\"weight_per_node\"]\n",
    "        best_subsampling_rate = best_hyperparam[\"subsampling_rate\"]\n",
    "\n",
    "        estimator = pipeline.copy({rf.maxDepth: best_max_depth, rf.numTrees: best_num_trees, rf.minWeightFractionPerNode: best_weight_per_node, rf.subsamplingRate: best_subsampling_rate})\n",
    "\n",
    "        # Fit the estimator to the training data \n",
    "        rf_model = estimator.fit(train_DF_VA_checkpoint)\n",
    "\n",
    "        #  Apply the trained Random Forest model, rf_model, to train_DF_VA_checkpoint. Generates predictions for each instance in training/validation data\n",
    "        train_preds = rf_model.transform(train_DF_VA_checkpoint) \n",
    "        test_preds = rf_model.transform(val_DF_VA_checkpoint)\n",
    "\n",
    "        # Evaluate train\n",
    "        train_log_loss = evaluator.evaluate(train_preds)\n",
    "        train_f2_evaluator = MulticlassClassificationEvaluator(metricName='fMeasureByLabel', beta=2)\n",
    "        train_f2_score = train_f2_evaluator.evaluate(train_preds)\n",
    "\n",
    "        # Evaluate test\n",
    "        log_loss = evaluator.evaluate(test_preds)\n",
    "        f2_evaluator = MulticlassClassificationEvaluator(metricName='fMeasureByLabel', beta=2)\n",
    "        f2_score = f2_evaluator.evaluate(test_preds)\n",
    "\n",
    "        # Log param and metrics for the final model\n",
    "        mlflow.log_param(\"max_depth\", best_max_depth)\n",
    "        mlflow.log_param(\"num_trees\", best_num_trees)\n",
    "        mlflow.log_param(\"weight_per_node\", best_weight_per_node)\n",
    "        mlflow.log_param(\"subsampling_rate\", best_subsampling_rate)\n",
    "        mlflow.log_metric(\"train_log_loss\", train_log_loss)\n",
    "        mlflow.log_metric(\"train_f2_score\", train_f2_score)\n",
    "        mlflow.log_metric(\"log_loss\", log_loss)\n",
    "        mlflow.log_metric(\"f2_score\", f2_score)\n",
    "        mlflow.spark.log_model(rf_model, f\"{model_files_name}\")\n",
    "\n",
    "        run_id = run.info.run_id\n",
    "\n",
    "    train_time = \"%s seconds\" % round((time.time() - start_time), 1)\n",
    "    print(\"Run id:\", run_id)\n",
    "    print(\"Train time:\", train_time)\n",
    "\n",
    "    test_eval_df = test_preds.select(\"prediction\", \"label\")\n",
    "    train_eval_df = train_preds.select(\"prediction\", \"label\")\n",
    "\n",
    "    test_eval_df.write.mode(\"overwrite\").parquet(f\"{team_blob_url}/{model_files_name}_test_eval_df_LLM\")\n",
    "    train_eval_df.write.mode(\"overwrite\").parquet(f\"{team_blob_url}/{model_files_name}_train_eval_df_LLM\")"
   ]
  },
  {
   "cell_type": "markdown",
   "metadata": {
    "application/vnd.databricks.v1+cell": {
     "cellMetadata": {
      "byteLimit": 2048000,
      "rowLimit": 10000
     },
     "inputWidgets": {},
     "nuid": "a9ef68ff-134e-44d3-bc12-60e1ce513af7",
     "showTitle": false,
     "title": ""
    }
   },
   "source": [
    "Tree Performance Summary"
   ]
  },
  {
   "cell_type": "code",
   "execution_count": 0,
   "metadata": {
    "application/vnd.databricks.v1+cell": {
     "cellMetadata": {
      "byteLimit": 2048000,
      "rowLimit": 10000
     },
     "inputWidgets": {},
     "nuid": "4be629cb-0a28-4bc7-9160-1639e14ef33b",
     "showTitle": false,
     "title": ""
    }
   },
   "outputs": [
    {
     "output_type": "display_data",
     "data": {
      "text/plain": [
       "\u001B[0;31m---------------------------------------------------------------------------\u001B[0m\n",
       "\u001B[0;31mAnalysisException\u001B[0m                         Traceback (most recent call last)\n",
       "File \u001B[0;32m<command-2340268507081149>, line 6\u001B[0m\n",
       "\u001B[1;32m      1\u001B[0m \u001B[38;5;124;03m'''\u001B[39;00m\n",
       "\u001B[1;32m      2\u001B[0m \u001B[38;5;124;03mRetrain model on train & validation dataset and evaluate on test dataset\u001B[39;00m\n",
       "\u001B[1;32m      3\u001B[0m \u001B[38;5;124;03m'''\u001B[39;00m\n",
       "\u001B[1;32m      5\u001B[0m \u001B[38;5;28;01mif\u001B[39;00m READ:\n",
       "\u001B[0;32m----> 6\u001B[0m     test_eval_df \u001B[38;5;241m=\u001B[39m spark\u001B[38;5;241m.\u001B[39mread\u001B[38;5;241m.\u001B[39mformat(\u001B[38;5;124m\"\u001B[39m\u001B[38;5;124mparquet\u001B[39m\u001B[38;5;124m\"\u001B[39m)\u001B[38;5;241m.\u001B[39mload(\u001B[38;5;124mf\u001B[39m\u001B[38;5;124m\"\u001B[39m\u001B[38;5;132;01m{\u001B[39;00mteam_blob_url\u001B[38;5;132;01m}\u001B[39;00m\u001B[38;5;124m/\u001B[39m\u001B[38;5;132;01m{\u001B[39;00mtest_file_name\u001B[38;5;132;01m}\u001B[39;00m\u001B[38;5;124m_test_eval_df_LLM\u001B[39m\u001B[38;5;124m\"\u001B[39m)\n",
       "\u001B[1;32m      7\u001B[0m     train_eval_df \u001B[38;5;241m=\u001B[39m spark\u001B[38;5;241m.\u001B[39mread\u001B[38;5;241m.\u001B[39mformat(\u001B[38;5;124m\"\u001B[39m\u001B[38;5;124mparquet\u001B[39m\u001B[38;5;124m\"\u001B[39m)\u001B[38;5;241m.\u001B[39mload(\u001B[38;5;124mf\u001B[39m\u001B[38;5;124m\"\u001B[39m\u001B[38;5;132;01m{\u001B[39;00mteam_blob_url\u001B[38;5;132;01m}\u001B[39;00m\u001B[38;5;124m/\u001B[39m\u001B[38;5;132;01m{\u001B[39;00mfull_train_file_name\u001B[38;5;132;01m}\u001B[39;00m\u001B[38;5;124m_train_eval_df_LLM\u001B[39m\u001B[38;5;124m\"\u001B[39m)\n",
       "\u001B[1;32m      8\u001B[0m     \u001B[38;5;66;03m#test_eval_df = spark.read.format(\"parquet\").load(f\"{team_blob_url}/{test_file_name}\")\u001B[39;00m\n",
       "\u001B[1;32m      9\u001B[0m     \u001B[38;5;66;03m#train_eval_df = spark.read.format(\"parquet\").load(f\"{team_blob_url}/{full_train_file_name}\")\u001B[39;00m\n",
       "\u001B[1;32m     10\u001B[0m     \n",
       "\u001B[1;32m     11\u001B[0m \u001B[38;5;28;01melse\u001B[39;00m:  \n",
       "\u001B[1;32m     12\u001B[0m     \u001B[38;5;66;03m# Read in data if train_DF_VA doesn't exist   \u001B[39;00m\n",
       "\n",
       "File \u001B[0;32m/databricks/spark/python/pyspark/instrumentation_utils.py:47\u001B[0m, in \u001B[0;36m_wrap_function.<locals>.wrapper\u001B[0;34m(*args, **kwargs)\u001B[0m\n",
       "\u001B[1;32m     45\u001B[0m start \u001B[38;5;241m=\u001B[39m time\u001B[38;5;241m.\u001B[39mperf_counter()\n",
       "\u001B[1;32m     46\u001B[0m \u001B[38;5;28;01mtry\u001B[39;00m:\n",
       "\u001B[0;32m---> 47\u001B[0m     res \u001B[38;5;241m=\u001B[39m func(\u001B[38;5;241m*\u001B[39margs, \u001B[38;5;241m*\u001B[39m\u001B[38;5;241m*\u001B[39mkwargs)\n",
       "\u001B[1;32m     48\u001B[0m     logger\u001B[38;5;241m.\u001B[39mlog_success(\n",
       "\u001B[1;32m     49\u001B[0m         module_name, class_name, function_name, time\u001B[38;5;241m.\u001B[39mperf_counter() \u001B[38;5;241m-\u001B[39m start, signature\n",
       "\u001B[1;32m     50\u001B[0m     )\n",
       "\u001B[1;32m     51\u001B[0m     \u001B[38;5;28;01mreturn\u001B[39;00m res\n",
       "\n",
       "File \u001B[0;32m/databricks/spark/python/pyspark/sql/readwriter.py:312\u001B[0m, in \u001B[0;36mDataFrameReader.load\u001B[0;34m(self, path, format, schema, **options)\u001B[0m\n",
       "\u001B[1;32m    310\u001B[0m \u001B[38;5;28mself\u001B[39m\u001B[38;5;241m.\u001B[39moptions(\u001B[38;5;241m*\u001B[39m\u001B[38;5;241m*\u001B[39moptions)\n",
       "\u001B[1;32m    311\u001B[0m \u001B[38;5;28;01mif\u001B[39;00m \u001B[38;5;28misinstance\u001B[39m(path, \u001B[38;5;28mstr\u001B[39m):\n",
       "\u001B[0;32m--> 312\u001B[0m     \u001B[38;5;28;01mreturn\u001B[39;00m \u001B[38;5;28mself\u001B[39m\u001B[38;5;241m.\u001B[39m_df(\u001B[38;5;28mself\u001B[39m\u001B[38;5;241m.\u001B[39m_jreader\u001B[38;5;241m.\u001B[39mload(path))\n",
       "\u001B[1;32m    313\u001B[0m \u001B[38;5;28;01melif\u001B[39;00m path \u001B[38;5;129;01mis\u001B[39;00m \u001B[38;5;129;01mnot\u001B[39;00m \u001B[38;5;28;01mNone\u001B[39;00m:\n",
       "\u001B[1;32m    314\u001B[0m     \u001B[38;5;28;01mif\u001B[39;00m \u001B[38;5;28mtype\u001B[39m(path) \u001B[38;5;241m!=\u001B[39m \u001B[38;5;28mlist\u001B[39m:\n",
       "\n",
       "File \u001B[0;32m/databricks/spark/python/lib/py4j-0.10.9.7-src.zip/py4j/java_gateway.py:1355\u001B[0m, in \u001B[0;36mJavaMember.__call__\u001B[0;34m(self, *args)\u001B[0m\n",
       "\u001B[1;32m   1349\u001B[0m command \u001B[38;5;241m=\u001B[39m proto\u001B[38;5;241m.\u001B[39mCALL_COMMAND_NAME \u001B[38;5;241m+\u001B[39m\\\n",
       "\u001B[1;32m   1350\u001B[0m     \u001B[38;5;28mself\u001B[39m\u001B[38;5;241m.\u001B[39mcommand_header \u001B[38;5;241m+\u001B[39m\\\n",
       "\u001B[1;32m   1351\u001B[0m     args_command \u001B[38;5;241m+\u001B[39m\\\n",
       "\u001B[1;32m   1352\u001B[0m     proto\u001B[38;5;241m.\u001B[39mEND_COMMAND_PART\n",
       "\u001B[1;32m   1354\u001B[0m answer \u001B[38;5;241m=\u001B[39m \u001B[38;5;28mself\u001B[39m\u001B[38;5;241m.\u001B[39mgateway_client\u001B[38;5;241m.\u001B[39msend_command(command)\n",
       "\u001B[0;32m-> 1355\u001B[0m return_value \u001B[38;5;241m=\u001B[39m get_return_value(\n",
       "\u001B[1;32m   1356\u001B[0m     answer, \u001B[38;5;28mself\u001B[39m\u001B[38;5;241m.\u001B[39mgateway_client, \u001B[38;5;28mself\u001B[39m\u001B[38;5;241m.\u001B[39mtarget_id, \u001B[38;5;28mself\u001B[39m\u001B[38;5;241m.\u001B[39mname)\n",
       "\u001B[1;32m   1358\u001B[0m \u001B[38;5;28;01mfor\u001B[39;00m temp_arg \u001B[38;5;129;01min\u001B[39;00m temp_args:\n",
       "\u001B[1;32m   1359\u001B[0m     \u001B[38;5;28;01mif\u001B[39;00m \u001B[38;5;28mhasattr\u001B[39m(temp_arg, \u001B[38;5;124m\"\u001B[39m\u001B[38;5;124m_detach\u001B[39m\u001B[38;5;124m\"\u001B[39m):\n",
       "\n",
       "File \u001B[0;32m/databricks/spark/python/pyspark/errors/exceptions/captured.py:230\u001B[0m, in \u001B[0;36mcapture_sql_exception.<locals>.deco\u001B[0;34m(*a, **kw)\u001B[0m\n",
       "\u001B[1;32m    226\u001B[0m converted \u001B[38;5;241m=\u001B[39m convert_exception(e\u001B[38;5;241m.\u001B[39mjava_exception)\n",
       "\u001B[1;32m    227\u001B[0m \u001B[38;5;28;01mif\u001B[39;00m \u001B[38;5;129;01mnot\u001B[39;00m \u001B[38;5;28misinstance\u001B[39m(converted, UnknownException):\n",
       "\u001B[1;32m    228\u001B[0m     \u001B[38;5;66;03m# Hide where the exception came from that shows a non-Pythonic\u001B[39;00m\n",
       "\u001B[1;32m    229\u001B[0m     \u001B[38;5;66;03m# JVM exception message.\u001B[39;00m\n",
       "\u001B[0;32m--> 230\u001B[0m     \u001B[38;5;28;01mraise\u001B[39;00m converted \u001B[38;5;28;01mfrom\u001B[39;00m \u001B[38;5;28;01mNone\u001B[39;00m\n",
       "\u001B[1;32m    231\u001B[0m \u001B[38;5;28;01melse\u001B[39;00m:\n",
       "\u001B[1;32m    232\u001B[0m     \u001B[38;5;28;01mraise\u001B[39;00m\n",
       "\n",
       "\u001B[0;31mAnalysisException\u001B[0m: [PATH_NOT_FOUND] Path does not exist: wasbs://w261-project@mids261project.blob.core.windows.net/20162018_data_test_test_eval_df_LLM. SQLSTATE: 42K03"
      ]
     },
     "metadata": {
      "application/vnd.databricks.v1+output": {
       "addedWidgets": {},
       "arguments": {},
       "datasetInfos": [],
       "jupyterProps": {
        "ename": "AnalysisException",
        "evalue": "[PATH_NOT_FOUND] Path does not exist: wasbs://w261-project@mids261project.blob.core.windows.net/20162018_data_test_test_eval_df_LLM. SQLSTATE: 42K03"
       },
       "metadata": {
        "errorSummary": "Command skipped"
       },
       "removedWidgets": [],
       "sqlProps": {
        "errorClass": "PATH_NOT_FOUND",
        "sqlState": "42K03",
        "startIndex": null,
        "stopIndex": null
       },
       "stackFrames": [
        "\u001B[0;31m---------------------------------------------------------------------------\u001B[0m",
        "\u001B[0;31mAnalysisException\u001B[0m                         Traceback (most recent call last)",
        "File \u001B[0;32m<command-2340268507081149>, line 6\u001B[0m\n\u001B[1;32m      1\u001B[0m \u001B[38;5;124;03m'''\u001B[39;00m\n\u001B[1;32m      2\u001B[0m \u001B[38;5;124;03mRetrain model on train & validation dataset and evaluate on test dataset\u001B[39;00m\n\u001B[1;32m      3\u001B[0m \u001B[38;5;124;03m'''\u001B[39;00m\n\u001B[1;32m      5\u001B[0m \u001B[38;5;28;01mif\u001B[39;00m READ:\n\u001B[0;32m----> 6\u001B[0m     test_eval_df \u001B[38;5;241m=\u001B[39m spark\u001B[38;5;241m.\u001B[39mread\u001B[38;5;241m.\u001B[39mformat(\u001B[38;5;124m\"\u001B[39m\u001B[38;5;124mparquet\u001B[39m\u001B[38;5;124m\"\u001B[39m)\u001B[38;5;241m.\u001B[39mload(\u001B[38;5;124mf\u001B[39m\u001B[38;5;124m\"\u001B[39m\u001B[38;5;132;01m{\u001B[39;00mteam_blob_url\u001B[38;5;132;01m}\u001B[39;00m\u001B[38;5;124m/\u001B[39m\u001B[38;5;132;01m{\u001B[39;00mtest_file_name\u001B[38;5;132;01m}\u001B[39;00m\u001B[38;5;124m_test_eval_df_LLM\u001B[39m\u001B[38;5;124m\"\u001B[39m)\n\u001B[1;32m      7\u001B[0m     train_eval_df \u001B[38;5;241m=\u001B[39m spark\u001B[38;5;241m.\u001B[39mread\u001B[38;5;241m.\u001B[39mformat(\u001B[38;5;124m\"\u001B[39m\u001B[38;5;124mparquet\u001B[39m\u001B[38;5;124m\"\u001B[39m)\u001B[38;5;241m.\u001B[39mload(\u001B[38;5;124mf\u001B[39m\u001B[38;5;124m\"\u001B[39m\u001B[38;5;132;01m{\u001B[39;00mteam_blob_url\u001B[38;5;132;01m}\u001B[39;00m\u001B[38;5;124m/\u001B[39m\u001B[38;5;132;01m{\u001B[39;00mfull_train_file_name\u001B[38;5;132;01m}\u001B[39;00m\u001B[38;5;124m_train_eval_df_LLM\u001B[39m\u001B[38;5;124m\"\u001B[39m)\n\u001B[1;32m      8\u001B[0m     \u001B[38;5;66;03m#test_eval_df = spark.read.format(\"parquet\").load(f\"{team_blob_url}/{test_file_name}\")\u001B[39;00m\n\u001B[1;32m      9\u001B[0m     \u001B[38;5;66;03m#train_eval_df = spark.read.format(\"parquet\").load(f\"{team_blob_url}/{full_train_file_name}\")\u001B[39;00m\n\u001B[1;32m     10\u001B[0m     \n\u001B[1;32m     11\u001B[0m \u001B[38;5;28;01melse\u001B[39;00m:  \n\u001B[1;32m     12\u001B[0m     \u001B[38;5;66;03m# Read in data if train_DF_VA doesn't exist   \u001B[39;00m\n",
        "File \u001B[0;32m/databricks/spark/python/pyspark/instrumentation_utils.py:47\u001B[0m, in \u001B[0;36m_wrap_function.<locals>.wrapper\u001B[0;34m(*args, **kwargs)\u001B[0m\n\u001B[1;32m     45\u001B[0m start \u001B[38;5;241m=\u001B[39m time\u001B[38;5;241m.\u001B[39mperf_counter()\n\u001B[1;32m     46\u001B[0m \u001B[38;5;28;01mtry\u001B[39;00m:\n\u001B[0;32m---> 47\u001B[0m     res \u001B[38;5;241m=\u001B[39m func(\u001B[38;5;241m*\u001B[39margs, \u001B[38;5;241m*\u001B[39m\u001B[38;5;241m*\u001B[39mkwargs)\n\u001B[1;32m     48\u001B[0m     logger\u001B[38;5;241m.\u001B[39mlog_success(\n\u001B[1;32m     49\u001B[0m         module_name, class_name, function_name, time\u001B[38;5;241m.\u001B[39mperf_counter() \u001B[38;5;241m-\u001B[39m start, signature\n\u001B[1;32m     50\u001B[0m     )\n\u001B[1;32m     51\u001B[0m     \u001B[38;5;28;01mreturn\u001B[39;00m res\n",
        "File \u001B[0;32m/databricks/spark/python/pyspark/sql/readwriter.py:312\u001B[0m, in \u001B[0;36mDataFrameReader.load\u001B[0;34m(self, path, format, schema, **options)\u001B[0m\n\u001B[1;32m    310\u001B[0m \u001B[38;5;28mself\u001B[39m\u001B[38;5;241m.\u001B[39moptions(\u001B[38;5;241m*\u001B[39m\u001B[38;5;241m*\u001B[39moptions)\n\u001B[1;32m    311\u001B[0m \u001B[38;5;28;01mif\u001B[39;00m \u001B[38;5;28misinstance\u001B[39m(path, \u001B[38;5;28mstr\u001B[39m):\n\u001B[0;32m--> 312\u001B[0m     \u001B[38;5;28;01mreturn\u001B[39;00m \u001B[38;5;28mself\u001B[39m\u001B[38;5;241m.\u001B[39m_df(\u001B[38;5;28mself\u001B[39m\u001B[38;5;241m.\u001B[39m_jreader\u001B[38;5;241m.\u001B[39mload(path))\n\u001B[1;32m    313\u001B[0m \u001B[38;5;28;01melif\u001B[39;00m path \u001B[38;5;129;01mis\u001B[39;00m \u001B[38;5;129;01mnot\u001B[39;00m \u001B[38;5;28;01mNone\u001B[39;00m:\n\u001B[1;32m    314\u001B[0m     \u001B[38;5;28;01mif\u001B[39;00m \u001B[38;5;28mtype\u001B[39m(path) \u001B[38;5;241m!=\u001B[39m \u001B[38;5;28mlist\u001B[39m:\n",
        "File \u001B[0;32m/databricks/spark/python/lib/py4j-0.10.9.7-src.zip/py4j/java_gateway.py:1355\u001B[0m, in \u001B[0;36mJavaMember.__call__\u001B[0;34m(self, *args)\u001B[0m\n\u001B[1;32m   1349\u001B[0m command \u001B[38;5;241m=\u001B[39m proto\u001B[38;5;241m.\u001B[39mCALL_COMMAND_NAME \u001B[38;5;241m+\u001B[39m\\\n\u001B[1;32m   1350\u001B[0m     \u001B[38;5;28mself\u001B[39m\u001B[38;5;241m.\u001B[39mcommand_header \u001B[38;5;241m+\u001B[39m\\\n\u001B[1;32m   1351\u001B[0m     args_command \u001B[38;5;241m+\u001B[39m\\\n\u001B[1;32m   1352\u001B[0m     proto\u001B[38;5;241m.\u001B[39mEND_COMMAND_PART\n\u001B[1;32m   1354\u001B[0m answer \u001B[38;5;241m=\u001B[39m \u001B[38;5;28mself\u001B[39m\u001B[38;5;241m.\u001B[39mgateway_client\u001B[38;5;241m.\u001B[39msend_command(command)\n\u001B[0;32m-> 1355\u001B[0m return_value \u001B[38;5;241m=\u001B[39m get_return_value(\n\u001B[1;32m   1356\u001B[0m     answer, \u001B[38;5;28mself\u001B[39m\u001B[38;5;241m.\u001B[39mgateway_client, \u001B[38;5;28mself\u001B[39m\u001B[38;5;241m.\u001B[39mtarget_id, \u001B[38;5;28mself\u001B[39m\u001B[38;5;241m.\u001B[39mname)\n\u001B[1;32m   1358\u001B[0m \u001B[38;5;28;01mfor\u001B[39;00m temp_arg \u001B[38;5;129;01min\u001B[39;00m temp_args:\n\u001B[1;32m   1359\u001B[0m     \u001B[38;5;28;01mif\u001B[39;00m \u001B[38;5;28mhasattr\u001B[39m(temp_arg, \u001B[38;5;124m\"\u001B[39m\u001B[38;5;124m_detach\u001B[39m\u001B[38;5;124m\"\u001B[39m):\n",
        "File \u001B[0;32m/databricks/spark/python/pyspark/errors/exceptions/captured.py:230\u001B[0m, in \u001B[0;36mcapture_sql_exception.<locals>.deco\u001B[0;34m(*a, **kw)\u001B[0m\n\u001B[1;32m    226\u001B[0m converted \u001B[38;5;241m=\u001B[39m convert_exception(e\u001B[38;5;241m.\u001B[39mjava_exception)\n\u001B[1;32m    227\u001B[0m \u001B[38;5;28;01mif\u001B[39;00m \u001B[38;5;129;01mnot\u001B[39;00m \u001B[38;5;28misinstance\u001B[39m(converted, UnknownException):\n\u001B[1;32m    228\u001B[0m     \u001B[38;5;66;03m# Hide where the exception came from that shows a non-Pythonic\u001B[39;00m\n\u001B[1;32m    229\u001B[0m     \u001B[38;5;66;03m# JVM exception message.\u001B[39;00m\n\u001B[0;32m--> 230\u001B[0m     \u001B[38;5;28;01mraise\u001B[39;00m converted \u001B[38;5;28;01mfrom\u001B[39;00m \u001B[38;5;28;01mNone\u001B[39;00m\n\u001B[1;32m    231\u001B[0m \u001B[38;5;28;01melse\u001B[39;00m:\n\u001B[1;32m    232\u001B[0m     \u001B[38;5;28;01mraise\u001B[39;00m\n",
        "\u001B[0;31mAnalysisException\u001B[0m: [PATH_NOT_FOUND] Path does not exist: wasbs://w261-project@mids261project.blob.core.windows.net/20162018_data_test_test_eval_df_LLM. SQLSTATE: 42K03"
       ],
       "type": "baseError"
      }
     },
     "output_type": "display_data"
    }
   ],
   "source": [
    "'''\n",
    "Predictions from train to be evaluated\n",
    "'''\n",
    "# Convert DataFrame to RDD\n",
    "train_prediction_and_label = train_preds\\\n",
    "                        .select([\"prediction\", \"label\"])\\\n",
    "                        .withColumn(\"label\", col(\"label\").cast(FloatType()))\\\n",
    "                        .orderBy(\"label\")\n",
    "\n",
    "# Create MulticlassMetrics object\n",
    "train_metrics = MulticlassMetrics(train_prediction_and_label.rdd.map(tuple))\n",
    "\n",
    "# metrics\n",
    "print(\"Accuracy:\", train_metrics.accuracy)\n",
    "print(\"Precision:\", train_metrics.precision(1.0))\n",
    "print(\"Recall:\", train_metrics.recall(1.0))\n",
    "print(\"F1 measure:\", train_metrics.fMeasure(1.0, 1.0))\n",
    "print(\"F2 measure:\", train_metrics.fMeasure(1.0, 2.0))"
   ]
  },
  {
   "cell_type": "markdown",
   "metadata": {
    "application/vnd.databricks.v1+cell": {
     "cellMetadata": {
      "byteLimit": 2048000,
      "rowLimit": 10000
     },
     "inputWidgets": {},
     "nuid": "06e5ec4f-5554-4d47-987c-e1dd4988f792",
     "showTitle": false,
     "title": ""
    }
   },
   "source": [
    "For our random forest models, we conducted hyperparameter optimization using Hyperopt. We used four cross validation folds to determine the best values for the max tree depth, the number of trees, the minimum weight per node, and the subsampling rate. The coefficients were selected based on maximizing the Area Under the Precision Recall Curve (AUPRC). We averaged the best values for each fold and applied those in our final model.\n",
    "\n",
    "Our best random forest model was tested on data from 2016-2018. It took 14 minutes and 39 seconds to optimize and train. Our model parameters were a maxDepth=3, numTrees=41, minWeightFractionPerNode=0.01, and subsamplingRate=0.77. The model resulted in a Train F2 Score of 0.65, a Validation F2 Score of 0.59, and a Test F2 Score of 0.56."
   ]
  },
  {
   "cell_type": "code",
   "execution_count": 0,
   "metadata": {
    "application/vnd.databricks.v1+cell": {
     "cellMetadata": {
      "byteLimit": 2048000,
      "rowLimit": 10000
     },
     "inputWidgets": {},
     "nuid": "acc54719-a2bf-445c-8d53-d728c860bfbd",
     "showTitle": false,
     "title": ""
    }
   },
   "outputs": [
    {
     "output_type": "display_data",
     "data": {
      "text/plain": [
       "\u001B[0;31m---------------------------------------------------------------------------\u001B[0m\n",
       "\u001B[0;31mAnalysisException\u001B[0m                         Traceback (most recent call last)\n",
       "File \u001B[0;32m<command-2340268507081149>, line 6\u001B[0m\n",
       "\u001B[1;32m      1\u001B[0m \u001B[38;5;124;03m'''\u001B[39;00m\n",
       "\u001B[1;32m      2\u001B[0m \u001B[38;5;124;03mRetrain model on train & validation dataset and evaluate on test dataset\u001B[39;00m\n",
       "\u001B[1;32m      3\u001B[0m \u001B[38;5;124;03m'''\u001B[39;00m\n",
       "\u001B[1;32m      5\u001B[0m \u001B[38;5;28;01mif\u001B[39;00m READ:\n",
       "\u001B[0;32m----> 6\u001B[0m     test_eval_df \u001B[38;5;241m=\u001B[39m spark\u001B[38;5;241m.\u001B[39mread\u001B[38;5;241m.\u001B[39mformat(\u001B[38;5;124m\"\u001B[39m\u001B[38;5;124mparquet\u001B[39m\u001B[38;5;124m\"\u001B[39m)\u001B[38;5;241m.\u001B[39mload(\u001B[38;5;124mf\u001B[39m\u001B[38;5;124m\"\u001B[39m\u001B[38;5;132;01m{\u001B[39;00mteam_blob_url\u001B[38;5;132;01m}\u001B[39;00m\u001B[38;5;124m/\u001B[39m\u001B[38;5;132;01m{\u001B[39;00mtest_file_name\u001B[38;5;132;01m}\u001B[39;00m\u001B[38;5;124m_test_eval_df_LLM\u001B[39m\u001B[38;5;124m\"\u001B[39m)\n",
       "\u001B[1;32m      7\u001B[0m     train_eval_df \u001B[38;5;241m=\u001B[39m spark\u001B[38;5;241m.\u001B[39mread\u001B[38;5;241m.\u001B[39mformat(\u001B[38;5;124m\"\u001B[39m\u001B[38;5;124mparquet\u001B[39m\u001B[38;5;124m\"\u001B[39m)\u001B[38;5;241m.\u001B[39mload(\u001B[38;5;124mf\u001B[39m\u001B[38;5;124m\"\u001B[39m\u001B[38;5;132;01m{\u001B[39;00mteam_blob_url\u001B[38;5;132;01m}\u001B[39;00m\u001B[38;5;124m/\u001B[39m\u001B[38;5;132;01m{\u001B[39;00mfull_train_file_name\u001B[38;5;132;01m}\u001B[39;00m\u001B[38;5;124m_train_eval_df_LLM\u001B[39m\u001B[38;5;124m\"\u001B[39m)\n",
       "\u001B[1;32m      8\u001B[0m     \u001B[38;5;66;03m#test_eval_df = spark.read.format(\"parquet\").load(f\"{team_blob_url}/{test_file_name}\")\u001B[39;00m\n",
       "\u001B[1;32m      9\u001B[0m     \u001B[38;5;66;03m#train_eval_df = spark.read.format(\"parquet\").load(f\"{team_blob_url}/{full_train_file_name}\")\u001B[39;00m\n",
       "\u001B[1;32m     10\u001B[0m     \n",
       "\u001B[1;32m     11\u001B[0m \u001B[38;5;28;01melse\u001B[39;00m:  \n",
       "\u001B[1;32m     12\u001B[0m     \u001B[38;5;66;03m# Read in data if train_DF_VA doesn't exist   \u001B[39;00m\n",
       "\n",
       "File \u001B[0;32m/databricks/spark/python/pyspark/instrumentation_utils.py:47\u001B[0m, in \u001B[0;36m_wrap_function.<locals>.wrapper\u001B[0;34m(*args, **kwargs)\u001B[0m\n",
       "\u001B[1;32m     45\u001B[0m start \u001B[38;5;241m=\u001B[39m time\u001B[38;5;241m.\u001B[39mperf_counter()\n",
       "\u001B[1;32m     46\u001B[0m \u001B[38;5;28;01mtry\u001B[39;00m:\n",
       "\u001B[0;32m---> 47\u001B[0m     res \u001B[38;5;241m=\u001B[39m func(\u001B[38;5;241m*\u001B[39margs, \u001B[38;5;241m*\u001B[39m\u001B[38;5;241m*\u001B[39mkwargs)\n",
       "\u001B[1;32m     48\u001B[0m     logger\u001B[38;5;241m.\u001B[39mlog_success(\n",
       "\u001B[1;32m     49\u001B[0m         module_name, class_name, function_name, time\u001B[38;5;241m.\u001B[39mperf_counter() \u001B[38;5;241m-\u001B[39m start, signature\n",
       "\u001B[1;32m     50\u001B[0m     )\n",
       "\u001B[1;32m     51\u001B[0m     \u001B[38;5;28;01mreturn\u001B[39;00m res\n",
       "\n",
       "File \u001B[0;32m/databricks/spark/python/pyspark/sql/readwriter.py:312\u001B[0m, in \u001B[0;36mDataFrameReader.load\u001B[0;34m(self, path, format, schema, **options)\u001B[0m\n",
       "\u001B[1;32m    310\u001B[0m \u001B[38;5;28mself\u001B[39m\u001B[38;5;241m.\u001B[39moptions(\u001B[38;5;241m*\u001B[39m\u001B[38;5;241m*\u001B[39moptions)\n",
       "\u001B[1;32m    311\u001B[0m \u001B[38;5;28;01mif\u001B[39;00m \u001B[38;5;28misinstance\u001B[39m(path, \u001B[38;5;28mstr\u001B[39m):\n",
       "\u001B[0;32m--> 312\u001B[0m     \u001B[38;5;28;01mreturn\u001B[39;00m \u001B[38;5;28mself\u001B[39m\u001B[38;5;241m.\u001B[39m_df(\u001B[38;5;28mself\u001B[39m\u001B[38;5;241m.\u001B[39m_jreader\u001B[38;5;241m.\u001B[39mload(path))\n",
       "\u001B[1;32m    313\u001B[0m \u001B[38;5;28;01melif\u001B[39;00m path \u001B[38;5;129;01mis\u001B[39;00m \u001B[38;5;129;01mnot\u001B[39;00m \u001B[38;5;28;01mNone\u001B[39;00m:\n",
       "\u001B[1;32m    314\u001B[0m     \u001B[38;5;28;01mif\u001B[39;00m \u001B[38;5;28mtype\u001B[39m(path) \u001B[38;5;241m!=\u001B[39m \u001B[38;5;28mlist\u001B[39m:\n",
       "\n",
       "File \u001B[0;32m/databricks/spark/python/lib/py4j-0.10.9.7-src.zip/py4j/java_gateway.py:1355\u001B[0m, in \u001B[0;36mJavaMember.__call__\u001B[0;34m(self, *args)\u001B[0m\n",
       "\u001B[1;32m   1349\u001B[0m command \u001B[38;5;241m=\u001B[39m proto\u001B[38;5;241m.\u001B[39mCALL_COMMAND_NAME \u001B[38;5;241m+\u001B[39m\\\n",
       "\u001B[1;32m   1350\u001B[0m     \u001B[38;5;28mself\u001B[39m\u001B[38;5;241m.\u001B[39mcommand_header \u001B[38;5;241m+\u001B[39m\\\n",
       "\u001B[1;32m   1351\u001B[0m     args_command \u001B[38;5;241m+\u001B[39m\\\n",
       "\u001B[1;32m   1352\u001B[0m     proto\u001B[38;5;241m.\u001B[39mEND_COMMAND_PART\n",
       "\u001B[1;32m   1354\u001B[0m answer \u001B[38;5;241m=\u001B[39m \u001B[38;5;28mself\u001B[39m\u001B[38;5;241m.\u001B[39mgateway_client\u001B[38;5;241m.\u001B[39msend_command(command)\n",
       "\u001B[0;32m-> 1355\u001B[0m return_value \u001B[38;5;241m=\u001B[39m get_return_value(\n",
       "\u001B[1;32m   1356\u001B[0m     answer, \u001B[38;5;28mself\u001B[39m\u001B[38;5;241m.\u001B[39mgateway_client, \u001B[38;5;28mself\u001B[39m\u001B[38;5;241m.\u001B[39mtarget_id, \u001B[38;5;28mself\u001B[39m\u001B[38;5;241m.\u001B[39mname)\n",
       "\u001B[1;32m   1358\u001B[0m \u001B[38;5;28;01mfor\u001B[39;00m temp_arg \u001B[38;5;129;01min\u001B[39;00m temp_args:\n",
       "\u001B[1;32m   1359\u001B[0m     \u001B[38;5;28;01mif\u001B[39;00m \u001B[38;5;28mhasattr\u001B[39m(temp_arg, \u001B[38;5;124m\"\u001B[39m\u001B[38;5;124m_detach\u001B[39m\u001B[38;5;124m\"\u001B[39m):\n",
       "\n",
       "File \u001B[0;32m/databricks/spark/python/pyspark/errors/exceptions/captured.py:230\u001B[0m, in \u001B[0;36mcapture_sql_exception.<locals>.deco\u001B[0;34m(*a, **kw)\u001B[0m\n",
       "\u001B[1;32m    226\u001B[0m converted \u001B[38;5;241m=\u001B[39m convert_exception(e\u001B[38;5;241m.\u001B[39mjava_exception)\n",
       "\u001B[1;32m    227\u001B[0m \u001B[38;5;28;01mif\u001B[39;00m \u001B[38;5;129;01mnot\u001B[39;00m \u001B[38;5;28misinstance\u001B[39m(converted, UnknownException):\n",
       "\u001B[1;32m    228\u001B[0m     \u001B[38;5;66;03m# Hide where the exception came from that shows a non-Pythonic\u001B[39;00m\n",
       "\u001B[1;32m    229\u001B[0m     \u001B[38;5;66;03m# JVM exception message.\u001B[39;00m\n",
       "\u001B[0;32m--> 230\u001B[0m     \u001B[38;5;28;01mraise\u001B[39;00m converted \u001B[38;5;28;01mfrom\u001B[39;00m \u001B[38;5;28;01mNone\u001B[39;00m\n",
       "\u001B[1;32m    231\u001B[0m \u001B[38;5;28;01melse\u001B[39;00m:\n",
       "\u001B[1;32m    232\u001B[0m     \u001B[38;5;28;01mraise\u001B[39;00m\n",
       "\n",
       "\u001B[0;31mAnalysisException\u001B[0m: [PATH_NOT_FOUND] Path does not exist: wasbs://w261-project@mids261project.blob.core.windows.net/20162018_data_test_test_eval_df_LLM. SQLSTATE: 42K03"
      ]
     },
     "metadata": {
      "application/vnd.databricks.v1+output": {
       "addedWidgets": {},
       "arguments": {},
       "datasetInfos": [],
       "jupyterProps": {
        "ename": "AnalysisException",
        "evalue": "[PATH_NOT_FOUND] Path does not exist: wasbs://w261-project@mids261project.blob.core.windows.net/20162018_data_test_test_eval_df_LLM. SQLSTATE: 42K03"
       },
       "metadata": {
        "errorSummary": "Command skipped"
       },
       "removedWidgets": [],
       "sqlProps": {
        "errorClass": "PATH_NOT_FOUND",
        "sqlState": "42K03",
        "startIndex": null,
        "stopIndex": null
       },
       "stackFrames": [
        "\u001B[0;31m---------------------------------------------------------------------------\u001B[0m",
        "\u001B[0;31mAnalysisException\u001B[0m                         Traceback (most recent call last)",
        "File \u001B[0;32m<command-2340268507081149>, line 6\u001B[0m\n\u001B[1;32m      1\u001B[0m \u001B[38;5;124;03m'''\u001B[39;00m\n\u001B[1;32m      2\u001B[0m \u001B[38;5;124;03mRetrain model on train & validation dataset and evaluate on test dataset\u001B[39;00m\n\u001B[1;32m      3\u001B[0m \u001B[38;5;124;03m'''\u001B[39;00m\n\u001B[1;32m      5\u001B[0m \u001B[38;5;28;01mif\u001B[39;00m READ:\n\u001B[0;32m----> 6\u001B[0m     test_eval_df \u001B[38;5;241m=\u001B[39m spark\u001B[38;5;241m.\u001B[39mread\u001B[38;5;241m.\u001B[39mformat(\u001B[38;5;124m\"\u001B[39m\u001B[38;5;124mparquet\u001B[39m\u001B[38;5;124m\"\u001B[39m)\u001B[38;5;241m.\u001B[39mload(\u001B[38;5;124mf\u001B[39m\u001B[38;5;124m\"\u001B[39m\u001B[38;5;132;01m{\u001B[39;00mteam_blob_url\u001B[38;5;132;01m}\u001B[39;00m\u001B[38;5;124m/\u001B[39m\u001B[38;5;132;01m{\u001B[39;00mtest_file_name\u001B[38;5;132;01m}\u001B[39;00m\u001B[38;5;124m_test_eval_df_LLM\u001B[39m\u001B[38;5;124m\"\u001B[39m)\n\u001B[1;32m      7\u001B[0m     train_eval_df \u001B[38;5;241m=\u001B[39m spark\u001B[38;5;241m.\u001B[39mread\u001B[38;5;241m.\u001B[39mformat(\u001B[38;5;124m\"\u001B[39m\u001B[38;5;124mparquet\u001B[39m\u001B[38;5;124m\"\u001B[39m)\u001B[38;5;241m.\u001B[39mload(\u001B[38;5;124mf\u001B[39m\u001B[38;5;124m\"\u001B[39m\u001B[38;5;132;01m{\u001B[39;00mteam_blob_url\u001B[38;5;132;01m}\u001B[39;00m\u001B[38;5;124m/\u001B[39m\u001B[38;5;132;01m{\u001B[39;00mfull_train_file_name\u001B[38;5;132;01m}\u001B[39;00m\u001B[38;5;124m_train_eval_df_LLM\u001B[39m\u001B[38;5;124m\"\u001B[39m)\n\u001B[1;32m      8\u001B[0m     \u001B[38;5;66;03m#test_eval_df = spark.read.format(\"parquet\").load(f\"{team_blob_url}/{test_file_name}\")\u001B[39;00m\n\u001B[1;32m      9\u001B[0m     \u001B[38;5;66;03m#train_eval_df = spark.read.format(\"parquet\").load(f\"{team_blob_url}/{full_train_file_name}\")\u001B[39;00m\n\u001B[1;32m     10\u001B[0m     \n\u001B[1;32m     11\u001B[0m \u001B[38;5;28;01melse\u001B[39;00m:  \n\u001B[1;32m     12\u001B[0m     \u001B[38;5;66;03m# Read in data if train_DF_VA doesn't exist   \u001B[39;00m\n",
        "File \u001B[0;32m/databricks/spark/python/pyspark/instrumentation_utils.py:47\u001B[0m, in \u001B[0;36m_wrap_function.<locals>.wrapper\u001B[0;34m(*args, **kwargs)\u001B[0m\n\u001B[1;32m     45\u001B[0m start \u001B[38;5;241m=\u001B[39m time\u001B[38;5;241m.\u001B[39mperf_counter()\n\u001B[1;32m     46\u001B[0m \u001B[38;5;28;01mtry\u001B[39;00m:\n\u001B[0;32m---> 47\u001B[0m     res \u001B[38;5;241m=\u001B[39m func(\u001B[38;5;241m*\u001B[39margs, \u001B[38;5;241m*\u001B[39m\u001B[38;5;241m*\u001B[39mkwargs)\n\u001B[1;32m     48\u001B[0m     logger\u001B[38;5;241m.\u001B[39mlog_success(\n\u001B[1;32m     49\u001B[0m         module_name, class_name, function_name, time\u001B[38;5;241m.\u001B[39mperf_counter() \u001B[38;5;241m-\u001B[39m start, signature\n\u001B[1;32m     50\u001B[0m     )\n\u001B[1;32m     51\u001B[0m     \u001B[38;5;28;01mreturn\u001B[39;00m res\n",
        "File \u001B[0;32m/databricks/spark/python/pyspark/sql/readwriter.py:312\u001B[0m, in \u001B[0;36mDataFrameReader.load\u001B[0;34m(self, path, format, schema, **options)\u001B[0m\n\u001B[1;32m    310\u001B[0m \u001B[38;5;28mself\u001B[39m\u001B[38;5;241m.\u001B[39moptions(\u001B[38;5;241m*\u001B[39m\u001B[38;5;241m*\u001B[39moptions)\n\u001B[1;32m    311\u001B[0m \u001B[38;5;28;01mif\u001B[39;00m \u001B[38;5;28misinstance\u001B[39m(path, \u001B[38;5;28mstr\u001B[39m):\n\u001B[0;32m--> 312\u001B[0m     \u001B[38;5;28;01mreturn\u001B[39;00m \u001B[38;5;28mself\u001B[39m\u001B[38;5;241m.\u001B[39m_df(\u001B[38;5;28mself\u001B[39m\u001B[38;5;241m.\u001B[39m_jreader\u001B[38;5;241m.\u001B[39mload(path))\n\u001B[1;32m    313\u001B[0m \u001B[38;5;28;01melif\u001B[39;00m path \u001B[38;5;129;01mis\u001B[39;00m \u001B[38;5;129;01mnot\u001B[39;00m \u001B[38;5;28;01mNone\u001B[39;00m:\n\u001B[1;32m    314\u001B[0m     \u001B[38;5;28;01mif\u001B[39;00m \u001B[38;5;28mtype\u001B[39m(path) \u001B[38;5;241m!=\u001B[39m \u001B[38;5;28mlist\u001B[39m:\n",
        "File \u001B[0;32m/databricks/spark/python/lib/py4j-0.10.9.7-src.zip/py4j/java_gateway.py:1355\u001B[0m, in \u001B[0;36mJavaMember.__call__\u001B[0;34m(self, *args)\u001B[0m\n\u001B[1;32m   1349\u001B[0m command \u001B[38;5;241m=\u001B[39m proto\u001B[38;5;241m.\u001B[39mCALL_COMMAND_NAME \u001B[38;5;241m+\u001B[39m\\\n\u001B[1;32m   1350\u001B[0m     \u001B[38;5;28mself\u001B[39m\u001B[38;5;241m.\u001B[39mcommand_header \u001B[38;5;241m+\u001B[39m\\\n\u001B[1;32m   1351\u001B[0m     args_command \u001B[38;5;241m+\u001B[39m\\\n\u001B[1;32m   1352\u001B[0m     proto\u001B[38;5;241m.\u001B[39mEND_COMMAND_PART\n\u001B[1;32m   1354\u001B[0m answer \u001B[38;5;241m=\u001B[39m \u001B[38;5;28mself\u001B[39m\u001B[38;5;241m.\u001B[39mgateway_client\u001B[38;5;241m.\u001B[39msend_command(command)\n\u001B[0;32m-> 1355\u001B[0m return_value \u001B[38;5;241m=\u001B[39m get_return_value(\n\u001B[1;32m   1356\u001B[0m     answer, \u001B[38;5;28mself\u001B[39m\u001B[38;5;241m.\u001B[39mgateway_client, \u001B[38;5;28mself\u001B[39m\u001B[38;5;241m.\u001B[39mtarget_id, \u001B[38;5;28mself\u001B[39m\u001B[38;5;241m.\u001B[39mname)\n\u001B[1;32m   1358\u001B[0m \u001B[38;5;28;01mfor\u001B[39;00m temp_arg \u001B[38;5;129;01min\u001B[39;00m temp_args:\n\u001B[1;32m   1359\u001B[0m     \u001B[38;5;28;01mif\u001B[39;00m \u001B[38;5;28mhasattr\u001B[39m(temp_arg, \u001B[38;5;124m\"\u001B[39m\u001B[38;5;124m_detach\u001B[39m\u001B[38;5;124m\"\u001B[39m):\n",
        "File \u001B[0;32m/databricks/spark/python/pyspark/errors/exceptions/captured.py:230\u001B[0m, in \u001B[0;36mcapture_sql_exception.<locals>.deco\u001B[0;34m(*a, **kw)\u001B[0m\n\u001B[1;32m    226\u001B[0m converted \u001B[38;5;241m=\u001B[39m convert_exception(e\u001B[38;5;241m.\u001B[39mjava_exception)\n\u001B[1;32m    227\u001B[0m \u001B[38;5;28;01mif\u001B[39;00m \u001B[38;5;129;01mnot\u001B[39;00m \u001B[38;5;28misinstance\u001B[39m(converted, UnknownException):\n\u001B[1;32m    228\u001B[0m     \u001B[38;5;66;03m# Hide where the exception came from that shows a non-Pythonic\u001B[39;00m\n\u001B[1;32m    229\u001B[0m     \u001B[38;5;66;03m# JVM exception message.\u001B[39;00m\n\u001B[0;32m--> 230\u001B[0m     \u001B[38;5;28;01mraise\u001B[39;00m converted \u001B[38;5;28;01mfrom\u001B[39;00m \u001B[38;5;28;01mNone\u001B[39;00m\n\u001B[1;32m    231\u001B[0m \u001B[38;5;28;01melse\u001B[39;00m:\n\u001B[1;32m    232\u001B[0m     \u001B[38;5;28;01mraise\u001B[39;00m\n",
        "\u001B[0;31mAnalysisException\u001B[0m: [PATH_NOT_FOUND] Path does not exist: wasbs://w261-project@mids261project.blob.core.windows.net/20162018_data_test_test_eval_df_LLM. SQLSTATE: 42K03"
       ],
       "type": "baseError"
      }
     },
     "output_type": "display_data"
    }
   ],
   "source": [
    "'''\n",
    "Predictions from test data to be evaluated\n",
    "'''\n",
    "\n",
    "# Convert DataFrame to RDD\n",
    "prediction_and_label = test_preds\\\n",
    "                        .select([\"prediction\", \"label\"])\\\n",
    "                        .withColumn(\"label\", col(\"label\").cast(FloatType()))\\\n",
    "                        .orderBy(\"label\")\n",
    "\n",
    "# Create MulticlassMetrics object\n",
    "metrics = MulticlassMetrics(prediction_and_label.rdd.map(tuple))\n",
    "\n",
    "# metrics\n",
    "print(\"Accuracy:\", metrics.accuracy)\n",
    "print(\"Precision:\", metrics.precision(1.0))\n",
    "print(\"Recall:\", metrics.recall(1.0))\n",
    "print(\"F1 measure:\", metrics.fMeasure(1.0, 1.0))\n",
    "print(\"F2 measure:\", metrics.fMeasure(1.0, 2.0))\n",
    "\n"
   ]
  },
  {
   "cell_type": "code",
   "execution_count": 0,
   "metadata": {
    "application/vnd.databricks.v1+cell": {
     "cellMetadata": {
      "byteLimit": 2048000,
      "rowLimit": 10000
     },
     "inputWidgets": {},
     "nuid": "6749453f-78e3-490b-a73e-9890b4cc1c66",
     "showTitle": false,
     "title": ""
    }
   },
   "outputs": [
    {
     "output_type": "display_data",
     "data": {
      "text/plain": [
       "\u001B[0;31m---------------------------------------------------------------------------\u001B[0m\n",
       "\u001B[0;31mAnalysisException\u001B[0m                         Traceback (most recent call last)\n",
       "File \u001B[0;32m<command-2340268507081149>, line 6\u001B[0m\n",
       "\u001B[1;32m      1\u001B[0m \u001B[38;5;124;03m'''\u001B[39;00m\n",
       "\u001B[1;32m      2\u001B[0m \u001B[38;5;124;03mRetrain model on train & validation dataset and evaluate on test dataset\u001B[39;00m\n",
       "\u001B[1;32m      3\u001B[0m \u001B[38;5;124;03m'''\u001B[39;00m\n",
       "\u001B[1;32m      5\u001B[0m \u001B[38;5;28;01mif\u001B[39;00m READ:\n",
       "\u001B[0;32m----> 6\u001B[0m     test_eval_df \u001B[38;5;241m=\u001B[39m spark\u001B[38;5;241m.\u001B[39mread\u001B[38;5;241m.\u001B[39mformat(\u001B[38;5;124m\"\u001B[39m\u001B[38;5;124mparquet\u001B[39m\u001B[38;5;124m\"\u001B[39m)\u001B[38;5;241m.\u001B[39mload(\u001B[38;5;124mf\u001B[39m\u001B[38;5;124m\"\u001B[39m\u001B[38;5;132;01m{\u001B[39;00mteam_blob_url\u001B[38;5;132;01m}\u001B[39;00m\u001B[38;5;124m/\u001B[39m\u001B[38;5;132;01m{\u001B[39;00mtest_file_name\u001B[38;5;132;01m}\u001B[39;00m\u001B[38;5;124m_test_eval_df_LLM\u001B[39m\u001B[38;5;124m\"\u001B[39m)\n",
       "\u001B[1;32m      7\u001B[0m     train_eval_df \u001B[38;5;241m=\u001B[39m spark\u001B[38;5;241m.\u001B[39mread\u001B[38;5;241m.\u001B[39mformat(\u001B[38;5;124m\"\u001B[39m\u001B[38;5;124mparquet\u001B[39m\u001B[38;5;124m\"\u001B[39m)\u001B[38;5;241m.\u001B[39mload(\u001B[38;5;124mf\u001B[39m\u001B[38;5;124m\"\u001B[39m\u001B[38;5;132;01m{\u001B[39;00mteam_blob_url\u001B[38;5;132;01m}\u001B[39;00m\u001B[38;5;124m/\u001B[39m\u001B[38;5;132;01m{\u001B[39;00mfull_train_file_name\u001B[38;5;132;01m}\u001B[39;00m\u001B[38;5;124m_train_eval_df_LLM\u001B[39m\u001B[38;5;124m\"\u001B[39m)\n",
       "\u001B[1;32m      8\u001B[0m     \u001B[38;5;66;03m#test_eval_df = spark.read.format(\"parquet\").load(f\"{team_blob_url}/{test_file_name}\")\u001B[39;00m\n",
       "\u001B[1;32m      9\u001B[0m     \u001B[38;5;66;03m#train_eval_df = spark.read.format(\"parquet\").load(f\"{team_blob_url}/{full_train_file_name}\")\u001B[39;00m\n",
       "\u001B[1;32m     10\u001B[0m     \n",
       "\u001B[1;32m     11\u001B[0m \u001B[38;5;28;01melse\u001B[39;00m:  \n",
       "\u001B[1;32m     12\u001B[0m     \u001B[38;5;66;03m# Read in data if train_DF_VA doesn't exist   \u001B[39;00m\n",
       "\n",
       "File \u001B[0;32m/databricks/spark/python/pyspark/instrumentation_utils.py:47\u001B[0m, in \u001B[0;36m_wrap_function.<locals>.wrapper\u001B[0;34m(*args, **kwargs)\u001B[0m\n",
       "\u001B[1;32m     45\u001B[0m start \u001B[38;5;241m=\u001B[39m time\u001B[38;5;241m.\u001B[39mperf_counter()\n",
       "\u001B[1;32m     46\u001B[0m \u001B[38;5;28;01mtry\u001B[39;00m:\n",
       "\u001B[0;32m---> 47\u001B[0m     res \u001B[38;5;241m=\u001B[39m func(\u001B[38;5;241m*\u001B[39margs, \u001B[38;5;241m*\u001B[39m\u001B[38;5;241m*\u001B[39mkwargs)\n",
       "\u001B[1;32m     48\u001B[0m     logger\u001B[38;5;241m.\u001B[39mlog_success(\n",
       "\u001B[1;32m     49\u001B[0m         module_name, class_name, function_name, time\u001B[38;5;241m.\u001B[39mperf_counter() \u001B[38;5;241m-\u001B[39m start, signature\n",
       "\u001B[1;32m     50\u001B[0m     )\n",
       "\u001B[1;32m     51\u001B[0m     \u001B[38;5;28;01mreturn\u001B[39;00m res\n",
       "\n",
       "File \u001B[0;32m/databricks/spark/python/pyspark/sql/readwriter.py:312\u001B[0m, in \u001B[0;36mDataFrameReader.load\u001B[0;34m(self, path, format, schema, **options)\u001B[0m\n",
       "\u001B[1;32m    310\u001B[0m \u001B[38;5;28mself\u001B[39m\u001B[38;5;241m.\u001B[39moptions(\u001B[38;5;241m*\u001B[39m\u001B[38;5;241m*\u001B[39moptions)\n",
       "\u001B[1;32m    311\u001B[0m \u001B[38;5;28;01mif\u001B[39;00m \u001B[38;5;28misinstance\u001B[39m(path, \u001B[38;5;28mstr\u001B[39m):\n",
       "\u001B[0;32m--> 312\u001B[0m     \u001B[38;5;28;01mreturn\u001B[39;00m \u001B[38;5;28mself\u001B[39m\u001B[38;5;241m.\u001B[39m_df(\u001B[38;5;28mself\u001B[39m\u001B[38;5;241m.\u001B[39m_jreader\u001B[38;5;241m.\u001B[39mload(path))\n",
       "\u001B[1;32m    313\u001B[0m \u001B[38;5;28;01melif\u001B[39;00m path \u001B[38;5;129;01mis\u001B[39;00m \u001B[38;5;129;01mnot\u001B[39;00m \u001B[38;5;28;01mNone\u001B[39;00m:\n",
       "\u001B[1;32m    314\u001B[0m     \u001B[38;5;28;01mif\u001B[39;00m \u001B[38;5;28mtype\u001B[39m(path) \u001B[38;5;241m!=\u001B[39m \u001B[38;5;28mlist\u001B[39m:\n",
       "\n",
       "File \u001B[0;32m/databricks/spark/python/lib/py4j-0.10.9.7-src.zip/py4j/java_gateway.py:1355\u001B[0m, in \u001B[0;36mJavaMember.__call__\u001B[0;34m(self, *args)\u001B[0m\n",
       "\u001B[1;32m   1349\u001B[0m command \u001B[38;5;241m=\u001B[39m proto\u001B[38;5;241m.\u001B[39mCALL_COMMAND_NAME \u001B[38;5;241m+\u001B[39m\\\n",
       "\u001B[1;32m   1350\u001B[0m     \u001B[38;5;28mself\u001B[39m\u001B[38;5;241m.\u001B[39mcommand_header \u001B[38;5;241m+\u001B[39m\\\n",
       "\u001B[1;32m   1351\u001B[0m     args_command \u001B[38;5;241m+\u001B[39m\\\n",
       "\u001B[1;32m   1352\u001B[0m     proto\u001B[38;5;241m.\u001B[39mEND_COMMAND_PART\n",
       "\u001B[1;32m   1354\u001B[0m answer \u001B[38;5;241m=\u001B[39m \u001B[38;5;28mself\u001B[39m\u001B[38;5;241m.\u001B[39mgateway_client\u001B[38;5;241m.\u001B[39msend_command(command)\n",
       "\u001B[0;32m-> 1355\u001B[0m return_value \u001B[38;5;241m=\u001B[39m get_return_value(\n",
       "\u001B[1;32m   1356\u001B[0m     answer, \u001B[38;5;28mself\u001B[39m\u001B[38;5;241m.\u001B[39mgateway_client, \u001B[38;5;28mself\u001B[39m\u001B[38;5;241m.\u001B[39mtarget_id, \u001B[38;5;28mself\u001B[39m\u001B[38;5;241m.\u001B[39mname)\n",
       "\u001B[1;32m   1358\u001B[0m \u001B[38;5;28;01mfor\u001B[39;00m temp_arg \u001B[38;5;129;01min\u001B[39;00m temp_args:\n",
       "\u001B[1;32m   1359\u001B[0m     \u001B[38;5;28;01mif\u001B[39;00m \u001B[38;5;28mhasattr\u001B[39m(temp_arg, \u001B[38;5;124m\"\u001B[39m\u001B[38;5;124m_detach\u001B[39m\u001B[38;5;124m\"\u001B[39m):\n",
       "\n",
       "File \u001B[0;32m/databricks/spark/python/pyspark/errors/exceptions/captured.py:230\u001B[0m, in \u001B[0;36mcapture_sql_exception.<locals>.deco\u001B[0;34m(*a, **kw)\u001B[0m\n",
       "\u001B[1;32m    226\u001B[0m converted \u001B[38;5;241m=\u001B[39m convert_exception(e\u001B[38;5;241m.\u001B[39mjava_exception)\n",
       "\u001B[1;32m    227\u001B[0m \u001B[38;5;28;01mif\u001B[39;00m \u001B[38;5;129;01mnot\u001B[39;00m \u001B[38;5;28misinstance\u001B[39m(converted, UnknownException):\n",
       "\u001B[1;32m    228\u001B[0m     \u001B[38;5;66;03m# Hide where the exception came from that shows a non-Pythonic\u001B[39;00m\n",
       "\u001B[1;32m    229\u001B[0m     \u001B[38;5;66;03m# JVM exception message.\u001B[39;00m\n",
       "\u001B[0;32m--> 230\u001B[0m     \u001B[38;5;28;01mraise\u001B[39;00m converted \u001B[38;5;28;01mfrom\u001B[39;00m \u001B[38;5;28;01mNone\u001B[39;00m\n",
       "\u001B[1;32m    231\u001B[0m \u001B[38;5;28;01melse\u001B[39;00m:\n",
       "\u001B[1;32m    232\u001B[0m     \u001B[38;5;28;01mraise\u001B[39;00m\n",
       "\n",
       "\u001B[0;31mAnalysisException\u001B[0m: [PATH_NOT_FOUND] Path does not exist: wasbs://w261-project@mids261project.blob.core.windows.net/20162018_data_test_test_eval_df_LLM. SQLSTATE: 42K03"
      ]
     },
     "metadata": {
      "application/vnd.databricks.v1+output": {
       "addedWidgets": {},
       "arguments": {},
       "datasetInfos": [],
       "jupyterProps": {
        "ename": "AnalysisException",
        "evalue": "[PATH_NOT_FOUND] Path does not exist: wasbs://w261-project@mids261project.blob.core.windows.net/20162018_data_test_test_eval_df_LLM. SQLSTATE: 42K03"
       },
       "metadata": {
        "errorSummary": "Command skipped"
       },
       "removedWidgets": [],
       "sqlProps": {
        "errorClass": "PATH_NOT_FOUND",
        "sqlState": "42K03",
        "startIndex": null,
        "stopIndex": null
       },
       "stackFrames": [
        "\u001B[0;31m---------------------------------------------------------------------------\u001B[0m",
        "\u001B[0;31mAnalysisException\u001B[0m                         Traceback (most recent call last)",
        "File \u001B[0;32m<command-2340268507081149>, line 6\u001B[0m\n\u001B[1;32m      1\u001B[0m \u001B[38;5;124;03m'''\u001B[39;00m\n\u001B[1;32m      2\u001B[0m \u001B[38;5;124;03mRetrain model on train & validation dataset and evaluate on test dataset\u001B[39;00m\n\u001B[1;32m      3\u001B[0m \u001B[38;5;124;03m'''\u001B[39;00m\n\u001B[1;32m      5\u001B[0m \u001B[38;5;28;01mif\u001B[39;00m READ:\n\u001B[0;32m----> 6\u001B[0m     test_eval_df \u001B[38;5;241m=\u001B[39m spark\u001B[38;5;241m.\u001B[39mread\u001B[38;5;241m.\u001B[39mformat(\u001B[38;5;124m\"\u001B[39m\u001B[38;5;124mparquet\u001B[39m\u001B[38;5;124m\"\u001B[39m)\u001B[38;5;241m.\u001B[39mload(\u001B[38;5;124mf\u001B[39m\u001B[38;5;124m\"\u001B[39m\u001B[38;5;132;01m{\u001B[39;00mteam_blob_url\u001B[38;5;132;01m}\u001B[39;00m\u001B[38;5;124m/\u001B[39m\u001B[38;5;132;01m{\u001B[39;00mtest_file_name\u001B[38;5;132;01m}\u001B[39;00m\u001B[38;5;124m_test_eval_df_LLM\u001B[39m\u001B[38;5;124m\"\u001B[39m)\n\u001B[1;32m      7\u001B[0m     train_eval_df \u001B[38;5;241m=\u001B[39m spark\u001B[38;5;241m.\u001B[39mread\u001B[38;5;241m.\u001B[39mformat(\u001B[38;5;124m\"\u001B[39m\u001B[38;5;124mparquet\u001B[39m\u001B[38;5;124m\"\u001B[39m)\u001B[38;5;241m.\u001B[39mload(\u001B[38;5;124mf\u001B[39m\u001B[38;5;124m\"\u001B[39m\u001B[38;5;132;01m{\u001B[39;00mteam_blob_url\u001B[38;5;132;01m}\u001B[39;00m\u001B[38;5;124m/\u001B[39m\u001B[38;5;132;01m{\u001B[39;00mfull_train_file_name\u001B[38;5;132;01m}\u001B[39;00m\u001B[38;5;124m_train_eval_df_LLM\u001B[39m\u001B[38;5;124m\"\u001B[39m)\n\u001B[1;32m      8\u001B[0m     \u001B[38;5;66;03m#test_eval_df = spark.read.format(\"parquet\").load(f\"{team_blob_url}/{test_file_name}\")\u001B[39;00m\n\u001B[1;32m      9\u001B[0m     \u001B[38;5;66;03m#train_eval_df = spark.read.format(\"parquet\").load(f\"{team_blob_url}/{full_train_file_name}\")\u001B[39;00m\n\u001B[1;32m     10\u001B[0m     \n\u001B[1;32m     11\u001B[0m \u001B[38;5;28;01melse\u001B[39;00m:  \n\u001B[1;32m     12\u001B[0m     \u001B[38;5;66;03m# Read in data if train_DF_VA doesn't exist   \u001B[39;00m\n",
        "File \u001B[0;32m/databricks/spark/python/pyspark/instrumentation_utils.py:47\u001B[0m, in \u001B[0;36m_wrap_function.<locals>.wrapper\u001B[0;34m(*args, **kwargs)\u001B[0m\n\u001B[1;32m     45\u001B[0m start \u001B[38;5;241m=\u001B[39m time\u001B[38;5;241m.\u001B[39mperf_counter()\n\u001B[1;32m     46\u001B[0m \u001B[38;5;28;01mtry\u001B[39;00m:\n\u001B[0;32m---> 47\u001B[0m     res \u001B[38;5;241m=\u001B[39m func(\u001B[38;5;241m*\u001B[39margs, \u001B[38;5;241m*\u001B[39m\u001B[38;5;241m*\u001B[39mkwargs)\n\u001B[1;32m     48\u001B[0m     logger\u001B[38;5;241m.\u001B[39mlog_success(\n\u001B[1;32m     49\u001B[0m         module_name, class_name, function_name, time\u001B[38;5;241m.\u001B[39mperf_counter() \u001B[38;5;241m-\u001B[39m start, signature\n\u001B[1;32m     50\u001B[0m     )\n\u001B[1;32m     51\u001B[0m     \u001B[38;5;28;01mreturn\u001B[39;00m res\n",
        "File \u001B[0;32m/databricks/spark/python/pyspark/sql/readwriter.py:312\u001B[0m, in \u001B[0;36mDataFrameReader.load\u001B[0;34m(self, path, format, schema, **options)\u001B[0m\n\u001B[1;32m    310\u001B[0m \u001B[38;5;28mself\u001B[39m\u001B[38;5;241m.\u001B[39moptions(\u001B[38;5;241m*\u001B[39m\u001B[38;5;241m*\u001B[39moptions)\n\u001B[1;32m    311\u001B[0m \u001B[38;5;28;01mif\u001B[39;00m \u001B[38;5;28misinstance\u001B[39m(path, \u001B[38;5;28mstr\u001B[39m):\n\u001B[0;32m--> 312\u001B[0m     \u001B[38;5;28;01mreturn\u001B[39;00m \u001B[38;5;28mself\u001B[39m\u001B[38;5;241m.\u001B[39m_df(\u001B[38;5;28mself\u001B[39m\u001B[38;5;241m.\u001B[39m_jreader\u001B[38;5;241m.\u001B[39mload(path))\n\u001B[1;32m    313\u001B[0m \u001B[38;5;28;01melif\u001B[39;00m path \u001B[38;5;129;01mis\u001B[39;00m \u001B[38;5;129;01mnot\u001B[39;00m \u001B[38;5;28;01mNone\u001B[39;00m:\n\u001B[1;32m    314\u001B[0m     \u001B[38;5;28;01mif\u001B[39;00m \u001B[38;5;28mtype\u001B[39m(path) \u001B[38;5;241m!=\u001B[39m \u001B[38;5;28mlist\u001B[39m:\n",
        "File \u001B[0;32m/databricks/spark/python/lib/py4j-0.10.9.7-src.zip/py4j/java_gateway.py:1355\u001B[0m, in \u001B[0;36mJavaMember.__call__\u001B[0;34m(self, *args)\u001B[0m\n\u001B[1;32m   1349\u001B[0m command \u001B[38;5;241m=\u001B[39m proto\u001B[38;5;241m.\u001B[39mCALL_COMMAND_NAME \u001B[38;5;241m+\u001B[39m\\\n\u001B[1;32m   1350\u001B[0m     \u001B[38;5;28mself\u001B[39m\u001B[38;5;241m.\u001B[39mcommand_header \u001B[38;5;241m+\u001B[39m\\\n\u001B[1;32m   1351\u001B[0m     args_command \u001B[38;5;241m+\u001B[39m\\\n\u001B[1;32m   1352\u001B[0m     proto\u001B[38;5;241m.\u001B[39mEND_COMMAND_PART\n\u001B[1;32m   1354\u001B[0m answer \u001B[38;5;241m=\u001B[39m \u001B[38;5;28mself\u001B[39m\u001B[38;5;241m.\u001B[39mgateway_client\u001B[38;5;241m.\u001B[39msend_command(command)\n\u001B[0;32m-> 1355\u001B[0m return_value \u001B[38;5;241m=\u001B[39m get_return_value(\n\u001B[1;32m   1356\u001B[0m     answer, \u001B[38;5;28mself\u001B[39m\u001B[38;5;241m.\u001B[39mgateway_client, \u001B[38;5;28mself\u001B[39m\u001B[38;5;241m.\u001B[39mtarget_id, \u001B[38;5;28mself\u001B[39m\u001B[38;5;241m.\u001B[39mname)\n\u001B[1;32m   1358\u001B[0m \u001B[38;5;28;01mfor\u001B[39;00m temp_arg \u001B[38;5;129;01min\u001B[39;00m temp_args:\n\u001B[1;32m   1359\u001B[0m     \u001B[38;5;28;01mif\u001B[39;00m \u001B[38;5;28mhasattr\u001B[39m(temp_arg, \u001B[38;5;124m\"\u001B[39m\u001B[38;5;124m_detach\u001B[39m\u001B[38;5;124m\"\u001B[39m):\n",
        "File \u001B[0;32m/databricks/spark/python/pyspark/errors/exceptions/captured.py:230\u001B[0m, in \u001B[0;36mcapture_sql_exception.<locals>.deco\u001B[0;34m(*a, **kw)\u001B[0m\n\u001B[1;32m    226\u001B[0m converted \u001B[38;5;241m=\u001B[39m convert_exception(e\u001B[38;5;241m.\u001B[39mjava_exception)\n\u001B[1;32m    227\u001B[0m \u001B[38;5;28;01mif\u001B[39;00m \u001B[38;5;129;01mnot\u001B[39;00m \u001B[38;5;28misinstance\u001B[39m(converted, UnknownException):\n\u001B[1;32m    228\u001B[0m     \u001B[38;5;66;03m# Hide where the exception came from that shows a non-Pythonic\u001B[39;00m\n\u001B[1;32m    229\u001B[0m     \u001B[38;5;66;03m# JVM exception message.\u001B[39;00m\n\u001B[0;32m--> 230\u001B[0m     \u001B[38;5;28;01mraise\u001B[39;00m converted \u001B[38;5;28;01mfrom\u001B[39;00m \u001B[38;5;28;01mNone\u001B[39;00m\n\u001B[1;32m    231\u001B[0m \u001B[38;5;28;01melse\u001B[39;00m:\n\u001B[1;32m    232\u001B[0m     \u001B[38;5;28;01mraise\u001B[39;00m\n",
        "\u001B[0;31mAnalysisException\u001B[0m: [PATH_NOT_FOUND] Path does not exist: wasbs://w261-project@mids261project.blob.core.windows.net/20162018_data_test_test_eval_df_LLM. SQLSTATE: 42K03"
       ],
       "type": "baseError"
      }
     },
     "output_type": "display_data"
    }
   ],
   "source": [
    "## Confusion Matrix for Test Results\n",
    "\n",
    "def plot_confusion_matrix_norm(cm, classes, normalize=True, title='Confusion matrix', cmap=plt.cm.Blues):\n",
    "    if normalize:\n",
    "        cm = cm.astype('float') / cm.sum(axis=1)[:, np.newaxis]\n",
    "    \n",
    "    plt.imshow(cm, interpolation='nearest', cmap=cmap)\n",
    "    plt.title(title)\n",
    "    plt.colorbar()\n",
    "    tick_marks = np.arange(len(classes))\n",
    "    plt.xticks(tick_marks, classes, rotation=45)\n",
    "    plt.yticks(tick_marks, classes)\n",
    "    \n",
    "    fmt = '.2f' if normalize else '.0f'\n",
    "    thresh = cm.max() / 1.2 #hard code messed with this a bit to get this to show up legibly\n",
    "    \n",
    "    for i in range(cm.shape[0]):\n",
    "        for j in range(cm.shape[1]):\n",
    "            plt.text(j, i, format(cm[i, j], fmt),\n",
    "                     horizontalalignment=\"center\",\n",
    "                     color=\"white\" if cm[i, j] > thresh else \"black\")\n",
    "    \n",
    "    plt.ylabel('True label')\n",
    "    plt.xlabel('Predicted label')\n",
    "    plt.tight_layout()\n",
    "\n",
    "    txt=\"\"\n",
    "    plt.figtext(0.55, -0.3, txt, wrap=True, horizontalalignment='center', fontsize=10)\n",
    "\n",
    "confusionmatrix_norm = metrics.confusionMatrix().toArray()\n",
    "cnf_matrix_norm = pd.DataFrame(confusionmatrix_norm)\n",
    "\n",
    "CM_fig = plt.figure()\n",
    "plot_confusion_matrix_norm(cnf_matrix_norm.values, [\"Not Delayed\", \"Delayed\"],\n",
    "                      title='Confusion matrix, with normalization')\n",
    "\n",
    "CM_fig.show()"
   ]
  },
  {
   "cell_type": "markdown",
   "metadata": {
    "application/vnd.databricks.v1+cell": {
     "cellMetadata": {
      "byteLimit": 2048000,
      "rowLimit": 10000
     },
     "inputWidgets": {},
     "nuid": "edbb9316-51f9-4f66-9f34-9753fb8a4590",
     "showTitle": false,
     "title": ""
    }
   },
   "source": [
    "## Conclusion"
   ]
  },
  {
   "cell_type": "markdown",
   "metadata": {
    "application/vnd.databricks.v1+cell": {
     "cellMetadata": {
      "byteLimit": 2048000,
      "rowLimit": 10000
     },
     "inputWidgets": {},
     "nuid": "ffcf1244-e3e7-4d0d-a445-3ff293121fc6",
     "showTitle": false,
     "title": ""
    }
   },
   "source": [
    "To further advance this project, we could explore other models like Logistic Regression, Multilayer Perceptron Classification and Ensemble Methods. We recognize that working with Time Series data is always prone to a little leakage, so an Ensemble method might be an improved approach. We found that the most important features for our model was Average Tail Number Delay and Origin Airport Percent Delay. In the future, we plan to address the issue of overfitting by simplifying some features to create a more balanced model.\n",
    "\n",
    "\n",
    "This project challenged us to apply solutions at scale. This meant checkpointing data to parquet files and requesting additional compute power from faculty to conduct project. We were also challenged to work with timeseries data correctly, to optimize modeling. \n",
    "\n",
    "\n",
    "Our project represents a significant step towards proactive delay management in the aviation industry. We aim to continue refining our models, integrating more features, and delving deeper into the causes of various delays to further enhance our predictive capabilities. In the end, we made progress towards the goal of predicting and mitigating flight delays which benefits airlines, passengers, and the industry as a whole."
   ]
  }
 ],
 "metadata": {
  "application/vnd.databricks.v1+notebook": {
   "dashboards": [],
   "environmentMetadata": null,
   "language": "python",
   "notebookMetadata": {
    "pythonIndentUnit": 4
   },
   "notebookName": "Flight Delay Project",
   "widgets": {}
  }
 },
 "nbformat": 4,
 "nbformat_minor": 0
}
